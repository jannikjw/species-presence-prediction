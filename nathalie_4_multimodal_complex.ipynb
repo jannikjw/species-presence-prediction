{
 "cells": [
  {
   "cell_type": "markdown",
   "metadata": {},
   "source": [
    "### Necessary Imports and Installs"
   ]
  },
  {
   "cell_type": "code",
   "execution_count": 1,
   "metadata": {},
   "outputs": [
    {
     "name": "stderr",
     "output_type": "stream",
     "text": [
      "Matplotlib created a temporary config/cache directory at /tmp/matplotlib-q_qqnl12 because the default path (/.config/matplotlib) is not a writable directory; it is highly recommended to set the MPLCONFIGDIR environment variable to a writable directory, in particular to speed up the import of Matplotlib and to better support multiprocessing.\n"
     ]
    },
    {
     "name": "stdout",
     "output_type": "stream",
     "text": [
      "%pylab is deprecated, use %matplotlib inline and import the required libraries.\n",
      "Populating the interactive namespace from numpy and matplotlib\n"
     ]
    }
   ],
   "source": [
    "import tensorflow as tf\n",
    "from tensorflow.keras.layers import Add, GlobalAveragePooling2D, Conv2D, Dense, AveragePooling2D, \\\n",
    "BatchNormalization, Normalization, Dropout, Flatten, Lambda, Input, Activation, MaxPooling2D\n",
    "from tensorflow.keras import Model\n",
    "from tensorflow.keras.optimizers import schedules, SGD\n",
    "from tensorflow.keras.callbacks import Callback, LambdaCallback\n",
    "from tensorflow.keras import backend as K\n",
    "import tensorflow_addons as tfa\n",
    "#import tensorflow_datasets as tfds\n",
    "\n",
    "import numpy as np\n",
    "from collections import defaultdict\n",
    "import matplotlib.pyplot as plt\n",
    "from matplotlib import scale\n",
    "import time\n",
    "import random\n",
    "from collections import defaultdict\n",
    "import math\n",
    "import copy\n",
    "import threading\n",
    "import opendatasets as od\n",
    "import tempfile\n",
    "from sklearn.utils import shuffle\n",
    "\n",
    "%pylab inline --no-import-all\n",
    "from pathlib import Path\n",
    "import pandas as pd\n",
    "import sys\n",
    "\n",
    "from GLC.data_loading.common import load_patch"
   ]
  },
  {
   "cell_type": "markdown",
   "metadata": {},
   "source": [
    "# Dataset"
   ]
  },
  {
   "cell_type": "markdown",
   "metadata": {},
   "source": [
    "## Download Dataset"
   ]
  },
  {
   "cell_type": "code",
   "execution_count": 2,
   "metadata": {
    "scrolled": true
   },
   "outputs": [],
   "source": [
    "# only uncomment if you don't have the dataset stored on disk yet\n",
    "# -> have your kaggle user credentials ready\n",
    "#data = od.download(\"https://www.kaggle.com/competitions/geolifeclef-2022-lifeclef-2022-fgvc9\")"
   ]
  },
  {
   "cell_type": "markdown",
   "metadata": {},
   "source": [
    "## Load Dataset from file"
   ]
  },
  {
   "cell_type": "markdown",
   "metadata": {},
   "source": [
    "Set path to competition dataset here."
   ]
  },
  {
   "cell_type": "code",
   "execution_count": 2,
   "metadata": {},
   "outputs": [],
   "source": [
    "# Change this path to adapt to where you downloaded the data\n",
    "DATA_PATH = Path(\"./geolifeclef-2022-lifeclef-2022-fgvc9/\")"
   ]
  },
  {
   "cell_type": "markdown",
   "metadata": {},
   "source": [
    "Run the following two commands to verify that the data path is set correctly. They should print folder and file names."
   ]
  },
  {
   "cell_type": "code",
   "execution_count": 3,
   "metadata": {},
   "outputs": [
    {
     "name": "stdout",
     "output_type": "stream",
     "text": [
      "\u001b[0m\u001b[01;34mmetadata\u001b[0m/      \u001b[01;34mpatches-fr\u001b[0m/  \u001b[01;34mpatches_sample\u001b[0m/  \u001b[01;34mrasters\u001b[0m/\r\n",
      "\u001b[01;34mobservations\u001b[0m/  \u001b[01;34mpatches-us\u001b[0m/  \u001b[01;34mpre-extracted\u001b[0m/   sample_submission.csv\r\n"
     ]
    }
   ],
   "source": [
    "ls -L $DATA_PATH"
   ]
  },
  {
   "cell_type": "code",
   "execution_count": 4,
   "metadata": {
    "scrolled": true
   },
   "outputs": [
    {
     "name": "stdout",
     "output_type": "stream",
     "text": [
      "observations_fr_test.csv   observations_us_test.csv\r\n",
      "observations_fr_train.csv  observations_us_train.csv\r\n"
     ]
    }
   ],
   "source": [
    "ls $DATA_PATH/observations"
   ]
  },
  {
   "cell_type": "markdown",
   "metadata": {},
   "source": [
    "Load the observation ids of the training dataset."
   ]
  },
  {
   "cell_type": "code",
   "execution_count": 5,
   "metadata": {},
   "outputs": [
    {
     "name": "stdout",
     "output_type": "stream",
     "text": [
      "Number of observations for training: 1627475\n"
     ]
    },
    {
     "data": {
      "text/html": [
       "<div>\n",
       "<style scoped>\n",
       "    .dataframe tbody tr th:only-of-type {\n",
       "        vertical-align: middle;\n",
       "    }\n",
       "\n",
       "    .dataframe tbody tr th {\n",
       "        vertical-align: top;\n",
       "    }\n",
       "\n",
       "    .dataframe thead th {\n",
       "        text-align: right;\n",
       "    }\n",
       "</style>\n",
       "<table border=\"1\" class=\"dataframe\">\n",
       "  <thead>\n",
       "    <tr style=\"text-align: right;\">\n",
       "      <th></th>\n",
       "      <th>latitude</th>\n",
       "      <th>longitude</th>\n",
       "      <th>species_id</th>\n",
       "      <th>subset</th>\n",
       "    </tr>\n",
       "    <tr>\n",
       "      <th>observation_id</th>\n",
       "      <th></th>\n",
       "      <th></th>\n",
       "      <th></th>\n",
       "      <th></th>\n",
       "    </tr>\n",
       "  </thead>\n",
       "  <tbody>\n",
       "    <tr>\n",
       "      <th>10561949</th>\n",
       "      <td>45.705116</td>\n",
       "      <td>1.424622</td>\n",
       "      <td>241</td>\n",
       "      <td>train</td>\n",
       "    </tr>\n",
       "    <tr>\n",
       "      <th>10131188</th>\n",
       "      <td>45.146973</td>\n",
       "      <td>6.416794</td>\n",
       "      <td>101</td>\n",
       "      <td>train</td>\n",
       "    </tr>\n",
       "    <tr>\n",
       "      <th>10799362</th>\n",
       "      <td>46.783695</td>\n",
       "      <td>-2.072855</td>\n",
       "      <td>700</td>\n",
       "      <td>train</td>\n",
       "    </tr>\n",
       "    <tr>\n",
       "      <th>10392536</th>\n",
       "      <td>48.604866</td>\n",
       "      <td>-2.825003</td>\n",
       "      <td>1456</td>\n",
       "      <td>train</td>\n",
       "    </tr>\n",
       "    <tr>\n",
       "      <th>10335049</th>\n",
       "      <td>48.815567</td>\n",
       "      <td>-0.161431</td>\n",
       "      <td>157</td>\n",
       "      <td>train</td>\n",
       "    </tr>\n",
       "  </tbody>\n",
       "</table>\n",
       "</div>"
      ],
      "text/plain": [
       "                 latitude  longitude  species_id subset\n",
       "observation_id                                         \n",
       "10561949        45.705116   1.424622         241  train\n",
       "10131188        45.146973   6.416794         101  train\n",
       "10799362        46.783695  -2.072855         700  train\n",
       "10392536        48.604866  -2.825003        1456  train\n",
       "10335049        48.815567  -0.161431         157  train"
      ]
     },
     "execution_count": 5,
     "metadata": {},
     "output_type": "execute_result"
    }
   ],
   "source": [
    "### Training Dataset ###\n",
    "# let's load the data from file\n",
    "df_obs_fr = pd.read_csv(DATA_PATH / \"observations\" / \"observations_fr_train.csv\", sep=\";\", index_col=\"observation_id\")\n",
    "df_obs_us = pd.read_csv(DATA_PATH / \"observations\" / \"observations_us_train.csv\", sep=\";\", index_col=\"observation_id\")\n",
    "\n",
    "df_obs = pd.concat((df_obs_fr, df_obs_us))\n",
    "\n",
    "print(\"Number of observations for training: {}\".format(len(df_obs)))\n",
    "\n",
    "# let's have a look at the data\n",
    "df_obs.head()"
   ]
  },
  {
   "cell_type": "markdown",
   "metadata": {},
   "source": [
    "Load the observation ids of the test dataset."
   ]
  },
  {
   "cell_type": "code",
   "execution_count": 6,
   "metadata": {},
   "outputs": [
    {
     "name": "stdout",
     "output_type": "stream",
     "text": [
      "Number of observations for testing: 36421\n"
     ]
    },
    {
     "data": {
      "text/html": [
       "<div>\n",
       "<style scoped>\n",
       "    .dataframe tbody tr th:only-of-type {\n",
       "        vertical-align: middle;\n",
       "    }\n",
       "\n",
       "    .dataframe tbody tr th {\n",
       "        vertical-align: top;\n",
       "    }\n",
       "\n",
       "    .dataframe thead th {\n",
       "        text-align: right;\n",
       "    }\n",
       "</style>\n",
       "<table border=\"1\" class=\"dataframe\">\n",
       "  <thead>\n",
       "    <tr style=\"text-align: right;\">\n",
       "      <th></th>\n",
       "      <th>latitude</th>\n",
       "      <th>longitude</th>\n",
       "    </tr>\n",
       "    <tr>\n",
       "      <th>observation_id</th>\n",
       "      <th></th>\n",
       "      <th></th>\n",
       "    </tr>\n",
       "  </thead>\n",
       "  <tbody>\n",
       "    <tr>\n",
       "      <th>10782781</th>\n",
       "      <td>43.601788</td>\n",
       "      <td>6.940195</td>\n",
       "    </tr>\n",
       "    <tr>\n",
       "      <th>10364138</th>\n",
       "      <td>46.241711</td>\n",
       "      <td>0.683586</td>\n",
       "    </tr>\n",
       "    <tr>\n",
       "      <th>10692017</th>\n",
       "      <td>45.181095</td>\n",
       "      <td>1.533459</td>\n",
       "    </tr>\n",
       "    <tr>\n",
       "      <th>10222322</th>\n",
       "      <td>46.938450</td>\n",
       "      <td>5.298678</td>\n",
       "    </tr>\n",
       "    <tr>\n",
       "      <th>10241950</th>\n",
       "      <td>45.017433</td>\n",
       "      <td>0.960736</td>\n",
       "    </tr>\n",
       "  </tbody>\n",
       "</table>\n",
       "</div>"
      ],
      "text/plain": [
       "                 latitude  longitude\n",
       "observation_id                      \n",
       "10782781        43.601788   6.940195\n",
       "10364138        46.241711   0.683586\n",
       "10692017        45.181095   1.533459\n",
       "10222322        46.938450   5.298678\n",
       "10241950        45.017433   0.960736"
      ]
     },
     "execution_count": 6,
     "metadata": {},
     "output_type": "execute_result"
    }
   ],
   "source": [
    "### Test Dataset ###\n",
    "df_obs_fr_test = pd.read_csv(DATA_PATH / \"observations\" / \"observations_fr_test.csv\", sep=\";\", index_col=\"observation_id\")\n",
    "df_obs_us_test = pd.read_csv(DATA_PATH / \"observations\" / \"observations_us_test.csv\", sep=\";\", index_col=\"observation_id\")\n",
    "\n",
    "df_obs_test = pd.concat((df_obs_fr_test, df_obs_us_test))\n",
    "\n",
    "print(\"Number of observations for testing: {}\".format(len(df_obs_test)))\n",
    "\n",
    "df_obs_test.head()"
   ]
  },
  {
   "cell_type": "markdown",
   "metadata": {},
   "source": [
    "Load suggested landcover alignment (only relevant if you're using landcover data later)."
   ]
  },
  {
   "cell_type": "code",
   "execution_count": 7,
   "metadata": {},
   "outputs": [
    {
     "name": "stdout",
     "output_type": "stream",
     "text": [
      "   landcover_code  suggested_landcover_code suggested_landcover_label\n",
      "0               0                         0              Missing Data\n",
      "1               1                        11          Cultivated Crops\n",
      "2               2                        11          Cultivated Crops\n",
      "3               3                         6       Broad-leaved Forest\n",
      "4               4                         7         Coniferous Forest\n"
     ]
    }
   ],
   "source": [
    "df_suggested_landcover_alignment = pd.read_csv(DATA_PATH / \"metadata\" / \"landcover_suggested_alignment.csv\", sep=\";\")\n",
    "print(df_suggested_landcover_alignment.head())\n",
    "landcover_mapping = df_suggested_landcover_alignment[\"suggested_landcover_code\"].values"
   ]
  },
  {
   "cell_type": "markdown",
   "metadata": {},
   "source": [
    "### Train/Val Split Labels\n",
    "Retrieve the train/val split provided, and load the labels of the train and val set elements."
   ]
  },
  {
   "cell_type": "code",
   "execution_count": 8,
   "metadata": {},
   "outputs": [
    {
     "name": "stdout",
     "output_type": "stream",
     "text": [
      "Training set size: 1587395 (97.5% of train observations)\n",
      "Validation set size: 40080 (2.5% of train observations)\n"
     ]
    }
   ],
   "source": [
    "obs_id_train = df_obs.index[df_obs[\"subset\"] == \"train\"].values\n",
    "obs_id_val = df_obs.index[df_obs[\"subset\"] == \"val\"].values\n",
    "\n",
    "y_train = df_obs.loc[obs_id_train][\"species_id\"].values\n",
    "y_val = df_obs.loc[obs_id_val][\"species_id\"].values\n",
    "\n",
    "n_val = len(obs_id_val)\n",
    "print(\"Training set size: {} ({:.1%} of train observations)\".format(len(y_train), len(y_train) / len(df_obs)))\n",
    "print(\"Validation set size: {} ({:.1%} of train observations)\".format(n_val, n_val / len(df_obs)))"
   ]
  },
  {
   "cell_type": "markdown",
   "metadata": {},
   "source": [
    "**Let's have a look at the training dataset.**"
   ]
  },
  {
   "cell_type": "code",
   "execution_count": 9,
   "metadata": {},
   "outputs": [
    {
     "name": "stdout",
     "output_type": "stream",
     "text": [
      "=== Training Dataset ===\n",
      "There are 17031 unique labels.\n",
      "We have 93.21 observations per label on average.\n"
     ]
    }
   ],
   "source": [
    "print(\"=== Training Dataset ===\")\n",
    "print(\"There are {} unique labels.\".format(len(np.unique(y_train))))\n",
    "print(\"We have {:.2f} observations per label on average.\".format(len(obs_id_train)/len(np.unique(y_train))))"
   ]
  },
  {
   "cell_type": "code",
   "execution_count": 10,
   "metadata": {
    "scrolled": false
   },
   "outputs": [
    {
     "name": "stdout",
     "output_type": "stream",
     "text": [
      "counting observation ids per label ...\n",
      "done\n"
     ]
    }
   ],
   "source": [
    "label_count = defaultdict(lambda: 0)\n",
    "\n",
    "print(\"counting observation ids per label ...\")\n",
    "for ob in df_obs.iterrows():\n",
    "    label_count[ob[1]['species_id']] += 1\n",
    "print(\"done\")"
   ]
  },
  {
   "cell_type": "code",
   "execution_count": 11,
   "metadata": {},
   "outputs": [
    {
     "name": "stdout",
     "output_type": "stream",
     "text": [
      "=== Analysis of observation ids per label in training set ===\n",
      "# of obs ids   : # of labels that have that range amount of obs ids\n",
      "\n",
      "0 to 10        : 7188 labels\n",
      "10 to 100      : 6970 labels\n",
      "100 to 500     : 1948 labels\n",
      "500 to 1000    :  651 labels\n",
      "1000 to 2000   :  234 labels\n",
      "2000 to 3000   :   31 labels\n",
      "3000 to 10000  :   15 labels\n",
      "10000 to 100000:    0 labels\n"
     ]
    }
   ],
   "source": [
    "buckets = [0, 10, 100, 500, 1000, 2000, 3000, 10000, 100000]\n",
    "buckets_counts = {0: 0, 10: 0, 100: 0, 500: 0, 1000: 0, 2000: 0, 3000: 0, 10000: 0, 100000: 0}\n",
    "buckets_labels = {0: list(), 10: list(), 100: list(), 500: list(), 1000: list(), \n",
    "                  2000: list(), 3000: list(), 10000: list(), 100000: list()}\n",
    "\n",
    "for label in label_count:\n",
    "    c = label_count[label]\n",
    "    \n",
    "    i = 0\n",
    "    while c > buckets[i]:\n",
    "        i += 1\n",
    "    i -= 1\n",
    "        \n",
    "    #print(\"c: \", c)\n",
    "    #print(\"buckets[i]: \", buckets[i])\n",
    "    \n",
    "    buckets_counts[buckets[i]] += 1\n",
    "    buckets_labels[buckets[i]].append(label)\n",
    "    \n",
    "print(\"=== Analysis of observation ids per label in training set ===\")\n",
    "print(\"{:<15}: # of labels that have that range amount of obs ids\".format(\"# of obs ids\"))\n",
    "print()\n",
    "for i in range(0, len(buckets)-1):\n",
    "    print(\"{:<15}: {amount:>4} labels\".format(\"{lower} to {upper}\".format(lower=buckets[i], upper=buckets[i+1]), \n",
    "                                              amount=buckets_counts[buckets[i]]))\n",
    "\n",
    "#print(buckets_contents)"
   ]
  },
  {
   "cell_type": "markdown",
   "metadata": {},
   "source": [
    "Now only retrieve the data belonging to a subset of all possible labels."
   ]
  },
  {
   "cell_type": "code",
   "execution_count": 12,
   "metadata": {
    "scrolled": true
   },
   "outputs": [
    {
     "name": "stdout",
     "output_type": "stream",
     "text": [
      "obtained all relevant labels\n",
      "obtained all observations\n",
      "131912\n",
      "1587395\n",
      "should be 0:  0\n",
      "46\n",
      "[   5   68  125  129  224  389  553  570  605  679  692  720  739  979\n",
      " 1047 1075 1155 1916 2196 2524 2821 2902 2950 2992 3034 3072 3253 3495\n",
      " 4918 4940 4991 4999 5025 5045 5053 5068 5086 5095 5168 5192 5200 5207\n",
      " 5228 5273 5366 5612]\n"
     ]
    }
   ],
   "source": [
    "### Keep only the labels with lots of observations ###\n",
    "min_obs_count = 2000\n",
    "max_obs_count = 3000\n",
    "\n",
    "# obtain all relevant labels\n",
    "y_train = list()\n",
    "for b in buckets:\n",
    "    if b >= min_obs_count and b <= max_obs_count:\n",
    "        for l in buckets_labels[b]:\n",
    "            y_train.append(l)\n",
    "print(\"obtained all relevant labels\")\n",
    "            \n",
    "# obtain all corresponding obs ids\n",
    "obs_list = list()\n",
    "\n",
    "# iterate over a subset of the labels\n",
    "counter = 0\n",
    "for y in y_train:\n",
    "    # for each label, retrieve all corresponding observation ids\n",
    "    obs = df_obs.index[(df_obs[\"subset\"] == \"train\") & (df_obs[\"species_id\"] == y)].values\n",
    "    #print(len(obs))\n",
    "    obs_list.append(obs)\n",
    "    \n",
    "# we now have a numpy array of all observation ids corresponding to this subset of labels\n",
    "obs_id_train_new = np.concatenate(obs_list)\n",
    "print(\"obtained all observations\")\n",
    "\n",
    "# obtain the labels in the right order \n",
    "y_train = df_obs.loc[obs_id_train_new][\"species_id\"].values\n",
    "\n",
    "print(len(obs_id_train_new))\n",
    "print(len(obs_id_train))\n",
    "\n",
    "# count how many ids exist in obs_id_train_new that don't exist in obs_id_train\n",
    "# should be 0\n",
    "print(\"should be 0: \", len(obs_id_train_new) - len(obs_id_train_new[np.in1d(obs_id_train_new, obs_id_train)]))\n",
    "\n",
    "print(len(np.unique(y_train)))\n",
    "print(np.unique(y_train))\n",
    "\n",
    "obs_id_train = obs_id_train_new"
   ]
  },
  {
   "cell_type": "code",
   "execution_count": 14,
   "metadata": {},
   "outputs": [
    {
     "name": "stdout",
     "output_type": "stream",
     "text": [
      "70294\n",
      "63278\n",
      "\n",
      "7016\n",
      "5\n",
      "\n",
      "40080\n",
      "11\n",
      "1831\n",
      "False\n"
     ]
    },
    {
     "name": "stderr",
     "output_type": "stream",
     "text": [
      "<ipython-input-14-0aa1ce0f9158>:70: DeprecationWarning: elementwise comparison failed; this will raise an error in the future.\n",
      "  print(obs_id_val == obs_id_train)\n"
     ]
    }
   ],
   "source": [
    "# ### Kennedy's Train, Val and Test Split ###\n",
    "# # CHOOSE SUBSET FOR 30 Labels\n",
    "# label_amount = 40\n",
    "\n",
    "# import random\n",
    "# subset_size = 0\n",
    "# obs_list = list()\n",
    "# obs_test_list = list()\n",
    "# import numpy as np\n",
    "# # iterate over a subset of the labels\n",
    "# m = 0\n",
    "# for y in (np.unique(y_train)[:]):\n",
    "#     #print(\"in\")\n",
    "#     # for each label, retrieve all corresponding observation ids\n",
    "#     obs = df_obs.index[(df_obs[\"species_id\"] == y)]\n",
    "   \n",
    "#     #print(len(obs))\n",
    "#     #print(counter)\n",
    "#     #print(obs)\n",
    "#     #print(len(obs))\n",
    "#     if (len(obs) >= 2000 and len(obs) <= 3000):\n",
    "#       t = set(df_obs.index[(df_obs[\"species_id\"] == y) & (df_obs[\"subset\"] == \"train\")].values)\n",
    "#       m += len(t)\n",
    "#       ten_perc = int(len(t)/10)\n",
    "#       random.seed(3)\n",
    "#       test = random.sample(t, ten_perc)\n",
    "#       train = t-set(test)\n",
    "#       #print(train)\n",
    "#       #print(\"here\")\n",
    "#       obs_test_list.append(list(test))\n",
    "#       obs_list.append(list(train))\n",
    "#       subset_size += 1\n",
    "#     if (subset_size >= label_amount):\n",
    "#       #print(\"break\")\n",
    "#       break\n",
    "# print(m)   \n",
    "# # we now have a numpy array of all observation ids corresponding to this subset of labels\n",
    "# obs_id_train = np.concatenate(obs_list)\n",
    "# obs_id_test = np.concatenate(obs_test_list)\n",
    "# gps_train = np.concatenate((df_obs.loc[obs_id_train][\"latitude\"].values, df_obs.loc[obs_id_train][\"longitude\"].values))\n",
    "# # obtain the labels in the right order \n",
    "# y_train = df_obs.loc[obs_id_train][\"species_id\"].values\n",
    "# y_test = df_obs.loc[obs_id_test][\"species_id\"].values\n",
    "# print(y_train.size)\n",
    "\n",
    "# print()\n",
    "# print(y_test.size)\n",
    "# print(y_train[2])\n",
    "# print()"
   ]
  },
  {
   "cell_type": "code",
   "execution_count": 13,
   "metadata": {},
   "outputs": [
    {
     "name": "stdout",
     "output_type": "stream",
     "text": [
      "40080\n",
      "11\n",
      "3526\n",
      "False\n"
     ]
    },
    {
     "name": "stderr",
     "output_type": "stream",
     "text": [
      "<ipython-input-13-edd84e22c00b>:22: DeprecationWarning: elementwise comparison failed; this will raise an error in the future.\n",
      "  print(obs_id_val == obs_id_train)\n"
     ]
    }
   ],
   "source": [
    "#subset_size = 8\n",
    "obs_list_1 = list()\n",
    "print(y_val.size)\n",
    "\n",
    "# iterate over a subset of the labels\n",
    "counter = 0\n",
    "print(y_val[0])\n",
    "for y in (np.unique(y_val)[:]):\n",
    "    # for each label, retrieve all corresponding observation ids\n",
    "    if (y in y_train):\n",
    "      v = df_obs.index[(df_obs[\"species_id\"] == y) & (df_obs[\"subset\"] == \"val\")].values\n",
    "      obs_list_1.append(v)\n",
    "    \n",
    "# we now have a numpy array of all observation ids corresponding to this subset of labels\n",
    "obs_id_val = np.concatenate(obs_list_1)\n",
    "\n",
    "# obtain the labels in the right order \n",
    "y_val = df_obs.loc[obs_id_val][\"species_id\"].values\n",
    "gps_val = np.concatenate((df_obs.loc[obs_id_val][\"latitude\"].values, df_obs.loc[obs_id_val][\"longitude\"].values))\n",
    "\n",
    "print(y_val.size)\n",
    "print(obs_id_val == obs_id_train)"
   ]
  },
  {
   "cell_type": "code",
   "execution_count": 14,
   "metadata": {},
   "outputs": [
    {
     "name": "stdout",
     "output_type": "stream",
     "text": [
      "training: \n",
      "label  125: 0.02%\n",
      "label  692: 0.02%\n",
      "label 1155: 0.02%\n",
      "label  605: 0.02%\n",
      "label 2992: 0.02%\n",
      "label    5: 0.02%\n",
      "label  553: 0.02%\n",
      "label  129: 0.01%\n",
      "label   68: 0.01%\n",
      "label  679: 0.01%\n",
      "label 2821: 0.02%\n",
      "label  570: 0.02%\n",
      "label  979: 0.02%\n",
      "label  739: 0.02%\n",
      "label 1075: 0.02%\n",
      "label 2196: 0.02%\n",
      "label 2950: 0.02%\n",
      "label 3253: 0.02%\n",
      "label 1916: 0.02%\n",
      "label 2524: 0.02%\n",
      "label 4940: 0.02%\n",
      "label 4991: 0.02%\n",
      "label 4999: 0.02%\n",
      "label 5025: 0.02%\n",
      "label 5086: 0.02%\n",
      "label 5168: 0.02%\n",
      "label 5192: 0.02%\n",
      "label 5207: 0.02%\n",
      "label 5228: 0.02%\n",
      "label 5273: 0.02%\n",
      "label 5612: 0.02%\n",
      "label 1047: 0.02%\n",
      "label  224: 0.02%\n",
      "label  720: 0.02%\n",
      "label 3034: 0.03%\n",
      "label  389: 0.03%\n",
      "label 3072: 0.04%\n",
      "label 3495: 0.03%\n",
      "label 2902: 0.04%\n",
      "label 4918: 0.03%\n",
      "label 5045: 0.05%\n",
      "label 5053: 0.03%\n",
      "label 5068: 0.03%\n",
      "label 5095: 0.03%\n",
      "label 5200: 0.03%\n",
      "label 5366: 0.02%\n",
      "\n",
      "validation: \n",
      "label    5: 0.02%\n",
      "label   68: 0.02%\n",
      "label  125: 0.01%\n",
      "label  129: 0.01%\n",
      "label  224: 0.03%\n",
      "label  389: 0.02%\n",
      "label  553: 0.02%\n",
      "label  570: 0.02%\n",
      "label  605: 0.01%\n",
      "label  679: 0.01%\n",
      "label  692: 0.02%\n",
      "label  720: 0.04%\n",
      "label  739: 0.02%\n",
      "label  979: 0.02%\n",
      "label 1047: 0.03%\n",
      "label 1075: 0.02%\n",
      "label 1155: 0.01%\n",
      "label 1916: 0.02%\n",
      "label 2196: 0.01%\n",
      "label 2524: 0.02%\n",
      "label 2821: 0.02%\n",
      "label 2902: 0.04%\n",
      "label 2950: 0.02%\n",
      "label 2992: 0.02%\n",
      "label 3034: 0.02%\n",
      "label 3072: 0.04%\n",
      "label 3253: 0.02%\n",
      "label 3495: 0.02%\n",
      "label 4918: 0.01%\n",
      "label 4940: 0.02%\n",
      "label 4991: 0.00%\n",
      "label 4999: 0.02%\n",
      "label 5025: 0.02%\n",
      "label 5045: 0.07%\n",
      "label 5053: 0.03%\n",
      "label 5068: 0.03%\n",
      "label 5086: 0.02%\n",
      "label 5095: 0.03%\n",
      "label 5168: 0.02%\n",
      "label 5192: 0.02%\n",
      "label 5200: 0.00%\n",
      "label 5207: 0.03%\n",
      "label 5228: 0.02%\n",
      "label 5273: 0.02%\n",
      "label 5366: 0.02%\n",
      "label 5612: 0.04%\n"
     ]
    }
   ],
   "source": [
    "train_dict_count = defaultdict(lambda: 0)\n",
    "for y in y_train:\n",
    "    train_dict_count[y] += 1\n",
    "    \n",
    "print(\"training: \")\n",
    "for key, value in train_dict_count.items():\n",
    "    print(\"label {:>4}: {:.2f}%\".format(key, value/len(y_train)))\n",
    "\n",
    "print()\n",
    "\n",
    "val_dict_count = defaultdict(lambda: 0)\n",
    "for y in y_val:\n",
    "    val_dict_count[y] += 1\n",
    "    \n",
    "print(\"validation: \")\n",
    "for key, value in val_dict_count.items():\n",
    "    print(\"label {:>4}: {:.2f}%\".format(key, value/len(y_val)))"
   ]
  },
  {
   "cell_type": "markdown",
   "metadata": {},
   "source": [
    "### Remap the labels s.t. they go from 0 to n-1\n",
    "(NAN fix is here)"
   ]
  },
  {
   "cell_type": "code",
   "execution_count": 15,
   "metadata": {},
   "outputs": [
    {
     "name": "stdout",
     "output_type": "stream",
     "text": [
      "{5: 0, 68: 1, 125: 2, 129: 3, 224: 4, 389: 5, 553: 6, 570: 7, 605: 8, 679: 9, 692: 10, 720: 11, 739: 12, 979: 13, 1047: 14, 1075: 15, 1155: 16, 1916: 17, 2196: 18, 2524: 19, 2821: 20, 2902: 21, 2950: 22, 2992: 23, 3034: 24, 3072: 25, 3253: 26, 3495: 27, 4918: 28, 4940: 29, 4991: 30, 4999: 31, 5025: 32, 5045: 33, 5053: 34, 5068: 35, 5086: 36, 5095: 37, 5168: 38, 5192: 39, 5200: 40, 5207: 41, 5228: 42, 5273: 43, 5366: 44, 5612: 45}\n"
     ]
    }
   ],
   "source": [
    "# create a map s.t. the labels will go from 0 to n-1\n",
    "map_labels = dict()\n",
    "i = 0\n",
    "for l in np.unique(y_train):\n",
    "    map_labels[l] = i\n",
    "    i+=1\n",
    "print(map_labels)"
   ]
  },
  {
   "cell_type": "code",
   "execution_count": 16,
   "metadata": {},
   "outputs": [
    {
     "name": "stdout",
     "output_type": "stream",
     "text": [
      "# output neurons:  46\n"
     ]
    }
   ],
   "source": [
    "# apply the map to the training labels\n",
    "y_train_normalized = np.zeros(np.shape(y_train), dtype='int64')\n",
    "\n",
    "for i in range(len(y_train)):\n",
    "    y_train_normalized[i] = map_labels[y_train[i]]\n",
    "    \n",
    "# shuffle together\n",
    "obs_id_train, y_train = shuffle(obs_id_train, y_train_normalized)\n",
    "\n",
    "no_output_neurons = len(np.unique(y_train))\n",
    "print(\"# output neurons: \", no_output_neurons)"
   ]
  },
  {
   "cell_type": "code",
   "execution_count": 17,
   "metadata": {},
   "outputs": [],
   "source": [
    "# apply the map to the validation labels\n",
    "y_val_normalized = np.zeros(np.shape(y_val), dtype='int64')\n",
    "\n",
    "for i in range(len(y_val)):\n",
    "    y_val_normalized[i] = map_labels[y_val[i]]\n",
    "    \n",
    "# shuffle together\n",
    "obs_id_val, y_val = shuffle(obs_id_val, y_val_normalized)"
   ]
  },
  {
   "cell_type": "markdown",
   "metadata": {},
   "source": [
    "## Write input pipeline to load batches as we train."
   ]
  },
  {
   "cell_type": "markdown",
   "metadata": {},
   "source": [
    "### Custom Generator\n",
    "Since dataset is too large to load it all into memory once, we need to load it from disk in batches as we train. Such a generator can later be passed into model.fit() instead of a train and/or validation dataset."
   ]
  },
  {
   "cell_type": "code",
   "execution_count": 18,
   "metadata": {},
   "outputs": [],
   "source": [
    "class Patches_Generator(tf.keras.utils.Sequence) :\n",
    "  \n",
    "    def __init__(self, obs_ids, labels, batch_size) :\n",
    "        self.obs_ids = obs_ids\n",
    "        self.labels = labels\n",
    "        self.batch_size = batch_size\n",
    "        \n",
    "        # to make the generator thread safe \n",
    "        self.lock = threading.Lock()\n",
    "\n",
    "    def __len__(self) :\n",
    "        return (np.ceil(len(self.obs_ids) / float(self.batch_size))).astype(int)\n",
    "  \n",
    "    # returns one batch\n",
    "    def __getitem__(self, idx) :\n",
    "        X_batch = list()\n",
    "        y_batch = list()\n",
    "\n",
    "        for i in range(idx * self.batch_size, (idx+1) * self.batch_size):\n",
    "            if i >= len(self.obs_ids): break\n",
    "            \n",
    "            patch = load_patch(self.obs_ids[i], DATA_PATH, data='rgb')\n",
    "            X_batch.append(patch[0])\n",
    "            y_batch.append(self.labels[i])\n",
    "\n",
    "        with self.lock:\n",
    "            return np.asarray(X_batch), np.array(y_batch)"
   ]
  },
  {
   "cell_type": "markdown",
   "metadata": {},
   "source": [
    "# First Simple Neural Network\n",
    "Let's create a first neural network as a baseline to see how it performs."
   ]
  },
  {
   "cell_type": "code",
   "execution_count": 19,
   "metadata": {},
   "outputs": [],
   "source": [
    "# # for distributed training (that is, using multiple GPUs for data parallelization)\n",
    "# # https://www.tensorflow.org/guide/distributed_training#use_tfdistributestrategy_with_keras_modelfit\n",
    "# mirrored_strategy = tf.distribute.MirroredStrategy()"
   ]
  },
  {
   "cell_type": "code",
   "execution_count": 19,
   "metadata": {},
   "outputs": [],
   "source": [
    "# returns a 10 layer ReLU model of width 2\n",
    "def simple_model(input_shape, output_neurons=30):\n",
    "    random.seed(4)\n",
    "    \n",
    "    model = tf.keras.models.Sequential()\n",
    "    \n",
    "    # 1. Preprocessing\n",
    "    # rescale inputs\n",
    "    model.add(tf.keras.layers.Rescaling(1./255))\n",
    "\n",
    "    # 2. Convolutional Layers\n",
    "    model.add(Conv2D(32, kernel_size=5, activation='relu', input_shape=input_shape, padding='same'))\n",
    "    #model.add(AveragePooling2D())\n",
    "\n",
    "    model.add(Conv2D(64, kernel_size=5, activation='relu', padding='same'))\n",
    "    #model.add(AveragePooling2D())\n",
    "    \n",
    "    model.add(Conv2D(128, kernel_size=5, activation='relu', padding='same'))\n",
    "    \n",
    "    # from convolutional layers to dense layers\n",
    "    model.add(tf.keras.layers.Flatten())\n",
    "    \n",
    "    # 3. Dense Layers\n",
    "    model.add(Dense(64, activation='relu'))\n",
    "    model.add(Dense(64, activation='relu'))\n",
    "    \n",
    "    # 4. Output Layer\n",
    "    model.add(Dense(output_neurons, activation='softmax'))\n",
    "    \n",
    "    # compire the model\n",
    "    model.compile(loss=tf.keras.losses.sparse_categorical_crossentropy,\n",
    "                  optimizer=tf.keras.optimizers.Adam(learning_rate=0.0001),\n",
    "                  metrics=['accuracy'])\n",
    "    \n",
    "    return model"
   ]
  },
  {
   "cell_type": "code",
   "execution_count": 25,
   "metadata": {},
   "outputs": [],
   "source": [
    "# returns a simple convolutional neural net\n",
    "def complex_model(input_shape, learning_rate=0.1, output_neurons=46):\n",
    "    \n",
    "    # for distributed training\n",
    "    #with mirrored_strategy.scope():\n",
    "    \n",
    "    model = tf.keras.models.Sequential()\n",
    "    dropout_prob = 0.1\n",
    "\n",
    "    he = tf.keras.initializers.HeNormal(seed=42)\n",
    "    \n",
    "    random.seed(4)\n",
    "\n",
    "    # 1. Preprocessing\n",
    "    # rescale inputs to distribution with mean = 0 and variance = 1\n",
    "    #model.add(tf.keras.layers.Normalization())\n",
    "    model.add(tf.keras.layers.Rescaling(1./255))\n",
    "\n",
    "    # 2. Convolutional Layers\n",
    "    model.add(Conv2D(32, kernel_size=4, activation='relu', padding='valid', input_shape=input_shape,\n",
    "                     kernel_initializer=he))\n",
    "    model.add(AveragePooling2D())\n",
    "    model.add(Dropout(dropout_prob))\n",
    "\n",
    "    model.add(Conv2D(64, kernel_size=4, activation='relu', padding='valid',\n",
    "                     kernel_initializer=he))\n",
    "    model.add(AveragePooling2D())\n",
    "    model.add(Dropout(dropout_prob))\n",
    "\n",
    "    model.add(Conv2D(128, kernel_size=4, activation='relu', padding='valid',\n",
    "                     kernel_initializer=he))\n",
    "    model.add(AveragePooling2D())\n",
    "    model.add(Dropout(dropout_prob))\n",
    "\n",
    "    model.add(Conv2D(128, kernel_size=4, activation='relu', padding='valid',\n",
    "                     kernel_initializer=he))\n",
    "    model.add(Dropout(dropout_prob))\n",
    "\n",
    "    # from convolutional layers to dense layers\n",
    "    model.add(tf.keras.layers.Flatten())\n",
    "\n",
    "    # 3. Dense Layers\n",
    "    model.add(Dense(128, activation='relu', kernel_initializer=he))\n",
    "    model.add(Dropout(dropout_prob))\n",
    "    model.add(Dense(128, activation='relu', kernel_initializer=he))\n",
    "    model.add(Dropout(dropout_prob))\n",
    "\n",
    "    # 4. Output Layer\n",
    "    model.add(Dense(output_neurons, activation='softmax'))\n",
    "    \n",
    "    # compire the model\n",
    "    model.compile(loss=tf.keras.losses.SparseCategoricalCrossentropy(from_logits=False),\n",
    "                  optimizer=tf.keras.optimizers.Adam(learning_rate=learning_rate),\n",
    "                  metrics=['accuracy'])\n",
    "    \n",
    "    return model"
   ]
  },
  {
   "cell_type": "code",
   "execution_count": 26,
   "metadata": {},
   "outputs": [],
   "source": [
    "# # returns a simple convolutional neural net\n",
    "# def simple_model_with_gps(input_shapes, learning_rate=0.1, output_neurons=100):\n",
    "    \n",
    "#     # settings\n",
    "#     he = tf.keras.initializers.HeNormal(seed=42)\n",
    "    \n",
    "#     # for distributed training\n",
    "#     with mirrored_strategy.scope():\n",
    "        \n",
    "#         ### convolutional part ###\n",
    "#         conv_inputs = tf.keras.Input(shape=input_shapes[0])\n",
    "#         conv_processed = tf.keras.layers.Normalization()(conv_inputs)\n",
    "        \n",
    "#         conv1 = Conv2D(32, kernel_size=3, activation='relu', padding='valid', kernel_initializer=he)(conv_processed)\n",
    "#         mconv1 = MaxPooling2D()(conv1)\n",
    "        \n",
    "#         conv2 = Conv2D(64, kernel_size=3, activation='relu', padding='valid', kernel_initializer=he)(mconv1)\n",
    "#         mconv2 = MaxPooling2D()(conv2)\n",
    "        \n",
    "#         conv3 = Conv2D(128, kernel_size=3, activation='relu', padding='valid', kernel_initializer=he)(mconv2)\n",
    "#         mconv3 = MaxPooling2D()(conv3)\n",
    "        \n",
    "#         conv4 = Conv2D(128, kernel_size=3, activation='relu', padding='valid', kernel_initializer=he)(mconv3)\n",
    "\n",
    "#         # from convolutional layers to dense layers\n",
    "#         conv_flat = tf.keras.layers.Flatten()(conv4)\n",
    "        \n",
    "#         ### gps part ###\n",
    "#         gps_inputs = tf.keras.Input(shape=input_shapes[1])\n",
    "#         gps_processed = tf.keras.layers.Normalization()(gps_inputs)\n",
    "#         gps_dense1 = Dense(16, activation='relu', kernel_initializer=he)(gps_processed)\n",
    "#         gps_dense2 = Dense(32, activation='relu', kernel_initializer=he)(gps_dense1)\n",
    "#         gps_dense3 = Dense(32, activation='relu', kernel_initializer=he)(gps_dense2)\n",
    "#         gps_flat = tf.keras.layers.Flatten()(gps_dense3)\n",
    "\n",
    "#         ### together + output layer ###\n",
    "#         merged = tf.keras.layers.Concatenate()([conv_flat, gps_flat])\n",
    "#         dense_1 = Dense(64, activation='relu', kernel_initializer=he)(merged)\n",
    "#         output = Dense(output_neurons, activation='softmax')(dense_1)\n",
    "        \n",
    "#         model = tf.keras.Model([conv_inputs, gps_inputs], output)\n",
    "    \n",
    "#     # compire the model\n",
    "#     model.compile(loss=tf.keras.losses.SparseCategoricalCrossentropy(from_logits=False),\n",
    "#                   optimizer=tf.keras.optimizers.Adam(learning_rate=learning_rate),\n",
    "#                   metrics=['accuracy'])\n",
    "    \n",
    "#     return model"
   ]
  },
  {
   "cell_type": "markdown",
   "metadata": {},
   "source": [
    "## Training Prep"
   ]
  },
  {
   "cell_type": "markdown",
   "metadata": {},
   "source": [
    "### Settings used when parallelizing the I/O Pipeline in model.fit().\n",
    "\n",
    "I used the setting values in the cell below for a high-cpu vm on GCP with the following specs:\n",
    "- machine type: n1-highcpu-96 (96 CPU cores)\n",
    "- vCPUs to core ratio: 2 vCPUs per core (making a theoretical max value for num_threads of 96 * 2 = 192)\n",
    "- 4 x NVIDIA Tesla T4 GPUs"
   ]
  },
  {
   "cell_type": "code",
   "execution_count": 27,
   "metadata": {},
   "outputs": [],
   "source": [
    "# Remember to tune the learning rate accordingly.\n",
    "BATCHSIZE = 64\n",
    "\n",
    "# The maximun value for num_threads is dependent on amount of CPU cores:\n",
    "# amount of CPU cores * vCPUs to core ratio = theoretical max of NUM_THREADS\n",
    "NUM_THREADS = 11\n",
    "\n",
    "# The more batches we prefetch, the less idle the GPUs will be. \n",
    "# To check GPU usage:\n",
    "# 1. Run nvidia-smi -l 1 from the terminal to monitor the GPU usage during training. \n",
    "# 2. Try to get close to 100% for all GPUs by adjusting the value below (and the two above). Due to the overhead\n",
    "#    from tf.distribute.MirroredStrategy(), you won't be able to consistently get 100% for all GPUs. But try to \n",
    "#    get close.\n",
    "# 3. Be aware that RAM limits the amount of batches you can prefetch.\n",
    "PRE_FETCH_NUM_BATCHES = int(NUM_THREADS * 30) "
   ]
  },
  {
   "cell_type": "markdown",
   "metadata": {},
   "source": [
    "### Generators\n",
    "Create generators that will read training / validation data from disk during training."
   ]
  },
  {
   "cell_type": "code",
   "execution_count": 28,
   "metadata": {},
   "outputs": [],
   "source": [
    "train_generator = Patches_Generator(obs_id_train, y_train, BATCHSIZE)\n",
    "#train_gps_generator = GPS_Generator(obs_id_train, gps_train, y_train, BATCHSIZE)"
   ]
  },
  {
   "cell_type": "code",
   "execution_count": 29,
   "metadata": {},
   "outputs": [],
   "source": [
    "val_generator = Patches_Generator(obs_id_val, y_val, BATCHSIZE)"
   ]
  },
  {
   "cell_type": "markdown",
   "metadata": {},
   "source": [
    "### Cyclic learning rate\n",
    "Tune the cyclic learning rate prior to training."
   ]
  },
  {
   "cell_type": "code",
   "execution_count": 30,
   "metadata": {},
   "outputs": [],
   "source": [
    "# code source: https://pyimagesearch.com/2019/08/05/keras-learning-rate-finder/\n",
    "\n",
    "class LearningRateFinder:\n",
    "    def __init__(self, model, stopFactor=4, beta=0.98):\n",
    "        # store the model, stop factor, and beta value (for computing\n",
    "        # a smoothed, average loss)\n",
    "        self.model = model\n",
    "        self.stopFactor = stopFactor\n",
    "        self.beta = beta\n",
    "        \n",
    "        # initialize our list of learning rates and losses,\n",
    "        # respectively\n",
    "        self.lrs = []\n",
    "        self.losses = []\n",
    "        \n",
    "        # initialize our learning rate multiplier, average loss, best\n",
    "        # loss found thus far, current batch number, and weights file\n",
    "        self.lrMult = 1\n",
    "        self.avgLoss = 0\n",
    "        self.bestLoss = 1e9\n",
    "        self.batchNum = 0\n",
    "        self.weightsFile = None\n",
    "        \n",
    "    def on_batch_end(self, batch, logs):\n",
    "        # grab the current learning rate and add log it to the list of\n",
    "        # learning rates that we've tried\n",
    "        lr = K.get_value(self.model.optimizer.lr)\n",
    "        self.lrs.append(lr)\n",
    "        \n",
    "        # grab the loss at the end of this batch, increment the total\n",
    "        # number of batches processed, compute the average average\n",
    "        # loss, smooth it, and update the losses list with the\n",
    "        # smoothed value\n",
    "        l = logs[\"loss\"]\n",
    "        self.batchNum += 1\n",
    "        self.avgLoss = (self.beta * self.avgLoss) + ((1 - self.beta) * l)\n",
    "        smooth = self.avgLoss / (1 - (self.beta ** self.batchNum))\n",
    "        self.losses.append(smooth)\n",
    "        \n",
    "        # compute the maximum loss stopping factor value\n",
    "        stopLoss = self.stopFactor * self.bestLoss\n",
    "        \n",
    "        # check to see whether the loss has grown too large\n",
    "        if self.batchNum > 1 and smooth > stopLoss:\n",
    "            # stop returning and return from the method\n",
    "            self.model.stop_training = True\n",
    "            return\n",
    "        \n",
    "        # check to see if the best loss should be updated\n",
    "        if self.batchNum == 1 or smooth < self.bestLoss:\n",
    "            self.bestLoss = smooth\n",
    "            \n",
    "        # increase the learning rate\n",
    "        lr *= self.lrMult\n",
    "        K.set_value(self.model.optimizer.lr, lr)\n",
    "        \n",
    "    def find(self, trainData, startLR, endLR, epochs=None,\n",
    "        stepsPerEpoch=None, batchSize=64, sampleSize=2048):\n",
    "            \n",
    "        # compute the total number of batch updates that will take\n",
    "        # place while we are attempting to find a good starting\n",
    "        # learning rate\n",
    "        numBatchUpdates = epochs * stepsPerEpoch\n",
    "        \n",
    "        # derive the learning rate multiplier based on the ending\n",
    "        # learning rate, starting learning rate, and total number of\n",
    "        # batch updates\n",
    "        self.lrMult = (endLR / startLR) ** (1.0 / numBatchUpdates)\n",
    "        \n",
    "        # grab the *original* learning rate (so we can reset it\n",
    "        # later), and then set the *starting* learning rate\n",
    "        origLR = K.get_value(self.model.optimizer.lr)\n",
    "        K.set_value(self.model.optimizer.lr, startLR)\n",
    "\n",
    "        # construct a callback that will be called at the end of each\n",
    "        # batch, enabling us to increase our learning rate as training\n",
    "        # progresses\n",
    "        callback = LambdaCallback(on_batch_end=lambda batch, logs:\n",
    "            self.on_batch_end(batch, logs))\n",
    "        \n",
    "        # train our model using Keras' fit method\n",
    "        \"\"\"self.model.fit(\n",
    "            trainData,\n",
    "            batch_size=batchSize,\n",
    "            epochs=epochs,\n",
    "            callbacks=[callback])\"\"\"\n",
    "        \n",
    "        history = self.model.fit(trainData, \n",
    "                            batch_size=batchSize,\n",
    "                            epochs=epochs, \n",
    "                            steps_per_epoch=stepsPerEpoch,\n",
    "                            callbacks=[callback], \n",
    "                            # for parallelization of reading from disk (I/O) pipeline\n",
    "                            max_queue_size=PRE_FETCH_NUM_BATCHES, \n",
    "                            workers=NUM_THREADS, \n",
    "                            use_multiprocessing=True)\n",
    "        \n",
    "        # create a temporary file path for the model weights and\n",
    "        # then save the weights (so we can reset the weights when we\n",
    "        # are done)\n",
    "        self.weightsFile = tempfile.mkstemp()[1]\n",
    "        self.model.save_weights(self.weightsFile)\n",
    "            \n",
    "        # restore the original model weights and learning rate\n",
    "        self.model.load_weights(self.weightsFile)\n",
    "        K.set_value(self.model.optimizer.lr, origLR)\n",
    "\n",
    "    def plot_loss(self, skipBegin=10, skipEnd=1, title=\"\", show_candidates_only=True):\n",
    "        # grab the learning rate and losses values to plot\n",
    "        lrs = self.lrs[skipBegin:-skipEnd]\n",
    "        losses = self.losses[skipBegin:-skipEnd]\n",
    "        \n",
    "        # extract the candidate losses\n",
    "        candidates = [1e-9, 1e-8, 1e-7, 1e-6, 1e-5, 1e-4, 1e-3, 1e-2, 1e-1, 1e+0, 1e+1]\n",
    "\n",
    "        x_vals = list()\n",
    "        y_vals = list()\n",
    "        nextCandidate = 0\n",
    "        \n",
    "        for i in range(len(lrs)):\n",
    "            if math.isclose(lrs[i], candidates[nextCandidate], rel_tol=0.09, abs_tol=0):\n",
    "                x_vals.append(candidates[nextCandidate])\n",
    "                y_vals.append(losses[i])\n",
    "                nextCandidate += 1\n",
    "            \n",
    "            if nextCandidate >= len(candidates): \n",
    "                break\n",
    "                \n",
    "        x_vals.pop()\n",
    "        y_vals.pop()\n",
    "        x_vals.append(candidates[nextCandidate-1])\n",
    "        y_vals.append(losses[-1])\n",
    "        \n",
    "        # plot the learning rate vs. loss\n",
    "        if show_candidates_only:\n",
    "            plt.title(\"10 Candidate Learning Rates\")\n",
    "            plt.plot(x_vals, y_vals)\n",
    "        else:\n",
    "            plt.title(\"All Analyzed Learning Rates\")\n",
    "            plt.plot(lrs, losses)\n",
    "        \n",
    "        plt.xscale(\"log\")\n",
    "        plt.xlabel(\"Learning Rate (Log Scale)\")\n",
    "        plt.ylabel(\"Loss\")\n",
    "        plt.grid()\n",
    "        plt.xticks(candidates)\n",
    "        \n",
    "        # if the title is not empty, add it to the plot\n",
    "        if title != \"\":\n",
    "            plt.title(title)\n",
    "            \n",
    "        plt.show()"
   ]
  },
  {
   "cell_type": "code",
   "execution_count": 27,
   "metadata": {},
   "outputs": [
    {
     "name": "stdout",
     "output_type": "stream",
     "text": [
      "[INFO] finding learning rate...\n",
      "Epoch 1/6\n",
      "989/989 [==============================] - 39s 37ms/step - loss: 4.0422 - accuracy: 0.0176\n",
      "Epoch 2/6\n",
      "989/989 [==============================] - 37s 36ms/step - loss: 3.8568 - accuracy: 0.0271\n",
      "Epoch 3/6\n",
      "989/989 [==============================] - 39s 39ms/step - loss: 3.6300 - accuracy: 0.0395\n",
      "Epoch 4/6\n",
      "989/989 [==============================] - 38s 37ms/step - loss: 3.4380 - accuracy: 0.0669\n",
      "Epoch 5/6\n",
      "989/989 [==============================] - 9s 8ms/step - loss: 415.1758 - accuracy: 0.0384\n"
     ]
    },
    {
     "name": "stderr",
     "output_type": "stream",
     "text": [
      "Process Keras_worker_ForkPoolWorker-62:\n",
      "Process Keras_worker_ForkPoolWorker-60:\n",
      "Traceback (most recent call last):\n",
      "Process Keras_worker_ForkPoolWorker-59:\n",
      "  File \"/usr/lib/python3.8/multiprocessing/process.py\", line 315, in _bootstrap\n",
      "    self.run()\n",
      "Process Keras_worker_ForkPoolWorker-56:\n",
      "Process Keras_worker_ForkPoolWorker-66:\n",
      "Process Keras_worker_ForkPoolWorker-65:\n",
      "Process Keras_worker_ForkPoolWorker-58:\n",
      "Process Keras_worker_ForkPoolWorker-64:\n",
      "Traceback (most recent call last):\n",
      "Process Keras_worker_ForkPoolWorker-57:\n",
      "Traceback (most recent call last):\n",
      "Process Keras_worker_ForkPoolWorker-63:\n",
      "  File \"/usr/lib/python3.8/multiprocessing/process.py\", line 315, in _bootstrap\n",
      "    self.run()\n",
      "Process Keras_worker_ForkPoolWorker-61:\n",
      "  File \"/usr/lib/python3.8/multiprocessing/process.py\", line 315, in _bootstrap\n",
      "    self.run()\n",
      "  File \"/usr/lib/python3.8/multiprocessing/process.py\", line 108, in run\n",
      "    self._target(*self._args, **self._kwargs)\n",
      "Traceback (most recent call last):\n",
      "Traceback (most recent call last):\n",
      "Traceback (most recent call last):\n",
      "  File \"/usr/lib/python3.8/multiprocessing/process.py\", line 108, in run\n",
      "    self._target(*self._args, **self._kwargs)\n",
      "Traceback (most recent call last):\n",
      "Traceback (most recent call last):\n",
      "Traceback (most recent call last):\n",
      "Traceback (most recent call last):\n",
      "Traceback (most recent call last):\n",
      "  File \"/usr/lib/python3.8/multiprocessing/process.py\", line 108, in run\n",
      "    self._target(*self._args, **self._kwargs)\n",
      "  File \"/usr/lib/python3.8/multiprocessing/pool.py\", line 114, in worker\n",
      "    task = get()\n",
      "  File \"/usr/lib/python3.8/multiprocessing/process.py\", line 315, in _bootstrap\n",
      "    self.run()\n",
      "  File \"/usr/lib/python3.8/multiprocessing/process.py\", line 315, in _bootstrap\n",
      "    self.run()\n",
      "  File \"/usr/lib/python3.8/multiprocessing/process.py\", line 315, in _bootstrap\n",
      "    self.run()\n",
      "  File \"/usr/lib/python3.8/multiprocessing/pool.py\", line 114, in worker\n",
      "    task = get()\n",
      "  File \"/usr/lib/python3.8/multiprocessing/process.py\", line 315, in _bootstrap\n",
      "    self.run()\n",
      "  File \"/usr/lib/python3.8/multiprocessing/process.py\", line 315, in _bootstrap\n",
      "    self.run()\n",
      "  File \"/usr/lib/python3.8/multiprocessing/process.py\", line 315, in _bootstrap\n",
      "    self.run()\n",
      "  File \"/usr/lib/python3.8/multiprocessing/process.py\", line 315, in _bootstrap\n",
      "    self.run()\n",
      "  File \"/usr/lib/python3.8/multiprocessing/pool.py\", line 114, in worker\n",
      "    task = get()\n",
      "  File \"/usr/lib/python3.8/multiprocessing/queues.py\", line 356, in get\n",
      "    res = self._reader.recv_bytes()\n",
      "  File \"/usr/lib/python3.8/multiprocessing/process.py\", line 108, in run\n",
      "    self._target(*self._args, **self._kwargs)\n",
      "  File \"/usr/lib/python3.8/multiprocessing/process.py\", line 108, in run\n",
      "    self._target(*self._args, **self._kwargs)\n",
      "  File \"/usr/lib/python3.8/multiprocessing/process.py\", line 108, in run\n",
      "    self._target(*self._args, **self._kwargs)\n",
      "  File \"/usr/lib/python3.8/multiprocessing/queues.py\", line 355, in get\n",
      "    with self._rlock:\n",
      "  File \"/usr/lib/python3.8/multiprocessing/process.py\", line 108, in run\n",
      "    self._target(*self._args, **self._kwargs)\n",
      "  File \"/usr/lib/python3.8/multiprocessing/process.py\", line 108, in run\n",
      "    self._target(*self._args, **self._kwargs)\n",
      "  File \"/usr/lib/python3.8/multiprocessing/process.py\", line 315, in _bootstrap\n",
      "    self.run()\n",
      "  File \"/usr/lib/python3.8/multiprocessing/process.py\", line 108, in run\n",
      "    self._target(*self._args, **self._kwargs)\n",
      "  File \"/usr/lib/python3.8/multiprocessing/process.py\", line 108, in run\n",
      "    self._target(*self._args, **self._kwargs)\n",
      "  File \"/usr/lib/python3.8/multiprocessing/queues.py\", line 355, in get\n",
      "    with self._rlock:\n",
      "  File \"/usr/lib/python3.8/multiprocessing/pool.py\", line 114, in worker\n",
      "    task = get()\n",
      "  File \"/usr/lib/python3.8/multiprocessing/connection.py\", line 216, in recv_bytes\n",
      "    buf = self._recv_bytes(maxlength)\n",
      "  File \"/usr/lib/python3.8/multiprocessing/pool.py\", line 114, in worker\n",
      "    task = get()\n",
      "  File \"/usr/lib/python3.8/multiprocessing/pool.py\", line 114, in worker\n",
      "    task = get()\n",
      "  File \"/usr/lib/python3.8/multiprocessing/pool.py\", line 114, in worker\n",
      "    task = get()\n",
      "  File \"/usr/lib/python3.8/multiprocessing/pool.py\", line 114, in worker\n",
      "    task = get()\n",
      "  File \"/usr/lib/python3.8/multiprocessing/process.py\", line 108, in run\n",
      "    self._target(*self._args, **self._kwargs)\n",
      "  File \"/usr/lib/python3.8/multiprocessing/pool.py\", line 114, in worker\n",
      "    task = get()\n",
      "  File \"/usr/lib/python3.8/multiprocessing/pool.py\", line 114, in worker\n",
      "    task = get()\n",
      "  File \"/usr/lib/python3.8/multiprocessing/synchronize.py\", line 95, in __enter__\n",
      "    return self._semlock.__enter__()\n",
      "  File \"/usr/lib/python3.8/multiprocessing/synchronize.py\", line 95, in __enter__\n",
      "    return self._semlock.__enter__()\n",
      "  File \"/usr/lib/python3.8/multiprocessing/queues.py\", line 355, in get\n",
      "    with self._rlock:\n",
      "  File \"/usr/lib/python3.8/multiprocessing/connection.py\", line 414, in _recv_bytes\n",
      "    buf = self._recv(4)\n",
      "  File \"/usr/lib/python3.8/multiprocessing/queues.py\", line 355, in get\n",
      "    with self._rlock:\n",
      "  File \"/usr/lib/python3.8/multiprocessing/queues.py\", line 355, in get\n",
      "    with self._rlock:\n",
      "  File \"/usr/lib/python3.8/multiprocessing/queues.py\", line 355, in get\n",
      "    with self._rlock:\n",
      "  File \"/usr/lib/python3.8/multiprocessing/queues.py\", line 355, in get\n",
      "    with self._rlock:\n",
      "  File \"/usr/lib/python3.8/multiprocessing/pool.py\", line 114, in worker\n",
      "    task = get()\n",
      "  File \"/usr/lib/python3.8/multiprocessing/queues.py\", line 355, in get\n",
      "    with self._rlock:\n",
      "  File \"/usr/lib/python3.8/multiprocessing/queues.py\", line 355, in get\n",
      "    with self._rlock:\n",
      "KeyboardInterrupt\n",
      "KeyboardInterrupt\n",
      "  File \"/usr/lib/python3.8/multiprocessing/synchronize.py\", line 95, in __enter__\n",
      "    return self._semlock.__enter__()\n",
      "  File \"/usr/lib/python3.8/multiprocessing/synchronize.py\", line 95, in __enter__\n",
      "    return self._semlock.__enter__()\n",
      "  File \"/usr/lib/python3.8/multiprocessing/queues.py\", line 355, in get\n",
      "    with self._rlock:\n",
      "  File \"/usr/lib/python3.8/multiprocessing/synchronize.py\", line 95, in __enter__\n",
      "    return self._semlock.__enter__()\n",
      "  File \"/usr/lib/python3.8/multiprocessing/synchronize.py\", line 95, in __enter__\n",
      "    return self._semlock.__enter__()\n",
      "KeyboardInterrupt\n",
      "  File \"/usr/lib/python3.8/multiprocessing/synchronize.py\", line 95, in __enter__\n",
      "    return self._semlock.__enter__()\n",
      "KeyboardInterrupt\n",
      "KeyboardInterrupt\n",
      "  File \"/usr/lib/python3.8/multiprocessing/synchronize.py\", line 95, in __enter__\n",
      "    return self._semlock.__enter__()\n",
      "  File \"/usr/lib/python3.8/multiprocessing/connection.py\", line 379, in _recv\n",
      "    chunk = read(handle, remaining)\n",
      "  File \"/usr/lib/python3.8/multiprocessing/synchronize.py\", line 95, in __enter__\n",
      "    return self._semlock.__enter__()\n",
      "  File \"/usr/lib/python3.8/multiprocessing/synchronize.py\", line 95, in __enter__\n",
      "    return self._semlock.__enter__()\n",
      "KeyboardInterrupt\n",
      "KeyboardInterrupt\n",
      "KeyboardInterrupt\n",
      "KeyboardInterrupt\n",
      "KeyboardInterrupt\n",
      "KeyboardInterrupt\n"
     ]
    }
   ],
   "source": [
    "\n",
    "# uncomment if you want to analyze which upper and lower bound for the cyclical learning rate policy to use\n",
    "\n",
    "###### initialize model\n",
    "model_lr = complex_model((256, 256, 3), learning_rate=1e-9, output_neurons=no_output_neurons)\n",
    "\n",
    "# initialize the learning rate finder and then train with learning\n",
    "# rates ranging from 1e-10 to 1e+1\n",
    "print(\"[INFO] finding learning rate...\")\n",
    "lrf = LearningRateFinder(model_lr)\n",
    "lrf.find(train_generator,\n",
    "         1e-10, 1e+2,\n",
    "         stepsPerEpoch=np.ceil(len(y_train)/BATCHSIZE),\n",
    "         epochs=6, \n",
    "         batchSize=BATCHSIZE)\n"
   ]
  },
  {
   "cell_type": "code",
   "execution_count": 28,
   "metadata": {},
   "outputs": [
    {
     "data": {
      "image/png": "[encoded data removed]",
      "text/plain": [
       "<Figure size 432x288 with 1 Axes>"
      ]
     },
     "metadata": {
      "needs_background": "light"
     },
     "output_type": "display_data"
    }
   ],
   "source": [
    "# plot the loss for the candidate learning rates\n",
    "lrf.plot_loss()"
   ]
  },
  {
   "cell_type": "code",
   "execution_count": 29,
   "metadata": {},
   "outputs": [
    {
     "data": {
      "image/png": "[encoded data removed]",
      "text/plain": [
       "<Figure size 432x288 with 1 Axes>"
      ]
     },
     "metadata": {
      "needs_background": "light"
     },
     "output_type": "display_data"
    }
   ],
   "source": [
    "# plot the loss for the various learning rates\n",
    "lrf.plot_loss(show_candidates_only=False)"
   ]
  },
  {
   "cell_type": "markdown",
   "metadata": {},
   "source": [
    "#### From that figure identify the values of lrmin and lrmax.\n",
    "\n",
    "I have identified them as follows:\n",
    "\n",
    "    lr_min = 1e-5\n",
    "    lr_max = 1e-2"
   ]
  },
  {
   "cell_type": "markdown",
   "metadata": {},
   "source": [
    "### Training"
   ]
  },
  {
   "cell_type": "markdown",
   "metadata": {},
   "source": [
    "Use the cyclical learning rate policy (with exponential decay)."
   ]
  },
  {
   "cell_type": "code",
   "execution_count": 31,
   "metadata": {},
   "outputs": [],
   "source": [
    "STEPS_PER_EPOCH = len(y_train)//BATCHSIZE"
   ]
  },
  {
   "cell_type": "code",
   "execution_count": 32,
   "metadata": {},
   "outputs": [],
   "source": [
    "# define cyclical learning rate policy\n",
    "lr_min = 1e-5\n",
    "lr_max = 1e-2\n",
    "\n",
    "clr = tfa.optimizers.CyclicalLearningRate(\n",
    "        initial_learning_rate=lr_min,\n",
    "        maximal_learning_rate=lr_max,\n",
    "        scale_fn=lambda x: 1/(2.**(x-1)), # exponential decay\n",
    "        step_size=2 * STEPS_PER_EPOCH\n",
    ")"
   ]
  },
  {
   "cell_type": "markdown",
   "metadata": {},
   "source": [
    "Create the model."
   ]
  },
  {
   "cell_type": "code",
   "execution_count": 37,
   "metadata": {},
   "outputs": [],
   "source": [
    "# create the network\n",
    "#model = simple_model((256, 256, 3), learning_rate=clr, output_neurons=len(np.unique(y_train)))\n",
    "#model = simple_model_with_gps([(256, 256, 3), np.shape(gps)], learning_rate=clr, output_neurons=len(np.unique(y_train)))\n",
    "\n",
    "model = complex_model((256, 256, 3), learning_rate=0.0001, output_neurons=no_output_neurons)\n"
   ]
  },
  {
   "cell_type": "markdown",
   "metadata": {},
   "source": [
    "Train the network."
   ]
  },
  {
   "cell_type": "code",
   "execution_count": 38,
   "metadata": {},
   "outputs": [],
   "source": [
    "# # define an early stopping callback for when model converges\n",
    "# early_stop = tf.keras.callbacks.EarlyStopping(monitor='loss', min_delta=0.001, patience=3, \n",
    "#                                               verbose=0, mode='auto', baseline=None, restore_best_weights=True)"
   ]
  },
  {
   "cell_type": "code",
   "execution_count": 39,
   "metadata": {},
   "outputs": [],
   "source": [
    "early_stop = tf.keras.callbacks.EarlyStopping(monitor='loss', min_delta=0.001, patience=5, \n",
    "                                              verbose=0, mode='auto', baseline=None, restore_best_weights=True)\n"
   ]
  },
  {
   "cell_type": "code",
   "execution_count": 40,
   "metadata": {},
   "outputs": [],
   "source": [
    "time.sleep(60*25)"
   ]
  },
  {
   "cell_type": "code",
   "execution_count": 41,
   "metadata": {
    "scrolled": true
   },
   "outputs": [
    {
     "ename": "InternalError",
     "evalue": "Failed copying input tensor from /job:localhost/replica:0/task:0/device:CPU:0 to /job:localhost/replica:0/task:0/device:GPU:0 in order to run _EagerConst: Dst tensor is not initialized.",
     "output_type": "error",
     "traceback": [
      "\u001b[0;31m---------------------------------------------------------------------------\u001b[0m",
      "\u001b[0;31mInternalError\u001b[0m                             Traceback (most recent call last)",
      "Input \u001b[0;32mIn [41]\u001b[0m, in \u001b[0;36m<module>\u001b[0;34m\u001b[0m\n\u001b[0;32m----> 1\u001b[0m history \u001b[38;5;241m=\u001b[39m \u001b[43mmodel\u001b[49m\u001b[38;5;241;43m.\u001b[39;49m\u001b[43mfit\u001b[49m\u001b[43m(\u001b[49m\u001b[43mtrain_generator\u001b[49m\u001b[43m,\u001b[49m\u001b[43m \u001b[49m\u001b[43mepochs\u001b[49m\u001b[38;5;241;43m=\u001b[39;49m\u001b[38;5;241;43m100\u001b[39;49m\u001b[43m,\u001b[49m\u001b[43m \u001b[49m\u001b[43mcallbacks\u001b[49m\u001b[38;5;241;43m=\u001b[39;49m\u001b[43m[\u001b[49m\u001b[43mearly_stop\u001b[49m\u001b[43m]\u001b[49m\u001b[43m,\u001b[49m\u001b[43m \u001b[49m\u001b[38;5;66;43;03m#steps_per_epoch=STEPS_PER_EPOCH, \u001b[39;49;00m\n\u001b[1;32m      2\u001b[0m \u001b[43m                    \u001b[49m\u001b[43mvalidation_data\u001b[49m\u001b[38;5;241;43m=\u001b[39;49m\u001b[43mval_generator\u001b[49m\u001b[43m,\u001b[49m\n\u001b[1;32m      3\u001b[0m \u001b[43m                    \u001b[49m\u001b[38;5;66;43;03m# for parallelization of reading from disk (I/O) pipeline\u001b[39;49;00m\n\u001b[1;32m      4\u001b[0m \u001b[43m                    \u001b[49m\u001b[43mmax_queue_size\u001b[49m\u001b[38;5;241;43m=\u001b[39;49m\u001b[43mPRE_FETCH_NUM_BATCHES\u001b[49m\u001b[43m,\u001b[49m\u001b[43m \u001b[49m\u001b[43mworkers\u001b[49m\u001b[38;5;241;43m=\u001b[39;49m\u001b[43mNUM_THREADS\u001b[49m\u001b[43m,\u001b[49m\u001b[43m \u001b[49m\u001b[43muse_multiprocessing\u001b[49m\u001b[38;5;241;43m=\u001b[39;49m\u001b[38;5;28;43;01mTrue\u001b[39;49;00m\u001b[43m)\u001b[49m\n",
      "File \u001b[0;32m~usr/local/lib/python3.8/dist-packages/keras/utils/traceback_utils.py:67\u001b[0m, in \u001b[0;36mfilter_traceback.<locals>.error_handler\u001b[0;34m(*args, **kwargs)\u001b[0m\n\u001b[1;32m     65\u001b[0m \u001b[38;5;28;01mexcept\u001b[39;00m \u001b[38;5;167;01mException\u001b[39;00m \u001b[38;5;28;01mas\u001b[39;00m e:  \u001b[38;5;66;03m# pylint: disable=broad-except\u001b[39;00m\n\u001b[1;32m     66\u001b[0m   filtered_tb \u001b[38;5;241m=\u001b[39m _process_traceback_frames(e\u001b[38;5;241m.\u001b[39m__traceback__)\n\u001b[0;32m---> 67\u001b[0m   \u001b[38;5;28;01mraise\u001b[39;00m e\u001b[38;5;241m.\u001b[39mwith_traceback(filtered_tb) \u001b[38;5;28;01mfrom\u001b[39;00m \u001b[38;5;28mNone\u001b[39m\n\u001b[1;32m     68\u001b[0m \u001b[38;5;28;01mfinally\u001b[39;00m:\n\u001b[1;32m     69\u001b[0m   \u001b[38;5;28;01mdel\u001b[39;00m filtered_tb\n",
      "File \u001b[0;32m~usr/local/lib/python3.8/dist-packages/tensorflow/python/framework/constant_op.py:102\u001b[0m, in \u001b[0;36mconvert_to_eager_tensor\u001b[0;34m(value, ctx, dtype)\u001b[0m\n\u001b[1;32m    100\u001b[0m     dtype \u001b[38;5;241m=\u001b[39m dtypes\u001b[38;5;241m.\u001b[39mas_dtype(dtype)\u001b[38;5;241m.\u001b[39mas_datatype_enum\n\u001b[1;32m    101\u001b[0m ctx\u001b[38;5;241m.\u001b[39mensure_initialized()\n\u001b[0;32m--> 102\u001b[0m \u001b[38;5;28;01mreturn\u001b[39;00m \u001b[43mops\u001b[49m\u001b[38;5;241;43m.\u001b[39;49m\u001b[43mEagerTensor\u001b[49m\u001b[43m(\u001b[49m\u001b[43mvalue\u001b[49m\u001b[43m,\u001b[49m\u001b[43m \u001b[49m\u001b[43mctx\u001b[49m\u001b[38;5;241;43m.\u001b[39;49m\u001b[43mdevice_name\u001b[49m\u001b[43m,\u001b[49m\u001b[43m \u001b[49m\u001b[43mdtype\u001b[49m\u001b[43m)\u001b[49m\n",
      "\u001b[0;31mInternalError\u001b[0m: Failed copying input tensor from /job:localhost/replica:0/task:0/device:CPU:0 to /job:localhost/replica:0/task:0/device:GPU:0 in order to run _EagerConst: Dst tensor is not initialized."
     ]
    }
   ],
   "source": [
    "history = model.fit(train_generator, epochs=100, callbacks=[early_stop], #steps_per_epoch=STEPS_PER_EPOCH, \n",
    "                    validation_data=val_generator,\n",
    "                    # for parallelization of reading from disk (I/O) pipeline\n",
    "                    max_queue_size=PRE_FETCH_NUM_BATCHES, workers=NUM_THREADS, use_multiprocessing=True)"
   ]
  },
  {
   "cell_type": "code",
   "execution_count": 36,
   "metadata": {},
   "outputs": [
    {
     "name": "stdout",
     "output_type": "stream",
     "text": [
      "INFO:tensorflow:Assets written to: simple_complexcnn_val_0.09/assets\n"
     ]
    }
   ],
   "source": [
    "model.save('simple_complexcnn_val_')"
   ]
  },
  {
   "cell_type": "code",
   "execution_count": null,
   "metadata": {},
   "outputs": [],
   "source": []
  }
 ],
 "metadata": {
  "kernelspec": {
   "display_name": "Python 3",
   "language": "python",
   "name": "python3"
  },
  "language_info": {
   "codemirror_mode": {
    "name": "ipython",
    "version": 3
   },
   "file_extension": ".py",
   "mimetype": "text/x-python",
   "name": "python",
   "nbconvert_exporter": "python",
   "pygments_lexer": "ipython3",
   "version": "3.8.10"
  }
 },
 "nbformat": 4,
 "nbformat_minor": 4
}
