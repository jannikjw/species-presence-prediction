{
 "cells": [
  {
   "cell_type": "markdown",
   "metadata": {},
   "source": [
    "### Necessary Imports and Installs"
   ]
  },
  {
   "cell_type": "code",
   "execution_count": 1,
   "metadata": {},
   "outputs": [
    {
     "name": "stderr",
     "output_type": "stream",
     "text": [
      "Matplotlib created a temporary config/cache directory at /tmp/matplotlib-p8503y2h because the default path (/.config/matplotlib) is not a writable directory; it is highly recommended to set the MPLCONFIGDIR environment variable to a writable directory, in particular to speed up the import of Matplotlib and to better support multiprocessing.\n"
     ]
    },
    {
     "name": "stdout",
     "output_type": "stream",
     "text": [
      "%pylab is deprecated, use %matplotlib inline and import the required libraries.\n",
      "Populating the interactive namespace from numpy and matplotlib\n"
     ]
    }
   ],
   "source": [
    "import tensorflow as tf\n",
    "from tensorflow.keras.layers import Add, GlobalAveragePooling2D, Conv2D, Dense, AveragePooling2D, \\\n",
    "BatchNormalization, Normalization, Dropout, Flatten, Lambda, Input, Activation, MaxPooling2D\n",
    "from tensorflow.keras import Model\n",
    "from tensorflow.keras.optimizers import schedules, SGD\n",
    "from tensorflow.keras.callbacks import Callback, LambdaCallback\n",
    "from tensorflow.keras import backend as K\n",
    "import tensorflow_addons as tfa\n",
    "#import tensorflow_datasets as tfds\n",
    "\n",
    "import numpy as np\n",
    "from collections import defaultdict\n",
    "import matplotlib.pyplot as plt\n",
    "from matplotlib import scale\n",
    "import time\n",
    "import random\n",
    "from collections import defaultdict\n",
    "import math\n",
    "import copy\n",
    "import threading\n",
    "import opendatasets as od\n",
    "import tempfile\n",
    "from sklearn.utils import shuffle\n",
    "\n",
    "%pylab inline --no-import-all\n",
    "from pathlib import Path\n",
    "import pandas as pd\n",
    "import sys\n",
    "\n",
    "from GLC.data_loading.common import load_patch"
   ]
  },
  {
   "cell_type": "markdown",
   "metadata": {},
   "source": [
    "# Dataset"
   ]
  },
  {
   "cell_type": "markdown",
   "metadata": {},
   "source": [
    "## Download Dataset"
   ]
  },
  {
   "cell_type": "code",
   "execution_count": 2,
   "metadata": {
    "scrolled": true
   },
   "outputs": [],
   "source": [
    "# only uncomment if you don't have the dataset stored on disk yet\n",
    "# -> have your kaggle user credentials ready\n",
    "#data = od.download(\"https://www.kaggle.com/competitions/geolifeclef-2022-lifeclef-2022-fgvc9\")"
   ]
  },
  {
   "cell_type": "markdown",
   "metadata": {},
   "source": [
    "## Load Dataset from file"
   ]
  },
  {
   "cell_type": "markdown",
   "metadata": {},
   "source": [
    "Set path to competition dataset here."
   ]
  },
  {
   "cell_type": "code",
   "execution_count": 3,
   "metadata": {},
   "outputs": [],
   "source": [
    "# Change this path to adapt to where you downloaded the data\n",
    "DATA_PATH = Path(\"./geolifeclef-2022-lifeclef-2022-fgvc9/\")"
   ]
  },
  {
   "cell_type": "markdown",
   "metadata": {},
   "source": [
    "Run the following two commands to verify that the data path is set correctly. They should print folder and file names."
   ]
  },
  {
   "cell_type": "code",
   "execution_count": 4,
   "metadata": {},
   "outputs": [
    {
     "name": "stdout",
     "output_type": "stream",
     "text": [
      "\u001b[0m\u001b[01;34mmetadata\u001b[0m/      \u001b[01;34mpatches-fr\u001b[0m/  \u001b[01;34mpatches_sample\u001b[0m/  \u001b[01;34mrasters\u001b[0m/\r\n",
      "\u001b[01;34mobservations\u001b[0m/  \u001b[01;34mpatches-us\u001b[0m/  \u001b[01;34mpre-extracted\u001b[0m/   sample_submission.csv\r\n"
     ]
    }
   ],
   "source": [
    "ls -L $DATA_PATH"
   ]
  },
  {
   "cell_type": "code",
   "execution_count": 5,
   "metadata": {
    "scrolled": true
   },
   "outputs": [
    {
     "name": "stdout",
     "output_type": "stream",
     "text": [
      "observations_fr_test.csv   observations_us_test.csv\r\n",
      "observations_fr_train.csv  observations_us_train.csv\r\n"
     ]
    }
   ],
   "source": [
    "ls $DATA_PATH/observations"
   ]
  },
  {
   "cell_type": "markdown",
   "metadata": {},
   "source": [
    "Load the observation ids of the training dataset."
   ]
  },
  {
   "cell_type": "code",
   "execution_count": 6,
   "metadata": {},
   "outputs": [
    {
     "name": "stdout",
     "output_type": "stream",
     "text": [
      "Number of observations for training: 1627475\n"
     ]
    },
    {
     "data": {
      "text/html": [
       "<div>\n",
       "<style scoped>\n",
       "    .dataframe tbody tr th:only-of-type {\n",
       "        vertical-align: middle;\n",
       "    }\n",
       "\n",
       "    .dataframe tbody tr th {\n",
       "        vertical-align: top;\n",
       "    }\n",
       "\n",
       "    .dataframe thead th {\n",
       "        text-align: right;\n",
       "    }\n",
       "</style>\n",
       "<table border=\"1\" class=\"dataframe\">\n",
       "  <thead>\n",
       "    <tr style=\"text-align: right;\">\n",
       "      <th></th>\n",
       "      <th>latitude</th>\n",
       "      <th>longitude</th>\n",
       "      <th>species_id</th>\n",
       "      <th>subset</th>\n",
       "    </tr>\n",
       "    <tr>\n",
       "      <th>observation_id</th>\n",
       "      <th></th>\n",
       "      <th></th>\n",
       "      <th></th>\n",
       "      <th></th>\n",
       "    </tr>\n",
       "  </thead>\n",
       "  <tbody>\n",
       "    <tr>\n",
       "      <th>10561949</th>\n",
       "      <td>45.705116</td>\n",
       "      <td>1.424622</td>\n",
       "      <td>241</td>\n",
       "      <td>train</td>\n",
       "    </tr>\n",
       "    <tr>\n",
       "      <th>10131188</th>\n",
       "      <td>45.146973</td>\n",
       "      <td>6.416794</td>\n",
       "      <td>101</td>\n",
       "      <td>train</td>\n",
       "    </tr>\n",
       "    <tr>\n",
       "      <th>10799362</th>\n",
       "      <td>46.783695</td>\n",
       "      <td>-2.072855</td>\n",
       "      <td>700</td>\n",
       "      <td>train</td>\n",
       "    </tr>\n",
       "    <tr>\n",
       "      <th>10392536</th>\n",
       "      <td>48.604866</td>\n",
       "      <td>-2.825003</td>\n",
       "      <td>1456</td>\n",
       "      <td>train</td>\n",
       "    </tr>\n",
       "    <tr>\n",
       "      <th>10335049</th>\n",
       "      <td>48.815567</td>\n",
       "      <td>-0.161431</td>\n",
       "      <td>157</td>\n",
       "      <td>train</td>\n",
       "    </tr>\n",
       "  </tbody>\n",
       "</table>\n",
       "</div>"
      ],
      "text/plain": [
       "                 latitude  longitude  species_id subset\n",
       "observation_id                                         \n",
       "10561949        45.705116   1.424622         241  train\n",
       "10131188        45.146973   6.416794         101  train\n",
       "10799362        46.783695  -2.072855         700  train\n",
       "10392536        48.604866  -2.825003        1456  train\n",
       "10335049        48.815567  -0.161431         157  train"
      ]
     },
     "execution_count": 6,
     "metadata": {},
     "output_type": "execute_result"
    }
   ],
   "source": [
    "### Training Dataset ###\n",
    "# let's load the data from file\n",
    "df_obs_fr = pd.read_csv(DATA_PATH / \"observations\" / \"observations_fr_train.csv\", sep=\";\", index_col=\"observation_id\")\n",
    "df_obs_us = pd.read_csv(DATA_PATH / \"observations\" / \"observations_us_train.csv\", sep=\";\", index_col=\"observation_id\")\n",
    "\n",
    "df_obs = pd.concat((df_obs_fr, df_obs_us))\n",
    "\n",
    "print(\"Number of observations for training: {}\".format(len(df_obs)))\n",
    "\n",
    "# let's have a look at the data\n",
    "df_obs.head()"
   ]
  },
  {
   "cell_type": "markdown",
   "metadata": {},
   "source": [
    "Load the observation ids of the test dataset."
   ]
  },
  {
   "cell_type": "code",
   "execution_count": 7,
   "metadata": {},
   "outputs": [
    {
     "name": "stdout",
     "output_type": "stream",
     "text": [
      "Number of observations for testing: 36421\n"
     ]
    },
    {
     "data": {
      "text/html": [
       "<div>\n",
       "<style scoped>\n",
       "    .dataframe tbody tr th:only-of-type {\n",
       "        vertical-align: middle;\n",
       "    }\n",
       "\n",
       "    .dataframe tbody tr th {\n",
       "        vertical-align: top;\n",
       "    }\n",
       "\n",
       "    .dataframe thead th {\n",
       "        text-align: right;\n",
       "    }\n",
       "</style>\n",
       "<table border=\"1\" class=\"dataframe\">\n",
       "  <thead>\n",
       "    <tr style=\"text-align: right;\">\n",
       "      <th></th>\n",
       "      <th>latitude</th>\n",
       "      <th>longitude</th>\n",
       "    </tr>\n",
       "    <tr>\n",
       "      <th>observation_id</th>\n",
       "      <th></th>\n",
       "      <th></th>\n",
       "    </tr>\n",
       "  </thead>\n",
       "  <tbody>\n",
       "    <tr>\n",
       "      <th>10782781</th>\n",
       "      <td>43.601788</td>\n",
       "      <td>6.940195</td>\n",
       "    </tr>\n",
       "    <tr>\n",
       "      <th>10364138</th>\n",
       "      <td>46.241711</td>\n",
       "      <td>0.683586</td>\n",
       "    </tr>\n",
       "    <tr>\n",
       "      <th>10692017</th>\n",
       "      <td>45.181095</td>\n",
       "      <td>1.533459</td>\n",
       "    </tr>\n",
       "    <tr>\n",
       "      <th>10222322</th>\n",
       "      <td>46.938450</td>\n",
       "      <td>5.298678</td>\n",
       "    </tr>\n",
       "    <tr>\n",
       "      <th>10241950</th>\n",
       "      <td>45.017433</td>\n",
       "      <td>0.960736</td>\n",
       "    </tr>\n",
       "  </tbody>\n",
       "</table>\n",
       "</div>"
      ],
      "text/plain": [
       "                 latitude  longitude\n",
       "observation_id                      \n",
       "10782781        43.601788   6.940195\n",
       "10364138        46.241711   0.683586\n",
       "10692017        45.181095   1.533459\n",
       "10222322        46.938450   5.298678\n",
       "10241950        45.017433   0.960736"
      ]
     },
     "execution_count": 7,
     "metadata": {},
     "output_type": "execute_result"
    }
   ],
   "source": [
    "### Test Dataset ###\n",
    "df_obs_fr_test = pd.read_csv(DATA_PATH / \"observations\" / \"observations_fr_test.csv\", sep=\";\", index_col=\"observation_id\")\n",
    "df_obs_us_test = pd.read_csv(DATA_PATH / \"observations\" / \"observations_us_test.csv\", sep=\";\", index_col=\"observation_id\")\n",
    "\n",
    "df_obs_test = pd.concat((df_obs_fr_test, df_obs_us_test))\n",
    "\n",
    "print(\"Number of observations for testing: {}\".format(len(df_obs_test)))\n",
    "\n",
    "df_obs_test.head()"
   ]
  },
  {
   "cell_type": "markdown",
   "metadata": {},
   "source": [
    "Load suggested landcover alignment (only relevant if you're using landcover data later)."
   ]
  },
  {
   "cell_type": "code",
   "execution_count": 8,
   "metadata": {},
   "outputs": [
    {
     "name": "stdout",
     "output_type": "stream",
     "text": [
      "   landcover_code  suggested_landcover_code suggested_landcover_label\n",
      "0               0                         0              Missing Data\n",
      "1               1                        11          Cultivated Crops\n",
      "2               2                        11          Cultivated Crops\n",
      "3               3                         6       Broad-leaved Forest\n",
      "4               4                         7         Coniferous Forest\n"
     ]
    }
   ],
   "source": [
    "df_suggested_landcover_alignment = pd.read_csv(DATA_PATH / \"metadata\" / \"landcover_suggested_alignment.csv\", sep=\";\")\n",
    "print(df_suggested_landcover_alignment.head())\n",
    "landcover_mapping = df_suggested_landcover_alignment[\"suggested_landcover_code\"].values"
   ]
  },
  {
   "cell_type": "markdown",
   "metadata": {},
   "source": [
    "### Train/Val Split Labels\n",
    "Retrieve the train/val split provided, and load the labels of the train and val set elements."
   ]
  },
  {
   "cell_type": "code",
   "execution_count": 9,
   "metadata": {},
   "outputs": [
    {
     "name": "stdout",
     "output_type": "stream",
     "text": [
      "Training set size: 1587395 (97.5% of train observations)\n",
      "Validation set size: 40080 (2.5% of train observations)\n"
     ]
    }
   ],
   "source": [
    "obs_id_train = df_obs.index[df_obs[\"subset\"] == \"train\"].values\n",
    "obs_id_val = df_obs.index[df_obs[\"subset\"] == \"val\"].values\n",
    "\n",
    "y_train = df_obs.loc[obs_id_train][\"species_id\"].values\n",
    "y_val = df_obs.loc[obs_id_val][\"species_id\"].values\n",
    "\n",
    "n_val = len(obs_id_val)\n",
    "print(\"Training set size: {} ({:.1%} of train observations)\".format(len(y_train), len(y_train) / len(df_obs)))\n",
    "print(\"Validation set size: {} ({:.1%} of train observations)\".format(n_val, n_val / len(df_obs)))"
   ]
  },
  {
   "cell_type": "markdown",
   "metadata": {},
   "source": [
    "**Let's get the environmental vectors.**"
   ]
  },
  {
   "cell_type": "code",
   "execution_count": 10,
   "metadata": {},
   "outputs": [
    {
     "data": {
      "text/html": [
       "<div>\n",
       "<style scoped>\n",
       "    .dataframe tbody tr th:only-of-type {\n",
       "        vertical-align: middle;\n",
       "    }\n",
       "\n",
       "    .dataframe tbody tr th {\n",
       "        vertical-align: top;\n",
       "    }\n",
       "\n",
       "    .dataframe thead th {\n",
       "        text-align: right;\n",
       "    }\n",
       "</style>\n",
       "<table border=\"1\" class=\"dataframe\">\n",
       "  <thead>\n",
       "    <tr style=\"text-align: right;\">\n",
       "      <th></th>\n",
       "      <th>bio_1</th>\n",
       "      <th>bio_2</th>\n",
       "      <th>bio_3</th>\n",
       "      <th>bio_4</th>\n",
       "      <th>bio_5</th>\n",
       "      <th>bio_6</th>\n",
       "      <th>bio_7</th>\n",
       "      <th>bio_8</th>\n",
       "      <th>bio_9</th>\n",
       "      <th>bio_10</th>\n",
       "      <th>...</th>\n",
       "      <th>bio_18</th>\n",
       "      <th>bio_19</th>\n",
       "      <th>bdticm</th>\n",
       "      <th>bldfie</th>\n",
       "      <th>cecsol</th>\n",
       "      <th>clyppt</th>\n",
       "      <th>orcdrc</th>\n",
       "      <th>phihox</th>\n",
       "      <th>sltppt</th>\n",
       "      <th>sndppt</th>\n",
       "    </tr>\n",
       "  </thead>\n",
       "  <tbody>\n",
       "    <tr>\n",
       "      <th>10000000</th>\n",
       "      <td>1.420833</td>\n",
       "      <td>6.908333</td>\n",
       "      <td>29.272598</td>\n",
       "      <td>614.14930</td>\n",
       "      <td>15.1</td>\n",
       "      <td>-8.5</td>\n",
       "      <td>23.600000</td>\n",
       "      <td>-1.000000</td>\n",
       "      <td>9.183333</td>\n",
       "      <td>9.466667</td>\n",
       "      <td>...</td>\n",
       "      <td>248.0</td>\n",
       "      <td>358.0</td>\n",
       "      <td>2082.0</td>\n",
       "      <td>988.0</td>\n",
       "      <td>29.0</td>\n",
       "      <td>13.0</td>\n",
       "      <td>63.0</td>\n",
       "      <td>62.0</td>\n",
       "      <td>34.0</td>\n",
       "      <td>53.0</td>\n",
       "    </tr>\n",
       "    <tr>\n",
       "      <th>10000001</th>\n",
       "      <td>8.837500</td>\n",
       "      <td>9.858334</td>\n",
       "      <td>37.771393</td>\n",
       "      <td>586.81390</td>\n",
       "      <td>23.8</td>\n",
       "      <td>-2.3</td>\n",
       "      <td>26.099998</td>\n",
       "      <td>6.016667</td>\n",
       "      <td>16.383333</td>\n",
       "      <td>16.383333</td>\n",
       "      <td>...</td>\n",
       "      <td>226.0</td>\n",
       "      <td>288.0</td>\n",
       "      <td>1816.0</td>\n",
       "      <td>1142.0</td>\n",
       "      <td>20.0</td>\n",
       "      <td>22.0</td>\n",
       "      <td>39.0</td>\n",
       "      <td>58.0</td>\n",
       "      <td>41.0</td>\n",
       "      <td>36.0</td>\n",
       "    </tr>\n",
       "    <tr>\n",
       "      <th>10000002</th>\n",
       "      <td>6.241667</td>\n",
       "      <td>8.350000</td>\n",
       "      <td>32.239384</td>\n",
       "      <td>632.86090</td>\n",
       "      <td>21.0</td>\n",
       "      <td>-4.9</td>\n",
       "      <td>25.900000</td>\n",
       "      <td>3.033333</td>\n",
       "      <td>14.200000</td>\n",
       "      <td>14.200000</td>\n",
       "      <td>...</td>\n",
       "      <td>268.0</td>\n",
       "      <td>317.0</td>\n",
       "      <td>1346.0</td>\n",
       "      <td>1075.0</td>\n",
       "      <td>29.0</td>\n",
       "      <td>22.0</td>\n",
       "      <td>54.0</td>\n",
       "      <td>59.0</td>\n",
       "      <td>40.0</td>\n",
       "      <td>38.0</td>\n",
       "    </tr>\n",
       "    <tr>\n",
       "      <th>10000003</th>\n",
       "      <td>12.554167</td>\n",
       "      <td>9.525001</td>\n",
       "      <td>40.189877</td>\n",
       "      <td>541.80865</td>\n",
       "      <td>25.9</td>\n",
       "      <td>2.2</td>\n",
       "      <td>23.699999</td>\n",
       "      <td>6.850000</td>\n",
       "      <td>19.350000</td>\n",
       "      <td>19.350000</td>\n",
       "      <td>...</td>\n",
       "      <td>157.0</td>\n",
       "      <td>257.0</td>\n",
       "      <td>1227.0</td>\n",
       "      <td>1383.0</td>\n",
       "      <td>21.0</td>\n",
       "      <td>28.0</td>\n",
       "      <td>18.0</td>\n",
       "      <td>71.0</td>\n",
       "      <td>46.0</td>\n",
       "      <td>25.0</td>\n",
       "    </tr>\n",
       "    <tr>\n",
       "      <th>10000004</th>\n",
       "      <td>8.029167</td>\n",
       "      <td>10.075000</td>\n",
       "      <td>36.636364</td>\n",
       "      <td>633.01750</td>\n",
       "      <td>23.7</td>\n",
       "      <td>-3.8</td>\n",
       "      <td>27.500000</td>\n",
       "      <td>4.616667</td>\n",
       "      <td>16.083334</td>\n",
       "      <td>16.083334</td>\n",
       "      <td>...</td>\n",
       "      <td>214.0</td>\n",
       "      <td>280.0</td>\n",
       "      <td>2833.0</td>\n",
       "      <td>1202.0</td>\n",
       "      <td>24.0</td>\n",
       "      <td>25.0</td>\n",
       "      <td>33.0</td>\n",
       "      <td>69.0</td>\n",
       "      <td>38.0</td>\n",
       "      <td>37.0</td>\n",
       "    </tr>\n",
       "  </tbody>\n",
       "</table>\n",
       "<p>5 rows × 27 columns</p>\n",
       "</div>"
      ],
      "text/plain": [
       "              bio_1      bio_2      bio_3      bio_4  bio_5  bio_6      bio_7  \\\n",
       "10000000   1.420833   6.908333  29.272598  614.14930   15.1   -8.5  23.600000   \n",
       "10000001   8.837500   9.858334  37.771393  586.81390   23.8   -2.3  26.099998   \n",
       "10000002   6.241667   8.350000  32.239384  632.86090   21.0   -4.9  25.900000   \n",
       "10000003  12.554167   9.525001  40.189877  541.80865   25.9    2.2  23.699999   \n",
       "10000004   8.029167  10.075000  36.636364  633.01750   23.7   -3.8  27.500000   \n",
       "\n",
       "             bio_8      bio_9     bio_10  ...  bio_18  bio_19  bdticm  bldfie  \\\n",
       "10000000 -1.000000   9.183333   9.466667  ...   248.0   358.0  2082.0   988.0   \n",
       "10000001  6.016667  16.383333  16.383333  ...   226.0   288.0  1816.0  1142.0   \n",
       "10000002  3.033333  14.200000  14.200000  ...   268.0   317.0  1346.0  1075.0   \n",
       "10000003  6.850000  19.350000  19.350000  ...   157.0   257.0  1227.0  1383.0   \n",
       "10000004  4.616667  16.083334  16.083334  ...   214.0   280.0  2833.0  1202.0   \n",
       "\n",
       "          cecsol  clyppt  orcdrc  phihox  sltppt  sndppt  \n",
       "10000000    29.0    13.0    63.0    62.0    34.0    53.0  \n",
       "10000001    20.0    22.0    39.0    58.0    41.0    36.0  \n",
       "10000002    29.0    22.0    54.0    59.0    40.0    38.0  \n",
       "10000003    21.0    28.0    18.0    71.0    46.0    25.0  \n",
       "10000004    24.0    25.0    33.0    69.0    38.0    37.0  \n",
       "\n",
       "[5 rows x 27 columns]"
      ]
     },
     "execution_count": 10,
     "metadata": {},
     "output_type": "execute_result"
    }
   ],
   "source": [
    "from sklearn.impute import SimpleImputer\n",
    "#imp = SimpleImputer(\n",
    "#    missing_values=np.nan,\n",
    "#    strategy=\"constant\",\n",
    "#    fill_value=np.finfo(np.float32).min,\n",
    "#)\n",
    "df_env = pd.read_csv(\"./geolifeclef-2022-lifeclef-2022-fgvc9/pre-extracted/environmental_vectors.csv\", sep=\";\", index_col=\"observation_id\")\n",
    "a  = df_env.loc(0)\n",
    "columnsNamesArr = df_env.columns.values\n",
    "#print(columnsNamesArr)\n",
    "rowNames = df_env.index.values\n",
    "#print(rowNames)\n",
    "my_imputer = SimpleImputer()\n",
    "#print(df_env.shape)\n",
    "#print(my_imputer.fit_transform(df_env)[0])\n",
    "\n",
    "df_env = pd.DataFrame(my_imputer.fit_transform(df_env))\n",
    "df_env.set_axis(rowNames, axis='index', inplace = True)\n",
    "df_env.set_axis(columnsNamesArr, axis='columns', inplace = True)\n",
    "#print(df_env.shape)\n",
    "\n",
    "df_env.head()"
   ]
  },
  {
   "cell_type": "markdown",
   "metadata": {},
   "source": [
    "### Obtain train, val and test set."
   ]
  },
  {
   "cell_type": "code",
   "execution_count": 11,
   "metadata": {},
   "outputs": [
    {
     "name": "stdout",
     "output_type": "stream",
     "text": [
      "70294\n",
      "63278\n",
      "\n",
      "7016\n",
      "5\n",
      "\n"
     ]
    }
   ],
   "source": [
    "### Kennedy's Train, Val and Test Split ###\n",
    "# CHOOSE SUBSET FOR 30 Labels\n",
    "label_amount = 30\n",
    "\n",
    "import random\n",
    "subset_size = 0\n",
    "obs_list = list()\n",
    "obs_test_list = list()\n",
    "import numpy as np\n",
    "# iterate over a subset of the labels\n",
    "m = 0\n",
    "for y in (np.unique(y_train)[:]):\n",
    "    #print(\"in\")\n",
    "    # for each label, retrieve all corresponding observation ids\n",
    "    obs = df_obs.index[(df_obs[\"species_id\"] == y)]\n",
    "   \n",
    "    #print(len(obs))\n",
    "    #print(counter)\n",
    "    #print(obs)\n",
    "    #print(len(obs))\n",
    "    if (len(obs) >= 2000 and len(obs) <= 3000):\n",
    "      t = set(df_obs.index[(df_obs[\"species_id\"] == y) & (df_obs[\"subset\"] == \"train\")].values)\n",
    "      m += len(t)\n",
    "      ten_perc = int(len(t)/10)\n",
    "      random.seed(3)\n",
    "      test = random.sample(t, ten_perc)\n",
    "      train = t-set(test)\n",
    "      #print(train)\n",
    "      #print(\"here\")\n",
    "      obs_test_list.append(list(test))\n",
    "      obs_list.append(list(train))\n",
    "      subset_size += 1\n",
    "    if (subset_size >= label_amount):\n",
    "      #print(\"break\")\n",
    "      break\n",
    "print(m)   \n",
    "# we now have a numpy array of all observation ids corresponding to this subset of labels\n",
    "obs_id_train = np.concatenate(obs_list)\n",
    "obs_id_test = np.concatenate(obs_test_list)\n",
    "gps_train = np.concatenate((df_obs.loc[obs_id_train][\"latitude\"].values, df_obs.loc[obs_id_train][\"longitude\"].values))\n",
    "# obtain the labels in the right order \n",
    "y_train = df_obs.loc[obs_id_train][\"species_id\"].values\n",
    "y_test = df_obs.loc[obs_id_test][\"species_id\"].values\n",
    "print(y_train.size)\n",
    "\n",
    "print()\n",
    "print(y_test.size)\n",
    "print(y_train[2])\n",
    "print()"
   ]
  },
  {
   "cell_type": "code",
   "execution_count": 12,
   "metadata": {},
   "outputs": [
    {
     "name": "stdout",
     "output_type": "stream",
     "text": [
      "40080\n",
      "11\n",
      "1831\n",
      "False\n"
     ]
    },
    {
     "name": "stderr",
     "output_type": "stream",
     "text": [
      "<ipython-input-12-687b69893308>:22: DeprecationWarning: elementwise comparison failed; this will raise an error in the future.\n",
      "  print(obs_id_val == obs_id_train)\n"
     ]
    }
   ],
   "source": [
    "#subset_size = 8\n",
    "obs_list_1 = list()\n",
    "print(y_val.size)\n",
    "\n",
    "# iterate over a subset of the labels\n",
    "counter = 0\n",
    "print(y_val[0])\n",
    "for y in (np.unique(y_val)[:]):\n",
    "    # for each label, retrieve all corresponding observation ids\n",
    "    if (y in y_train):\n",
    "      #obs = df_obs.index[df_obs[\"species_id\"] == y].values\n",
    "      v = df_obs.index[(df_obs[\"species_id\"] == y) & (df_obs[\"subset\"] == \"val\")].values\n",
    "      obs_list_1.append(v)\n",
    "# we now have a numpy array of all observation ids corresponding to this subset of labels\n",
    "obs_id_val = np.concatenate(obs_list_1)\n",
    "\n",
    "# obtain the labels in the right order \n",
    "y_val = df_obs.loc[obs_id_val][\"species_id\"].values\n",
    "gps_val = np.concatenate((df_obs.loc[obs_id_val][\"latitude\"].values, df_obs.loc[obs_id_val][\"longitude\"].values))\n",
    "\n",
    "print(y_val.size)\n",
    "print(obs_id_val == obs_id_train)"
   ]
  },
  {
   "cell_type": "code",
   "execution_count": 13,
   "metadata": {
    "scrolled": true
   },
   "outputs": [
    {
     "name": "stdout",
     "output_type": "stream",
     "text": [
      "training: \n",
      "label    5: 0.04%\n",
      "label   68: 0.03%\n",
      "label  125: 0.04%\n",
      "label  129: 0.03%\n",
      "label  223: 0.03%\n",
      "label  553: 0.03%\n",
      "label  570: 0.03%\n",
      "label  605: 0.03%\n",
      "label  679: 0.03%\n",
      "label  692: 0.03%\n",
      "label  739: 0.03%\n",
      "label  979: 0.04%\n",
      "label 1075: 0.04%\n",
      "label 1155: 0.03%\n",
      "label 1916: 0.03%\n",
      "label 2196: 0.03%\n",
      "label 2524: 0.04%\n",
      "label 2821: 0.03%\n",
      "label 2950: 0.03%\n",
      "label 2992: 0.03%\n",
      "label 3253: 0.03%\n",
      "label 4940: 0.04%\n",
      "label 4991: 0.04%\n",
      "label 4999: 0.04%\n",
      "label 5025: 0.03%\n",
      "label 5086: 0.03%\n",
      "label 5168: 0.03%\n",
      "label 5192: 0.03%\n",
      "label 5207: 0.04%\n",
      "label 5228: 0.04%\n",
      "\n",
      "validation: \n",
      "label    5: 0.03%\n",
      "label   68: 0.03%\n",
      "label  125: 0.02%\n",
      "label  129: 0.03%\n",
      "label  223: 0.03%\n",
      "label  553: 0.03%\n",
      "label  570: 0.03%\n",
      "label  605: 0.03%\n",
      "label  679: 0.02%\n",
      "label  692: 0.04%\n",
      "label  739: 0.03%\n",
      "label  979: 0.03%\n",
      "label 1075: 0.03%\n",
      "label 1155: 0.03%\n",
      "label 1916: 0.03%\n",
      "label 2196: 0.03%\n",
      "label 2524: 0.04%\n",
      "label 2821: 0.04%\n",
      "label 2950: 0.05%\n",
      "label 2992: 0.05%\n",
      "label 3253: 0.03%\n",
      "label 4940: 0.04%\n",
      "label 4991: 0.01%\n",
      "label 4999: 0.04%\n",
      "label 5025: 0.03%\n",
      "label 5086: 0.04%\n",
      "label 5168: 0.03%\n",
      "label 5192: 0.03%\n",
      "label 5207: 0.06%\n",
      "label 5228: 0.04%\n"
     ]
    }
   ],
   "source": [
    "train_dict_count = defaultdict(lambda: 0)\n",
    "for y in y_train:\n",
    "    train_dict_count[y] += 1\n",
    "    \n",
    "print(\"training: \")\n",
    "for key, value in train_dict_count.items():\n",
    "    print(\"label {:>4}: {:.2f}%\".format(key, value/len(y_train)))\n",
    "\n",
    "print()\n",
    "\n",
    "val_dict_count = defaultdict(lambda: 0)\n",
    "for y in y_val:\n",
    "    val_dict_count[y] += 1\n",
    "    \n",
    "print(\"validation: \")\n",
    "for key, value in val_dict_count.items():\n",
    "    print(\"label {:>4}: {:.2f}%\".format(key, value/len(y_val)))"
   ]
  },
  {
   "cell_type": "code",
   "execution_count": 14,
   "metadata": {
    "scrolled": true
   },
   "outputs": [
    {
     "data": {
      "text/plain": [
       "array([ True,  True,  True,  True,  True,  True,  True,  True,  True,\n",
       "        True,  True,  True,  True,  True,  True,  True,  True,  True,\n",
       "        True,  True,  True,  True,  True,  True,  True,  True,  True,\n",
       "        True,  True,  True])"
      ]
     },
     "execution_count": 14,
     "metadata": {},
     "output_type": "execute_result"
    }
   ],
   "source": [
    "np.unique(y_train) == np.unique(y_val)"
   ]
  },
  {
   "cell_type": "markdown",
   "metadata": {},
   "source": [
    "### Remap the labels s.t. they go from 0 to n-1\n",
    "(NAN fix is here)"
   ]
  },
  {
   "cell_type": "code",
   "execution_count": 15,
   "metadata": {},
   "outputs": [
    {
     "name": "stdout",
     "output_type": "stream",
     "text": [
      "{5: 0, 68: 1, 125: 2, 129: 3, 223: 4, 553: 5, 570: 6, 605: 7, 679: 8, 692: 9, 739: 10, 979: 11, 1075: 12, 1155: 13, 1916: 14, 2196: 15, 2524: 16, 2821: 17, 2950: 18, 2992: 19, 3253: 20, 4940: 21, 4991: 22, 4999: 23, 5025: 24, 5086: 25, 5168: 26, 5192: 27, 5207: 28, 5228: 29}\n"
     ]
    }
   ],
   "source": [
    "# create a map s.t. the labels will go from 0 to n-1\n",
    "map_labels = dict()\n",
    "i = 0\n",
    "for l in np.unique(y_train):\n",
    "    map_labels[l] = i\n",
    "    i+=1\n",
    "print(map_labels)"
   ]
  },
  {
   "cell_type": "code",
   "execution_count": 16,
   "metadata": {},
   "outputs": [
    {
     "name": "stdout",
     "output_type": "stream",
     "text": [
      "# output neurons:  30\n"
     ]
    }
   ],
   "source": [
    "# apply the map to the training labels\n",
    "y_train_normalized = np.zeros(np.shape(y_train), dtype='int64')\n",
    "\n",
    "for i in range(len(y_train)):\n",
    "    y_train_normalized[i] = map_labels[y_train[i]]\n",
    "    \n",
    "# shuffle together\n",
    "obs_id_train, y_train = shuffle(obs_id_train, y_train_normalized)\n",
    "\n",
    "no_output_neurons = len(np.unique(y_train))\n",
    "print(\"# output neurons: \", no_output_neurons)"
   ]
  },
  {
   "cell_type": "code",
   "execution_count": 17,
   "metadata": {},
   "outputs": [],
   "source": [
    "# apply the map to the validation labels\n",
    "y_val_normalized = np.zeros(np.shape(y_val), dtype='int64')\n",
    "\n",
    "for i in range(len(y_val)):\n",
    "    y_val_normalized[i] = map_labels[y_val[i]]\n",
    "    \n",
    "# shuffle together\n",
    "obs_id_val, y_val = shuffle(obs_id_val, y_val_normalized)"
   ]
  },
  {
   "cell_type": "code",
   "execution_count": 18,
   "metadata": {},
   "outputs": [],
   "source": [
    "# apply the map to the test labels\n",
    "y_test_normalized = np.zeros(np.shape(y_test), dtype='int64')\n",
    "\n",
    "for i in range(len(y_test)):\n",
    "    y_test_normalized[i] = map_labels[y_test[i]]\n",
    "    \n",
    "# shuffle together\n",
    "obs_id_test, y_test = shuffle(obs_id_test, y_test_normalized)"
   ]
  },
  {
   "cell_type": "markdown",
   "metadata": {},
   "source": [
    "## Write input pipeline to load batches as we train."
   ]
  },
  {
   "cell_type": "markdown",
   "metadata": {},
   "source": [
    "### Custom Generator\n",
    "Since dataset is too large to load it all into memory once, we need to load it from disk in batches as we train. Such a generator can later be passed into model.fit() instead of a train and/or validation dataset."
   ]
  },
  {
   "cell_type": "code",
   "execution_count": 19,
   "metadata": {},
   "outputs": [],
   "source": [
    "class Patches_Generator(tf.keras.utils.Sequence) :\n",
    "  \n",
    "    def __init__(self, obs_ids, labels, batch_size) :\n",
    "        self.obs_ids = obs_ids\n",
    "        self.labels = labels\n",
    "        self.batch_size = batch_size\n",
    "        \n",
    "        # to make the generator thread safe \n",
    "        self.lock = threading.Lock()\n",
    "\n",
    "    def __len__(self) :\n",
    "        return (np.ceil(len(self.obs_ids) / float(self.batch_size))).astype(int)\n",
    "  \n",
    "    # returns one batch\n",
    "    def __getitem__(self, idx) :\n",
    "        X_batch = list()\n",
    "        y_batch = list()\n",
    "\n",
    "        for i in range(idx * self.batch_size, (idx+1) * self.batch_size):\n",
    "            if i >= len(self.obs_ids): break\n",
    "            \n",
    "            patch = load_patch(self.obs_ids[i], DATA_PATH, data='rgb')\n",
    "            X_batch.append(patch[0])\n",
    "            y_batch.append(self.labels[i])\n",
    "\n",
    "        with self.lock:\n",
    "            return np.asarray(X_batch), np.array(y_batch)"
   ]
  },
  {
   "cell_type": "code",
   "execution_count": 20,
   "metadata": {},
   "outputs": [],
   "source": [
    "import threading\n",
    "\n",
    "class Environmental_Patches_Generator(tf.keras.utils.Sequence) :\n",
    "  \n",
    "    def __init__(self, obs_ids, labels, batch_size) :\n",
    "        self.obs_ids = obs_ids\n",
    "        self.labels = labels\n",
    "        self.batch_size = batch_size\n",
    "        #self.gps = gps\n",
    "        #self.extractor = extractor\n",
    "        #print(\"INIT\")\n",
    "        # to make the generator thread safe \n",
    "        self.lock = threading.Lock()\n",
    "\n",
    "    def __len__(self) :\n",
    "        return (np.ceil(len(self.obs_ids) / float(self.batch_size))).astype(int)\n",
    "  \n",
    "    # returns one batch\n",
    "    def __getitem__(self, idx) :\n",
    "        X_batch = list()\n",
    "        y_batch = list()\n",
    "        X_env_batch = list()\n",
    "\n",
    "        #print(\"ONE BATCH\")\n",
    "        for i in range(idx * self.batch_size, (idx+1) * self.batch_size):\n",
    "            if i >= len(self.obs_ids): break\n",
    "            \n",
    "            rgb, near_ir, landcover, altitude = load_patch(self.obs_ids[i], DATA_PATH, data='all')\n",
    "            ni = near_ir.reshape(256, 256, 1)\n",
    "            lc = landcover.reshape(256, 256, 1)\n",
    "            alt = altitude.reshape(256, 256, 1)\n",
    "\n",
    "            patch = np.concatenate((rgb, ni, lc, alt), axis=2)\n",
    "\n",
    "            #cs = MinMaxScaler()\n",
    "            #print(\"PATCH GENERATOR\")\n",
    "            #print((df_env.loc[self.obs_ids[i]].values).shape)\n",
    "            #print(cs.fit_transform(df_env.loc[self.obs_ids[i]].values).shape)\n",
    "            #k = input()\n",
    "            X_env_batch.append(df_env.loc[self.obs_ids[i]].values)\n",
    "            #X_env_batch.append(df_env[self.obs_ids[i], :])\n",
    "            #X_env_batch.append(cs.fit_transform(df_env.loc[self.obs_ids[i]].values.reshape(-1,1)))\n",
    "            X_batch.append(patch)\n",
    "            y_batch.append(self.labels[i])\n",
    "\n",
    "        with self.lock:\n",
    "            \n",
    "            #return {'input_1': np.asarray(X_batch), 'input_2': np.asarray(X_env_batch)}, np.asarray(np.array(y_batch))\n",
    "            #return np.asarray(X_batch), np.array(y_batch)\n",
    "            return (np.asarray(X_batch), np.asarray(X_env_batch)), np.array(y_batch)"
   ]
  },
  {
   "cell_type": "markdown",
   "metadata": {},
   "source": [
    "# First Simple Neural Network\n",
    "Let's create a first neural network as a baseline to see how it performs."
   ]
  },
  {
   "cell_type": "code",
   "execution_count": 21,
   "metadata": {},
   "outputs": [],
   "source": [
    "# # for distributed training (that is, using multiple GPUs for data parallelization)\n",
    "# # https://www.tensorflow.org/guide/distributed_training#use_tfdistributestrategy_with_keras_modelfit\n",
    "# mirrored_strategy = tf.distribute.MirroredStrategy()"
   ]
  },
  {
   "cell_type": "code",
   "execution_count": 22,
   "metadata": {},
   "outputs": [],
   "source": [
    "# returns a simple convolutional neural net\n",
    "def complex_model(input_shape, learning_rate=0.1, output_neurons=46):\n",
    "    \n",
    "    # for distributed training\n",
    "    #with mirrored_strategy.scope():\n",
    "    \n",
    "    model = tf.keras.models.Sequential()\n",
    "    dropout_prob = 0.1\n",
    "    \n",
    "    random.seed(42)\n",
    "\n",
    "    he = tf.keras.initializers.HeNormal(seed=42)\n",
    "    \n",
    "    # 1. Preprocessing\n",
    "    model.add(tf.keras.layers.Rescaling(1./255))\n",
    "    #model.add(tf.keras.layers.RandomFlip(\"horizontal\"))\n",
    "    #model.add(tf.keras.layers.RandomRotation(factor=0.02))\n",
    "    model.add(tf.keras.layers.RandomContrast(factor=0.1))\n",
    "    model.add(tf.keras.layers.RandomCrop(input_shape[0], input_shape[1]))\n",
    "    #model.add(tf.keras.layers.RandomZoom(-0.1, 0.1))\n",
    "\n",
    "    # 2. Convolutional Layers\n",
    "    # 64 units\n",
    "    model.add(Conv2D(64, kernel_size=3, activation='relu', padding='valid', input_shape=input_shape,\n",
    "                     kernel_initializer=he))\n",
    "    model.add(Dropout(dropout_prob))\n",
    "\n",
    "    model.add(Conv2D(64, kernel_size=3, activation='relu', padding='valid',\n",
    "                     kernel_initializer=he))\n",
    "    model.add(MaxPooling2D())\n",
    "    model.add(Dropout(dropout_prob))\n",
    "    \n",
    "    # 128 units\n",
    "    model.add(Conv2D(128, kernel_size=3, activation='relu', padding='valid',\n",
    "                     kernel_initializer=he))\n",
    "    model.add(Dropout(dropout_prob))\n",
    "    \n",
    "    model.add(Conv2D(128, kernel_size=3, activation='relu', padding='valid',\n",
    "                     kernel_initializer=he))\n",
    "    model.add(Dropout(dropout_prob))\n",
    "    \n",
    "    model.add(Conv2D(128, kernel_size=3, activation='relu', padding='valid',\n",
    "                     kernel_initializer=he))\n",
    "    model.add(MaxPooling2D())\n",
    "    model.add(Dropout(dropout_prob))\n",
    "    \n",
    "    # 256 units\n",
    "    model.add(Conv2D(256, kernel_size=3, activation='relu', padding='valid',\n",
    "                     kernel_initializer=he))\n",
    "    model.add(MaxPooling2D())\n",
    "    model.add(Dropout(dropout_prob))\n",
    "    \n",
    "    model.add(Conv2D(256, kernel_size=3, activation='relu', padding='valid',\n",
    "                     kernel_initializer=he))\n",
    "    model.add(MaxPooling2D())\n",
    "    model.add(Dropout(dropout_prob))\n",
    "\n",
    "    model.add(Conv2D(256, kernel_size=3, activation='relu', padding='valid',\n",
    "                     kernel_initializer=he))\n",
    "    model.add(MaxPooling2D())\n",
    "    model.add(Dropout(dropout_prob))\n",
    "\n",
    "    \n",
    "    # from convolutional layers to dense layers\n",
    "    model.add(tf.keras.layers.Flatten())\n",
    "\n",
    "    \n",
    "    # 3. Dense Layers\n",
    "    model.add(Dense(64, activation='relu', kernel_initializer=he))\n",
    "    model.add(Dropout(dropout_prob))\n",
    "    \n",
    "    model.add(Dense(128, activation='relu', kernel_initializer=he))\n",
    "    model.add(Dropout(dropout_prob))\n",
    "    \n",
    "    model.add(Dense(256, activation='relu', kernel_initializer=he))\n",
    "    model.add(Dropout(dropout_prob))\n",
    "\n",
    "    # 4. Output Layer\n",
    "    model.add(Dense(output_neurons, activation='softmax'))\n",
    "    \n",
    "    # compire the model\n",
    "    model.compile(loss=tf.keras.losses.SparseCategoricalCrossentropy(from_logits=False),\n",
    "                  optimizer=tf.keras.optimizers.Adam(learning_rate=learning_rate),\n",
    "                  metrics=[tf.keras.metrics.SparseCategoricalAccuracy(name=\"accuracy\"),\n",
    "                           tf.keras.metrics.SparseTopKCategoricalAccuracy(5, name=\"top-5-accuracy\")])\n",
    "    \n",
    "    return model"
   ]
  },
  {
   "cell_type": "code",
   "execution_count": 23,
   "metadata": {},
   "outputs": [],
   "source": [
    "def multi_modal_complex_model(input_shape1=(256, 256, 6), input_shape2=(29), learning_rate=0.001, output_neurons=30):\n",
    "    #with mirrored_strategy.scope():\n",
    "\n",
    "        # Inputs\n",
    "        patch_input = tf.keras.layers.Input(shape=input_shape1, dtype='float32')\n",
    "        tabular_input = tf.keras.layers.Input(shape=input_shape2, dtype='float32')  \n",
    "        \n",
    "        # hyperparameters\n",
    "        dropout_prob = 0.0\n",
    "        he = tf.keras.initializers.HeNormal(seed=42)\n",
    "\n",
    "        # Augment data\n",
    "        # augmented = data_augmentation_for_visualization(patch_input)\n",
    "        x = tf.keras.layers.Rescaling(1./255)(patch_input)\n",
    "        x = tf.keras.layers.RandomContrast(factor=0.1)(x)\n",
    "        x = tf.keras.layers.RandomCrop(input_shape1[0], input_shape1[1])(x)\n",
    "\n",
    "        # From Scratch model\n",
    "        # 64 units\n",
    "        x = tf.keras.layers.Conv2D(64, kernel_size=3, activation='relu', padding='valid', kernel_initializer=he)(x)\n",
    "        x = Dropout(dropout_prob)(x)\n",
    "        \n",
    "        x = tf.keras.layers.Conv2D(64, kernel_size=3, activation='relu', padding='valid', kernel_initializer=he)(x)\n",
    "        x = MaxPooling2D()(x)\n",
    "        x = Dropout(dropout_prob)(x)\n",
    "        \n",
    "        # 128 units\n",
    "        x = tf.keras.layers.Conv2D(128, kernel_size=3, activation='relu', padding='valid', kernel_initializer=he)(x)\n",
    "        x = Dropout(dropout_prob)(x)\n",
    "        \n",
    "        x = tf.keras.layers.Conv2D(128, kernel_size=3, activation='relu', padding='valid', kernel_initializer=he)(x)\n",
    "        x = Dropout(dropout_prob)(x)\n",
    "        \n",
    "        x = tf.keras.layers.Conv2D(128, kernel_size=3, activation='relu', padding='valid', kernel_initializer=he)(x)\n",
    "        x = MaxPooling2D()(x)\n",
    "        x = Dropout(dropout_prob)(x)\n",
    "        \n",
    "        # 256 units\n",
    "        x = tf.keras.layers.Conv2D(256, kernel_size=3, activation='relu', padding='valid', kernel_initializer=he)(x)\n",
    "        x = MaxPooling2D()(x)\n",
    "        x = Dropout(dropout_prob)(x)\n",
    "        \n",
    "        x = tf.keras.layers.Conv2D(256, kernel_size=3, activation='relu', padding='valid', kernel_initializer=he)(x)\n",
    "        x = MaxPooling2D()(x)\n",
    "        x = Dropout(dropout_prob)(x)\n",
    "        \n",
    "        x = tf.keras.layers.Conv2D(256, kernel_size=3, activation='relu', padding='valid', kernel_initializer=he)(x)\n",
    "        x = MaxPooling2D()(x)\n",
    "        x = Dropout(dropout_prob)(x)\n",
    "\n",
    "        # Add Dense layers for images\n",
    "        x = tf.keras.layers.Flatten()(x)\n",
    "        x = tf.keras.layers.Dense(64, activation='relu', kernel_initializer=he)(x)\n",
    "        x = Dropout(dropout_prob)(x)\n",
    "        \n",
    "        x = tf.keras.layers.Dense(128, activation='relu', kernel_initializer=he)(x)\n",
    "        x = Dropout(dropout_prob)(x)\n",
    "    \n",
    "        x = tf.keras.layers.Dense(256, activation='relu', kernel_initializer=he)(x)\n",
    "        x = Dropout(dropout_prob)(x)\n",
    "\n",
    "        # Add Dense layers for Tabular data\n",
    "        y = tf.keras.layers.Dense(32, activation='relu')(tabular_input)\n",
    "        y = tf.keras.layers.Dense(128, activation='relu')(y)\n",
    "        y = tf.keras.layers.Dense(256, activation='relu')(y)\n",
    "        y = tf.keras.layers.Dense(512, activation='relu')(y)\n",
    "\n",
    "        # Concatenate Image and tabular weights\n",
    "        z = tf.keras.layers.Concatenate(axis=1)([x, y])\n",
    "\n",
    "        # Add Classification Head\n",
    "        z = tf.keras.layers.Dense(128, activation='relu')(z)\n",
    "        classifier = tf.keras.layers.Dense(output_neurons, name='outputs', activation='softmax')(z)\n",
    "\n",
    "        # Define inputs and outputs\n",
    "        model = tf.keras.Model(inputs=[patch_input, tabular_input], outputs=classifier)\n",
    "\n",
    "        # Optimizer\n",
    "        optimizer = tf.keras.optimizers.Adam(learning_rate=learning_rate)\n",
    "        \n",
    "        # Compile model\n",
    "        model.compile(optimizer=optimizer,\n",
    "                      loss=tf.keras.losses.sparse_categorical_crossentropy,\n",
    "                      metrics=[\n",
    "                          tf.keras.metrics.SparseCategoricalAccuracy(name=\"accuracy\"),\n",
    "                          tf.keras.metrics.SparseTopKCategoricalAccuracy(5, name=\"top-5-accuracy\")\n",
    "                      ]\n",
    "                      )\n",
    "        \n",
    "        return model"
   ]
  },
  {
   "cell_type": "markdown",
   "metadata": {},
   "source": [
    "## Training Prep"
   ]
  },
  {
   "cell_type": "markdown",
   "metadata": {},
   "source": [
    "### Settings used when parallelizing the I/O Pipeline in model.fit().\n",
    "\n",
    "I used the setting values in the cell below for a high-cpu vm on GCP with the following specs:\n",
    "- machine type: n1-highcpu-96 (96 CPU cores)\n",
    "- vCPUs to core ratio: 2 vCPUs per core (making a theoretical max value for num_threads of 96 * 2 = 192)\n",
    "- 4 x NVIDIA Tesla T4 GPUs"
   ]
  },
  {
   "cell_type": "code",
   "execution_count": 24,
   "metadata": {},
   "outputs": [],
   "source": [
    "# Remember to tune the learning rate accordingly.\n",
    "BATCHSIZE = 64\n",
    "\n",
    "# The maximun value for num_threads is dependent on amount of CPU cores:\n",
    "# amount of CPU cores * vCPUs to core ratio = theoretical max of NUM_THREADS\n",
    "NUM_THREADS = 11\n",
    "\n",
    "# The more batches we prefetch, the less idle the GPUs will be. \n",
    "# To check GPU usage:\n",
    "# 1. Run nvidia-smi -l 1 from the terminal to monitor the GPU usage during training. \n",
    "# 2. Try to get close to 100% for all GPUs by adjusting the value below (and the two above). Due to the overhead\n",
    "#    from tf.distribute.MirroredStrategy(), you won't be able to consistently get 100% for all GPUs. But try to \n",
    "#    get close.\n",
    "# 3. Be aware that RAM limits the amount of batches you can prefetch.\n",
    "PRE_FETCH_NUM_BATCHES = int(NUM_THREADS * 70) "
   ]
  },
  {
   "cell_type": "markdown",
   "metadata": {},
   "source": [
    "### Generators\n",
    "Create generators that will read training / validation data from disk during training."
   ]
  },
  {
   "cell_type": "code",
   "execution_count": 25,
   "metadata": {},
   "outputs": [],
   "source": [
    "#train_generator = Patches_Generator(obs_id_train, y_train, BATCHSIZE)"
   ]
  },
  {
   "cell_type": "code",
   "execution_count": 26,
   "metadata": {},
   "outputs": [],
   "source": [
    "#val_generator = Patches_Generator(obs_id_val, y_val, BATCHSIZE)"
   ]
  },
  {
   "cell_type": "code",
   "execution_count": 27,
   "metadata": {},
   "outputs": [],
   "source": [
    "train_generator = Environmental_Patches_Generator(obs_id_train, y_train, BATCHSIZE)\n",
    "val_generator = Environmental_Patches_Generator(obs_id_val, y_val, BATCHSIZE)\n",
    "\n",
    "# # converting our train dataset to tf.data.Dataset\n",
    "# tf_train_dataset = tf.data.Dataset.from_generator(\n",
    "#     lambda: train_generator ,  # Our generator \n",
    "#     output_types = ({'input_1': tf.float32 , 'input_2': tf.float32}, tf.float32) , # How we're expecting our output dtype\n",
    "# #    output_shapes = ({'input_1': [BATCH_SIZE, 256 , 256, 6], 'input_2': [BATCH_SIZE, 29]} , [BATCH_SIZE, ]) # How we're expecting our output shape\n",
    "# )\n",
    "\n",
    "# tf_val_dataset = tf.data.Dataset.from_generator(\n",
    "#     lambda: val_generator , \n",
    "#     output_types = ({'input_1': tf.float32 , 'input_2': tf.float32}, tf.float32),\n",
    "# #    output_shapes = ({'input_1': [BATCH_SIZE, 256 , 256, 6], 'input_2': [BATCH_SIZE, 29]} , [BATCH_SIZE, ]) \n",
    "# )"
   ]
  },
  {
   "cell_type": "markdown",
   "metadata": {},
   "source": [
    "### Training"
   ]
  },
  {
   "cell_type": "markdown",
   "metadata": {},
   "source": [
    "Use the cyclical learning rate policy (with exponential decay)."
   ]
  },
  {
   "cell_type": "code",
   "execution_count": 26,
   "metadata": {},
   "outputs": [],
   "source": [
    "STEPS_PER_EPOCH = len(y_train)//BATCHSIZE"
   ]
  },
  {
   "cell_type": "code",
   "execution_count": 27,
   "metadata": {},
   "outputs": [],
   "source": [
    "# define cyclical learning rate policy\n",
    "lr_min = 1e-7\n",
    "lr_max = 1e-3\n",
    "\n",
    "clr = tfa.optimizers.CyclicalLearningRate(\n",
    "        initial_learning_rate=lr_min,\n",
    "        maximal_learning_rate=lr_max,\n",
    "        scale_fn=lambda x: 1/(2.**(x-1)), # exponential decay\n",
    "        step_size=2 * STEPS_PER_EPOCH\n",
    ")"
   ]
  },
  {
   "cell_type": "markdown",
   "metadata": {},
   "source": [
    "Create the model."
   ]
  },
  {
   "cell_type": "code",
   "execution_count": 28,
   "metadata": {},
   "outputs": [],
   "source": [
    "# create the network\n",
    "#model = simple_model((256, 256, 3), learning_rate=clr, output_neurons=len(np.unique(y_train)))\n",
    "#model = simple_model_with_gps([(256, 256, 3), np.shape(gps)], learning_rate=clr, output_neurons=len(np.unique(y_train)))\n",
    "\n",
    "#model = simple_model((256, 256, 3), output_neurons = no_output_neurons, learning_rate=0.00001)\n",
    "\n",
    "# create the model\n",
    "input_shape1 = (256, 256, 6)\n",
    "input_shape2 = (27) # maybe (29) ?\n",
    "\n",
    "model = multi_modal_complex_model(input_shape1, input_shape2, learning_rate=clr, output_neurons=30)\n"
   ]
  },
  {
   "cell_type": "markdown",
   "metadata": {},
   "source": [
    "Train the network."
   ]
  },
  {
   "cell_type": "code",
   "execution_count": 30,
   "metadata": {},
   "outputs": [],
   "source": [
    "early_stop = tf.keras.callbacks.EarlyStopping(monitor='val_loss', min_delta=0.001, patience=10, \n",
    "                                              verbose=0, mode='auto', baseline=None, restore_best_weights=True)"
   ]
  },
  {
   "cell_type": "code",
   "execution_count": 31,
   "metadata": {
    "scrolled": true
   },
   "outputs": [
    {
     "name": "stdout",
     "output_type": "stream",
     "text": [
      "Epoch 1/100\n",
      "989/989 [==============================] - 586s 464ms/step - loss: 8.0907 - accuracy: 0.1081 - top-5-accuracy: 0.3192 - val_loss: 3.7963 - val_accuracy: 0.0852 - val_top-5-accuracy: 0.3239\n",
      "Epoch 2/100\n",
      "989/989 [==============================] - 314s 312ms/step - loss: 3.2274 - accuracy: 0.1324 - top-5-accuracy: 0.3500 - val_loss: 3.2911 - val_accuracy: 0.0770 - val_top-5-accuracy: 0.3342\n",
      "Epoch 3/100\n",
      "989/989 [==============================] - 263s 264ms/step - loss: 3.0329 - accuracy: 0.1515 - top-5-accuracy: 0.3891 - val_loss: 3.0600 - val_accuracy: 0.1420 - val_top-5-accuracy: 0.3812\n",
      "Epoch 4/100\n",
      "989/989 [==============================] - 302s 301ms/step - loss: 2.8910 - accuracy: 0.1717 - top-5-accuracy: 0.4459 - val_loss: 2.9676 - val_accuracy: 0.1458 - val_top-5-accuracy: 0.4260\n",
      "Epoch 5/100\n",
      "989/989 [==============================] - 299s 300ms/step - loss: 2.8397 - accuracy: 0.1800 - top-5-accuracy: 0.4679 - val_loss: 2.9453 - val_accuracy: 0.1540 - val_top-5-accuracy: 0.4244\n",
      "Epoch 6/100\n",
      "989/989 [==============================] - 294s 295ms/step - loss: 2.8482 - accuracy: 0.1758 - top-5-accuracy: 0.4609 - val_loss: 2.9281 - val_accuracy: 0.1420 - val_top-5-accuracy: 0.4353\n",
      "Epoch 7/100\n",
      "989/989 [==============================] - 301s 302ms/step - loss: 2.7059 - accuracy: 0.1982 - top-5-accuracy: 0.5065 - val_loss: 2.7796 - val_accuracy: 0.1573 - val_top-5-accuracy: 0.4899\n",
      "Epoch 8/100\n",
      "989/989 [==============================] - 298s 300ms/step - loss: 2.5830 - accuracy: 0.2262 - top-5-accuracy: 0.5568 - val_loss: 2.7070 - val_accuracy: 0.1884 - val_top-5-accuracy: 0.5232\n",
      "Epoch 9/100\n",
      "989/989 [==============================] - 274s 273ms/step - loss: 2.5319 - accuracy: 0.2393 - top-5-accuracy: 0.5788 - val_loss: 2.7214 - val_accuracy: 0.1862 - val_top-5-accuracy: 0.5194\n",
      "Epoch 10/100\n",
      "989/989 [==============================] - 261s 259ms/step - loss: 2.5368 - accuracy: 0.2393 - top-5-accuracy: 0.5783 - val_loss: 2.6975 - val_accuracy: 0.1977 - val_top-5-accuracy: 0.5369\n",
      "Epoch 11/100\n",
      "989/989 [==============================] - 287s 288ms/step - loss: 2.4816 - accuracy: 0.2520 - top-5-accuracy: 0.6018 - val_loss: 2.6882 - val_accuracy: 0.1999 - val_top-5-accuracy: 0.5522\n",
      "Epoch 12/100\n",
      "989/989 [==============================] - 275s 276ms/step - loss: 2.3707 - accuracy: 0.2823 - top-5-accuracy: 0.6421 - val_loss: 2.6795 - val_accuracy: 0.2026 - val_top-5-accuracy: 0.5582\n",
      "Epoch 13/100\n",
      "989/989 [==============================] - 302s 301ms/step - loss: 2.3036 - accuracy: 0.3012 - top-5-accuracy: 0.6626 - val_loss: 2.7225 - val_accuracy: 0.1993 - val_top-5-accuracy: 0.5363\n",
      "Epoch 14/100\n",
      "989/989 [==============================] - 299s 300ms/step - loss: 2.3028 - accuracy: 0.3040 - top-5-accuracy: 0.6614 - val_loss: 2.7315 - val_accuracy: 0.1895 - val_top-5-accuracy: 0.5467\n",
      "Epoch 15/100\n",
      "989/989 [==============================] - 278s 277ms/step - loss: 2.2389 - accuracy: 0.3193 - top-5-accuracy: 0.6828 - val_loss: 2.7971 - val_accuracy: 0.1819 - val_top-5-accuracy: 0.5522\n",
      "Epoch 16/100\n",
      "989/989 [==============================] - 301s 301ms/step - loss: 2.0993 - accuracy: 0.3563 - top-5-accuracy: 0.7194 - val_loss: 2.8686 - val_accuracy: 0.1868 - val_top-5-accuracy: 0.5396\n",
      "Epoch 17/100\n",
      "989/989 [==============================] - 259s 260ms/step - loss: 2.0279 - accuracy: 0.3775 - top-5-accuracy: 0.7358 - val_loss: 2.9406 - val_accuracy: 0.1841 - val_top-5-accuracy: 0.5309\n",
      "Epoch 18/100\n",
      "989/989 [==============================] - 296s 298ms/step - loss: 2.0269 - accuracy: 0.3785 - top-5-accuracy: 0.7374 - val_loss: 2.9681 - val_accuracy: 0.1857 - val_top-5-accuracy: 0.5150\n",
      "Epoch 19/100\n",
      "989/989 [==============================] - 283s 283ms/step - loss: 1.9654 - accuracy: 0.3944 - top-5-accuracy: 0.7511 - val_loss: 3.0759 - val_accuracy: 0.1699 - val_top-5-accuracy: 0.5276\n",
      "Epoch 20/100\n",
      "989/989 [==============================] - 284s 285ms/step - loss: 1.8568 - accuracy: 0.4253 - top-5-accuracy: 0.7764 - val_loss: 3.1647 - val_accuracy: 0.1726 - val_top-5-accuracy: 0.5254\n",
      "Epoch 21/100\n",
      "989/989 [==============================] - 263s 263ms/step - loss: 1.8099 - accuracy: 0.4411 - top-5-accuracy: 0.7872 - val_loss: 3.1872 - val_accuracy: 0.1770 - val_top-5-accuracy: 0.5210\n",
      "Epoch 22/100\n",
      "989/989 [==============================] - 282s 281ms/step - loss: 1.8108 - accuracy: 0.4398 - top-5-accuracy: 0.7863 - val_loss: 3.2648 - val_accuracy: 0.1742 - val_top-5-accuracy: 0.5117\n"
     ]
    }
   ],
   "source": [
    "history = model.fit(train_generator, epochs=100, callbacks=[early_stop], #steps_per_epoch=STEPS_PER_EPOCH, \n",
    "                    validation_data=val_generator,\n",
    "                    # for parallelization of reading from disk (I/O) pipeline\n",
    "                    max_queue_size=PRE_FETCH_NUM_BATCHES, workers=NUM_THREADS, use_multiprocessing=True)"
   ]
  },
  {
   "cell_type": "code",
   "execution_count": null,
   "metadata": {
    "scrolled": true
   },
   "outputs": [
    {
     "name": "stdout",
     "output_type": "stream",
     "text": [
      "Epoch 1/100\n",
      "989/989 [==============================] - 253s 244ms/step - loss: 9.0491 - accuracy: 0.1021 - top-5-accuracy: 0.3063 - val_loss: 3.7732 - val_accuracy: 0.1054 - val_top-5-accuracy: 0.3670\n",
      "Epoch 2/100\n",
      "989/989 [==============================] - 318s 318ms/step - loss: 3.2731 - accuracy: 0.1462 - top-5-accuracy: 0.4014 - val_loss: 3.0648 - val_accuracy: 0.1409 - val_top-5-accuracy: 0.4085\n",
      "Epoch 3/100\n",
      "989/989 [==============================] - 278s 277ms/step - loss: 2.7801 - accuracy: 0.1940 - top-5-accuracy: 0.4999 - val_loss: 2.8638 - val_accuracy: 0.1846 - val_top-5-accuracy: 0.4986\n",
      "Epoch 4/100\n",
      "989/989 [==============================] - 305s 305ms/step - loss: 2.5834 - accuracy: 0.2330 - top-5-accuracy: 0.5683 - val_loss: 2.6902 - val_accuracy: 0.2043 - val_top-5-accuracy: 0.5254\n",
      "Epoch 5/100\n",
      "989/989 [==============================] - 334s 333ms/step - loss: 2.5189 - accuracy: 0.2472 - top-5-accuracy: 0.5923 - val_loss: 2.7499 - val_accuracy: 0.1802 - val_top-5-accuracy: 0.5292\n",
      "Epoch 6/100\n",
      "989/989 [==============================] - 267s 267ms/step - loss: 2.5893 - accuracy: 0.2303 - top-5-accuracy: 0.5704 - val_loss: 2.7720 - val_accuracy: 0.1868 - val_top-5-accuracy: 0.5232\n",
      "Epoch 7/100\n",
      "989/989 [==============================] - 318s 319ms/step - loss: 2.5199 - accuracy: 0.2455 - top-5-accuracy: 0.5927 - val_loss: 2.6767 - val_accuracy: 0.2004 - val_top-5-accuracy: 0.5369\n",
      "Epoch 8/100\n",
      "501/989 [==============>...............] - ETA: 2:47 - loss: 2.3888 - accuracy: 0.2822 - top-5-accuracy: 0.6380"
     ]
    }
   ],
   "source": [
    "history = model.fit(train_generator, epochs=100, callbacks=[early_stop], #steps_per_epoch=STEPS_PER_EPOCH, \n",
    "                    validation_data=val_generator,\n",
    "                    # for parallelization of reading from disk (I/O) pipeline\n",
    "                    max_queue_size=PRE_FETCH_NUM_BATCHES, workers=NUM_THREADS, use_multiprocessing=True)"
   ]
  },
  {
   "cell_type": "code",
   "execution_count": 32,
   "metadata": {},
   "outputs": [
    {
     "name": "stdout",
     "output_type": "stream",
     "text": [
      "INFO:tensorflow:Assets written to: multi_complex_cnn_final_data/assets\n"
     ]
    }
   ],
   "source": [
    "model.save('multi_complex_cnn_final_data')"
   ]
  },
  {
   "cell_type": "code",
   "execution_count": 36,
   "metadata": {},
   "outputs": [],
   "source": [
    "import json\n",
    "# Get the dictionary containing each metric and the loss for each epoch\n",
    "history_dict = history.history\n",
    "# Save it under the form of a json file\n",
    "json.dump(history_dict, open('multi_complex_cnn_final_data' + '_history', 'w'))"
   ]
  },
  {
   "cell_type": "code",
   "execution_count": 33,
   "metadata": {},
   "outputs": [
    {
     "name": "stdout",
     "output_type": "stream",
     "text": [
      "Model: \"model\"\n",
      "__________________________________________________________________________________________________\n",
      " Layer (type)                   Output Shape         Param #     Connected to                     \n",
      "==================================================================================================\n",
      " input_1 (InputLayer)           [(None, 256, 256, 6  0           []                               \n",
      "                                )]                                                                \n",
      "                                                                                                  \n",
      " rescaling (Rescaling)          (None, 256, 256, 6)  0           ['input_1[0][0]']                \n",
      "                                                                                                  \n",
      " random_contrast (RandomContras  (None, 256, 256, 6)  0          ['rescaling[0][0]']              \n",
      " t)                                                                                               \n",
      "                                                                                                  \n",
      " random_crop (RandomCrop)       (None, 256, 256, 6)  0           ['random_contrast[0][0]']        \n",
      "                                                                                                  \n",
      " conv2d (Conv2D)                (None, 254, 254, 64  3520        ['random_crop[0][0]']            \n",
      "                                )                                                                 \n",
      "                                                                                                  \n",
      " dropout (Dropout)              (None, 254, 254, 64  0           ['conv2d[0][0]']                 \n",
      "                                )                                                                 \n",
      "                                                                                                  \n",
      " conv2d_1 (Conv2D)              (None, 252, 252, 64  36928       ['dropout[0][0]']                \n",
      "                                )                                                                 \n",
      "                                                                                                  \n",
      " max_pooling2d (MaxPooling2D)   (None, 126, 126, 64  0           ['conv2d_1[0][0]']               \n",
      "                                )                                                                 \n",
      "                                                                                                  \n",
      " dropout_1 (Dropout)            (None, 126, 126, 64  0           ['max_pooling2d[0][0]']          \n",
      "                                )                                                                 \n",
      "                                                                                                  \n",
      " conv2d_2 (Conv2D)              (None, 124, 124, 12  73856       ['dropout_1[0][0]']              \n",
      "                                8)                                                                \n",
      "                                                                                                  \n",
      " dropout_2 (Dropout)            (None, 124, 124, 12  0           ['conv2d_2[0][0]']               \n",
      "                                8)                                                                \n",
      "                                                                                                  \n",
      " conv2d_3 (Conv2D)              (None, 122, 122, 12  147584      ['dropout_2[0][0]']              \n",
      "                                8)                                                                \n",
      "                                                                                                  \n",
      " dropout_3 (Dropout)            (None, 122, 122, 12  0           ['conv2d_3[0][0]']               \n",
      "                                8)                                                                \n",
      "                                                                                                  \n",
      " conv2d_4 (Conv2D)              (None, 120, 120, 12  147584      ['dropout_3[0][0]']              \n",
      "                                8)                                                                \n",
      "                                                                                                  \n",
      " max_pooling2d_1 (MaxPooling2D)  (None, 60, 60, 128)  0          ['conv2d_4[0][0]']               \n",
      "                                                                                                  \n",
      " dropout_4 (Dropout)            (None, 60, 60, 128)  0           ['max_pooling2d_1[0][0]']        \n",
      "                                                                                                  \n",
      " conv2d_5 (Conv2D)              (None, 58, 58, 256)  295168      ['dropout_4[0][0]']              \n",
      "                                                                                                  \n",
      " max_pooling2d_2 (MaxPooling2D)  (None, 29, 29, 256)  0          ['conv2d_5[0][0]']               \n",
      "                                                                                                  \n",
      " dropout_5 (Dropout)            (None, 29, 29, 256)  0           ['max_pooling2d_2[0][0]']        \n",
      "                                                                                                  \n",
      " conv2d_6 (Conv2D)              (None, 27, 27, 256)  590080      ['dropout_5[0][0]']              \n",
      "                                                                                                  \n",
      " max_pooling2d_3 (MaxPooling2D)  (None, 13, 13, 256)  0          ['conv2d_6[0][0]']               \n",
      "                                                                                                  \n",
      " dropout_6 (Dropout)            (None, 13, 13, 256)  0           ['max_pooling2d_3[0][0]']        \n",
      "                                                                                                  \n",
      " conv2d_7 (Conv2D)              (None, 11, 11, 256)  590080      ['dropout_6[0][0]']              \n",
      "                                                                                                  \n",
      " max_pooling2d_4 (MaxPooling2D)  (None, 5, 5, 256)   0           ['conv2d_7[0][0]']               \n",
      "                                                                                                  \n",
      " dropout_7 (Dropout)            (None, 5, 5, 256)    0           ['max_pooling2d_4[0][0]']        \n",
      "                                                                                                  \n",
      " flatten (Flatten)              (None, 6400)         0           ['dropout_7[0][0]']              \n",
      "                                                                                                  \n",
      " dense (Dense)                  (None, 64)           409664      ['flatten[0][0]']                \n",
      "                                                                                                  \n",
      " dropout_8 (Dropout)            (None, 64)           0           ['dense[0][0]']                  \n",
      "                                                                                                  \n",
      " input_2 (InputLayer)           [(None, 27)]         0           []                               \n",
      "                                                                                                  \n",
      " dense_1 (Dense)                (None, 128)          8320        ['dropout_8[0][0]']              \n",
      "                                                                                                  \n",
      " dense_3 (Dense)                (None, 32)           896         ['input_2[0][0]']                \n",
      "                                                                                                  \n",
      " dropout_9 (Dropout)            (None, 128)          0           ['dense_1[0][0]']                \n",
      "                                                                                                  \n",
      " dense_4 (Dense)                (None, 128)          4224        ['dense_3[0][0]']                \n",
      "                                                                                                  \n",
      " dense_2 (Dense)                (None, 256)          33024       ['dropout_9[0][0]']              \n",
      "                                                                                                  \n"
     ]
    },
    {
     "name": "stdout",
     "output_type": "stream",
     "text": [
      " dense_5 (Dense)                (None, 256)          33024       ['dense_4[0][0]']                \n",
      "                                                                                                  \n",
      " dropout_10 (Dropout)           (None, 256)          0           ['dense_2[0][0]']                \n",
      "                                                                                                  \n",
      " dense_6 (Dense)                (None, 512)          131584      ['dense_5[0][0]']                \n",
      "                                                                                                  \n",
      " concatenate (Concatenate)      (None, 768)          0           ['dropout_10[0][0]',             \n",
      "                                                                  'dense_6[0][0]']                \n",
      "                                                                                                  \n",
      " dense_7 (Dense)                (None, 128)          98432       ['concatenate[0][0]']            \n",
      "                                                                                                  \n",
      " outputs (Dense)                (None, 30)           3870        ['dense_7[0][0]']                \n",
      "                                                                                                  \n",
      "==================================================================================================\n",
      "Total params: 2,607,838\n",
      "Trainable params: 2,607,838\n",
      "Non-trainable params: 0\n",
      "__________________________________________________________________________________________________\n"
     ]
    }
   ],
   "source": [
    "model.summary()"
   ]
  },
  {
   "cell_type": "code",
   "execution_count": null,
   "metadata": {},
   "outputs": [],
   "source": []
  },
  {
   "cell_type": "code",
   "execution_count": null,
   "metadata": {},
   "outputs": [],
   "source": [
    "# load history\n",
    "import json\n",
    "history_dict = json.load(open('multi_complex_cnn_final_data_history', 'r'))\n",
    "history_dict.keys()"
   ]
  },
  {
   "cell_type": "code",
   "execution_count": 45,
   "metadata": {
    "scrolled": true
   },
   "outputs": [
    {
     "data": {
      "text/plain": [
       "[8.090694427490234,\n",
       " 3.2273781299591064,\n",
       " 3.032904863357544,\n",
       " 2.891004800796509,\n",
       " 2.839676856994629,\n",
       " 2.848193407058716,\n",
       " 2.7058589458465576,\n",
       " 2.5829684734344482,\n",
       " 2.5318801403045654,\n",
       " 2.536846876144409,\n",
       " 2.481576919555664,\n",
       " 2.370655059814453,\n",
       " 2.3035974502563477,\n",
       " 2.302802085876465,\n",
       " 2.23891282081604,\n",
       " 2.0992581844329834,\n",
       " 2.0279412269592285,\n",
       " 2.026933193206787,\n",
       " 1.9654189348220825,\n",
       " 1.856843113899231,\n",
       " 1.8098841905593872,\n",
       " 1.8108237981796265]"
      ]
     },
     "execution_count": 45,
     "metadata": {},
     "output_type": "execute_result"
    }
   ],
   "source": [
    "history_dict['loss']"
   ]
  },
  {
   "cell_type": "code",
   "execution_count": null,
   "metadata": {},
   "outputs": [],
   "source": []
  },
  {
   "cell_type": "markdown",
   "metadata": {},
   "source": [
    "### Run on test dataset.\n"
   ]
  },
  {
   "cell_type": "code",
   "execution_count": 29,
   "metadata": {},
   "outputs": [],
   "source": [
    "test_generator = Environmental_Patches_Generator(obs_id_test, y_test, BATCHSIZE)"
   ]
  },
  {
   "cell_type": "code",
   "execution_count": 31,
   "metadata": {},
   "outputs": [
    {
     "name": "stdout",
     "output_type": "stream",
     "text": [
      " GLC\t\t\t\t        nathalie_2_highlytuned_cnn.ipynb\r\n",
      "'HW3 main notebook.ipynb'\t        nathalie_3_multimodal_simple.ipynb\r\n",
      " README.md\t\t\t        nathalie_4_multimodal_complex.ipynb\r\n",
      " complex_cnn_final_data\t\t        nathalie_4_multimodal_complex_old.ipynb\r\n",
      " complex_cnn_final_data_history         nathalie_cyclic_learning_rate.ipynb\r\n",
      " download_data.py\t\t        nathalie_first_input_pipeline.ipynb\r\n",
      " first_simple_model_random_3\t        nathalie_simple_cnn_old.ipynb\r\n",
      " geolifeclef-2022-lifeclef-2022-fgvc9   old_trials\r\n",
      " multi_complex_cnn_final_data\t        playground.ipynb\r\n",
      " multi_complex_cnn_final_data_history   simple_cnn_final_data\r\n",
      " nathalie_1_simple_cnn.ipynb\t        simple_cnn_final_data_history\r\n"
     ]
    }
   ],
   "source": [
    "!ls"
   ]
  },
  {
   "cell_type": "code",
   "execution_count": 30,
   "metadata": {
    "scrolled": true
   },
   "outputs": [
    {
     "data": {
      "text/plain": [
       "<tensorflow.python.training.tracking.util.CheckpointLoadStatus at 0x7f9a7f339be0>"
      ]
     },
     "execution_count": 30,
     "metadata": {},
     "output_type": "execute_result"
    }
   ],
   "source": [
    "model.load_weights('multi_complex_cnn_final_data')"
   ]
  },
  {
   "cell_type": "code",
   "execution_count": 31,
   "metadata": {},
   "outputs": [
    {
     "name": "stdout",
     "output_type": "stream",
     "text": [
      "110/110 [==============================] - 424s 4s/step - loss: 2.4735 - accuracy: 0.2648 - top-5-accuracy: 0.6011\n"
     ]
    },
    {
     "data": {
      "text/plain": [
       "[2.4734621047973633, 0.2648232579231262, 0.6010547280311584]"
      ]
     },
     "execution_count": 31,
     "metadata": {},
     "output_type": "execute_result"
    }
   ],
   "source": [
    "model.evaluate(test_generator)"
   ]
  },
  {
   "cell_type": "code",
   "execution_count": null,
   "metadata": {},
   "outputs": [],
   "source": []
  }
 ],
 "metadata": {
  "kernelspec": {
   "display_name": "Python 3",
   "language": "python",
   "name": "python3"
  },
  "language_info": {
   "codemirror_mode": {
    "name": "ipython",
    "version": 3
   },
   "file_extension": ".py",
   "mimetype": "text/x-python",
   "name": "python",
   "nbconvert_exporter": "python",
   "pygments_lexer": "ipython3",
   "version": "3.8.10"
  }
 },
 "nbformat": 4,
 "nbformat_minor": 4
}
