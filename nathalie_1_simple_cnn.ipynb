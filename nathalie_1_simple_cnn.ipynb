{
 "cells": [
  {
   "cell_type": "markdown",
   "metadata": {},
   "source": [
    "### Necessary Imports and Installs"
   ]
  },
  {
   "cell_type": "code",
   "execution_count": 1,
   "metadata": {},
   "outputs": [
    {
     "name": "stderr",
     "output_type": "stream",
     "text": [
      "Matplotlib created a temporary config/cache directory at /tmp/matplotlib-tcwkreed because the default path (/.config/matplotlib) is not a writable directory; it is highly recommended to set the MPLCONFIGDIR environment variable to a writable directory, in particular to speed up the import of Matplotlib and to better support multiprocessing.\n"
     ]
    },
    {
     "name": "stdout",
     "output_type": "stream",
     "text": [
      "%pylab is deprecated, use %matplotlib inline and import the required libraries.\n",
      "Populating the interactive namespace from numpy and matplotlib\n"
     ]
    }
   ],
   "source": [
    "import tensorflow as tf\n",
    "from tensorflow.keras.layers import Add, GlobalAveragePooling2D, Conv2D, Dense, AveragePooling2D, \\\n",
    "BatchNormalization, Normalization, Dropout, Flatten, Lambda, Input, Activation, MaxPooling2D\n",
    "from tensorflow.keras import Model\n",
    "from tensorflow.keras.optimizers import schedules, SGD\n",
    "from tensorflow.keras.callbacks import Callback, LambdaCallback\n",
    "from tensorflow.keras import backend as K\n",
    "import tensorflow_addons as tfa\n",
    "#import tensorflow_datasets as tfds\n",
    "\n",
    "import numpy as np\n",
    "from collections import defaultdict\n",
    "import matplotlib.pyplot as plt\n",
    "from matplotlib import scale\n",
    "import time\n",
    "import random\n",
    "from collections import defaultdict\n",
    "import math\n",
    "import copy\n",
    "import threading\n",
    "import opendatasets as od\n",
    "import tempfile\n",
    "from sklearn.utils import shuffle\n",
    "\n",
    "%pylab inline --no-import-all\n",
    "from pathlib import Path\n",
    "import pandas as pd\n",
    "import sys\n",
    "\n",
    "from GLC.data_loading.common import load_patch"
   ]
  },
  {
   "cell_type": "markdown",
   "metadata": {},
   "source": [
    "# Dataset"
   ]
  },
  {
   "cell_type": "markdown",
   "metadata": {},
   "source": [
    "## Download Dataset"
   ]
  },
  {
   "cell_type": "code",
   "execution_count": 2,
   "metadata": {
    "scrolled": true
   },
   "outputs": [],
   "source": [
    "# only uncomment if you don't have the dataset stored on disk yet\n",
    "# -> have your kaggle user credentials ready\n",
    "#data = od.download(\"https://www.kaggle.com/competitions/geolifeclef-2022-lifeclef-2022-fgvc9\")"
   ]
  },
  {
   "cell_type": "markdown",
   "metadata": {},
   "source": [
    "## Load Dataset from file"
   ]
  },
  {
   "cell_type": "markdown",
   "metadata": {},
   "source": [
    "Set path to competition dataset here."
   ]
  },
  {
   "cell_type": "code",
   "execution_count": 3,
   "metadata": {},
   "outputs": [],
   "source": [
    "# Change this path to adapt to where you downloaded the data\n",
    "DATA_PATH = Path(\"./geolifeclef-2022-lifeclef-2022-fgvc9/\")"
   ]
  },
  {
   "cell_type": "markdown",
   "metadata": {},
   "source": [
    "Run the following two commands to verify that the data path is set correctly. They should print folder and file names."
   ]
  },
  {
   "cell_type": "code",
   "execution_count": 4,
   "metadata": {},
   "outputs": [
    {
     "name": "stdout",
     "output_type": "stream",
     "text": [
      "\u001b[0m\u001b[01;34mmetadata\u001b[0m/      \u001b[01;34mpatches-fr\u001b[0m/  \u001b[01;34mpatches_sample\u001b[0m/  \u001b[01;34mrasters\u001b[0m/\r\n",
      "\u001b[01;34mobservations\u001b[0m/  \u001b[01;34mpatches-us\u001b[0m/  \u001b[01;34mpre-extracted\u001b[0m/   sample_submission.csv\r\n"
     ]
    }
   ],
   "source": [
    "ls -L $DATA_PATH"
   ]
  },
  {
   "cell_type": "code",
   "execution_count": 5,
   "metadata": {
    "scrolled": true
   },
   "outputs": [
    {
     "name": "stdout",
     "output_type": "stream",
     "text": [
      "observations_fr_test.csv   observations_us_test.csv\r\n",
      "observations_fr_train.csv  observations_us_train.csv\r\n"
     ]
    }
   ],
   "source": [
    "ls $DATA_PATH/observations"
   ]
  },
  {
   "cell_type": "markdown",
   "metadata": {},
   "source": [
    "Load the observation ids of the training dataset."
   ]
  },
  {
   "cell_type": "code",
   "execution_count": 6,
   "metadata": {},
   "outputs": [
    {
     "name": "stdout",
     "output_type": "stream",
     "text": [
      "Number of observations for training: 1627475\n"
     ]
    },
    {
     "data": {
      "text/html": [
       "<div>\n",
       "<style scoped>\n",
       "    .dataframe tbody tr th:only-of-type {\n",
       "        vertical-align: middle;\n",
       "    }\n",
       "\n",
       "    .dataframe tbody tr th {\n",
       "        vertical-align: top;\n",
       "    }\n",
       "\n",
       "    .dataframe thead th {\n",
       "        text-align: right;\n",
       "    }\n",
       "</style>\n",
       "<table border=\"1\" class=\"dataframe\">\n",
       "  <thead>\n",
       "    <tr style=\"text-align: right;\">\n",
       "      <th></th>\n",
       "      <th>latitude</th>\n",
       "      <th>longitude</th>\n",
       "      <th>species_id</th>\n",
       "      <th>subset</th>\n",
       "    </tr>\n",
       "    <tr>\n",
       "      <th>observation_id</th>\n",
       "      <th></th>\n",
       "      <th></th>\n",
       "      <th></th>\n",
       "      <th></th>\n",
       "    </tr>\n",
       "  </thead>\n",
       "  <tbody>\n",
       "    <tr>\n",
       "      <th>10561949</th>\n",
       "      <td>45.705116</td>\n",
       "      <td>1.424622</td>\n",
       "      <td>241</td>\n",
       "      <td>train</td>\n",
       "    </tr>\n",
       "    <tr>\n",
       "      <th>10131188</th>\n",
       "      <td>45.146973</td>\n",
       "      <td>6.416794</td>\n",
       "      <td>101</td>\n",
       "      <td>train</td>\n",
       "    </tr>\n",
       "    <tr>\n",
       "      <th>10799362</th>\n",
       "      <td>46.783695</td>\n",
       "      <td>-2.072855</td>\n",
       "      <td>700</td>\n",
       "      <td>train</td>\n",
       "    </tr>\n",
       "    <tr>\n",
       "      <th>10392536</th>\n",
       "      <td>48.604866</td>\n",
       "      <td>-2.825003</td>\n",
       "      <td>1456</td>\n",
       "      <td>train</td>\n",
       "    </tr>\n",
       "    <tr>\n",
       "      <th>10335049</th>\n",
       "      <td>48.815567</td>\n",
       "      <td>-0.161431</td>\n",
       "      <td>157</td>\n",
       "      <td>train</td>\n",
       "    </tr>\n",
       "  </tbody>\n",
       "</table>\n",
       "</div>"
      ],
      "text/plain": [
       "                 latitude  longitude  species_id subset\n",
       "observation_id                                         \n",
       "10561949        45.705116   1.424622         241  train\n",
       "10131188        45.146973   6.416794         101  train\n",
       "10799362        46.783695  -2.072855         700  train\n",
       "10392536        48.604866  -2.825003        1456  train\n",
       "10335049        48.815567  -0.161431         157  train"
      ]
     },
     "execution_count": 6,
     "metadata": {},
     "output_type": "execute_result"
    }
   ],
   "source": [
    "### Training Dataset ###\n",
    "# let's load the data from file\n",
    "df_obs_fr = pd.read_csv(DATA_PATH / \"observations\" / \"observations_fr_train.csv\", sep=\";\", index_col=\"observation_id\")\n",
    "df_obs_us = pd.read_csv(DATA_PATH / \"observations\" / \"observations_us_train.csv\", sep=\";\", index_col=\"observation_id\")\n",
    "\n",
    "df_obs = pd.concat((df_obs_fr, df_obs_us))\n",
    "\n",
    "print(\"Number of observations for training: {}\".format(len(df_obs)))\n",
    "\n",
    "# let's have a look at the data\n",
    "df_obs.head()"
   ]
  },
  {
   "cell_type": "markdown",
   "metadata": {},
   "source": [
    "Load the observation ids of the test dataset."
   ]
  },
  {
   "cell_type": "code",
   "execution_count": 7,
   "metadata": {},
   "outputs": [
    {
     "name": "stdout",
     "output_type": "stream",
     "text": [
      "Number of observations for testing: 36421\n"
     ]
    },
    {
     "data": {
      "text/html": [
       "<div>\n",
       "<style scoped>\n",
       "    .dataframe tbody tr th:only-of-type {\n",
       "        vertical-align: middle;\n",
       "    }\n",
       "\n",
       "    .dataframe tbody tr th {\n",
       "        vertical-align: top;\n",
       "    }\n",
       "\n",
       "    .dataframe thead th {\n",
       "        text-align: right;\n",
       "    }\n",
       "</style>\n",
       "<table border=\"1\" class=\"dataframe\">\n",
       "  <thead>\n",
       "    <tr style=\"text-align: right;\">\n",
       "      <th></th>\n",
       "      <th>latitude</th>\n",
       "      <th>longitude</th>\n",
       "    </tr>\n",
       "    <tr>\n",
       "      <th>observation_id</th>\n",
       "      <th></th>\n",
       "      <th></th>\n",
       "    </tr>\n",
       "  </thead>\n",
       "  <tbody>\n",
       "    <tr>\n",
       "      <th>10782781</th>\n",
       "      <td>43.601788</td>\n",
       "      <td>6.940195</td>\n",
       "    </tr>\n",
       "    <tr>\n",
       "      <th>10364138</th>\n",
       "      <td>46.241711</td>\n",
       "      <td>0.683586</td>\n",
       "    </tr>\n",
       "    <tr>\n",
       "      <th>10692017</th>\n",
       "      <td>45.181095</td>\n",
       "      <td>1.533459</td>\n",
       "    </tr>\n",
       "    <tr>\n",
       "      <th>10222322</th>\n",
       "      <td>46.938450</td>\n",
       "      <td>5.298678</td>\n",
       "    </tr>\n",
       "    <tr>\n",
       "      <th>10241950</th>\n",
       "      <td>45.017433</td>\n",
       "      <td>0.960736</td>\n",
       "    </tr>\n",
       "  </tbody>\n",
       "</table>\n",
       "</div>"
      ],
      "text/plain": [
       "                 latitude  longitude\n",
       "observation_id                      \n",
       "10782781        43.601788   6.940195\n",
       "10364138        46.241711   0.683586\n",
       "10692017        45.181095   1.533459\n",
       "10222322        46.938450   5.298678\n",
       "10241950        45.017433   0.960736"
      ]
     },
     "execution_count": 7,
     "metadata": {},
     "output_type": "execute_result"
    }
   ],
   "source": [
    "### Test Dataset ###\n",
    "df_obs_fr_test = pd.read_csv(DATA_PATH / \"observations\" / \"observations_fr_test.csv\", sep=\";\", index_col=\"observation_id\")\n",
    "df_obs_us_test = pd.read_csv(DATA_PATH / \"observations\" / \"observations_us_test.csv\", sep=\";\", index_col=\"observation_id\")\n",
    "\n",
    "df_obs_test = pd.concat((df_obs_fr_test, df_obs_us_test))\n",
    "\n",
    "print(\"Number of observations for testing: {}\".format(len(df_obs_test)))\n",
    "\n",
    "df_obs_test.head()"
   ]
  },
  {
   "cell_type": "markdown",
   "metadata": {},
   "source": [
    "Load suggested landcover alignment (only relevant if you're using landcover data later)."
   ]
  },
  {
   "cell_type": "code",
   "execution_count": 8,
   "metadata": {},
   "outputs": [
    {
     "name": "stdout",
     "output_type": "stream",
     "text": [
      "   landcover_code  suggested_landcover_code suggested_landcover_label\n",
      "0               0                         0              Missing Data\n",
      "1               1                        11          Cultivated Crops\n",
      "2               2                        11          Cultivated Crops\n",
      "3               3                         6       Broad-leaved Forest\n",
      "4               4                         7         Coniferous Forest\n"
     ]
    }
   ],
   "source": [
    "df_suggested_landcover_alignment = pd.read_csv(DATA_PATH / \"metadata\" / \"landcover_suggested_alignment.csv\", sep=\";\")\n",
    "print(df_suggested_landcover_alignment.head())\n",
    "landcover_mapping = df_suggested_landcover_alignment[\"suggested_landcover_code\"].values"
   ]
  },
  {
   "cell_type": "markdown",
   "metadata": {},
   "source": [
    "### Train/Val Split Labels\n",
    "Retrieve the train/val split provided, and load the labels of the train and val set elements."
   ]
  },
  {
   "cell_type": "code",
   "execution_count": 9,
   "metadata": {},
   "outputs": [
    {
     "name": "stdout",
     "output_type": "stream",
     "text": [
      "Training set size: 1587395 (97.5% of train observations)\n",
      "Validation set size: 40080 (2.5% of train observations)\n"
     ]
    }
   ],
   "source": [
    "obs_id_train = df_obs.index[df_obs[\"subset\"] == \"train\"].values\n",
    "obs_id_val = df_obs.index[df_obs[\"subset\"] == \"val\"].values\n",
    "\n",
    "y_train = df_obs.loc[obs_id_train][\"species_id\"].values\n",
    "y_val = df_obs.loc[obs_id_val][\"species_id\"].values\n",
    "\n",
    "n_val = len(obs_id_val)\n",
    "print(\"Training set size: {} ({:.1%} of train observations)\".format(len(y_train), len(y_train) / len(df_obs)))\n",
    "print(\"Validation set size: {} ({:.1%} of train observations)\".format(n_val, n_val / len(df_obs)))"
   ]
  },
  {
   "cell_type": "markdown",
   "metadata": {},
   "source": [
    "**Let's have a look at the training dataset.**"
   ]
  },
  {
   "cell_type": "code",
   "execution_count": 10,
   "metadata": {},
   "outputs": [
    {
     "name": "stdout",
     "output_type": "stream",
     "text": [
      "=== Training Dataset ===\n",
      "There are 17031 unique labels.\n",
      "We have 93.21 observations per label on average.\n"
     ]
    }
   ],
   "source": [
    "print(\"=== Training Dataset ===\")\n",
    "print(\"There are {} unique labels.\".format(len(np.unique(y_train))))\n",
    "print(\"We have {:.2f} observations per label on average.\".format(len(obs_id_train)/len(np.unique(y_train))))"
   ]
  },
  {
   "cell_type": "code",
   "execution_count": 11,
   "metadata": {
    "scrolled": false
   },
   "outputs": [],
   "source": [
    "# label_count = defaultdict(lambda: 0)\n",
    "\n",
    "# print(\"counting observation ids per label ...\")\n",
    "# for ob in df_obs.iterrows():\n",
    "#     label_count[ob[1]['species_id']] += 1\n",
    "# print(\"done\")"
   ]
  },
  {
   "cell_type": "code",
   "execution_count": null,
   "metadata": {},
   "outputs": [],
   "source": [
    "# buckets = [0, 10, 100, 500, 1000, 2000, 3000, 10000, 100000]\n",
    "# buckets_counts = {0: 0, 10: 0, 100: 0, 500: 0, 1000: 0, 2000: 0, 3000: 0, 10000: 0, 100000: 0}\n",
    "# buckets_labels = {0: list(), 10: list(), 100: list(), 500: list(), 1000: list(), \n",
    "#                   2000: list(), 3000: list(), 10000: list(), 100000: list()}\n",
    "\n",
    "# for label in label_count:\n",
    "#     c = label_count[label]\n",
    "    \n",
    "#     i = 0\n",
    "#     while c > buckets[i]:\n",
    "#         i += 1\n",
    "#     i -= 1\n",
    "        \n",
    "#     #print(\"c: \", c)\n",
    "#     #print(\"buckets[i]: \", buckets[i])\n",
    "    \n",
    "#     buckets_counts[buckets[i]] += 1\n",
    "#     buckets_labels[buckets[i]].append(label)\n",
    "    \n",
    "# print(\"=== Analysis of observation ids per label in training set ===\")\n",
    "# print(\"{:<15}: # of labels that have that range amount of obs ids\".format(\"# of obs ids\"))\n",
    "# print()\n",
    "# for i in range(0, len(buckets)-1):\n",
    "#     print(\"{:<15}: {amount:>4} labels\".format(\"{lower} to {upper}\".format(lower=buckets[i], upper=buckets[i+1]), \n",
    "#                                               amount=buckets_counts[buckets[i]]))\n",
    "\n",
    "# #print(buckets_contents)"
   ]
  },
  {
   "cell_type": "markdown",
   "metadata": {},
   "source": [
    "Now only retrieve the data belonging to a subset of all possible labels."
   ]
  },
  {
   "cell_type": "code",
   "execution_count": null,
   "metadata": {},
   "outputs": [],
   "source": [
    "# subset_size = 10\n",
    "# obs_list = list()\n",
    "\n",
    "# # iterate over a subset of the labels\n",
    "# counter = 0\n",
    "# for y in np.unique(y_train)[:subset_size]:\n",
    "#     # for each label, retrieve all corresponding observation ids\n",
    "#     obs = df_obs.index[df_obs[\"species_id\"] == y].values\n",
    "#     obs_list.append(obs)\n",
    "    \n",
    "# # we now have a numpy array of all observation ids corresponding to this subset of labels\n",
    "# obs_id_train = np.concatenate(obs_list)\n",
    "\n",
    "# # obtain the gps coordinates\n",
    "# latitudes_train = df_obs.loc[obs_id_train][\"latitude\"].values\n",
    "# longitudes_train = df_obs.loc[obs_id_train][\"longitude\"].values\n",
    "# gps_train = np.column_stack((latitudes, longitudes))\n",
    "\n",
    "# # obtain the labels in the right order \n",
    "# y_train = df_obs.loc[obs_id_train][\"species_id\"].values"
   ]
  },
  {
   "cell_type": "code",
   "execution_count": null,
   "metadata": {},
   "outputs": [],
   "source": [
    "# ### JUST TO TEST IF INPUT PIPELINE WORKS ###\n",
    "# # load training dataset samples\n",
    "# # factor = 1 means load full training dataset\n",
    "# # factor = 100 means load 1/100 of the full dataset\n",
    "# factor = 100\n",
    "\n",
    "# obs_list = list()\n",
    "# for obs_id in obs_id_train:\n",
    "#     obs_list.append(obs_id)\n",
    "    \n",
    "#     if len(obs_list) >= (len(y_train)/factor):\n",
    "#         break\n",
    "        \n",
    "# obs_id_train = np.array(obs_list)\n",
    "# y_train = y_train[:len(obs_id_train)]\n",
    "\n",
    "# print(\"obs_id array shape: \", np.shape(obs_id_train))\n",
    "# print(\"label array shape: \", np.shape(y_train))\n",
    "# print(np.min(y_train[:len(obs_id_train)]))\n",
    "# print(np.max(y_train[:len(obs_id_train)]))"
   ]
  },
  {
   "cell_type": "code",
   "execution_count": null,
   "metadata": {
    "scrolled": true
   },
   "outputs": [],
   "source": [
    "# ### Keep only the labels with lots of observations ###\n",
    "# min_obs_count = 2000\n",
    "# max_obs_count = 3000\n",
    "\n",
    "# # obtain all relevant labels\n",
    "# y_train = list()\n",
    "# for b in buckets:\n",
    "#     if b >= min_obs_count and b <= max_obs_count:\n",
    "#         for l in buckets_labels[b]:\n",
    "#             y_train.append(l)\n",
    "# print(\"obtained all relevant labels\")\n",
    "            \n",
    "# # obtain all corresponding obs ids\n",
    "# obs_list = list()\n",
    "\n",
    "# # iterate over a subset of the labels\n",
    "# counter = 0\n",
    "# for y in y_train:\n",
    "#     # for each label, retrieve all corresponding observation ids\n",
    "#     obs = df_obs.index[(df_obs[\"subset\"] == \"train\") & (df_obs[\"species_id\"] == y)].values\n",
    "#     #print(len(obs))\n",
    "#     obs_list.append(obs)\n",
    "    \n",
    "# # we now have a numpy array of all observation ids corresponding to this subset of labels\n",
    "# obs_id_train_new = np.concatenate(obs_list)\n",
    "# print(\"obtained all observations\")\n",
    "\n",
    "# # obtain the labels in the right order \n",
    "# y_train = df_obs.loc[obs_id_train_new][\"species_id\"].values\n",
    "\n",
    "# print(len(obs_id_train_new))\n",
    "# print(len(obs_id_train))\n",
    "\n",
    "# # count how many ids exist in obs_id_train_new that don't exist in obs_id_train\n",
    "# # should be 0\n",
    "# print(\"should be 0: \", len(obs_id_train_new) - len(obs_id_train_new[np.in1d(obs_id_train_new, obs_id_train)]))\n",
    "\n",
    "# print(len(np.unique(y_train)))\n",
    "# print(np.unique(y_train))\n",
    "\n",
    "# obs_id_train = obs_id_train_new"
   ]
  },
  {
   "cell_type": "code",
   "execution_count": 12,
   "metadata": {},
   "outputs": [
    {
     "name": "stdout",
     "output_type": "stream",
     "text": [
      "70294\n",
      "63278\n",
      "\n",
      "7016\n",
      "5\n",
      "\n"
     ]
    }
   ],
   "source": [
    "### Kennedy's Train, Val and Test Split ###\n",
    "# CHOOSE SUBSET FOR 30 Labels\n",
    "label_amount = 30\n",
    "\n",
    "import random\n",
    "subset_size = 0\n",
    "obs_list = list()\n",
    "obs_test_list = list()\n",
    "import numpy as np\n",
    "# iterate over a subset of the labels\n",
    "m = 0\n",
    "for y in (np.unique(y_train)[:]):\n",
    "    #print(\"in\")\n",
    "    # for each label, retrieve all corresponding observation ids\n",
    "    obs = df_obs.index[(df_obs[\"species_id\"] == y)]\n",
    "   \n",
    "    #print(len(obs))\n",
    "    #print(counter)\n",
    "    #print(obs)\n",
    "    #print(len(obs))\n",
    "    if (len(obs) >= 2000 and len(obs) <= 3000):\n",
    "      t = set(df_obs.index[(df_obs[\"species_id\"] == y) & (df_obs[\"subset\"] == \"train\")].values)\n",
    "      m += len(t)\n",
    "      ten_perc = int(len(t)/10)\n",
    "      random.seed(3)\n",
    "      test = random.sample(t, ten_perc)\n",
    "      train = t-set(test)\n",
    "      #print(train)\n",
    "      #print(\"here\")\n",
    "      obs_test_list.append(list(test))\n",
    "      obs_list.append(list(train))\n",
    "      subset_size += 1\n",
    "    if (subset_size >= label_amount):\n",
    "      #print(\"break\")\n",
    "      break\n",
    "print(m)   \n",
    "# we now have a numpy array of all observation ids corresponding to this subset of labels\n",
    "obs_id_train = np.concatenate(obs_list)\n",
    "obs_id_test = np.concatenate(obs_test_list)\n",
    "gps_train = np.concatenate((df_obs.loc[obs_id_train][\"latitude\"].values, df_obs.loc[obs_id_train][\"longitude\"].values))\n",
    "# obtain the labels in the right order \n",
    "y_train = df_obs.loc[obs_id_train][\"species_id\"].values\n",
    "y_test = df_obs.loc[obs_id_test][\"species_id\"].values\n",
    "print(y_train.size)\n",
    "\n",
    "print()\n",
    "print(y_test.size)\n",
    "print(y_train[2])\n",
    "print()"
   ]
  },
  {
   "cell_type": "code",
   "execution_count": 13,
   "metadata": {},
   "outputs": [
    {
     "name": "stdout",
     "output_type": "stream",
     "text": [
      "40080\n",
      "11\n",
      "1831\n",
      "False\n"
     ]
    },
    {
     "name": "stderr",
     "output_type": "stream",
     "text": [
      "<ipython-input-13-687b69893308>:22: DeprecationWarning: elementwise comparison failed; this will raise an error in the future.\n",
      "  print(obs_id_val == obs_id_train)\n"
     ]
    }
   ],
   "source": [
    "#subset_size = 8\n",
    "obs_list_1 = list()\n",
    "print(y_val.size)\n",
    "\n",
    "# iterate over a subset of the labels\n",
    "counter = 0\n",
    "print(y_val[0])\n",
    "for y in (np.unique(y_val)[:]):\n",
    "    # for each label, retrieve all corresponding observation ids\n",
    "    if (y in y_train):\n",
    "      #obs = df_obs.index[df_obs[\"species_id\"] == y].values\n",
    "      v = df_obs.index[(df_obs[\"species_id\"] == y) & (df_obs[\"subset\"] == \"val\")].values\n",
    "      obs_list_1.append(v)\n",
    "# we now have a numpy array of all observation ids corresponding to this subset of labels\n",
    "obs_id_val = np.concatenate(obs_list_1)\n",
    "\n",
    "# obtain the labels in the right order \n",
    "y_val = df_obs.loc[obs_id_val][\"species_id\"].values\n",
    "gps_val = np.concatenate((df_obs.loc[obs_id_val][\"latitude\"].values, df_obs.loc[obs_id_val][\"longitude\"].values))\n",
    "\n",
    "print(y_val.size)\n",
    "print(obs_id_val == obs_id_train)"
   ]
  },
  {
   "cell_type": "code",
   "execution_count": 14,
   "metadata": {
    "scrolled": true
   },
   "outputs": [
    {
     "name": "stdout",
     "output_type": "stream",
     "text": [
      "training: \n",
      "label    5: 0.04%\n",
      "label   68: 0.03%\n",
      "label  125: 0.04%\n",
      "label  129: 0.03%\n",
      "label  223: 0.03%\n",
      "label  553: 0.03%\n",
      "label  570: 0.03%\n",
      "label  605: 0.03%\n",
      "label  679: 0.03%\n",
      "label  692: 0.03%\n",
      "label  739: 0.03%\n",
      "label  979: 0.04%\n",
      "label 1075: 0.04%\n",
      "label 1155: 0.03%\n",
      "label 1916: 0.03%\n",
      "label 2196: 0.03%\n",
      "label 2524: 0.04%\n",
      "label 2821: 0.03%\n",
      "label 2950: 0.03%\n",
      "label 2992: 0.03%\n",
      "label 3253: 0.03%\n",
      "label 4940: 0.04%\n",
      "label 4991: 0.04%\n",
      "label 4999: 0.04%\n",
      "label 5025: 0.03%\n",
      "label 5086: 0.03%\n",
      "label 5168: 0.03%\n",
      "label 5192: 0.03%\n",
      "label 5207: 0.04%\n",
      "label 5228: 0.04%\n",
      "\n",
      "validation: \n",
      "label    5: 0.03%\n",
      "label   68: 0.03%\n",
      "label  125: 0.02%\n",
      "label  129: 0.03%\n",
      "label  223: 0.03%\n",
      "label  553: 0.03%\n",
      "label  570: 0.03%\n",
      "label  605: 0.03%\n",
      "label  679: 0.02%\n",
      "label  692: 0.04%\n",
      "label  739: 0.03%\n",
      "label  979: 0.03%\n",
      "label 1075: 0.03%\n",
      "label 1155: 0.03%\n",
      "label 1916: 0.03%\n",
      "label 2196: 0.03%\n",
      "label 2524: 0.04%\n",
      "label 2821: 0.04%\n",
      "label 2950: 0.05%\n",
      "label 2992: 0.05%\n",
      "label 3253: 0.03%\n",
      "label 4940: 0.04%\n",
      "label 4991: 0.01%\n",
      "label 4999: 0.04%\n",
      "label 5025: 0.03%\n",
      "label 5086: 0.04%\n",
      "label 5168: 0.03%\n",
      "label 5192: 0.03%\n",
      "label 5207: 0.06%\n",
      "label 5228: 0.04%\n"
     ]
    }
   ],
   "source": [
    "train_dict_count = defaultdict(lambda: 0)\n",
    "for y in y_train:\n",
    "    train_dict_count[y] += 1\n",
    "    \n",
    "print(\"training: \")\n",
    "for key, value in train_dict_count.items():\n",
    "    print(\"label {:>4}: {:.2f}%\".format(key, value/len(y_train)))\n",
    "\n",
    "print()\n",
    "\n",
    "val_dict_count = defaultdict(lambda: 0)\n",
    "for y in y_val:\n",
    "    val_dict_count[y] += 1\n",
    "    \n",
    "print(\"validation: \")\n",
    "for key, value in val_dict_count.items():\n",
    "    print(\"label {:>4}: {:.2f}%\".format(key, value/len(y_val)))"
   ]
  },
  {
   "cell_type": "code",
   "execution_count": 15,
   "metadata": {
    "scrolled": true
   },
   "outputs": [
    {
     "data": {
      "text/plain": [
       "array([ True,  True,  True,  True,  True,  True,  True,  True,  True,\n",
       "        True,  True,  True,  True,  True,  True,  True,  True,  True,\n",
       "        True,  True,  True,  True,  True,  True,  True,  True,  True,\n",
       "        True,  True,  True])"
      ]
     },
     "execution_count": 15,
     "metadata": {},
     "output_type": "execute_result"
    }
   ],
   "source": [
    "np.unique(y_train) == np.unique(y_val)"
   ]
  },
  {
   "cell_type": "markdown",
   "metadata": {},
   "source": [
    "### Remap the labels s.t. they go from 0 to n-1\n",
    "(NAN fix is here)"
   ]
  },
  {
   "cell_type": "code",
   "execution_count": 16,
   "metadata": {},
   "outputs": [
    {
     "name": "stdout",
     "output_type": "stream",
     "text": [
      "{5: 0, 68: 1, 125: 2, 129: 3, 223: 4, 553: 5, 570: 6, 605: 7, 679: 8, 692: 9, 739: 10, 979: 11, 1075: 12, 1155: 13, 1916: 14, 2196: 15, 2524: 16, 2821: 17, 2950: 18, 2992: 19, 3253: 20, 4940: 21, 4991: 22, 4999: 23, 5025: 24, 5086: 25, 5168: 26, 5192: 27, 5207: 28, 5228: 29}\n"
     ]
    }
   ],
   "source": [
    "# create a map s.t. the labels will go from 0 to n-1\n",
    "map_labels = dict()\n",
    "i = 0\n",
    "for l in np.unique(y_train):\n",
    "    map_labels[l] = i\n",
    "    i+=1\n",
    "print(map_labels)"
   ]
  },
  {
   "cell_type": "code",
   "execution_count": 17,
   "metadata": {},
   "outputs": [
    {
     "name": "stdout",
     "output_type": "stream",
     "text": [
      "# output neurons:  30\n"
     ]
    }
   ],
   "source": [
    "# apply the map to the training labels\n",
    "y_train_normalized = np.zeros(np.shape(y_train), dtype='int64')\n",
    "\n",
    "for i in range(len(y_train)):\n",
    "    y_train_normalized[i] = map_labels[y_train[i]]\n",
    "    \n",
    "# shuffle together\n",
    "obs_id_train, y_train = shuffle(obs_id_train, y_train_normalized)\n",
    "\n",
    "no_output_neurons = len(np.unique(y_train))\n",
    "print(\"# output neurons: \", no_output_neurons)"
   ]
  },
  {
   "cell_type": "code",
   "execution_count": 18,
   "metadata": {},
   "outputs": [],
   "source": [
    "# apply the map to the validation labels\n",
    "y_val_normalized = np.zeros(np.shape(y_val), dtype='int64')\n",
    "\n",
    "for i in range(len(y_val)):\n",
    "    y_val_normalized[i] = map_labels[y_val[i]]\n",
    "    \n",
    "# shuffle together\n",
    "obs_id_val, y_val = shuffle(obs_id_val, y_val_normalized)"
   ]
  },
  {
   "cell_type": "code",
   "execution_count": 33,
   "metadata": {},
   "outputs": [],
   "source": [
    "# apply the map to the test labels\n",
    "y_test_normalized = np.zeros(np.shape(y_test), dtype='int64')\n",
    "\n",
    "for i in range(len(y_test)):\n",
    "    y_test_normalized[i] = map_labels[y_test[i]]\n",
    "    \n",
    "# shuffle together\n",
    "obs_id_test, y_test = shuffle(obs_id_test, y_test_normalized)"
   ]
  },
  {
   "cell_type": "markdown",
   "metadata": {},
   "source": [
    "## Write input pipeline to load batches as we train."
   ]
  },
  {
   "cell_type": "markdown",
   "metadata": {},
   "source": [
    "### Custom Generator\n",
    "Since dataset is too large to load it all into memory once, we need to load it from disk in batches as we train. Such a generator can later be passed into model.fit() instead of a train and/or validation dataset."
   ]
  },
  {
   "cell_type": "code",
   "execution_count": 19,
   "metadata": {},
   "outputs": [],
   "source": [
    "class Patches_Generator(tf.keras.utils.Sequence) :\n",
    "  \n",
    "    def __init__(self, obs_ids, labels, batch_size) :\n",
    "        self.obs_ids = obs_ids\n",
    "        self.labels = labels\n",
    "        self.batch_size = batch_size\n",
    "        \n",
    "        # to make the generator thread safe \n",
    "        self.lock = threading.Lock()\n",
    "\n",
    "    def __len__(self) :\n",
    "        return (np.ceil(len(self.obs_ids) / float(self.batch_size))).astype(int)\n",
    "  \n",
    "    # returns one batch\n",
    "    def __getitem__(self, idx) :\n",
    "        X_batch = list()\n",
    "        y_batch = list()\n",
    "\n",
    "        for i in range(idx * self.batch_size, (idx+1) * self.batch_size):\n",
    "            if i >= len(self.obs_ids): break\n",
    "            \n",
    "            patch = load_patch(self.obs_ids[i], DATA_PATH, data='rgb')\n",
    "            X_batch.append(patch[0])\n",
    "            y_batch.append(self.labels[i])\n",
    "\n",
    "        with self.lock:\n",
    "            return np.asarray(X_batch), np.array(y_batch)"
   ]
  },
  {
   "cell_type": "markdown",
   "metadata": {},
   "source": [
    "# First Simple Neural Network\n",
    "Let's create a first neural network as a baseline to see how it performs."
   ]
  },
  {
   "cell_type": "code",
   "execution_count": 19,
   "metadata": {},
   "outputs": [],
   "source": [
    "# # for distributed training (that is, using multiple GPUs for data parallelization)\n",
    "# # https://www.tensorflow.org/guide/distributed_training#use_tfdistributestrategy_with_keras_modelfit\n",
    "# mirrored_strategy = tf.distribute.MirroredStrategy()"
   ]
  },
  {
   "cell_type": "code",
   "execution_count": 23,
   "metadata": {},
   "outputs": [],
   "source": [
    "# returns a 10 layer ReLU model of width 2\n",
    "def simple_model(input_shape, learning_rate=0.0001, output_neurons=30, seed=42):\n",
    "    random.seed(seed)\n",
    "    \n",
    "    model = tf.keras.models.Sequential()\n",
    "    \n",
    "    # 1. Preprocessing\n",
    "    # rescale inputs\n",
    "    model.add(tf.keras.layers.Rescaling(1./255))\n",
    "    #model.add(tf.keras.layers.RandomFlip(\"horizontal\"))\n",
    "    #model.add(tf.keras.layers.RandomRotation(factor=0.02))\n",
    "    model.add(tf.keras.layers.RandomContrast(factor=0.1))\n",
    "    model.add(tf.keras.layers.RandomCrop(input_shape[0], input_shape[1]))\n",
    "\n",
    "    # 2. Convolutional Layers\n",
    "    model.add(Conv2D(32, kernel_size=5, activation='relu', input_shape=input_shape, padding='same'))\n",
    "    #model.add(AveragePooling2D())\n",
    "\n",
    "    model.add(Conv2D(64, kernel_size=5, activation='relu', padding='same'))\n",
    "    #model.add(AveragePooling2D())\n",
    "    \n",
    "    model.add(Conv2D(128, kernel_size=5, activation='relu', padding='same'))\n",
    "    \n",
    "    # from convolutional layers to dense layers\n",
    "    model.add(tf.keras.layers.Flatten())\n",
    "    \n",
    "    # 3. Dense Layers\n",
    "    model.add(Dense(64, activation='relu'))\n",
    "    model.add(Dense(64, activation='relu'))\n",
    "    \n",
    "    # 4. Output Layer\n",
    "    model.add(Dense(output_neurons, activation='softmax'))\n",
    "    \n",
    "    # compire the model\n",
    "    model.compile(loss=tf.keras.losses.sparse_categorical_crossentropy,\n",
    "                  optimizer=tf.keras.optimizers.Adam(learning_rate=learning_rate),\n",
    "                  metrics=[tf.keras.metrics.SparseCategoricalAccuracy(name=\"accuracy\"),\n",
    "                           tf.keras.metrics.SparseTopKCategoricalAccuracy(5, name=\"top-5-accuracy\")])\n",
    "    \n",
    "    return model"
   ]
  },
  {
   "cell_type": "markdown",
   "metadata": {},
   "source": [
    "## Training Prep"
   ]
  },
  {
   "cell_type": "markdown",
   "metadata": {},
   "source": [
    "### Settings used when parallelizing the I/O Pipeline in model.fit().\n",
    "\n",
    "I used the setting values in the cell below for a high-cpu vm on GCP with the following specs:\n",
    "- machine type: n1-highcpu-96 (96 CPU cores)\n",
    "- vCPUs to core ratio: 2 vCPUs per core (making a theoretical max value for num_threads of 96 * 2 = 192)\n",
    "- 4 x NVIDIA Tesla T4 GPUs"
   ]
  },
  {
   "cell_type": "code",
   "execution_count": 24,
   "metadata": {},
   "outputs": [],
   "source": [
    "# Remember to tune the learning rate accordingly.\n",
    "BATCHSIZE = 64\n",
    "\n",
    "# The maximun value for num_threads is dependent on amount of CPU cores:\n",
    "# amount of CPU cores * vCPUs to core ratio = theoretical max of NUM_THREADS\n",
    "NUM_THREADS = 11\n",
    "\n",
    "# The more batches we prefetch, the less idle the GPUs will be. \n",
    "# To check GPU usage:\n",
    "# 1. Run nvidia-smi -l 1 from the terminal to monitor the GPU usage during training. \n",
    "# 2. Try to get close to 100% for all GPUs by adjusting the value below (and the two above). Due to the overhead\n",
    "#    from tf.distribute.MirroredStrategy(), you won't be able to consistently get 100% for all GPUs. But try to \n",
    "#    get close.\n",
    "# 3. Be aware that RAM limits the amount of batches you can prefetch.\n",
    "PRE_FETCH_NUM_BATCHES = int(NUM_THREADS * 100) "
   ]
  },
  {
   "cell_type": "markdown",
   "metadata": {},
   "source": [
    "### Generators\n",
    "Create generators that will read training / validation data from disk during training."
   ]
  },
  {
   "cell_type": "code",
   "execution_count": 25,
   "metadata": {},
   "outputs": [],
   "source": [
    "train_generator = Patches_Generator(obs_id_train, y_train, BATCHSIZE)\n",
    "#train_gps_generator = GPS_Generator(obs_id_train, gps_train, y_train, BATCHSIZE)"
   ]
  },
  {
   "cell_type": "code",
   "execution_count": 26,
   "metadata": {},
   "outputs": [],
   "source": [
    "val_generator = Patches_Generator(obs_id_val, y_val, BATCHSIZE)"
   ]
  },
  {
   "cell_type": "markdown",
   "metadata": {},
   "source": [
    "### Training"
   ]
  },
  {
   "cell_type": "markdown",
   "metadata": {},
   "source": [
    "Create the model."
   ]
  },
  {
   "cell_type": "code",
   "execution_count": 27,
   "metadata": {},
   "outputs": [],
   "source": [
    "# lr_schedule = tf.keras.optimizers.schedules.ExponentialDecay(\n",
    "#     0.0001,\n",
    "#     decay_steps=300,\n",
    "#     decay_rate=0.9,\n",
    "#     staircase=True)"
   ]
  },
  {
   "cell_type": "code",
   "execution_count": 28,
   "metadata": {},
   "outputs": [],
   "source": [
    "# create the network\n",
    "#model = simple_model((256, 256, 3), learning_rate=clr, output_neurons=len(np.unique(y_train)))\n",
    "#model = simple_model_with_gps([(256, 256, 3), np.shape(gps)], learning_rate=clr, output_neurons=len(np.unique(y_train)))\n",
    "\n",
    "model = simple_model((256, 256, 3), output_neurons = no_output_neurons, learning_rate=0.0001, seed=4)\n"
   ]
  },
  {
   "cell_type": "markdown",
   "metadata": {},
   "source": [
    "Train the network."
   ]
  },
  {
   "cell_type": "code",
   "execution_count": 29,
   "metadata": {},
   "outputs": [],
   "source": [
    "early_stop = tf.keras.callbacks.EarlyStopping(monitor='val_loss', min_delta=0.001, patience=10, \n",
    "                                              verbose=0, mode='auto', baseline=None, restore_best_weights=True)\n"
   ]
  },
  {
   "cell_type": "code",
   "execution_count": 25,
   "metadata": {
    "scrolled": false
   },
   "outputs": [
    {
     "name": "stdout",
     "output_type": "stream",
     "text": [
      "Epoch 1/100\n",
      "989/989 [==============================] - 190s 187ms/step - loss: 3.4676 - accuracy: 0.0395 - top-5-accuracy: 0.1843 - val_loss: 3.3997 - val_accuracy: 0.0339 - val_top-5-accuracy: 0.2108\n",
      "Epoch 2/100\n",
      "989/989 [==============================] - 177s 176ms/step - loss: 3.3988 - accuracy: 0.0393 - top-5-accuracy: 0.1896 - val_loss: 3.3992 - val_accuracy: 0.0415 - val_top-5-accuracy: 0.1649\n",
      "Epoch 3/100\n",
      "989/989 [==============================] - 188s 187ms/step - loss: 3.3326 - accuracy: 0.0702 - top-5-accuracy: 0.2572 - val_loss: 3.2478 - val_accuracy: 0.0825 - val_top-5-accuracy: 0.3080\n",
      "Epoch 4/100\n",
      "989/989 [==============================] - 180s 179ms/step - loss: 3.0834 - accuracy: 0.1296 - top-5-accuracy: 0.3862 - val_loss: 3.1975 - val_accuracy: 0.0983 - val_top-5-accuracy: 0.3403\n",
      "Epoch 5/100\n",
      "989/989 [==============================] - 180s 179ms/step - loss: 2.6294 - accuracy: 0.2465 - top-5-accuracy: 0.5714 - val_loss: 3.3706 - val_accuracy: 0.0918 - val_top-5-accuracy: 0.3277\n",
      "Epoch 6/100\n",
      "989/989 [==============================] - 181s 180ms/step - loss: 1.7116 - accuracy: 0.5014 - top-5-accuracy: 0.8123 - val_loss: 4.3234 - val_accuracy: 0.0699 - val_top-5-accuracy: 0.2780\n",
      "Epoch 7/100\n",
      "989/989 [==============================] - 178s 177ms/step - loss: 0.8304 - accuracy: 0.7670 - top-5-accuracy: 0.9472 - val_loss: 6.6455 - val_accuracy: 0.0715 - val_top-5-accuracy: 0.2742\n",
      "Epoch 8/100\n",
      "989/989 [==============================] - 179s 177ms/step - loss: 0.3996 - accuracy: 0.9074 - top-5-accuracy: 0.9863 - val_loss: 8.2208 - val_accuracy: 0.0606 - val_top-5-accuracy: 0.2638\n",
      "Epoch 9/100\n",
      "989/989 [==============================] - 177s 176ms/step - loss: 0.2296 - accuracy: 0.9593 - top-5-accuracy: 0.9949 - val_loss: 10.6878 - val_accuracy: 0.0573 - val_top-5-accuracy: 0.2556\n",
      "Epoch 10/100\n",
      "989/989 [==============================] - 180s 178ms/step - loss: 0.1562 - accuracy: 0.9777 - top-5-accuracy: 0.9974 - val_loss: 11.5275 - val_accuracy: 0.0694 - val_top-5-accuracy: 0.2671\n",
      "Epoch 11/100\n",
      "989/989 [==============================] - 183s 181ms/step - loss: 0.1116 - accuracy: 0.9858 - top-5-accuracy: 0.9981 - val_loss: 11.4621 - val_accuracy: 0.0688 - val_top-5-accuracy: 0.2578\n",
      "Epoch 12/100\n",
      "989/989 [==============================] - 180s 178ms/step - loss: 0.0952 - accuracy: 0.9876 - top-5-accuracy: 0.9985 - val_loss: 12.5375 - val_accuracy: 0.0612 - val_top-5-accuracy: 0.2600\n",
      "Epoch 13/100\n",
      "989/989 [==============================] - 178s 177ms/step - loss: 0.0852 - accuracy: 0.9890 - top-5-accuracy: 0.9986 - val_loss: 10.4886 - val_accuracy: 0.0617 - val_top-5-accuracy: 0.2687\n",
      "Epoch 14/100\n",
      "989/989 [==============================] - 184s 183ms/step - loss: 0.0759 - accuracy: 0.9902 - top-5-accuracy: 0.9988 - val_loss: 13.2356 - val_accuracy: 0.0705 - val_top-5-accuracy: 0.2572\n"
     ]
    }
   ],
   "source": [
    "history = model.fit(train_generator, epochs=100, callbacks=[early_stop], #steps_per_epoch=STEPS_PER_EPOCH, \n",
    "                    validation_data=val_generator,\n",
    "                    # for parallelization of reading from disk (I/O) pipeline\n",
    "                    max_queue_size=PRE_FETCH_NUM_BATCHES, workers=NUM_THREADS, use_multiprocessing=True)"
   ]
  },
  {
   "cell_type": "code",
   "execution_count": 26,
   "metadata": {},
   "outputs": [
    {
     "name": "stdout",
     "output_type": "stream",
     "text": [
      "29/29 [==============================] - 5s 182ms/step - loss: 3.1975 - accuracy: 0.0983 - top-5-accuracy: 0.3403\n"
     ]
    },
    {
     "data": {
      "text/plain": [
       "[3.1975271701812744, 0.09830693900585175, 0.34025123715400696]"
      ]
     },
     "execution_count": 26,
     "metadata": {},
     "output_type": "execute_result"
    }
   ],
   "source": [
    "model.evaluate(val_generator)"
   ]
  },
  {
   "cell_type": "code",
   "execution_count": 27,
   "metadata": {},
   "outputs": [
    {
     "name": "stdout",
     "output_type": "stream",
     "text": [
      "INFO:tensorflow:Assets written to: simple_cnn_final_data/assets\n"
     ]
    }
   ],
   "source": [
    "model_file_name = 'simple_cnn_final_data'\n",
    "model.save(model_file_name)"
   ]
  },
  {
   "cell_type": "code",
   "execution_count": 28,
   "metadata": {},
   "outputs": [],
   "source": [
    "import json\n",
    "# Get the dictionary containing each metric and the loss for each epoch\n",
    "history_dict = history.history\n",
    "# Save it under the form of a json file\n",
    "json.dump(history_dict, open(model_file_name + '_history', 'w'))"
   ]
  },
  {
   "cell_type": "code",
   "execution_count": 29,
   "metadata": {},
   "outputs": [
    {
     "name": "stdout",
     "output_type": "stream",
     "text": [
      " GLC\t\t\t\t        nathalie_3_multimodal_simple.ipynb\r\n",
      "'HW3 main notebook.ipynb'\t        nathalie_4_multimodal_complex.ipynb\r\n",
      " README.md\t\t\t        nathalie_4_multimodal_complex_old.ipynb\r\n",
      " complex_cnn_final_data\t\t        nathalie_cyclic_learning_rate.ipynb\r\n",
      " complex_cnn_final_data_history         nathalie_first_input_pipeline.ipynb\r\n",
      " download_data.py\t\t        nathalie_simple_cnn_old.ipynb\r\n",
      " first_simple_model_random_3\t        old_trials\r\n",
      " geolifeclef-2022-lifeclef-2022-fgvc9   playground.ipynb\r\n",
      " nathalie_1_simple_cnn.ipynb\t        simple_cnn_final_data\r\n",
      " nathalie_2_highlytuned_cnn.ipynb       simple_cnn_final_data_history\r\n"
     ]
    }
   ],
   "source": [
    "!ls"
   ]
  },
  {
   "cell_type": "code",
   "execution_count": 30,
   "metadata": {},
   "outputs": [
    {
     "name": "stdout",
     "output_type": "stream",
     "text": [
      "Model: \"sequential\"\n",
      "_________________________________________________________________\n",
      " Layer (type)                Output Shape              Param #   \n",
      "=================================================================\n",
      " rescaling (Rescaling)       (None, None, None, None)  0         \n",
      "                                                                 \n",
      " random_contrast (RandomCont  (None, None, None, None)  0        \n",
      " rast)                                                           \n",
      "                                                                 \n",
      " random_crop (RandomCrop)    (None, 256, 256, None)    0         \n",
      "                                                                 \n",
      " conv2d (Conv2D)             (None, 256, 256, 32)      2432      \n",
      "                                                                 \n",
      " conv2d_1 (Conv2D)           (None, 256, 256, 64)      51264     \n",
      "                                                                 \n",
      " conv2d_2 (Conv2D)           (None, 256, 256, 128)     204928    \n",
      "                                                                 \n",
      " flatten (Flatten)           (None, 8388608)           0         \n",
      "                                                                 \n",
      " dense (Dense)               (None, 64)                536870976 \n",
      "                                                                 \n",
      " dense_1 (Dense)             (None, 64)                4160      \n",
      "                                                                 \n",
      " dense_2 (Dense)             (None, 30)                1950      \n",
      "                                                                 \n",
      "=================================================================\n",
      "Total params: 537,135,710\n",
      "Trainable params: 537,135,710\n",
      "Non-trainable params: 0\n",
      "_________________________________________________________________\n"
     ]
    }
   ],
   "source": [
    "model.summary()"
   ]
  },
  {
   "cell_type": "code",
   "execution_count": 2,
   "metadata": {},
   "outputs": [
    {
     "data": {
      "text/plain": [
       "dict_keys(['loss', 'accuracy', 'top-5-accuracy', 'val_loss', 'val_accuracy', 'val_top-5-accuracy'])"
      ]
     },
     "execution_count": 2,
     "metadata": {},
     "output_type": "execute_result"
    }
   ],
   "source": [
    "# load history\n",
    "import json\n",
    "history_dict = json.load(open('simple_cnn_final_data_history', 'r'))\n",
    "history_dict.keys()"
   ]
  },
  {
   "cell_type": "code",
   "execution_count": 8,
   "metadata": {},
   "outputs": [
    {
     "data": {
      "text/plain": [
       "[3.4676315784454346,\n",
       " 3.398836135864258,\n",
       " 3.332629919052124,\n",
       " 3.0833580493927,\n",
       " 2.6293537616729736,\n",
       " 1.7115604877471924,\n",
       " 0.8303908705711365,\n",
       " 0.3996249735355377,\n",
       " 0.22959880530834198,\n",
       " 0.15615889430046082,\n",
       " 0.11156800389289856,\n",
       " 0.095156729221344,\n",
       " 0.08522448688745499,\n",
       " 0.07589063048362732]"
      ]
     },
     "execution_count": 8,
     "metadata": {},
     "output_type": "execute_result"
    }
   ],
   "source": [
    "history_dict['loss']"
   ]
  },
  {
   "cell_type": "code",
   "execution_count": null,
   "metadata": {},
   "outputs": [],
   "source": []
  },
  {
   "cell_type": "code",
   "execution_count": null,
   "metadata": {},
   "outputs": [],
   "source": [
    "# Visualize training history\n",
    "# source: https://machinelearningmastery.com/display-deep-learning-model-training-history-in-keras/\n",
    "# list all data in history\n",
    "# print(history.history.keys())\n",
    "\n",
    "# summarize history for accuracy\n",
    "plt.plot(history.history['accuracy'])\n",
    "plt.plot(history.history['val_accuracy'])\n",
    "plt.title('model accuracy')\n",
    "plt.ylabel('accuracy')\n",
    "plt.xlabel('epoch')\n",
    "plt.legend(['train', 'val'], loc='upper left')\n",
    "plt.show()\n",
    "\n",
    "# summarize history for loss\n",
    "plt.plot(history.history['loss'])\n",
    "plt.plot(history.history['val_loss'])\n",
    "plt.title('model loss')\n",
    "plt.ylabel('loss')\n",
    "plt.xlabel('epoch')\n",
    "plt.legend(['train', 'val'], loc='upper left')\n",
    "plt.show()"
   ]
  },
  {
   "cell_type": "markdown",
   "metadata": {},
   "source": [
    "### Run on test dataset.\n"
   ]
  },
  {
   "cell_type": "code",
   "execution_count": 35,
   "metadata": {},
   "outputs": [],
   "source": [
    "test_generator = Patches_Generator(obs_id_test, y_test, BATCHSIZE)"
   ]
  },
  {
   "cell_type": "code",
   "execution_count": 36,
   "metadata": {},
   "outputs": [
    {
     "data": {
      "text/plain": [
       "<tensorflow.python.training.tracking.util.CheckpointLoadStatus at 0x7f24ece354c0>"
      ]
     },
     "execution_count": 36,
     "metadata": {},
     "output_type": "execute_result"
    }
   ],
   "source": [
    "model.load_weights('simple_cnn_final_data')"
   ]
  },
  {
   "cell_type": "code",
   "execution_count": 37,
   "metadata": {},
   "outputs": [
    {
     "name": "stdout",
     "output_type": "stream",
     "text": [
      "110/110 [==============================] - 359s 3s/step - loss: 3.0931 - accuracy: 0.1224 - top-5-accuracy: 0.3766\n"
     ]
    },
    {
     "data": {
      "text/plain": [
       "[3.093050241470337, 0.12243443727493286, 0.3765678405761719]"
      ]
     },
     "execution_count": 37,
     "metadata": {},
     "output_type": "execute_result"
    }
   ],
   "source": [
    "model.evaluate(test_generator)"
   ]
  },
  {
   "cell_type": "code",
   "execution_count": null,
   "metadata": {},
   "outputs": [],
   "source": []
  }
 ],
 "metadata": {
  "kernelspec": {
   "display_name": "Python 3",
   "language": "python",
   "name": "python3"
  },
  "language_info": {
   "codemirror_mode": {
    "name": "ipython",
    "version": 3
   },
   "file_extension": ".py",
   "mimetype": "text/x-python",
   "name": "python",
   "nbconvert_exporter": "python",
   "pygments_lexer": "ipython3",
   "version": "3.8.10"
  }
 },
 "nbformat": 4,
 "nbformat_minor": 4
}
