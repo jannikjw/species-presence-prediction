{
  "cells": [
    {
      "cell_type": "markdown",
      "metadata": {
        "id": "LXQtVUBd6wBb"
      },
      "source": [
        "### Necessary Imports and Installs"
      ]
    },
    {
      "cell_type": "code",
      "execution_count": 1,
      "metadata": {
        "scrolled": false,
        "colab": {
          "base_uri": "https://localhost:8080/"
        },
        "id": "IQgUSoTq6wBe",
        "outputId": "9652120b-148e-4955-e64c-61c07609ea72"
      },
      "outputs": [
        {
          "output_type": "stream",
          "name": "stdout",
          "text": [
            "Collecting opendatasets\n",
            "  Downloading opendatasets-0.1.22-py3-none-any.whl (15 kB)\n",
            "Requirement already satisfied: kaggle in /usr/local/lib/python3.7/dist-packages (from opendatasets) (1.5.12)\n",
            "Requirement already satisfied: tqdm in /usr/local/lib/python3.7/dist-packages (from opendatasets) (4.62.3)\n",
            "Requirement already satisfied: click in /usr/local/lib/python3.7/dist-packages (from opendatasets) (7.1.2)\n",
            "Requirement already satisfied: certifi in /usr/local/lib/python3.7/dist-packages (from kaggle->opendatasets) (2021.10.8)\n",
            "Requirement already satisfied: python-slugify in /usr/local/lib/python3.7/dist-packages (from kaggle->opendatasets) (5.0.2)\n",
            "Requirement already satisfied: python-dateutil in /usr/local/lib/python3.7/dist-packages (from kaggle->opendatasets) (2.8.2)\n",
            "Requirement already satisfied: requests in /usr/local/lib/python3.7/dist-packages (from kaggle->opendatasets) (2.23.0)\n",
            "Requirement already satisfied: six>=1.10 in /usr/local/lib/python3.7/dist-packages (from kaggle->opendatasets) (1.15.0)\n",
            "Requirement already satisfied: urllib3 in /usr/local/lib/python3.7/dist-packages (from kaggle->opendatasets) (1.24.3)\n",
            "Requirement already satisfied: text-unidecode>=1.3 in /usr/local/lib/python3.7/dist-packages (from python-slugify->kaggle->opendatasets) (1.3)\n",
            "Requirement already satisfied: chardet<4,>=3.0.2 in /usr/local/lib/python3.7/dist-packages (from requests->kaggle->opendatasets) (3.0.4)\n",
            "Requirement already satisfied: idna<3,>=2.5 in /usr/local/lib/python3.7/dist-packages (from requests->kaggle->opendatasets) (2.10)\n",
            "Installing collected packages: opendatasets\n",
            "Successfully installed opendatasets-0.1.22\n"
          ]
        }
      ],
      "source": [
        "!pip install opendatasets"
      ]
    },
    {
      "cell_type": "code",
      "execution_count": 2,
      "metadata": {
        "colab": {
          "base_uri": "https://localhost:8080/"
        },
        "id": "SJkv9H5j6wBh",
        "outputId": "eb0bcf2c-5cae-4dc3-e237-6e24a9d0de59"
      },
      "outputs": [
        {
          "output_type": "stream",
          "name": "stdout",
          "text": [
            "Cloning into 'GLC'...\n",
            "remote: Enumerating objects: 383, done.\u001b[K\n",
            "remote: Counting objects: 100% (228/228), done.\u001b[K\n",
            "remote: Compressing objects: 100% (159/159), done.\u001b[K\n",
            "remote: Total 383 (delta 119), reused 170 (delta 63), pack-reused 155\u001b[K\n",
            "Receiving objects: 100% (383/383), 10.57 MiB | 17.18 MiB/s, done.\n",
            "Resolving deltas: 100% (205/205), done.\n"
          ]
        }
      ],
      "source": [
        "#Cloning repo provided by Kaggle competition including useful tools for working with data\n",
        "\n",
        "!rm -rf GLC\n",
        "!git clone https://github.com/maximiliense/GLC"
      ]
    },
    {
      "cell_type": "code",
      "execution_count": 3,
      "metadata": {
        "colab": {
          "base_uri": "https://localhost:8080/"
        },
        "id": "ttVuFo5z6wBk",
        "outputId": "67519357-7b0b-4bbc-8f7e-5c5f13e5a111"
      },
      "outputs": [
        {
          "output_type": "stream",
          "name": "stdout",
          "text": [
            "Populating the interactive namespace from numpy and matplotlib\n"
          ]
        }
      ],
      "source": [
        "#Importing various modules needed\n",
        "#Kaggle competition provided some of these modules as ones to import\n",
        "# https://www.kaggle.com/code/tlorieul/geolifeclef2022-data-loading-and-visualization/notebook\n",
        "\n",
        "\n",
        "import tensorflow as tf\n",
        "from tensorflow.keras.layers import Add, GlobalAveragePooling2D, Conv2D, Dense, AveragePooling2D, \\\n",
        "BatchNormalization, Normalization, Dropout, Flatten, Lambda, Input, Activation\n",
        "from tensorflow.keras import Model\n",
        "from tensorflow.keras.optimizers import schedules, SGD\n",
        "from tensorflow.keras.callbacks import Callback\n",
        "from tensorflow.keras import backend as K\n",
        "import tensorflow_datasets as tfds\n",
        "\n",
        "import numpy as np\n",
        "import matplotlib.pyplot as plt\n",
        "from matplotlib import scale\n",
        "import time\n",
        "from collections import defaultdict\n",
        "import math\n",
        "import copy\n",
        "import opendatasets as od\n",
        "\n",
        "%pylab inline --no-import-all\n",
        "from pathlib import Path\n",
        "import pandas as pd\n",
        "import sys"
      ]
    },
    {
      "cell_type": "markdown",
      "metadata": {
        "id": "zcvMxKoO6wBm"
      },
      "source": [
        "# Dataset"
      ]
    },
    {
      "cell_type": "markdown",
      "metadata": {
        "id": "gQg6_lGN6wBm"
      },
      "source": [
        "## Download Dataset"
      ]
    },
    {
      "cell_type": "code",
      "execution_count": 4,
      "metadata": {
        "scrolled": true,
        "colab": {
          "base_uri": "https://localhost:8080/"
        },
        "id": "qN3ijYXC6wBn",
        "outputId": "b4664aaa-0091-419f-eade-66f70d0c2a0b"
      },
      "outputs": [
        {
          "output_type": "stream",
          "name": "stdout",
          "text": [
            "Please provide your Kaggle credentials to download this dataset. Learn more: http://bit.ly/kaggle-creds\n",
            "Your Kaggle username: kennedysalamat\n",
            "Your Kaggle Key: ··········\n",
            "Downloading geolifeclef-2022-lifeclef-2022-fgvc9.zip to ./geolifeclef-2022-lifeclef-2022-fgvc9\n"
          ]
        },
        {
          "output_type": "stream",
          "name": "stderr",
          "text": [
            "100%|██████████| 57.6G/57.6G [06:07<00:00, 168MB/s]\n"
          ]
        },
        {
          "output_type": "stream",
          "name": "stdout",
          "text": [
            "\n",
            "Extracting archive ./geolifeclef-2022-lifeclef-2022-fgvc9/geolifeclef-2022-lifeclef-2022-fgvc9.zip to ./geolifeclef-2022-lifeclef-2022-fgvc9\n"
          ]
        }
      ],
      "source": [
        "#downloading the dataset provided by Kaggle competition\n",
        "\n",
        "data = od.download(\"https://www.kaggle.com/competitions/geolifeclef-2022-lifeclef-2022-fgvc9\")"
      ]
    },
    {
      "cell_type": "markdown",
      "metadata": {
        "id": "VYkotg_W6wBo"
      },
      "source": [
        "## Load Dataset from file"
      ]
    },
    {
      "cell_type": "code",
      "source": [
        "#The following code section was provided by the Kaggle competition as an example of how to load the data\n",
        "#Citation:\n",
        "#https://www.kaggle.com/code/tlorieul/geolifeclef2022-data-loading-and-visualization/notebook\n"
      ],
      "metadata": {
        "id": "KKV3J6WRC_UQ"
      },
      "execution_count": null,
      "outputs": []
    },
    {
      "cell_type": "code",
      "execution_count": 5,
      "metadata": {
        "id": "p0l13ymn6wBo"
      },
      "outputs": [],
      "source": [
        "# Change this path to adapt to where you downloaded the data\n",
        "DATA_PATH = \"./geolifeclef-2022-lifeclef-2022-fgvc9/\""
      ]
    },
    {
      "cell_type": "code",
      "execution_count": 6,
      "metadata": {
        "id": "d92lNVZ-6wBp"
      },
      "outputs": [],
      "source": [
        "import time\n",
        "hours = 4\n",
        "#time.sleep(60*60*hours)"
      ]
    },
    {
      "cell_type": "code",
      "execution_count": 7,
      "metadata": {
        "id": "ay-ptsAe6wBq",
        "colab": {
          "base_uri": "https://localhost:8080/"
        },
        "outputId": "ba51f4fc-a9df-4af0-8925-cdee19cd0a93"
      },
      "outputs": [
        {
          "output_type": "stream",
          "name": "stdout",
          "text": [
            "\u001b[0m\u001b[01;34mmetadata\u001b[0m/      \u001b[01;34mpatches-fr\u001b[0m/      \u001b[01;34mpatches-us\u001b[0m/     \u001b[01;34mrasters\u001b[0m/\n",
            "\u001b[01;34mobservations\u001b[0m/  \u001b[01;34mpatches_sample\u001b[0m/  \u001b[01;34mpre-extracted\u001b[0m/  sample_submission.csv\n"
          ]
        }
      ],
      "source": [
        "ls -L $DATA_PATH"
      ]
    },
    {
      "cell_type": "code",
      "execution_count": 8,
      "metadata": {
        "id": "ZMIdyChK6wBq",
        "colab": {
          "base_uri": "https://localhost:8080/"
        },
        "outputId": "60b91107-2c36-4590-d792-08085e628a95"
      },
      "outputs": [
        {
          "output_type": "stream",
          "name": "stdout",
          "text": [
            "observations_fr_test.csv   observations_us_test.csv\n",
            "observations_fr_train.csv  observations_us_train.csv\n"
          ]
        }
      ],
      "source": [
        "ls $DATA_PATH/observations"
      ]
    },
    {
      "cell_type": "code",
      "execution_count": 9,
      "metadata": {
        "id": "aJJTCmd-6wBt",
        "colab": {
          "base_uri": "https://localhost:8080/",
          "height": 252
        },
        "outputId": "3eb9a8a5-cc53-45d6-bccd-54215ec06b75"
      },
      "outputs": [
        {
          "output_type": "stream",
          "name": "stdout",
          "text": [
            "Number of observations for training: 1627475\n"
          ]
        },
        {
          "output_type": "execute_result",
          "data": {
            "text/html": [
              "\n",
              "  <div id=\"df-c36ef7f8-a380-4246-9b0b-8d155c4b691a\">\n",
              "    <div class=\"colab-df-container\">\n",
              "      <div>\n",
              "<style scoped>\n",
              "    .dataframe tbody tr th:only-of-type {\n",
              "        vertical-align: middle;\n",
              "    }\n",
              "\n",
              "    .dataframe tbody tr th {\n",
              "        vertical-align: top;\n",
              "    }\n",
              "\n",
              "    .dataframe thead th {\n",
              "        text-align: right;\n",
              "    }\n",
              "</style>\n",
              "<table border=\"1\" class=\"dataframe\">\n",
              "  <thead>\n",
              "    <tr style=\"text-align: right;\">\n",
              "      <th></th>\n",
              "      <th>latitude</th>\n",
              "      <th>longitude</th>\n",
              "      <th>species_id</th>\n",
              "      <th>subset</th>\n",
              "    </tr>\n",
              "    <tr>\n",
              "      <th>observation_id</th>\n",
              "      <th></th>\n",
              "      <th></th>\n",
              "      <th></th>\n",
              "      <th></th>\n",
              "    </tr>\n",
              "  </thead>\n",
              "  <tbody>\n",
              "    <tr>\n",
              "      <th>10561949</th>\n",
              "      <td>45.705116</td>\n",
              "      <td>1.424622</td>\n",
              "      <td>241</td>\n",
              "      <td>train</td>\n",
              "    </tr>\n",
              "    <tr>\n",
              "      <th>10131188</th>\n",
              "      <td>45.146973</td>\n",
              "      <td>6.416794</td>\n",
              "      <td>101</td>\n",
              "      <td>train</td>\n",
              "    </tr>\n",
              "    <tr>\n",
              "      <th>10799362</th>\n",
              "      <td>46.783695</td>\n",
              "      <td>-2.072855</td>\n",
              "      <td>700</td>\n",
              "      <td>train</td>\n",
              "    </tr>\n",
              "    <tr>\n",
              "      <th>10392536</th>\n",
              "      <td>48.604866</td>\n",
              "      <td>-2.825003</td>\n",
              "      <td>1456</td>\n",
              "      <td>train</td>\n",
              "    </tr>\n",
              "    <tr>\n",
              "      <th>10335049</th>\n",
              "      <td>48.815567</td>\n",
              "      <td>-0.161431</td>\n",
              "      <td>157</td>\n",
              "      <td>train</td>\n",
              "    </tr>\n",
              "  </tbody>\n",
              "</table>\n",
              "</div>\n",
              "      <button class=\"colab-df-convert\" onclick=\"convertToInteractive('df-c36ef7f8-a380-4246-9b0b-8d155c4b691a')\"\n",
              "              title=\"Convert this dataframe to an interactive table.\"\n",
              "              style=\"display:none;\">\n",
              "        \n",
              "  <svg xmlns=\"http://www.w3.org/2000/svg\" height=\"24px\"viewBox=\"0 0 24 24\"\n",
              "       width=\"24px\">\n",
              "    <path d=\"M0 0h24v24H0V0z\" fill=\"none\"/>\n",
              "    <path d=\"M18.56 5.44l.94 2.06.94-2.06 2.06-.94-2.06-.94-.94-2.06-.94 2.06-2.06.94zm-11 1L8.5 8.5l.94-2.06 2.06-.94-2.06-.94L8.5 2.5l-.94 2.06-2.06.94zm10 10l.94 2.06.94-2.06 2.06-.94-2.06-.94-.94-2.06-.94 2.06-2.06.94z\"/><path d=\"M17.41 7.96l-1.37-1.37c-.4-.4-.92-.59-1.43-.59-.52 0-1.04.2-1.43.59L10.3 9.45l-7.72 7.72c-.78.78-.78 2.05 0 2.83L4 21.41c.39.39.9.59 1.41.59.51 0 1.02-.2 1.41-.59l7.78-7.78 2.81-2.81c.8-.78.8-2.07 0-2.86zM5.41 20L4 18.59l7.72-7.72 1.47 1.35L5.41 20z\"/>\n",
              "  </svg>\n",
              "      </button>\n",
              "      \n",
              "  <style>\n",
              "    .colab-df-container {\n",
              "      display:flex;\n",
              "      flex-wrap:wrap;\n",
              "      gap: 12px;\n",
              "    }\n",
              "\n",
              "    .colab-df-convert {\n",
              "      background-color: #E8F0FE;\n",
              "      border: none;\n",
              "      border-radius: 50%;\n",
              "      cursor: pointer;\n",
              "      display: none;\n",
              "      fill: #1967D2;\n",
              "      height: 32px;\n",
              "      padding: 0 0 0 0;\n",
              "      width: 32px;\n",
              "    }\n",
              "\n",
              "    .colab-df-convert:hover {\n",
              "      background-color: #E2EBFA;\n",
              "      box-shadow: 0px 1px 2px rgba(60, 64, 67, 0.3), 0px 1px 3px 1px rgba(60, 64, 67, 0.15);\n",
              "      fill: #174EA6;\n",
              "    }\n",
              "\n",
              "    [theme=dark] .colab-df-convert {\n",
              "      background-color: #3B4455;\n",
              "      fill: #D2E3FC;\n",
              "    }\n",
              "\n",
              "    [theme=dark] .colab-df-convert:hover {\n",
              "      background-color: #434B5C;\n",
              "      box-shadow: 0px 1px 3px 1px rgba(0, 0, 0, 0.15);\n",
              "      filter: drop-shadow(0px 1px 2px rgba(0, 0, 0, 0.3));\n",
              "      fill: #FFFFFF;\n",
              "    }\n",
              "  </style>\n",
              "\n",
              "      <script>\n",
              "        const buttonEl =\n",
              "          document.querySelector('#df-c36ef7f8-a380-4246-9b0b-8d155c4b691a button.colab-df-convert');\n",
              "        buttonEl.style.display =\n",
              "          google.colab.kernel.accessAllowed ? 'block' : 'none';\n",
              "\n",
              "        async function convertToInteractive(key) {\n",
              "          const element = document.querySelector('#df-c36ef7f8-a380-4246-9b0b-8d155c4b691a');\n",
              "          const dataTable =\n",
              "            await google.colab.kernel.invokeFunction('convertToInteractive',\n",
              "                                                     [key], {});\n",
              "          if (!dataTable) return;\n",
              "\n",
              "          const docLinkHtml = 'Like what you see? Visit the ' +\n",
              "            '<a target=\"_blank\" href=https://colab.research.google.com/notebooks/data_table.ipynb>data table notebook</a>'\n",
              "            + ' to learn more about interactive tables.';\n",
              "          element.innerHTML = '';\n",
              "          dataTable['output_type'] = 'display_data';\n",
              "          await google.colab.output.renderOutput(dataTable, element);\n",
              "          const docLink = document.createElement('div');\n",
              "          docLink.innerHTML = docLinkHtml;\n",
              "          element.appendChild(docLink);\n",
              "        }\n",
              "      </script>\n",
              "    </div>\n",
              "  </div>\n",
              "  "
            ],
            "text/plain": [
              "                 latitude  longitude  species_id subset\n",
              "observation_id                                         \n",
              "10561949        45.705116   1.424622         241  train\n",
              "10131188        45.146973   6.416794         101  train\n",
              "10799362        46.783695  -2.072855         700  train\n",
              "10392536        48.604866  -2.825003        1456  train\n",
              "10335049        48.815567  -0.161431         157  train"
            ]
          },
          "metadata": {},
          "execution_count": 9
        }
      ],
      "source": [
        "### Training Dataset ###\n",
        "# let's load the data from file\n",
        "df_obs_fr = pd.read_csv(DATA_PATH + \"/observations/observations_fr_train.csv\", sep=\";\", index_col=\"observation_id\")\n",
        "df_obs_us = pd.read_csv(DATA_PATH + \"/observations/observations_us_train.csv\", sep=\";\", index_col=\"observation_id\")\n",
        "\n",
        "df_obs = pd.concat((df_obs_fr, df_obs_us))\n",
        "\n",
        "\n",
        "print(\"Number of observations for training: {}\".format(len(df_obs)))\n",
        "\n",
        "# let's have a look at the data\n",
        "df_obs.head()\n",
        "\n",
        "#print(x[0])"
      ]
    },
    {
      "cell_type": "code",
      "execution_count": 10,
      "metadata": {
        "id": "Z3xCgPJi6wBu",
        "colab": {
          "base_uri": "https://localhost:8080/",
          "height": 252
        },
        "outputId": "a53d0618-adf5-4c83-e974-58057f73ba54"
      },
      "outputs": [
        {
          "output_type": "stream",
          "name": "stdout",
          "text": [
            "Number of observations for testing: 36421\n"
          ]
        },
        {
          "output_type": "execute_result",
          "data": {
            "text/html": [
              "\n",
              "  <div id=\"df-ed6847c7-4cb1-43d4-a763-d67562f66970\">\n",
              "    <div class=\"colab-df-container\">\n",
              "      <div>\n",
              "<style scoped>\n",
              "    .dataframe tbody tr th:only-of-type {\n",
              "        vertical-align: middle;\n",
              "    }\n",
              "\n",
              "    .dataframe tbody tr th {\n",
              "        vertical-align: top;\n",
              "    }\n",
              "\n",
              "    .dataframe thead th {\n",
              "        text-align: right;\n",
              "    }\n",
              "</style>\n",
              "<table border=\"1\" class=\"dataframe\">\n",
              "  <thead>\n",
              "    <tr style=\"text-align: right;\">\n",
              "      <th></th>\n",
              "      <th>latitude</th>\n",
              "      <th>longitude</th>\n",
              "    </tr>\n",
              "    <tr>\n",
              "      <th>observation_id</th>\n",
              "      <th></th>\n",
              "      <th></th>\n",
              "    </tr>\n",
              "  </thead>\n",
              "  <tbody>\n",
              "    <tr>\n",
              "      <th>10782781</th>\n",
              "      <td>43.601788</td>\n",
              "      <td>6.940195</td>\n",
              "    </tr>\n",
              "    <tr>\n",
              "      <th>10364138</th>\n",
              "      <td>46.241711</td>\n",
              "      <td>0.683586</td>\n",
              "    </tr>\n",
              "    <tr>\n",
              "      <th>10692017</th>\n",
              "      <td>45.181095</td>\n",
              "      <td>1.533459</td>\n",
              "    </tr>\n",
              "    <tr>\n",
              "      <th>10222322</th>\n",
              "      <td>46.938450</td>\n",
              "      <td>5.298678</td>\n",
              "    </tr>\n",
              "    <tr>\n",
              "      <th>10241950</th>\n",
              "      <td>45.017433</td>\n",
              "      <td>0.960736</td>\n",
              "    </tr>\n",
              "  </tbody>\n",
              "</table>\n",
              "</div>\n",
              "      <button class=\"colab-df-convert\" onclick=\"convertToInteractive('df-ed6847c7-4cb1-43d4-a763-d67562f66970')\"\n",
              "              title=\"Convert this dataframe to an interactive table.\"\n",
              "              style=\"display:none;\">\n",
              "        \n",
              "  <svg xmlns=\"http://www.w3.org/2000/svg\" height=\"24px\"viewBox=\"0 0 24 24\"\n",
              "       width=\"24px\">\n",
              "    <path d=\"M0 0h24v24H0V0z\" fill=\"none\"/>\n",
              "    <path d=\"M18.56 5.44l.94 2.06.94-2.06 2.06-.94-2.06-.94-.94-2.06-.94 2.06-2.06.94zm-11 1L8.5 8.5l.94-2.06 2.06-.94-2.06-.94L8.5 2.5l-.94 2.06-2.06.94zm10 10l.94 2.06.94-2.06 2.06-.94-2.06-.94-.94-2.06-.94 2.06-2.06.94z\"/><path d=\"M17.41 7.96l-1.37-1.37c-.4-.4-.92-.59-1.43-.59-.52 0-1.04.2-1.43.59L10.3 9.45l-7.72 7.72c-.78.78-.78 2.05 0 2.83L4 21.41c.39.39.9.59 1.41.59.51 0 1.02-.2 1.41-.59l7.78-7.78 2.81-2.81c.8-.78.8-2.07 0-2.86zM5.41 20L4 18.59l7.72-7.72 1.47 1.35L5.41 20z\"/>\n",
              "  </svg>\n",
              "      </button>\n",
              "      \n",
              "  <style>\n",
              "    .colab-df-container {\n",
              "      display:flex;\n",
              "      flex-wrap:wrap;\n",
              "      gap: 12px;\n",
              "    }\n",
              "\n",
              "    .colab-df-convert {\n",
              "      background-color: #E8F0FE;\n",
              "      border: none;\n",
              "      border-radius: 50%;\n",
              "      cursor: pointer;\n",
              "      display: none;\n",
              "      fill: #1967D2;\n",
              "      height: 32px;\n",
              "      padding: 0 0 0 0;\n",
              "      width: 32px;\n",
              "    }\n",
              "\n",
              "    .colab-df-convert:hover {\n",
              "      background-color: #E2EBFA;\n",
              "      box-shadow: 0px 1px 2px rgba(60, 64, 67, 0.3), 0px 1px 3px 1px rgba(60, 64, 67, 0.15);\n",
              "      fill: #174EA6;\n",
              "    }\n",
              "\n",
              "    [theme=dark] .colab-df-convert {\n",
              "      background-color: #3B4455;\n",
              "      fill: #D2E3FC;\n",
              "    }\n",
              "\n",
              "    [theme=dark] .colab-df-convert:hover {\n",
              "      background-color: #434B5C;\n",
              "      box-shadow: 0px 1px 3px 1px rgba(0, 0, 0, 0.15);\n",
              "      filter: drop-shadow(0px 1px 2px rgba(0, 0, 0, 0.3));\n",
              "      fill: #FFFFFF;\n",
              "    }\n",
              "  </style>\n",
              "\n",
              "      <script>\n",
              "        const buttonEl =\n",
              "          document.querySelector('#df-ed6847c7-4cb1-43d4-a763-d67562f66970 button.colab-df-convert');\n",
              "        buttonEl.style.display =\n",
              "          google.colab.kernel.accessAllowed ? 'block' : 'none';\n",
              "\n",
              "        async function convertToInteractive(key) {\n",
              "          const element = document.querySelector('#df-ed6847c7-4cb1-43d4-a763-d67562f66970');\n",
              "          const dataTable =\n",
              "            await google.colab.kernel.invokeFunction('convertToInteractive',\n",
              "                                                     [key], {});\n",
              "          if (!dataTable) return;\n",
              "\n",
              "          const docLinkHtml = 'Like what you see? Visit the ' +\n",
              "            '<a target=\"_blank\" href=https://colab.research.google.com/notebooks/data_table.ipynb>data table notebook</a>'\n",
              "            + ' to learn more about interactive tables.';\n",
              "          element.innerHTML = '';\n",
              "          dataTable['output_type'] = 'display_data';\n",
              "          await google.colab.output.renderOutput(dataTable, element);\n",
              "          const docLink = document.createElement('div');\n",
              "          docLink.innerHTML = docLinkHtml;\n",
              "          element.appendChild(docLink);\n",
              "        }\n",
              "      </script>\n",
              "    </div>\n",
              "  </div>\n",
              "  "
            ],
            "text/plain": [
              "                 latitude  longitude\n",
              "observation_id                      \n",
              "10782781        43.601788   6.940195\n",
              "10364138        46.241711   0.683586\n",
              "10692017        45.181095   1.533459\n",
              "10222322        46.938450   5.298678\n",
              "10241950        45.017433   0.960736"
            ]
          },
          "metadata": {},
          "execution_count": 10
        }
      ],
      "source": [
        "### Test Dataset ###\n",
        "df_obs_fr_test = pd.read_csv(DATA_PATH + \"/observations/observations_fr_test.csv\", sep=\";\", index_col=\"observation_id\")\n",
        "df_obs_us_test = pd.read_csv(DATA_PATH + \"/observations/observations_us_test.csv\", sep=\";\", index_col=\"observation_id\")\n",
        "\n",
        "df_obs_test = pd.concat((df_obs_fr_test, df_obs_us_test))\n",
        "\n",
        "\n",
        "print(\"Number of observations for testing: {}\".format(len(df_obs_test)))\n",
        "\n",
        "df_obs_test.head()"
      ]
    },
    {
      "cell_type": "code",
      "source": [
        ""
      ],
      "metadata": {
        "id": "BMxfMABtgja4"
      },
      "execution_count": 10,
      "outputs": []
    },
    {
      "cell_type": "code",
      "execution_count": 11,
      "metadata": {
        "id": "x24PvjPR6wBv",
        "colab": {
          "base_uri": "https://localhost:8080/"
        },
        "outputId": "1399e0eb-1a69-400f-ac57-a433487def60"
      },
      "outputs": [
        {
          "output_type": "stream",
          "name": "stdout",
          "text": [
            "\u001b[0m\u001b[01;34m00\u001b[0m/  \u001b[01;34m07\u001b[0m/  \u001b[01;34m14\u001b[0m/  \u001b[01;34m21\u001b[0m/  \u001b[01;34m28\u001b[0m/  \u001b[01;34m35\u001b[0m/  \u001b[01;34m42\u001b[0m/  \u001b[01;34m49\u001b[0m/  \u001b[01;34m56\u001b[0m/  \u001b[01;34m63\u001b[0m/  \u001b[01;34m70\u001b[0m/  \u001b[01;34m77\u001b[0m/  \u001b[01;34m84\u001b[0m/  \u001b[01;34m91\u001b[0m/  \u001b[01;34m98\u001b[0m/\n",
            "\u001b[01;34m01\u001b[0m/  \u001b[01;34m08\u001b[0m/  \u001b[01;34m15\u001b[0m/  \u001b[01;34m22\u001b[0m/  \u001b[01;34m29\u001b[0m/  \u001b[01;34m36\u001b[0m/  \u001b[01;34m43\u001b[0m/  \u001b[01;34m50\u001b[0m/  \u001b[01;34m57\u001b[0m/  \u001b[01;34m64\u001b[0m/  \u001b[01;34m71\u001b[0m/  \u001b[01;34m78\u001b[0m/  \u001b[01;34m85\u001b[0m/  \u001b[01;34m92\u001b[0m/  \u001b[01;34m99\u001b[0m/\n",
            "\u001b[01;34m02\u001b[0m/  \u001b[01;34m09\u001b[0m/  \u001b[01;34m16\u001b[0m/  \u001b[01;34m23\u001b[0m/  \u001b[01;34m30\u001b[0m/  \u001b[01;34m37\u001b[0m/  \u001b[01;34m44\u001b[0m/  \u001b[01;34m51\u001b[0m/  \u001b[01;34m58\u001b[0m/  \u001b[01;34m65\u001b[0m/  \u001b[01;34m72\u001b[0m/  \u001b[01;34m79\u001b[0m/  \u001b[01;34m86\u001b[0m/  \u001b[01;34m93\u001b[0m/\n",
            "\u001b[01;34m03\u001b[0m/  \u001b[01;34m10\u001b[0m/  \u001b[01;34m17\u001b[0m/  \u001b[01;34m24\u001b[0m/  \u001b[01;34m31\u001b[0m/  \u001b[01;34m38\u001b[0m/  \u001b[01;34m45\u001b[0m/  \u001b[01;34m52\u001b[0m/  \u001b[01;34m59\u001b[0m/  \u001b[01;34m66\u001b[0m/  \u001b[01;34m73\u001b[0m/  \u001b[01;34m80\u001b[0m/  \u001b[01;34m87\u001b[0m/  \u001b[01;34m94\u001b[0m/\n",
            "\u001b[01;34m04\u001b[0m/  \u001b[01;34m11\u001b[0m/  \u001b[01;34m18\u001b[0m/  \u001b[01;34m25\u001b[0m/  \u001b[01;34m32\u001b[0m/  \u001b[01;34m39\u001b[0m/  \u001b[01;34m46\u001b[0m/  \u001b[01;34m53\u001b[0m/  \u001b[01;34m60\u001b[0m/  \u001b[01;34m67\u001b[0m/  \u001b[01;34m74\u001b[0m/  \u001b[01;34m81\u001b[0m/  \u001b[01;34m88\u001b[0m/  \u001b[01;34m95\u001b[0m/\n",
            "\u001b[01;34m05\u001b[0m/  \u001b[01;34m12\u001b[0m/  \u001b[01;34m19\u001b[0m/  \u001b[01;34m26\u001b[0m/  \u001b[01;34m33\u001b[0m/  \u001b[01;34m40\u001b[0m/  \u001b[01;34m47\u001b[0m/  \u001b[01;34m54\u001b[0m/  \u001b[01;34m61\u001b[0m/  \u001b[01;34m68\u001b[0m/  \u001b[01;34m75\u001b[0m/  \u001b[01;34m82\u001b[0m/  \u001b[01;34m89\u001b[0m/  \u001b[01;34m96\u001b[0m/\n",
            "\u001b[01;34m06\u001b[0m/  \u001b[01;34m13\u001b[0m/  \u001b[01;34m20\u001b[0m/  \u001b[01;34m27\u001b[0m/  \u001b[01;34m34\u001b[0m/  \u001b[01;34m41\u001b[0m/  \u001b[01;34m48\u001b[0m/  \u001b[01;34m55\u001b[0m/  \u001b[01;34m62\u001b[0m/  \u001b[01;34m69\u001b[0m/  \u001b[01;34m76\u001b[0m/  \u001b[01;34m83\u001b[0m/  \u001b[01;34m90\u001b[0m/  \u001b[01;34m97\u001b[0m/\n"
          ]
        }
      ],
      "source": [
        "ls $DATA_PATH/patches-fr/00"
      ]
    },
    {
      "cell_type": "code",
      "execution_count": 12,
      "metadata": {
        "id": "SKduRYbU6wBw",
        "colab": {
          "base_uri": "https://localhost:8080/",
          "height": 204
        },
        "outputId": "6286e304-fbd4-4734-e2c6-bf51ed35dda7"
      },
      "outputs": [
        {
          "output_type": "execute_result",
          "data": {
            "text/html": [
              "\n",
              "  <div id=\"df-ea8c992f-dab3-4ab1-8fcf-11f400b0a5d4\">\n",
              "    <div class=\"colab-df-container\">\n",
              "      <div>\n",
              "<style scoped>\n",
              "    .dataframe tbody tr th:only-of-type {\n",
              "        vertical-align: middle;\n",
              "    }\n",
              "\n",
              "    .dataframe tbody tr th {\n",
              "        vertical-align: top;\n",
              "    }\n",
              "\n",
              "    .dataframe thead th {\n",
              "        text-align: right;\n",
              "    }\n",
              "</style>\n",
              "<table border=\"1\" class=\"dataframe\">\n",
              "  <thead>\n",
              "    <tr style=\"text-align: right;\">\n",
              "      <th></th>\n",
              "      <th>landcover_code</th>\n",
              "      <th>suggested_landcover_code</th>\n",
              "      <th>suggested_landcover_label</th>\n",
              "    </tr>\n",
              "  </thead>\n",
              "  <tbody>\n",
              "    <tr>\n",
              "      <th>0</th>\n",
              "      <td>0</td>\n",
              "      <td>0</td>\n",
              "      <td>Missing Data</td>\n",
              "    </tr>\n",
              "    <tr>\n",
              "      <th>1</th>\n",
              "      <td>1</td>\n",
              "      <td>11</td>\n",
              "      <td>Cultivated Crops</td>\n",
              "    </tr>\n",
              "    <tr>\n",
              "      <th>2</th>\n",
              "      <td>2</td>\n",
              "      <td>11</td>\n",
              "      <td>Cultivated Crops</td>\n",
              "    </tr>\n",
              "    <tr>\n",
              "      <th>3</th>\n",
              "      <td>3</td>\n",
              "      <td>6</td>\n",
              "      <td>Broad-leaved Forest</td>\n",
              "    </tr>\n",
              "    <tr>\n",
              "      <th>4</th>\n",
              "      <td>4</td>\n",
              "      <td>7</td>\n",
              "      <td>Coniferous Forest</td>\n",
              "    </tr>\n",
              "  </tbody>\n",
              "</table>\n",
              "</div>\n",
              "      <button class=\"colab-df-convert\" onclick=\"convertToInteractive('df-ea8c992f-dab3-4ab1-8fcf-11f400b0a5d4')\"\n",
              "              title=\"Convert this dataframe to an interactive table.\"\n",
              "              style=\"display:none;\">\n",
              "        \n",
              "  <svg xmlns=\"http://www.w3.org/2000/svg\" height=\"24px\"viewBox=\"0 0 24 24\"\n",
              "       width=\"24px\">\n",
              "    <path d=\"M0 0h24v24H0V0z\" fill=\"none\"/>\n",
              "    <path d=\"M18.56 5.44l.94 2.06.94-2.06 2.06-.94-2.06-.94-.94-2.06-.94 2.06-2.06.94zm-11 1L8.5 8.5l.94-2.06 2.06-.94-2.06-.94L8.5 2.5l-.94 2.06-2.06.94zm10 10l.94 2.06.94-2.06 2.06-.94-2.06-.94-.94-2.06-.94 2.06-2.06.94z\"/><path d=\"M17.41 7.96l-1.37-1.37c-.4-.4-.92-.59-1.43-.59-.52 0-1.04.2-1.43.59L10.3 9.45l-7.72 7.72c-.78.78-.78 2.05 0 2.83L4 21.41c.39.39.9.59 1.41.59.51 0 1.02-.2 1.41-.59l7.78-7.78 2.81-2.81c.8-.78.8-2.07 0-2.86zM5.41 20L4 18.59l7.72-7.72 1.47 1.35L5.41 20z\"/>\n",
              "  </svg>\n",
              "      </button>\n",
              "      \n",
              "  <style>\n",
              "    .colab-df-container {\n",
              "      display:flex;\n",
              "      flex-wrap:wrap;\n",
              "      gap: 12px;\n",
              "    }\n",
              "\n",
              "    .colab-df-convert {\n",
              "      background-color: #E8F0FE;\n",
              "      border: none;\n",
              "      border-radius: 50%;\n",
              "      cursor: pointer;\n",
              "      display: none;\n",
              "      fill: #1967D2;\n",
              "      height: 32px;\n",
              "      padding: 0 0 0 0;\n",
              "      width: 32px;\n",
              "    }\n",
              "\n",
              "    .colab-df-convert:hover {\n",
              "      background-color: #E2EBFA;\n",
              "      box-shadow: 0px 1px 2px rgba(60, 64, 67, 0.3), 0px 1px 3px 1px rgba(60, 64, 67, 0.15);\n",
              "      fill: #174EA6;\n",
              "    }\n",
              "\n",
              "    [theme=dark] .colab-df-convert {\n",
              "      background-color: #3B4455;\n",
              "      fill: #D2E3FC;\n",
              "    }\n",
              "\n",
              "    [theme=dark] .colab-df-convert:hover {\n",
              "      background-color: #434B5C;\n",
              "      box-shadow: 0px 1px 3px 1px rgba(0, 0, 0, 0.15);\n",
              "      filter: drop-shadow(0px 1px 2px rgba(0, 0, 0, 0.3));\n",
              "      fill: #FFFFFF;\n",
              "    }\n",
              "  </style>\n",
              "\n",
              "      <script>\n",
              "        const buttonEl =\n",
              "          document.querySelector('#df-ea8c992f-dab3-4ab1-8fcf-11f400b0a5d4 button.colab-df-convert');\n",
              "        buttonEl.style.display =\n",
              "          google.colab.kernel.accessAllowed ? 'block' : 'none';\n",
              "\n",
              "        async function convertToInteractive(key) {\n",
              "          const element = document.querySelector('#df-ea8c992f-dab3-4ab1-8fcf-11f400b0a5d4');\n",
              "          const dataTable =\n",
              "            await google.colab.kernel.invokeFunction('convertToInteractive',\n",
              "                                                     [key], {});\n",
              "          if (!dataTable) return;\n",
              "\n",
              "          const docLinkHtml = 'Like what you see? Visit the ' +\n",
              "            '<a target=\"_blank\" href=https://colab.research.google.com/notebooks/data_table.ipynb>data table notebook</a>'\n",
              "            + ' to learn more about interactive tables.';\n",
              "          element.innerHTML = '';\n",
              "          dataTable['output_type'] = 'display_data';\n",
              "          await google.colab.output.renderOutput(dataTable, element);\n",
              "          const docLink = document.createElement('div');\n",
              "          docLink.innerHTML = docLinkHtml;\n",
              "          element.appendChild(docLink);\n",
              "        }\n",
              "      </script>\n",
              "    </div>\n",
              "  </div>\n",
              "  "
            ],
            "text/plain": [
              "   landcover_code  suggested_landcover_code suggested_landcover_label\n",
              "0               0                         0              Missing Data\n",
              "1               1                        11          Cultivated Crops\n",
              "2               2                        11          Cultivated Crops\n",
              "3               3                         6       Broad-leaved Forest\n",
              "4               4                         7         Coniferous Forest"
            ]
          },
          "metadata": {},
          "execution_count": 12
        }
      ],
      "source": [
        "df_suggested_landcover_alignment = pd.read_csv(DATA_PATH + \"/metadata/landcover_suggested_alignment.csv\", sep=\";\")\n",
        "df_suggested_landcover_alignment.head()"
      ]
    },
    {
      "cell_type": "code",
      "execution_count": 13,
      "metadata": {
        "id": "ERfilO456wBw",
        "colab": {
          "base_uri": "https://localhost:8080/"
        },
        "outputId": "f9a8485e-f7d2-4eab-c7df-f3f7029a3a0c"
      },
      "outputs": [
        {
          "output_type": "stream",
          "name": "stdout",
          "text": [
            "Number of data sources: 4\n",
            "Arrays shape: [(256, 256, 3), (256, 256), (256, 256), (256, 256)]\n",
            "Data types: [dtype('uint8'), dtype('uint8'), dtype('int16'), dtype('uint8')]\n"
          ]
        }
      ],
      "source": [
        "from GLC.data_loading.common import load_patch\n",
        "\n",
        "patch = load_patch(10171444, DATA_PATH)\n",
        "\n",
        "print(\"Number of data sources: {}\".format(len(patch)))\n",
        "print(\"Arrays shape: {}\".format([p.shape for p in patch]))\n",
        "print(\"Data types: {}\".format([p.dtype for p in patch]))"
      ]
    },
    {
      "cell_type": "code",
      "execution_count": 14,
      "metadata": {
        "id": "Jo60DVwq6wBx"
      },
      "outputs": [],
      "source": [
        "landcover_mapping = df_suggested_landcover_alignment[\"suggested_landcover_code\"].values\n",
        "#patch = load_patch(10171444, DATA_PATH, landcover_mapping=landcover_mapping)"
      ]
    },
    {
      "cell_type": "markdown",
      "source": [
        ""
      ],
      "metadata": {
        "id": "56Q_qdBu_iO5"
      }
    },
    {
      "cell_type": "markdown",
      "metadata": {
        "id": "uFHeF5wH6wBy"
      },
      "source": [
        "### Train/Val Split Labels\n",
        "Retrieve the train/val split provided."
      ]
    },
    {
      "cell_type": "code",
      "execution_count": 15,
      "metadata": {
        "id": "f5p0CE3R6wBy",
        "colab": {
          "base_uri": "https://localhost:8080/"
        },
        "outputId": "240f6d2c-63bd-4a6b-be01-aa254e2f49ec"
      },
      "outputs": [
        {
          "output_type": "stream",
          "name": "stdout",
          "text": [
            "[10561949 10131188 10799362 ... 22068172 22068173 22068176]\n",
            "[10297014 10610548 10545927 ... 22068163 22068165 22068174]\n",
            "Training set size: 1587395 (97.5% of train observations)\n",
            "Validation set size: 40080 (2.5% of train observations)\n"
          ]
        }
      ],
      "source": [
        "#obs_id_train = df_obs.index[df_obs[\"subset\"] == \"train\"].values\n",
        "#obs_id_val = df_obs.index[df_obs[\"subset\"] == \"val\"].values\n",
        "\n",
        "obs_id_train = df_obs.index[df_obs[\"subset\"] == \"train\"].values\n",
        "obs_id_val = df_obs.index[df_obs[\"subset\"] == \"val\"].values\n",
        "print(obs_id_train)\n",
        "print(obs_id_val)\n",
        "y_train = df_obs.loc[obs_id_train][\"species_id\"].values\n",
        "y_val = df_obs.loc[obs_id_val][\"species_id\"].values\n",
        "\n",
        "n_val = len(obs_id_val)\n",
        "print(\"Training set size: {} ({:.1%} of train observations)\".format(len(y_train), len(y_train) / len(df_obs)))\n",
        "print(\"Validation set size: {} ({:.1%} of train observations)\".format(n_val, n_val / len(df_obs)))"
      ]
    },
    {
      "cell_type": "code",
      "source": [
        "print(obs_id_train == obs_id_val)\n",
        "print(y_train == y_val)"
      ],
      "metadata": {
        "colab": {
          "base_uri": "https://localhost:8080/"
        },
        "id": "bUQAfh5ViZNX",
        "outputId": "1bac3a06-28d3-485e-ee10-832c63ea7087"
      },
      "execution_count": 16,
      "outputs": [
        {
          "output_type": "stream",
          "name": "stdout",
          "text": [
            "False\n",
            "False\n"
          ]
        },
        {
          "output_type": "stream",
          "name": "stderr",
          "text": [
            "/usr/local/lib/python3.7/dist-packages/ipykernel_launcher.py:1: DeprecationWarning: elementwise comparison failed; this will raise an error in the future.\n",
            "  \"\"\"Entry point for launching an IPython kernel.\n",
            "/usr/local/lib/python3.7/dist-packages/ipykernel_launcher.py:2: DeprecationWarning: elementwise comparison failed; this will raise an error in the future.\n",
            "  \n"
          ]
        }
      ]
    },
    {
      "cell_type": "code",
      "source": [
        "#Sample SimpleImputer code was provided by the Kaggle competition: https://www.kaggle.com/code/tlorieul/geolifeclef2022-baselines-and-submission/notebook\n",
        "# Kennedy modified to preserve the column and row headings \n",
        "# Resources that were consulted to modify the code, properly apply SimpleImputer, and understand indexing in Pandas:\n",
        "# https://scikit-learn.org/stable/modules/generated/sklearn.impute.SimpleImputer.html\n",
        "# https://pandas.pydata.org/docs/user_guide/indexing.html\n",
        "# https://pandas.pydata.org/docs/reference/api/pandas.DataFrame.set_axis.html\n",
        "\n",
        "\n",
        "from sklearn.impute import SimpleImputer\n",
        "#imp = SimpleImputer(\n",
        "#    missing_values=np.nan,\n",
        "#    strategy=\"constant\",\n",
        "#    fill_value=np.finfo(np.float32).min,\n",
        "#)\n",
        "df_env = pd.read_csv(\"./geolifeclef-2022-lifeclef-2022-fgvc9/pre-extracted/environmental_vectors.csv\", sep=\";\", index_col=\"observation_id\")\n",
        "a  = df_env.loc(0)\n",
        "columnsNamesArr = df_env.columns.values\n",
        "#print(columnsNamesArr)\n",
        "rowNames = df_env.index.values\n",
        "#print(rowNames)\n",
        "my_imputer = SimpleImputer()\n",
        "#print(df_env.shape)\n",
        "#print(my_imputer.fit_transform(df_env)[0])\n",
        "\n",
        "df_env = pd.DataFrame(my_imputer.fit_transform(df_env))\n",
        "df_env.set_axis(rowNames, axis='index', inplace = True)\n",
        "df_env.set_axis(columnsNamesArr, axis='columns', inplace = True)\n",
        "#print(df_env.shape)\n",
        "\n",
        "df_env.head()\n",
        "\n"
      ],
      "metadata": {
        "colab": {
          "base_uri": "https://localhost:8080/",
          "height": 302
        },
        "id": "wXj3FBy0E97c",
        "outputId": "911a3f3d-07fa-4f99-da58-501cad7783ea"
      },
      "execution_count": 17,
      "outputs": [
        {
          "output_type": "stream",
          "name": "stderr",
          "text": [
            "/usr/local/lib/python3.7/dist-packages/numpy/lib/arraysetops.py:580: FutureWarning: elementwise comparison failed; returning scalar instead, but in the future will perform elementwise comparison\n",
            "  mask |= (ar1 == a)\n"
          ]
        },
        {
          "output_type": "execute_result",
          "data": {
            "text/html": [
              "\n",
              "  <div id=\"df-3058c8be-6c14-4203-ad46-d0edbf160766\">\n",
              "    <div class=\"colab-df-container\">\n",
              "      <div>\n",
              "<style scoped>\n",
              "    .dataframe tbody tr th:only-of-type {\n",
              "        vertical-align: middle;\n",
              "    }\n",
              "\n",
              "    .dataframe tbody tr th {\n",
              "        vertical-align: top;\n",
              "    }\n",
              "\n",
              "    .dataframe thead th {\n",
              "        text-align: right;\n",
              "    }\n",
              "</style>\n",
              "<table border=\"1\" class=\"dataframe\">\n",
              "  <thead>\n",
              "    <tr style=\"text-align: right;\">\n",
              "      <th></th>\n",
              "      <th>bio_1</th>\n",
              "      <th>bio_2</th>\n",
              "      <th>bio_3</th>\n",
              "      <th>bio_4</th>\n",
              "      <th>bio_5</th>\n",
              "      <th>bio_6</th>\n",
              "      <th>bio_7</th>\n",
              "      <th>bio_8</th>\n",
              "      <th>bio_9</th>\n",
              "      <th>bio_10</th>\n",
              "      <th>bio_11</th>\n",
              "      <th>bio_12</th>\n",
              "      <th>bio_13</th>\n",
              "      <th>bio_14</th>\n",
              "      <th>bio_15</th>\n",
              "      <th>bio_16</th>\n",
              "      <th>bio_17</th>\n",
              "      <th>bio_18</th>\n",
              "      <th>bio_19</th>\n",
              "      <th>bdticm</th>\n",
              "      <th>bldfie</th>\n",
              "      <th>cecsol</th>\n",
              "      <th>clyppt</th>\n",
              "      <th>orcdrc</th>\n",
              "      <th>phihox</th>\n",
              "      <th>sltppt</th>\n",
              "      <th>sndppt</th>\n",
              "    </tr>\n",
              "  </thead>\n",
              "  <tbody>\n",
              "    <tr>\n",
              "      <th>10000000</th>\n",
              "      <td>1.420833</td>\n",
              "      <td>6.908333</td>\n",
              "      <td>29.272598</td>\n",
              "      <td>614.14930</td>\n",
              "      <td>15.1</td>\n",
              "      <td>-8.5</td>\n",
              "      <td>23.600000</td>\n",
              "      <td>-1.000000</td>\n",
              "      <td>9.183333</td>\n",
              "      <td>9.466667</td>\n",
              "      <td>-5.083334</td>\n",
              "      <td>1361.0</td>\n",
              "      <td>148.0</td>\n",
              "      <td>68.0</td>\n",
              "      <td>20.667326</td>\n",
              "      <td>416.0</td>\n",
              "      <td>245.0</td>\n",
              "      <td>248.0</td>\n",
              "      <td>358.0</td>\n",
              "      <td>2082.0</td>\n",
              "      <td>988.0</td>\n",
              "      <td>29.0</td>\n",
              "      <td>13.0</td>\n",
              "      <td>63.0</td>\n",
              "      <td>62.0</td>\n",
              "      <td>34.0</td>\n",
              "      <td>53.0</td>\n",
              "    </tr>\n",
              "    <tr>\n",
              "      <th>10000001</th>\n",
              "      <td>8.837500</td>\n",
              "      <td>9.858334</td>\n",
              "      <td>37.771393</td>\n",
              "      <td>586.81390</td>\n",
              "      <td>23.8</td>\n",
              "      <td>-2.3</td>\n",
              "      <td>26.099998</td>\n",
              "      <td>6.016667</td>\n",
              "      <td>16.383333</td>\n",
              "      <td>16.383333</td>\n",
              "      <td>2.116667</td>\n",
              "      <td>1109.0</td>\n",
              "      <td>113.0</td>\n",
              "      <td>64.0</td>\n",
              "      <td>15.231100</td>\n",
              "      <td>314.0</td>\n",
              "      <td>226.0</td>\n",
              "      <td>226.0</td>\n",
              "      <td>288.0</td>\n",
              "      <td>1816.0</td>\n",
              "      <td>1142.0</td>\n",
              "      <td>20.0</td>\n",
              "      <td>22.0</td>\n",
              "      <td>39.0</td>\n",
              "      <td>58.0</td>\n",
              "      <td>41.0</td>\n",
              "      <td>36.0</td>\n",
              "    </tr>\n",
              "    <tr>\n",
              "      <th>10000002</th>\n",
              "      <td>6.241667</td>\n",
              "      <td>8.350000</td>\n",
              "      <td>32.239384</td>\n",
              "      <td>632.86090</td>\n",
              "      <td>21.0</td>\n",
              "      <td>-4.9</td>\n",
              "      <td>25.900000</td>\n",
              "      <td>3.033333</td>\n",
              "      <td>14.200000</td>\n",
              "      <td>14.200000</td>\n",
              "      <td>-1.083333</td>\n",
              "      <td>1288.0</td>\n",
              "      <td>144.0</td>\n",
              "      <td>71.0</td>\n",
              "      <td>17.713518</td>\n",
              "      <td>386.0</td>\n",
              "      <td>268.0</td>\n",
              "      <td>268.0</td>\n",
              "      <td>317.0</td>\n",
              "      <td>1346.0</td>\n",
              "      <td>1075.0</td>\n",
              "      <td>29.0</td>\n",
              "      <td>22.0</td>\n",
              "      <td>54.0</td>\n",
              "      <td>59.0</td>\n",
              "      <td>40.0</td>\n",
              "      <td>38.0</td>\n",
              "    </tr>\n",
              "    <tr>\n",
              "      <th>10000003</th>\n",
              "      <td>12.554167</td>\n",
              "      <td>9.525001</td>\n",
              "      <td>40.189877</td>\n",
              "      <td>541.80865</td>\n",
              "      <td>25.9</td>\n",
              "      <td>2.2</td>\n",
              "      <td>23.699999</td>\n",
              "      <td>6.850000</td>\n",
              "      <td>19.350000</td>\n",
              "      <td>19.350000</td>\n",
              "      <td>6.250000</td>\n",
              "      <td>877.0</td>\n",
              "      <td>97.0</td>\n",
              "      <td>48.0</td>\n",
              "      <td>21.229550</td>\n",
              "      <td>279.0</td>\n",
              "      <td>157.0</td>\n",
              "      <td>157.0</td>\n",
              "      <td>257.0</td>\n",
              "      <td>1227.0</td>\n",
              "      <td>1383.0</td>\n",
              "      <td>21.0</td>\n",
              "      <td>28.0</td>\n",
              "      <td>18.0</td>\n",
              "      <td>71.0</td>\n",
              "      <td>46.0</td>\n",
              "      <td>25.0</td>\n",
              "    </tr>\n",
              "    <tr>\n",
              "      <th>10000004</th>\n",
              "      <td>8.029167</td>\n",
              "      <td>10.075000</td>\n",
              "      <td>36.636364</td>\n",
              "      <td>633.01750</td>\n",
              "      <td>23.7</td>\n",
              "      <td>-3.8</td>\n",
              "      <td>27.500000</td>\n",
              "      <td>4.616667</td>\n",
              "      <td>16.083334</td>\n",
              "      <td>16.083334</td>\n",
              "      <td>0.766667</td>\n",
              "      <td>1102.0</td>\n",
              "      <td>128.0</td>\n",
              "      <td>52.0</td>\n",
              "      <td>21.077870</td>\n",
              "      <td>348.0</td>\n",
              "      <td>214.0</td>\n",
              "      <td>214.0</td>\n",
              "      <td>280.0</td>\n",
              "      <td>2833.0</td>\n",
              "      <td>1202.0</td>\n",
              "      <td>24.0</td>\n",
              "      <td>25.0</td>\n",
              "      <td>33.0</td>\n",
              "      <td>69.0</td>\n",
              "      <td>38.0</td>\n",
              "      <td>37.0</td>\n",
              "    </tr>\n",
              "  </tbody>\n",
              "</table>\n",
              "</div>\n",
              "      <button class=\"colab-df-convert\" onclick=\"convertToInteractive('df-3058c8be-6c14-4203-ad46-d0edbf160766')\"\n",
              "              title=\"Convert this dataframe to an interactive table.\"\n",
              "              style=\"display:none;\">\n",
              "        \n",
              "  <svg xmlns=\"http://www.w3.org/2000/svg\" height=\"24px\"viewBox=\"0 0 24 24\"\n",
              "       width=\"24px\">\n",
              "    <path d=\"M0 0h24v24H0V0z\" fill=\"none\"/>\n",
              "    <path d=\"M18.56 5.44l.94 2.06.94-2.06 2.06-.94-2.06-.94-.94-2.06-.94 2.06-2.06.94zm-11 1L8.5 8.5l.94-2.06 2.06-.94-2.06-.94L8.5 2.5l-.94 2.06-2.06.94zm10 10l.94 2.06.94-2.06 2.06-.94-2.06-.94-.94-2.06-.94 2.06-2.06.94z\"/><path d=\"M17.41 7.96l-1.37-1.37c-.4-.4-.92-.59-1.43-.59-.52 0-1.04.2-1.43.59L10.3 9.45l-7.72 7.72c-.78.78-.78 2.05 0 2.83L4 21.41c.39.39.9.59 1.41.59.51 0 1.02-.2 1.41-.59l7.78-7.78 2.81-2.81c.8-.78.8-2.07 0-2.86zM5.41 20L4 18.59l7.72-7.72 1.47 1.35L5.41 20z\"/>\n",
              "  </svg>\n",
              "      </button>\n",
              "      \n",
              "  <style>\n",
              "    .colab-df-container {\n",
              "      display:flex;\n",
              "      flex-wrap:wrap;\n",
              "      gap: 12px;\n",
              "    }\n",
              "\n",
              "    .colab-df-convert {\n",
              "      background-color: #E8F0FE;\n",
              "      border: none;\n",
              "      border-radius: 50%;\n",
              "      cursor: pointer;\n",
              "      display: none;\n",
              "      fill: #1967D2;\n",
              "      height: 32px;\n",
              "      padding: 0 0 0 0;\n",
              "      width: 32px;\n",
              "    }\n",
              "\n",
              "    .colab-df-convert:hover {\n",
              "      background-color: #E2EBFA;\n",
              "      box-shadow: 0px 1px 2px rgba(60, 64, 67, 0.3), 0px 1px 3px 1px rgba(60, 64, 67, 0.15);\n",
              "      fill: #174EA6;\n",
              "    }\n",
              "\n",
              "    [theme=dark] .colab-df-convert {\n",
              "      background-color: #3B4455;\n",
              "      fill: #D2E3FC;\n",
              "    }\n",
              "\n",
              "    [theme=dark] .colab-df-convert:hover {\n",
              "      background-color: #434B5C;\n",
              "      box-shadow: 0px 1px 3px 1px rgba(0, 0, 0, 0.15);\n",
              "      filter: drop-shadow(0px 1px 2px rgba(0, 0, 0, 0.3));\n",
              "      fill: #FFFFFF;\n",
              "    }\n",
              "  </style>\n",
              "\n",
              "      <script>\n",
              "        const buttonEl =\n",
              "          document.querySelector('#df-3058c8be-6c14-4203-ad46-d0edbf160766 button.colab-df-convert');\n",
              "        buttonEl.style.display =\n",
              "          google.colab.kernel.accessAllowed ? 'block' : 'none';\n",
              "\n",
              "        async function convertToInteractive(key) {\n",
              "          const element = document.querySelector('#df-3058c8be-6c14-4203-ad46-d0edbf160766');\n",
              "          const dataTable =\n",
              "            await google.colab.kernel.invokeFunction('convertToInteractive',\n",
              "                                                     [key], {});\n",
              "          if (!dataTable) return;\n",
              "\n",
              "          const docLinkHtml = 'Like what you see? Visit the ' +\n",
              "            '<a target=\"_blank\" href=https://colab.research.google.com/notebooks/data_table.ipynb>data table notebook</a>'\n",
              "            + ' to learn more about interactive tables.';\n",
              "          element.innerHTML = '';\n",
              "          dataTable['output_type'] = 'display_data';\n",
              "          await google.colab.output.renderOutput(dataTable, element);\n",
              "          const docLink = document.createElement('div');\n",
              "          docLink.innerHTML = docLinkHtml;\n",
              "          element.appendChild(docLink);\n",
              "        }\n",
              "      </script>\n",
              "    </div>\n",
              "  </div>\n",
              "  "
            ],
            "text/plain": [
              "              bio_1      bio_2      bio_3  ...  phihox  sltppt  sndppt\n",
              "10000000   1.420833   6.908333  29.272598  ...    62.0    34.0    53.0\n",
              "10000001   8.837500   9.858334  37.771393  ...    58.0    41.0    36.0\n",
              "10000002   6.241667   8.350000  32.239384  ...    59.0    40.0    38.0\n",
              "10000003  12.554167   9.525001  40.189877  ...    71.0    46.0    25.0\n",
              "10000004   8.029167  10.075000  36.636364  ...    69.0    38.0    37.0\n",
              "\n",
              "[5 rows x 27 columns]"
            ]
          },
          "metadata": {},
          "execution_count": 17
        }
      ]
    },
    {
      "cell_type": "code",
      "source": [
        "# obs_id_test = df_obs_test.index[:].values\n"
      ],
      "metadata": {
        "id": "aCaE_lShFPaB"
      },
      "execution_count": 18,
      "outputs": []
    },
    {
      "cell_type": "markdown",
      "source": [
        "#### Get subset"
      ],
      "metadata": {
        "id": "eSLqO-sfnvtQ"
      }
    },
    {
      "cell_type": "code",
      "source": [
        "# CHOOSE SUBSET FOR 30 Labels\n",
        "# Originally, Nathalie's code chose the first n labels\n",
        "# Kennedy re-wrote this code to select 30 labels with \n",
        "# between 2000 and 3000 observation ids associated\n",
        "# These 30 labels were used for training/val/and testing.\n",
        "# Kaggle currently provides a \"training\" and \"validation\" subset\n",
        "# We needed a test subset.\n",
        "# Kennedy wrote the code such that it withheld 10% of observations ids\n",
        "# for each label to create the testing set, and used the remaining 90% of the \n",
        "# training subset as the training set. The entire validation subset whose labels\n",
        "# matched the training/test labels was selected.\n",
        "\n",
        "import random\n",
        "subset_size = 0\n",
        "obs_list = list()\n",
        "obs_test_list = list()\n",
        "import numpy as np\n",
        "# iterate over a subset of the labels\n",
        "m = 0\n",
        "for y in (np.unique(y_train)[:]):\n",
        "    #print(\"in\")\n",
        "    # for each label, retrieve all corresponding observation ids\n",
        "    obs = df_obs.index[(df_obs[\"species_id\"] == y)]\n",
        "   \n",
        "\n",
        "\n",
        "    #print(len(obs))\n",
        "    #print(counter)\n",
        "    #print(obs)\n",
        "    #print(len(obs))\n",
        "    if (len(obs) >= 2000 and len(obs) <= 3000):\n",
        "      t = set(df_obs.index[(df_obs[\"species_id\"] == y) & (df_obs[\"subset\"] == \"train\")].values)\n",
        "      m += len(t)\n",
        "      ten_perc = int(len(t)/10)\n",
        "      random.seed(3)\n",
        "      test = random.sample(t, ten_perc)\n",
        "      train = t-set(test)\n",
        "      #print(train)\n",
        "      #print(\"here\")\n",
        "      obs_test_list.append(list(test))\n",
        "      obs_list.append(list(train))\n",
        "      subset_size += 1\n",
        "    if (subset_size >= 30):\n",
        "      #print(\"break\")\n",
        "      break\n",
        "print(m)   \n",
        "# we now have a numpy array of all observation ids corresponding to this subset of labels\n",
        "obs_id_train = np.concatenate(obs_list)\n",
        "obs_id_test = np.concatenate(obs_test_list)\n",
        "gps_train = np.concatenate((df_obs.loc[obs_id_train][\"latitude\"].values, df_obs.loc[obs_id_train][\"longitude\"].values))\n",
        "# obtain the labels in the right order \n",
        "y_train = df_obs.loc[obs_id_train][\"species_id\"].values\n",
        "y_test = df_obs.loc[obs_id_test][\"species_id\"].values\n",
        "print(y_train.size)\n",
        "\n",
        "# \n",
        "\n",
        "subset_size = 8\n",
        "obs_list_1 = list()\n",
        "print(y_val.size)\n",
        "\n",
        "# iterate over a subset of the labels\n",
        "counter = 0\n",
        "print(y_val[0])\n",
        "for y in (np.unique(y_val)[:]):\n",
        "    # for each label, retrieve all corresponding observation ids\n",
        "    if (y in y_train):\n",
        "      #obs = df_obs.index[df_obs[\"species_id\"] == y].values\n",
        "      v = df_obs.index[(df_obs[\"species_id\"] == y) & (df_obs[\"subset\"] == \"val\")].values\n",
        "      obs_list_1.append(v)\n",
        "# we now have a numpy array of all observation ids corresponding to this subset of labels\n",
        "obs_id_val = np.concatenate(obs_list_1)\n",
        "\n",
        "# obtain the labels in the right order \n",
        "y_val = df_obs.loc[obs_id_val][\"species_id\"].values\n",
        "gps_val = np.concatenate((df_obs.loc[obs_id_val][\"latitude\"].values, df_obs.loc[obs_id_val][\"longitude\"].values))"
      ],
      "metadata": {
        "colab": {
          "base_uri": "https://localhost:8080/"
        },
        "id": "4oRZzeUN2AID",
        "outputId": "f0835f98-406a-4c38-89a9-4f12216d0851"
      },
      "execution_count": 19,
      "outputs": [
        {
          "output_type": "stream",
          "name": "stdout",
          "text": [
            "70294\n",
            "63278\n"
          ]
        }
      ]
    },
    {
      "cell_type": "code",
      "source": [
        "print(y_test.size)"
      ],
      "metadata": {
        "colab": {
          "base_uri": "https://localhost:8080/"
        },
        "id": "qUmn-N0VuEkz",
        "outputId": "25c5f4c6-69a7-4b65-fea0-d6d6485b07da"
      },
      "execution_count": 20,
      "outputs": [
        {
          "output_type": "stream",
          "name": "stdout",
          "text": [
            "7016\n"
          ]
        }
      ]
    },
    {
      "cell_type": "code",
      "source": [
        "print(y_val.size)\n",
        "print(obs_id_val == obs_id_train)"
      ],
      "metadata": {
        "colab": {
          "base_uri": "https://localhost:8080/"
        },
        "id": "nWROs9zwhGRL",
        "outputId": "5b03d01c-b23c-4fa7-aafa-87f9fe8991d8"
      },
      "execution_count": 23,
      "outputs": [
        {
          "output_type": "stream",
          "name": "stdout",
          "text": [
            "1831\n",
            "False\n"
          ]
        },
        {
          "output_type": "stream",
          "name": "stderr",
          "text": [
            "/usr/local/lib/python3.7/dist-packages/ipykernel_launcher.py:2: DeprecationWarning: elementwise comparison failed; this will raise an error in the future.\n",
            "  \n"
          ]
        }
      ]
    },
    {
      "cell_type": "code",
      "source": [
        "# Nathalie's code to map the labels to the proper values and shuffle them \n",
        "\n",
        "map_labels = dict()\n",
        "i = 0\n",
        "for l in np.unique(y_train):\n",
        "  map_labels[l] = i\n",
        "  i += 1\n",
        "print(map_labels)"
      ],
      "metadata": {
        "colab": {
          "base_uri": "https://localhost:8080/"
        },
        "id": "CUskhkcBR_TG",
        "outputId": "00308126-4dc9-42e0-f579-5ec788fc67cf"
      },
      "execution_count": 24,
      "outputs": [
        {
          "output_type": "stream",
          "name": "stdout",
          "text": [
            "{5: 0, 68: 1, 125: 2, 129: 3, 223: 4, 553: 5, 570: 6, 605: 7, 679: 8, 692: 9, 739: 10, 979: 11, 1075: 12, 1155: 13, 1916: 14, 2196: 15, 2524: 16, 2821: 17, 2950: 18, 2992: 19, 3253: 20, 4940: 21, 4991: 22, 4999: 23, 5025: 24, 5086: 25, 5168: 26, 5192: 27, 5207: 28, 5228: 29}\n"
          ]
        }
      ]
    },
    {
      "cell_type": "code",
      "source": [
        "y_train_normalized = np.zeros(np.shape(y_train), dtype = 'int64')\n",
        "\n",
        "for i in range(len(y_train)):\n",
        "  y_train_normalized[i] = map_labels[y_train[i]]\n",
        "\n",
        "print(y_train_normalized)"
      ],
      "metadata": {
        "colab": {
          "base_uri": "https://localhost:8080/"
        },
        "id": "Mz3KntU-SZIT",
        "outputId": "6982228b-e548-408f-b614-4b71c6f8d1e3"
      },
      "execution_count": 25,
      "outputs": [
        {
          "output_type": "stream",
          "name": "stdout",
          "text": [
            "[ 0  0  0 ... 29 29 29]\n"
          ]
        }
      ]
    },
    {
      "cell_type": "code",
      "source": [
        "from sklearn.utils import shuffle\n",
        "obs_id_train_new, y_train_normalized = shuffle(obs_id_train, y_train_normalized)\n",
        "\n",
        "print(y_train_normalized)"
      ],
      "metadata": {
        "colab": {
          "base_uri": "https://localhost:8080/"
        },
        "id": "Kd_lyIdWSwDR",
        "outputId": "6fed8ffd-837d-4296-ed96-0d66437d03e7"
      },
      "execution_count": 26,
      "outputs": [
        {
          "output_type": "stream",
          "name": "stdout",
          "text": [
            "[ 7 19  5 ...  5  8 27]\n"
          ]
        }
      ]
    },
    {
      "cell_type": "code",
      "source": [
        "map_labels = dict()\n",
        "i = 0\n",
        "for l in np.unique(y_val):\n",
        "  map_labels[l] = i\n",
        "  i += 1\n",
        "print(map_labels)"
      ],
      "metadata": {
        "colab": {
          "base_uri": "https://localhost:8080/"
        },
        "id": "fSwFEsNkTIP2",
        "outputId": "dff47308-769f-4d14-c01d-204e4e05c6b1"
      },
      "execution_count": 27,
      "outputs": [
        {
          "output_type": "stream",
          "name": "stdout",
          "text": [
            "{5: 0, 68: 1, 125: 2, 129: 3, 223: 4, 553: 5, 570: 6, 605: 7, 679: 8, 692: 9, 739: 10, 979: 11, 1075: 12, 1155: 13, 1916: 14, 2196: 15, 2524: 16, 2821: 17, 2950: 18, 2992: 19, 3253: 20, 4940: 21, 4991: 22, 4999: 23, 5025: 24, 5086: 25, 5168: 26, 5192: 27, 5207: 28, 5228: 29}\n"
          ]
        }
      ]
    },
    {
      "cell_type": "code",
      "source": [
        "y_val_normalized = np.zeros(np.shape(y_val), dtype = 'int64')\n",
        "\n",
        "for i in range(len(y_val)):\n",
        "  y_val_normalized[i] = map_labels[y_val[i]]\n",
        "\n",
        "from sklearn.utils import shuffle\n",
        "obs_id_val_new, y_val_normalized = shuffle(obs_id_val, y_val_normalized)\n",
        "print(y_val_normalized)"
      ],
      "metadata": {
        "colab": {
          "base_uri": "https://localhost:8080/"
        },
        "id": "igtOioTMTKUN",
        "outputId": "b9de513a-447a-487e-a315-7eb640054314"
      },
      "execution_count": 28,
      "outputs": [
        {
          "output_type": "stream",
          "name": "stdout",
          "text": [
            "[ 7 29 16 ... 16  6  2]\n"
          ]
        }
      ]
    },
    {
      "cell_type": "code",
      "source": [
        "map_labels = dict()\n",
        "i = 0\n",
        "for l in np.unique(y_test):\n",
        "  map_labels[l] = i\n",
        "  i += 1\n",
        "print(map_labels)\n",
        "\n",
        "y_test_normalized = np.zeros(np.shape(y_test), dtype = 'int64')\n",
        "\n",
        "for i in range(len(y_test)):\n",
        "  y_test_normalized[i] = map_labels[y_test[i]]\n",
        "\n",
        "from sklearn.utils import shuffle\n",
        "obs_id_test_new, y_test_normalized = shuffle(obs_id_test, y_test_normalized)\n",
        "print(y_test_normalized)"
      ],
      "metadata": {
        "id": "LE0VAbrRjNvn",
        "colab": {
          "base_uri": "https://localhost:8080/"
        },
        "outputId": "c2146208-4ca6-4ef5-a0fa-4de4e075b2f2"
      },
      "execution_count": 29,
      "outputs": [
        {
          "output_type": "stream",
          "name": "stdout",
          "text": [
            "{5: 0, 68: 1, 125: 2, 129: 3, 223: 4, 553: 5, 570: 6, 605: 7, 679: 8, 692: 9, 739: 10, 979: 11, 1075: 12, 1155: 13, 1916: 14, 2196: 15, 2524: 16, 2821: 17, 2950: 18, 2992: 19, 3253: 20, 4940: 21, 4991: 22, 4999: 23, 5025: 24, 5086: 25, 5168: 26, 5192: 27, 5207: 28, 5228: 29}\n",
            "[ 5 13 18 ... 22 20  0]\n"
          ]
        }
      ]
    },
    {
      "cell_type": "markdown",
      "source": [
        "####PATCH GENERATOR"
      ],
      "metadata": {
        "id": "TBEN485kUF7i"
      }
    },
    {
      "cell_type": "code",
      "source": [
        "#Custom Patch Generator for RGB images only \n"
      ],
      "metadata": {
        "id": "Pz6MdZfiIZEz"
      },
      "execution_count": null,
      "outputs": []
    },
    {
      "cell_type": "code",
      "source": [
        "\n",
        "import threading\n",
        "\n",
        "class Patches_Generator(tf.keras.utils.Sequence) :\n",
        "  \n",
        "    def __init__(self, obs_ids, labels, batch_size) :\n",
        "        self.obs_ids = obs_ids\n",
        "        self.labels = labels\n",
        "        self.batch_size = batch_size\n",
        "        \n",
        "        # to make the generator thread safe \n",
        "        self.lock = threading.Lock()\n",
        "\n",
        "    def __len__(self) :\n",
        "        return (np.ceil(len(self.obs_ids) / float(self.batch_size))).astype(int)\n",
        "  \n",
        "    # returns one batch\n",
        "    def __getitem__(self, idx) :\n",
        "        X_batch = list()\n",
        "        y_batch = list()\n",
        "\n",
        "        for i in range(idx * self.batch_size, (idx+1) * self.batch_size):\n",
        "            if i >= len(self.obs_ids): break\n",
        "            \n",
        "            patch = load_patch(self.obs_ids[i], DATA_PATH, data='all')\n",
        "            X_batch.append(patch[0])\n",
        "            y_batch.append(self.labels[i])\n",
        "\n",
        "        with self.lock:\n",
        "            return np.asarray(X_batch), np.array(y_batch)"
      ],
      "metadata": {
        "id": "qeVde2vWUIhw"
      },
      "execution_count": 30,
      "outputs": []
    },
    {
      "cell_type": "code",
      "source": [
        "#Custom generator to take in environmental vector data as well as all \n",
        "# types of satellite data. Used for multimodal ResNet\n",
        "\n",
        "import threading\n",
        "\n",
        "class Environmental_Patches_Generator(tf.keras.utils.Sequence) :\n",
        "  \n",
        "    def __init__(self, obs_ids, labels, batch_size) :\n",
        "        self.obs_ids = obs_ids\n",
        "        self.labels = labels\n",
        "        self.batch_size = batch_size\n",
        "        #self.gps = gps\n",
        "        #self.extractor = extractor\n",
        "        #print(\"INIT\")\n",
        "        # to make the generator thread safe \n",
        "        self.lock = threading.Lock()\n",
        "\n",
        "    def __len__(self) :\n",
        "        return (np.ceil(len(self.obs_ids) / float(self.batch_size))).astype(int)\n",
        "  \n",
        "    # returns one batch\n",
        "    def __getitem__(self, idx) :\n",
        "        X_batch = list()\n",
        "        y_batch = list()\n",
        "        X_env_batch = list()\n",
        "\n",
        "        #print(\"ONE BATCH\")\n",
        "        for i in range(idx * self.batch_size, (idx+1) * self.batch_size):\n",
        "            if i >= len(self.obs_ids): break\n",
        "            \n",
        "            rgb, near_ir, landcover, altitude = load_patch(self.obs_ids[i], DATA_PATH, data='all')\n",
        "            ni = near_ir.reshape(256, 256, 1)\n",
        "            lc = landcover.reshape(256, 256, 1)\n",
        "            alt = altitude.reshape(256, 256, 1)\n",
        "\n",
        "            patch = np.concatenate((rgb, ni, lc, alt), axis=2)\n",
        "\n",
        "  \n",
        "            #cs = MinMaxScaler()\n",
        "            #print(\"PATCH GENERATOR\")\n",
        "            #print((df_env.loc[self.obs_ids[i]].values).shape)\n",
        "            #print(cs.fit_transform(df_env.loc[self.obs_ids[i]].values).shape)\n",
        "            #k = input()\n",
        "            X_env_batch.append(df_env.loc[self.obs_ids[i]].values)\n",
        "            #X_env_batch.append(df_env[self.obs_ids[i], :])\n",
        "            #X_env_batch.append(cs.fit_transform(df_env.loc[self.obs_ids[i]].values.reshape(-1,1)))\n",
        "            X_batch.append(patch)\n",
        "            y_batch.append(self.labels[i])\n",
        "\n",
        "            \n",
        "\n",
        "\n",
        "\n",
        "        with self.lock:\n",
        "        \n",
        "            \n",
        "            #return {'input_1': np.asarray(X_batch), 'input_2': np.asarray(X_env_batch)}, np.asarray(np.array(y_batch))\n",
        "            #return np.asarray(X_batch), np.array(y_batch)\n",
        "            return (np.asarray(X_batch), np.asarray(X_env_batch)), np.array(y_batch)"
      ],
      "metadata": {
        "id": "2cFjcJLQL1N5"
      },
      "execution_count": 31,
      "outputs": []
    },
    {
      "cell_type": "markdown",
      "source": [
        "### ResNet From Scratch\n",
        "\n",
        "Citation: ResNet from Scratch was build following these tutorials:\n",
        "\n",
        "Conv_net and identity_block code snippets from: https://www.analyticsvidhya.com/blog/2021/06/build-resnet-from-scratch-with-python/\n",
        "https://towardsdatascience.com/understand-and-implement-resnet-50-with-tensorflow-2-0-1190b9b52691\n"
      ],
      "metadata": {
        "id": "4-8ZzwPeoaTU"
      }
    },
    {
      "cell_type": "code",
      "execution_count": 32,
      "metadata": {
        "id": "fuNgS5Pa6wB7"
      },
      "outputs": [],
      "source": [
        "import tensorflow as tf\n",
        "\n",
        "#CODE FOR THIS IDENTITY_BLOCK AND CONV_NET WAS FROM: https://www.analyticsvidhya.com/blog/2021/06/build-resnet-from-scratch-with-python/\n",
        "# I experimented with decreasing the number of Conv2Ds in the convolutional layer by 1, but that \n",
        "# seemed to give worse results so it was reverted to the below which seems to be the standard.\n",
        "#In the future, could add another convolution in the identity_block as a experiment, since that's what\n",
        "# it seems the second link above suggests to maintain longer skip connections. \n",
        "\n",
        "def identity_block(x, filter):\n",
        "  x_skip = x\n",
        "  x = tf.keras.layers.Conv2D(filter[0], (3,3), padding = \"same\")(x)\n",
        "  x = tf.keras.layers.BatchNormalization()(x)\n",
        "  x = tf.keras.layers.Activation('relu')(x)\n",
        "\n",
        "  #print(\"A\")\n",
        "  x = tf.keras.layers.Conv2D(filter[1], (3,3), padding = \"same\")(x)\n",
        "  x = tf.keras.layers.BatchNormalization()(x)\n",
        "  x = tf.keras.layers.Add()([x, x_skip])\n",
        "\n",
        "  x = tf.keras.layers.Activation('relu')(x)\n",
        "\n",
        "  return x\n",
        "\n",
        "def conv_net(x, filter):\n",
        "  \n",
        "  x_skip = x\n",
        "  #print(\"B\")\n",
        "  x = tf.keras.layers.Conv2D(filter[0], (3,3), strides = 2, padding = \"same\")(x)\n",
        "  #print(\"C\")\n",
        "  x = tf.keras.layers.BatchNormalization()(x)\n",
        "  x = tf.keras.layers.Activation('relu')(x)\n",
        "  #print(\"D\")\n",
        "  x = tf.keras.layers.Conv2D(filter[0], (3,3), padding = \"same\")(x)\n",
        "  x = tf.keras.layers.BatchNormalization()(x)\n",
        "  #print(\"E\")\n",
        "  x_skip = tf.keras.layers.Conv2D(filter[1], (1,1), strides = 2, padding = \"same\")(x_skip)\n",
        "  x = tf.keras.layers.Add()([x, x_skip])\n",
        "  #print(\"F\")\n",
        "  x = tf.keras.layers.Activation('relu')(x)\n",
        "\n",
        "  return x\n",
        "\n",
        "#input 1 is for image data, input 2 is for tabular data\n",
        "def my_res(input_shape, num_classes):\n",
        "  x_input = tf.keras.layers.Input(input_shape)\n",
        "  x = tf.keras.layers.Rescaling(1./255)(x_input)\n",
        "  x = tf.keras.layers.ZeroPadding2D(padding = (3,3))(x)\n",
        "\n",
        "  \n",
        "  #print(\"a\")\n",
        "  x = tf.keras.layers.Conv2D(64, 7 , strides = 2, padding = \"same\")(x)\n",
        "  x = tf.keras.layers.BatchNormalization()(x)\n",
        "  x = tf.keras.layers.Activation('relu')(x)\n",
        "  x = tf.keras.layers.MaxPooling2D(pool_size=(3,3), strides = (2,2), padding = \"same\")(x)\n",
        "\n",
        "  #print(x.shape)\n",
        "  #print('b')\n",
        "  x = conv_net(x, (64, 64))\n",
        "  #print('c')\n",
        "  x = identity_block(x, (64, 64))\n",
        "\n",
        "  #print('d')\n",
        "  x = conv_net(x, (128, 128))\n",
        "  x = identity_block(x, (128, 128))\n",
        "  x = identity_block(x, (128, 128))\n",
        "  #x = identity_block(x, (128, 128))\n",
        "\n",
        "  x = conv_net(x, (256, 256))\n",
        "  x = identity_block(x, (256, 256))\n",
        "  x = identity_block(x, (256, 256))\n",
        "  x = identity_block(x, (256, 256))\n",
        "  x = identity_block(x, (256, 256))\n",
        "\n",
        "  x = tf.keras.layers.AveragePooling2D(padding = \"same\")(x)\n",
        "  x = tf.keras.layers.Flatten()(x)\n",
        "  x = tf.keras.layers.Dense(num_classes, activation = 'softmax')(x)\n",
        "\n",
        "  model = tf.keras.models.Model(inputs = x_input, outputs = x, name = \"resnet_from_scratch\")\n",
        "\n",
        "  return model\n",
        "\n",
        "\n",
        "\n",
        "\n"
      ]
    },
    {
      "cell_type": "markdown",
      "source": [
        "#### ResNet Modified to take in image + tabular \n",
        "\n",
        "Used the code from above + modified to take multimodal input. Now takes two input sizes -- 1 is (256, 256, 6) for the 6 channels for all of the satellite image data. The second input is (27) for the tabular bioclimatic and pedologic data."
      ],
      "metadata": {
        "id": "1uqttvwvTDi0"
      }
    },
    {
      "cell_type": "code",
      "source": [
        "import tensorflow as tf\n",
        "from sklearn.preprocessing import MinMaxScaler\n",
        "\n",
        "def identity_block(x, filter):\n",
        "  x_skip = x\n",
        "  x = tf.keras.layers.Conv2D(filter[0], (3,3), padding = \"same\")(x)\n",
        "  x = tf.keras.layers.BatchNormalization()(x)\n",
        "  x = tf.keras.layers.Activation('relu')(x)\n",
        "\n",
        "  #print(\"A\")\n",
        "  x = tf.keras.layers.Conv2D(filter[1], (3,3), padding = \"same\")(x)\n",
        "  x = tf.keras.layers.BatchNormalization()(x)\n",
        "  x = tf.keras.layers.Add()([x, x_skip])\n",
        "\n",
        "  x = tf.keras.layers.Activation('relu')(x)\n",
        "\n",
        "  return x\n",
        "\n",
        "def conv_net(x, filter):\n",
        "  \n",
        "  x_skip = x\n",
        "  #print(\"B\")\n",
        "  x = tf.keras.layers.Conv2D(filter[0], (3,3), strides = 2, padding = \"same\")(x)\n",
        "  #print(\"C\")\n",
        "  x = tf.keras.layers.BatchNormalization()(x)\n",
        "  x = tf.keras.layers.Activation('relu')(x)\n",
        "  #print(\"D\")\n",
        "  x = tf.keras.layers.Conv2D(filter[0], (3,3), padding = \"same\")(x)\n",
        "  x = tf.keras.layers.BatchNormalization()(x)\n",
        "  #print(\"E\")\n",
        "  x_skip = tf.keras.layers.Conv2D(filter[1], (1,1), strides = 2, padding = \"same\")(x_skip)\n",
        "  x = tf.keras.layers.Add()([x, x_skip])\n",
        "  #print(\"F\")\n",
        "  x = tf.keras.layers.Activation('relu')(x)\n",
        "\n",
        "  return x\n",
        "\n",
        "#input 1 is for image data, input 2 is for tabular data\n",
        "def my_res(input_shape1, input_shape2, num_classes):\n",
        "  x_input = tf.keras.layers.Input(input_shape1)\n",
        "  x_input = data_augmentation(x_input)\n",
        "  tab_input = tf.keras.layers.Input(input_shape2)\n",
        "  x_input = tf.keras.layers.Rescaling(1./255)(x_input)\n",
        "  x = tf.keras.layers.ZeroPadding2D(padding = (3,3))(x_input)\n",
        "\n",
        "  #print(\"a\")\n",
        "  x = tf.keras.layers.Conv2D(64, 7, strides = 2, padding = \"same\")(x)\n",
        "  x = tf.keras.layers.BatchNormalization()(x)\n",
        "  x = tf.keras.layers.Activation('relu')(x)\n",
        "  x = tf.keras.layers.MaxPooling2D(pool_size=(3,3), strides = (2,2), padding = \"same\")(x)\n",
        "\n",
        "  #print(x.shape)\n",
        "  #print('b')\n",
        "  x = conv_net(x, (64, 64))\n",
        "  #print('c')\n",
        "  x = identity_block(x, (64, 64))\n",
        "\n",
        "  #print('d')\n",
        "  x = conv_net(x, (128, 128))\n",
        "  x = identity_block(x, (128, 128))\n",
        "  x = identity_block(x, (128, 128))\n",
        "  #x = identity_block(x, (128, 128))\n",
        "\n",
        "  x = conv_net(x, (256, 256))\n",
        "  x = identity_block(x, (256, 256))\n",
        "  x = identity_block(x, (256, 256))\n",
        "  x = identity_block(x, (256, 256))\n",
        "  x = identity_block(x, (256, 256))\n",
        "\n",
        "  x = tf.keras.layers.AveragePooling2D(padding = \"same\")(x)\n",
        "  x = tf.keras.layers.Flatten()(x)\n",
        "  \n",
        "  #x = tf.keras.layers.Dense(num_classes, activation = 'softmax')(x)\n",
        "\n",
        "\n",
        "  # Add Dense layers for Tabular data\n",
        "  #y = tf.keras.layers.Dense(512)(tab_input)\n",
        "  #y = tf.keras.layers.Dense(256)(tab_input)\n",
        "  #y = tf.keras.layers.Dense(256)(x)\n",
        "  #y = tf.keras.layers.Dense(256)(tab_input)\n",
        "  #FROM stackoverflow\n",
        "  \n",
        "  x2 = tf.keras.layers.Flatten()(tab_input)\n",
        "  x2 = tf.keras.layers.Dense(32, activation='relu')(x2)\n",
        "  x2 = tf.keras.layers.Dense(128, activation='relu')(x2)\n",
        "  #x2 = tf.keras.layers.Dense(256, activation='relu')(x2)\n",
        "\n",
        "  #FIRST RUN\n",
        "  #x2 = tf.keras.layers.Dense(32, activation='relu')(x2)\n",
        "  #x2 = tf.keras.layers.Dense(128, activation='relu')(x2)\n",
        "  #x2 = tf.keras.layers.Dense(256, activation='relu')(x2)\n",
        "  #2 = tf.keras.layers.Dense(6400, activation='relu')(x2)\n",
        "\n",
        "  #print(x[0])\n",
        "  #print(x2[0])\n",
        "  #k = input()\n",
        "  #print(x.shape)\n",
        "  #print(x2.shape)\n",
        "  \n",
        "  #k = input()\n",
        "  # Concatenate Image and tabular weights\n",
        "  z = tf.keras.layers.Concatenate(axis=1)([x, x2])\n",
        "\n",
        "  # Add Classification Head\n",
        "  #z = tf.keras.layers.Dense(128)(z)\n",
        "  classifier = tf.keras.layers.Dense(num_classes, activation='softmax')(z)\n",
        "\n",
        "  #classifier = tf.keras.layers.Dense(num_classes, name='outputs', activation='softmax')(x)\n",
        "  model = tf.keras.models.Model(inputs = [x_input, tab_input], outputs = classifier, name = \"resnetold_tab_plus_image\")\n",
        "\n",
        "  return model\n",
        "\n",
        "\n",
        "\n",
        "\n"
      ],
      "metadata": {
        "id": "egJKniHLTAqL"
      },
      "execution_count": 33,
      "outputs": []
    },
    {
      "cell_type": "markdown",
      "source": [
        "#### RES_1\n",
        "Res_1 was modified from above (which used the same code tutorials cited above) to apply an initial Conv2D on the input to rescale it to to be 224 x 224 x 3. This model also implemented several techniques to combat overfitting including Dropout and Data Augmentation. Kernel and Bias L2 regularizers were also added to several layers (code snippet from: https://machinelearningmastery.com/how-to-reduce-overfitting-in-deep-learning-with-weight-regularization/). The model was simplified from above and consisted of a few alternating conv_net and identity_block components. "
      ],
      "metadata": {
        "id": "wPRFdAiAPgj_"
      }
    },
    {
      "cell_type": "code",
      "source": [
        "import tensorflow as tf\n",
        "from sklearn.preprocessing import MinMaxScaler\n",
        "from keras.regularizers import l2\n",
        "\n",
        "def identity_block(x, filter):\n",
        "  x_skip = x\n",
        "  x = tf.keras.layers.Conv2D(filter[0], (3,3), padding = \"same\")(x)\n",
        "  x = tf.keras.layers.BatchNormalization()(x)\n",
        "  #print(\"here\")\n",
        "  x = tf.keras.layers.Activation('relu')(x)\n",
        "  x = tf.keras.layers.Conv2D(filter[0], (3,3), padding = \"same\")(x)\n",
        "  x = tf.keras.layers.BatchNormalization()(x)\n",
        "  x = tf.keras.layers.Add()([x, x_skip])\n",
        "  #print('err')\n",
        "  x = tf.keras.layers.Activation('relu')(x)\n",
        "\n",
        "  return x\n",
        "\n",
        "def conv_net(x, filter):\n",
        "  \n",
        "  x_skip = x\n",
        "  #print(\"B\")\n",
        "  x = tf.keras.layers.Conv2D(filter[0], (3,3), strides = 2, padding = \"same\")(x)\n",
        "  #print(\"C\")\n",
        "  x = tf.keras.layers.BatchNormalization()(x)\n",
        "  x = tf.keras.layers.Activation('relu')(x)\n",
        "  #print(\"D\")\n",
        "  x = tf.keras.layers.Conv2D(filter[0], (3,3), padding = \"same\")(x)\n",
        "  x = tf.keras.layers.BatchNormalization()(x)\n",
        "  #print(\"E\")\n",
        "  x_skip = tf.keras.layers.Conv2D(filter[1], (1,1), strides = 2, padding = \"same\")(x_skip)\n",
        "  x = tf.keras.layers.Add()([x, x_skip])\n",
        "  #print(\"F\")\n",
        "  x = tf.keras.layers.Activation('relu')(x)\n",
        "\n",
        "  return x\n",
        "\n",
        "#input 1 is for image data, input 2 is for tabular data\n",
        "def res_1(input_shape1, input_shape2, num_classes):\n",
        "  x_input = tf.keras.layers.Input(input_shape1)\n",
        "  #x_input = tf.keras.\n",
        "  x_input = tf.keras.layers.Rescaling(1./255)(x_input)\n",
        "  x_input = tf.keras.layers.Conv2D(3, kernel_size=(33, 33), activation='relu', kernel_regularizer=l2(0.01), bias_regularizer=l2(0.01))(x_input)\n",
        "  aug = data_augmentation(x_input)\n",
        "  tab_input = tf.keras.layers.Input(input_shape2)\n",
        "  \n",
        "  #x = tf.keras.layers.ZeroPadding2D(padding = (9,9))(aug)\n",
        "\n",
        "  x = tf.keras.layers.Conv2D(64, 7, strides = 2)(aug)\n",
        "  x = tf.keras.layers.BatchNormalization()(x)\n",
        "  x = tf.keras.layers.Activation('relu')(x)\n",
        "  x = tf.keras.layers.MaxPooling2D(pool_size= (3,3), strides = 2)(x)\n",
        "\n",
        "  #print(x.shape)\n",
        "  #print('b')\n",
        "  x = conv_net(x, (32, 32))\n",
        "  #print('c')\n",
        "  x = identity_block(x, (32, 32))\n",
        "\n",
        "  #print('d')\n",
        "  x = conv_net(x, (128, 128))\n",
        "  x = tf.keras.layers.Dropout(0.1)(x)\n",
        "  x = identity_block(x, (128, 128))\n",
        "  #x = identity_block(x, (128, 128))\n",
        "  #x = identity_block(x, (128, 128))\n",
        "\n",
        "  x = conv_net(x, (256, 256))\n",
        "  x = identity_block(x, (256, 256))\n",
        "  #x = identity_block(x, (256, 256))\n",
        "  #x = identity_block(x, (256, 256))\n",
        "  #x = identity_block(x, (256, 256))\n",
        "\n",
        "  x = tf.keras.layers.AveragePooling2D(padding = \"same\")(x)\n",
        "  x = tf.keras.layers.Flatten()(x)\n",
        "  \n",
        "  #x = tf.keras.layers.Dense(num_classes, activation = 'softmax')(x)\n",
        "\n",
        "\n",
        "  # Add Dense layers for Tabular data\n",
        "  #y = tf.keras.layers.Dense(512)(tab_input)\n",
        "  #y = tf.keras.layers.Dense(256)(tab_input)\n",
        "  #y = tf.keras.layers.Dense(256)(x)\n",
        "  #y = tf.keras.layers.Dense(256)(tab_input)\n",
        "  #FROM stackoverflow\n",
        "  \n",
        "  x2 = tf.keras.layers.Flatten()(tab_input)\n",
        "  x2 = tf.keras.layers.Dense(32, activation='relu', kernel_regularizer=l2(0.01), bias_regularizer=l2(0.01))(x2)\n",
        "  x2 = tf.keras.layers.Dropout(0.1)(x2)\n",
        "  x2 = tf.keras.layers.Dense(128, activation='relu', kernel_regularizer=l2(0.01), bias_regularizer=l2(0.01))(x2)\n",
        "  x2 = tf.keras.layers.Dropout(0.1)(x2)\n",
        "  x2 = tf.keras.layers.Dense(256, activation='relu', kernel_regularizer=l2(0.01), bias_regularizer=l2(0.01))(x2)\n",
        "\n",
        "  #FIRST RUN\n",
        "  #x2 = tf.keras.layers.Dense(32, activation='relu')(x2)\n",
        "  #x2 = tf.keras.layers.Dense(128, activation='relu')(x2)\n",
        "  #x2 = tf.keras.layers.Dense(256, activation='relu')(x2)\n",
        "  #2 = tf.keras.layers.Dense(6400, activation='relu')(x2)\n",
        "\n",
        "  #print(x[0])\n",
        "  #print(x2[0])\n",
        "  #k = input()\n",
        "  #print(x.shape)\n",
        "  #print(x2.shape)\n",
        "  \n",
        "  #k = input()\n",
        "  # Concatenate Image and tabular weights\n",
        "  z = tf.keras.layers.Concatenate(axis=1)([x, x2])\n",
        "\n",
        "  # Add Classification Head\n",
        "  #z = tf.keras.layers.Dense(128)(z)\n",
        "  classifier = tf.keras.layers.Dense(num_classes, activation='softmax')(z)\n",
        "\n",
        "  #classifier = tf.keras.layers.Dense(num_classes, name='outputs', activation='softmax')(x)\n",
        "  model = tf.keras.models.Model(inputs = [x_input, tab_input], outputs = classifier, name = \"resnet1_tab_plus_image\")\n",
        "\n",
        "  return model\n",
        "\n",
        "\n",
        "\n",
        "\n"
      ],
      "metadata": {
        "id": "2GWRNMWKTr0b"
      },
      "execution_count": 34,
      "outputs": []
    },
    {
      "cell_type": "markdown",
      "source": [
        "#### RES_2\n",
        "Res_2 was modified from above. It was the same as Res_1, lacking the initial Conv2D rescaling layer."
      ],
      "metadata": {
        "id": "sMF35m1MRAPX"
      }
    },
    {
      "cell_type": "code",
      "source": [
        "import tensorflow as tf\n",
        "from sklearn.preprocessing import MinMaxScaler\n",
        "from keras.regularizers import l2\n",
        "\n",
        "def identity_block(x, filter):\n",
        "  x_skip = x\n",
        "  x = tf.keras.layers.Conv2D(filter[0], (3,3), padding = \"same\")(x)\n",
        "  x = tf.keras.layers.BatchNormalization()(x)\n",
        "  print(\"here\")\n",
        "  x = tf.keras.layers.Activation('relu')(x)\n",
        "  x = tf.keras.layers.Conv2D(filter[0], (3,3), padding = \"same\")(x)\n",
        "  x = tf.keras.layers.BatchNormalization()(x)\n",
        "  x = tf.keras.layers.Add()([x, x_skip])\n",
        "  print('err')\n",
        "  x = tf.keras.layers.Activation('relu')(x)\n",
        "\n",
        "  return x\n",
        "\n",
        "def conv_net(x, filter):\n",
        "  \n",
        "  x_skip = x\n",
        "  #print(\"B\")\n",
        "  x = tf.keras.layers.Conv2D(filter[0], (3,3), strides = 2, padding = \"same\")(x)\n",
        "  #print(\"C\")\n",
        "  x = tf.keras.layers.BatchNormalization()(x)\n",
        "  x = tf.keras.layers.Activation('relu')(x)\n",
        "  #print(\"D\")\n",
        "  x = tf.keras.layers.Conv2D(filter[0], (3,3), padding = \"same\")(x)\n",
        "  x = tf.keras.layers.BatchNormalization()(x)\n",
        "  #print(\"E\")\n",
        "  x_skip = tf.keras.layers.Conv2D(filter[1], (1,1), strides = 2, padding = \"same\")(x_skip)\n",
        "  x = tf.keras.layers.Add()([x, x_skip])\n",
        "  #print(\"F\")\n",
        "  x = tf.keras.layers.Activation('relu')(x)\n",
        "\n",
        "  return x\n",
        "\n",
        "#input 1 is for image data, input 2 is for tabular data\n",
        "def res_2(input_shape1, input_shape2, num_classes):\n",
        "  x_input = tf.keras.layers.Input(input_shape1)\n",
        "  #x_input = tf.keras.\n",
        "  x_input = tf.keras.layers.Rescaling(1./255)(x_input)\n",
        "  #x_input = tf.keras.layers.Conv2D(3, kernel_size=(33, 33), activation='relu', kernel_regularizer=l2(0.01), bias_regularizer=l2(0.01))(x_input)\n",
        "  aug = data_augmentation(x_input)\n",
        "  tab_input = tf.keras.layers.Input(input_shape2)\n",
        "  \n",
        "  #x = tf.keras.layers.ZeroPadding2D(padding = (9,9))(aug)\n",
        "\n",
        "  x = tf.keras.layers.Conv2D(64, 7, strides = 2)(aug)\n",
        "  x = tf.keras.layers.BatchNormalization()(x)\n",
        "  x = tf.keras.layers.Activation('relu')(x)\n",
        "  x = tf.keras.layers.MaxPooling2D(pool_size= (3,3), strides = 2)(x)\n",
        "\n",
        "  #print(x.shape)\n",
        "  #print('b')\n",
        "  x = conv_net(x, (32, 32))\n",
        "  #print('c')\n",
        "  x = identity_block(x, (32, 32))\n",
        "\n",
        "  #print('d')\n",
        "  x = conv_net(x, (128, 128))\n",
        "  x = tf.keras.layers.Dropout(0.1)(x)\n",
        "  x = identity_block(x, (128, 128))\n",
        "  #x = identity_block(x, (128, 128))\n",
        "  #x = identity_block(x, (128, 128))\n",
        "\n",
        "  x = conv_net(x, (256, 256))\n",
        "  x = identity_block(x, (256, 256))\n",
        "  #x = identity_block(x, (256, 256))\n",
        "  #x = identity_block(x, (256, 256))\n",
        "  #x = identity_block(x, (256, 256))\n",
        "\n",
        "  x = tf.keras.layers.AveragePooling2D(padding = \"same\")(x)\n",
        "  x = tf.keras.layers.Flatten()(x)\n",
        "  \n",
        "  #x = tf.keras.layers.Dense(num_classes, activation = 'softmax')(x)\n",
        "\n",
        "\n",
        "  # Add Dense layers for Tabular data\n",
        "  #y = tf.keras.layers.Dense(512)(tab_input)\n",
        "  #y = tf.keras.layers.Dense(256)(tab_input)\n",
        "  #y = tf.keras.layers.Dense(256)(x)\n",
        "  #y = tf.keras.layers.Dense(256)(tab_input)\n",
        "  #FROM stackoverflow\n",
        "  \n",
        "  x2 = tf.keras.layers.Flatten()(tab_input)\n",
        "  x2 = tf.keras.layers.Dense(32, activation='relu', kernel_regularizer=l2(0.01), bias_regularizer=l2(0.01))(x2)\n",
        "  x2 = tf.keras.layers.Dropout(0.1)(x2)\n",
        "  x2 = tf.keras.layers.Dense(128, activation='relu', kernel_regularizer=l2(0.01), bias_regularizer=l2(0.01))(x2)\n",
        "  x2 = tf.keras.layers.Dropout(0.1)(x2)\n",
        "  x2 = tf.keras.layers.Dense(256, activation='relu', kernel_regularizer=l2(0.01), bias_regularizer=l2(0.01))(x2)\n",
        "\n",
        "  #FIRST RUN\n",
        "  #x2 = tf.keras.layers.Dense(32, activation='relu')(x2)\n",
        "  #x2 = tf.keras.layers.Dense(128, activation='relu')(x2)\n",
        "  #x2 = tf.keras.layers.Dense(256, activation='relu')(x2)\n",
        "  #2 = tf.keras.layers.Dense(6400, activation='relu')(x2)\n",
        "\n",
        "  #print(x[0])\n",
        "  #print(x2[0])\n",
        "  #k = input()\n",
        "  #print(x.shape)\n",
        "  #print(x2.shape)\n",
        "  \n",
        "  #k = input()\n",
        "  # Concatenate Image and tabular weights\n",
        "  z = tf.keras.layers.Concatenate(axis=1)([x, x2])\n",
        "\n",
        "  # Add Classification Head\n",
        "  #z = tf.keras.layers.Dense(128)(z)\n",
        "  classifier = tf.keras.layers.Dense(num_classes, activation='softmax')(z)\n",
        "\n",
        "  #classifier = tf.keras.layers.Dense(num_classes, name='outputs', activation='softmax')(x)\n",
        "  model = tf.keras.models.Model(inputs = [x_input, tab_input], outputs = classifier, name = \"resnet2_tab_plus_image\")\n",
        "\n",
        "  return model\n",
        "\n",
        "\n",
        "\n",
        "\n"
      ],
      "metadata": {
        "id": "Xbmmva4UB1xm"
      },
      "execution_count": 35,
      "outputs": []
    },
    {
      "cell_type": "code",
      "source": [
        "import tensorflow as tf\n",
        "from sklearn.preprocessing import MinMaxScaler\n",
        "from keras.regularizers import l2\n",
        "\n",
        "def identity_block(x, filter):\n",
        "  x_skip = x\n",
        "  x = tf.keras.layers.Conv2D(filter[0], (3,3), padding = \"same\")(x)\n",
        "  x = tf.keras.layers.BatchNormalization()(x)\n",
        "  print(\"here\")\n",
        "  x = tf.keras.layers.Activation('relu')(x)\n",
        "  x = tf.keras.layers.Conv2D(filter[0], (3,3), padding = \"same\")(x)\n",
        "  x = tf.keras.layers.BatchNormalization()(x)\n",
        "  x = tf.keras.layers.Add()([x, x_skip])\n",
        "  print('err')\n",
        "  x = tf.keras.layers.Activation('relu')(x)\n",
        "\n",
        "  return x\n",
        "\n",
        "def conv_net(x, filter):\n",
        "  \n",
        "  x_skip = x\n",
        "  #print(\"B\")\n",
        "  x = tf.keras.layers.Conv2D(filter[0], (3,3), strides = 2, padding = \"same\")(x)\n",
        "  #print(\"C\")\n",
        "  x = tf.keras.layers.BatchNormalization()(x)\n",
        "  x = tf.keras.layers.Activation('relu')(x)\n",
        "  #print(\"D\")\n",
        "  x = tf.keras.layers.Conv2D(filter[0], (3,3), padding = \"same\")(x)\n",
        "  x = tf.keras.layers.BatchNormalization()(x)\n",
        "  #print(\"E\")\n",
        "  x_skip = tf.keras.layers.Conv2D(filter[1], (1,1), strides = 2, padding = \"same\")(x_skip)\n",
        "  x = tf.keras.layers.Add()([x, x_skip])\n",
        "  #print(\"F\")\n",
        "  x = tf.keras.layers.Activation('relu')(x)\n",
        "\n",
        "  return x\n",
        "\n",
        "#input 1 is for image data, input 2 is for tabular data\n",
        "def rgb_res(input_shape1, input_shape2, num_classes):\n",
        "  x_input = tf.keras.layers.Input(input_shape1)\n",
        "  #x_input = tf.keras.\n",
        "  x_input = tf.keras.layers.Rescaling(1./255)(x_input)\n",
        "  x_input = tf.keras.layers.Conv2D(3, kernel_size=(33, 33), activation='relu', kernel_regularizer=l2(0.01), bias_regularizer=l2(0.01))(x_input)\n",
        "  aug = data_augmentation(x_input)\n",
        "  tab_input = tf.keras.layers.Input(input_shape2)\n",
        "  \n",
        "  #x = tf.keras.layers.ZeroPadding2D(padding = (9,9))(aug)\n",
        "\n",
        "  x = tf.keras.layers.Conv2D(64, 7, strides = 2)(aug)\n",
        "  x = tf.keras.layers.BatchNormalization()(x)\n",
        "  x = tf.keras.layers.Activation('relu')(x)\n",
        "  x = tf.keras.layers.MaxPooling2D(pool_size= (3,3), strides = 2)(x)\n",
        "\n",
        "  #print(x.shape)\n",
        "  #print('b')\n",
        "  x = conv_net(x, (32, 32))\n",
        "  #print('c')\n",
        "  x = identity_block(x, (32, 32))\n",
        "\n",
        "  #print('d')\n",
        "  x = conv_net(x, (128, 128))\n",
        "  x = tf.keras.layers.Dropout(0.1)(x)\n",
        "  x = identity_block(x, (128, 128))\n",
        "  #x = identity_block(x, (128, 128))\n",
        "  #x = identity_block(x, (128, 128))\n",
        "\n",
        "  x = conv_net(x, (256, 256))\n",
        "  x = identity_block(x, (256, 256))\n",
        "  #x = identity_block(x, (256, 256))\n",
        "  #x = identity_block(x, (256, 256))\n",
        "  #x = identity_block(x, (256, 256))\n",
        "\n",
        "  x = tf.keras.layers.AveragePooling2D(padding = \"same\")(x)\n",
        "  x = tf.keras.layers.Flatten()(x)\n",
        "  \n",
        "  #x = tf.keras.layers.Dense(num_classes, activation = 'softmax')(x)\n",
        "\n",
        "\n",
        "  # Add Dense layers for Tabular data\n",
        "  #y = tf.keras.layers.Dense(512)(tab_input)\n",
        "  #y = tf.keras.layers.Dense(256)(tab_input)\n",
        "  #y = tf.keras.layers.Dense(256)(x)\n",
        "  #y = tf.keras.layers.Dense(256)(tab_input)\n",
        "  #FROM stackoverflow\n",
        "  \n",
        "  x2 = tf.keras.layers.Flatten()(tab_input)\n",
        "  x2 = tf.keras.layers.Dense(32, activation='relu', kernel_regularizer=l2(0.01), bias_regularizer=l2(0.01))(x2)\n",
        "  x2 = tf.keras.layers.Dropout(0.1)(x2)\n",
        "  x2 = tf.keras.layers.Dense(128, activation='relu', kernel_regularizer=l2(0.01), bias_regularizer=l2(0.01))(x2)\n",
        "  x2 = tf.keras.layers.Dropout(0.1)(x2)\n",
        "  x2 = tf.keras.layers.Dense(256, activation='relu', kernel_regularizer=l2(0.01), bias_regularizer=l2(0.01))(x2)\n",
        "\n",
        "  #FIRST RUN\n",
        "  #x2 = tf.keras.layers.Dense(32, activation='relu')(x2)\n",
        "  #x2 = tf.keras.layers.Dense(128, activation='relu')(x2)\n",
        "  #x2 = tf.keras.layers.Dense(256, activation='relu')(x2)\n",
        "  #2 = tf.keras.layers.Dense(6400, activation='relu')(x2)\n",
        "\n",
        "  #print(x[0])\n",
        "  #print(x2[0])\n",
        "  #k = input()\n",
        "  #print(x.shape)\n",
        "  #print(x2.shape)\n",
        "  \n",
        "  #k = input()\n",
        "  # Concatenate Image and tabular weights\n",
        "  z = tf.keras.layers.Concatenate(axis=1)([x, x2])\n",
        "\n",
        "  # Add Classification Head\n",
        "  #z = tf.keras.layers.Dense(128)(z)\n",
        "  classifier = tf.keras.layers.Dense(num_classes, activation='softmax')(z)\n",
        "\n",
        "  #classifier = tf.keras.layers.Dense(num_classes, name='outputs', activation='softmax')(x)\n",
        "  model = tf.keras.models.Model(inputs = [x_input, tab_input], outputs = classifier, name = \"resnet_tab_plus_image_rgb\")\n",
        "\n",
        "  return model\n",
        "\n",
        "\n",
        "\n",
        "\n"
      ],
      "metadata": {
        "id": "JLYezG50B94f"
      },
      "execution_count": 36,
      "outputs": []
    },
    {
      "cell_type": "markdown",
      "source": [
        "#### Pre-Trained ResNet-50"
      ],
      "metadata": {
        "id": "iEow7NARi4cx"
      }
    },
    {
      "cell_type": "markdown",
      "source": [
        ""
      ],
      "metadata": {
        "id": "oVszMXT70bd-"
      }
    },
    {
      "cell_type": "markdown",
      "source": [
        "CNN Multimodal"
      ],
      "metadata": {
        "id": "pnqU0MZduAAL"
      }
    },
    {
      "cell_type": "code",
      "source": [
        "def multi_modal_cnn(input_shape1, input_shape2, num_classes):\n",
        "    #with mirrored_strategy.scope():\n",
        "\n",
        "        # Inputs\n",
        "        patch_input = tf.keras.layers.Input(shape=input_shape1, dtype='float32')\n",
        "        tabular_input = tf.keras.layers.Input(shape=input_shape2, dtype='float32')  \n",
        "\n",
        "        # Augment data\n",
        "    #     augmented = data_augmentation_for_visualization(patch_input)\n",
        "\n",
        "        # From Scratch model\n",
        "        x = tf.keras.layers.Conv2D(64, (3, 3), activation='relu')(patch_input)\n",
        "        x = tf.keras.layers.MaxPooling2D((2, 2), padding='same')(x)\n",
        "        x = tf.keras.layers.Conv2D(128, (3, 3), activation='relu')(x)\n",
        "        x = tf.keras.layers.MaxPooling2D((2, 2), padding='same')(x)\n",
        "        x = tf.keras.layers.Conv2D(256, (3, 3), activation='relu')(x)\n",
        "        x = tf.keras.layers.MaxPooling2D((1, 1), padding='same')(x)\n",
        "        x = tf.keras.layers.Conv2D(64, (3, 3), activation='relu')(x)\n",
        "        x = tf.keras.layers.MaxPooling2D((2, 2), padding='same')(x)\n",
        "        x = tf.keras.layers.Conv2D(64, (3, 3), activation='relu')(x)\n",
        "        x = tf.keras.layers.MaxPooling2D((2, 2), padding='same')(x)      \n",
        "\n",
        "        # Add Dense layers for images\n",
        "        x = tf.keras.layers.Flatten()(x)\n",
        "        x = tf.keras.layers.Dense(256, activation='relu')(x)\n",
        "\n",
        "        # Add Dense layers for Tabular data\n",
        "        y = tf.keras.layers.Dense(512, activation='relu')(tabular_input)\n",
        "        y = tf.keras.layers.Dense(256, activation='relu')(y)\n",
        "\n",
        "        # Concatenate Image and tabular weights\n",
        "        z = tf.keras.layers.Concatenate(axis=1)([x, y])\n",
        "\n",
        "        # Add Classification Head\n",
        "        z = tf.keras.layers.Dense(128, activation='relu')(z)\n",
        "        classifier = tf.keras.layers.Dense(num_classes, name='outputs', activation='softmax')(z)\n",
        "\n",
        "        # Define inputs and outputs\n",
        "        model = tf.keras.Model(inputs=[patch_input, tabular_input], outputs=classifier)\n",
        "\n",
        "        return model"
      ],
      "metadata": {
        "id": "V229zpGqt_i1"
      },
      "execution_count": 37,
      "outputs": []
    },
    {
      "cell_type": "code",
      "source": [
        "# Data augmentation\n",
        "data_augmentation = tf.keras.Sequential(\n",
        "    [\n",
        "        #tf.keras.layers.Rescaling(1./255),\n",
        "        #tf.keras.layers.Resizing((256,256,6)),\n",
        "        tf.keras.layers.RandomFlip(\"horizontal\"),\n",
        "        tf.keras.layers.RandomRotation(factor=0.02),\n",
        "        tf.keras.layers.RandomZoom(\n",
        "            height_factor=0.2, width_factor=0.2\n",
        "        ),\n",
        "    ],\n",
        "    name=\"data_augmentation\",\n",
        ")"
      ],
      "metadata": {
        "id": "wzFUu4iWlJH_"
      },
      "execution_count": 38,
      "outputs": []
    },
    {
      "cell_type": "markdown",
      "source": [
        "#### For Images (Includes RGB, near IR, landcover, altitude) + Tabular (environmental vectors)"
      ],
      "metadata": {
        "id": "lzjAB49wo0hZ"
      }
    },
    {
      "cell_type": "code",
      "source": [
        "BATCHSIZE = 128\n",
        "train_generator = Environmental_Patches_Generator(obs_id_train_new, y_train_normalized, BATCHSIZE)\n",
        "print(\"HERRE\")\n",
        "val_generator = Environmental_Patches_Generator(obs_id_val_new, y_val_normalized, BATCHSIZE)\n",
        "\n",
        "print(y_train_normalized)\n",
        "# converting our train dataset to tf.data.Dataset\n",
        "#tf_train_dataset = tf.data.Dataset.from_generator(\n",
        "#    lambda: train_generator ,  # Our generator \n",
        "#    output_types = ({'input_1': tf.float32 , 'input_2': tf.float32}, tf.float32) , # How we're expecting our output dtype\n",
        "#    output_shapes = ({'input_1': [BATCH_SIZE, 256 , 256, 6], 'input_2': [BATCH_SIZE, 29]} , [BATCH_SIZE, ]) # How we're expecting our output shape\n",
        "#)\n",
        "\n",
        "#tf_val_dataset = tf.data.Dataset.from_generator(\n",
        "#    lambda: val_generator , \n",
        "#    output_types = ({'input_1': tf.float32 , 'input_2': tf.float32}, tf.float32),\n",
        "#    output_shapes = ({'input_1': [BATCH_SIZE, 256 , 256, 6], 'input_2': [BATCH_SIZE, 29]} , [BATCH_SIZE, ]) \n",
        "#)\n",
        "\n",
        "\n",
        "\n",
        "optimizer = tf.keras.optimizers.Adam(learning_rate=0.0001)\n",
        "#num_classes = len(set(df_obs['species_id']))\n",
        "print(len(set(df_obs['species_id'])))\n",
        "num_classes = 30\n",
        "\n",
        "input_shape1 = (256, 256, 6)\n",
        "input_shape2 = (27)\n",
        "model5 = res_1(input_shape1, input_shape2, num_classes)\n",
        "# Compile model\n",
        "model5.compile(optimizer=optimizer,\n",
        "              loss=tf.keras.losses.SparseCategoricalCrossentropy(from_logits=False),\n",
        "              metrics=[\n",
        "                  tf.keras.metrics.SparseCategoricalAccuracy(name=\"accuracy\"),\n",
        "                  tf.keras.metrics.SparseTopKCategoricalAccuracy(5, name=\"top-5-accuracy\")\n",
        "              ]\n",
        "              )\n",
        "model5.summary()\n"
      ],
      "metadata": {
        "id": "NHSmCz5DozSQ",
        "colab": {
          "base_uri": "https://localhost:8080/"
        },
        "outputId": "dc216941-9cd8-4b33-c7d5-830435d4616d"
      },
      "execution_count": 39,
      "outputs": [
        {
          "output_type": "stream",
          "name": "stdout",
          "text": [
            "HERRE\n",
            "[ 7 19  5 ...  5  8 27]\n",
            "17037\n",
            "here\n",
            "err\n",
            "here\n",
            "err\n",
            "here\n",
            "err\n",
            "Model: \"resnet1_tab_plus_image\"\n",
            "__________________________________________________________________________________________________\n",
            " Layer (type)                   Output Shape         Param #     Connected to                     \n",
            "==================================================================================================\n",
            " input_3 (InputLayer)           [(None, 224, 224, 3  0           []                               \n",
            "                                )]                                                                \n",
            "                                                                                                  \n",
            " data_augmentation (Sequential)  (None, 224, 224, 3)  0          ['input_3[0][0]']                \n",
            "                                                                                                  \n",
            " conv2d_1 (Conv2D)              (None, 109, 109, 64  9472        ['data_augmentation[1][0]']      \n",
            "                                )                                                                 \n",
            "                                                                                                  \n",
            " batch_normalization (BatchNorm  (None, 109, 109, 64  256        ['conv2d_1[1][0]']               \n",
            " alization)                     )                                                                 \n",
            "                                                                                                  \n",
            " activation (Activation)        (None, 109, 109, 64  0           ['batch_normalization[1][0]']    \n",
            "                                )                                                                 \n",
            "                                                                                                  \n",
            " max_pooling2d (MaxPooling2D)   (None, 54, 54, 64)   0           ['activation[1][0]']             \n",
            "                                                                                                  \n",
            " conv2d_2 (Conv2D)              (None, 27, 27, 32)   18464       ['max_pooling2d[1][0]']          \n",
            "                                                                                                  \n",
            " batch_normalization_1 (BatchNo  (None, 27, 27, 32)  128         ['conv2d_2[1][0]']               \n",
            " rmalization)                                                                                     \n",
            "                                                                                                  \n",
            " activation_1 (Activation)      (None, 27, 27, 32)   0           ['batch_normalization_1[1][0]']  \n",
            "                                                                                                  \n",
            " conv2d_3 (Conv2D)              (None, 27, 27, 32)   9248        ['activation_1[1][0]']           \n",
            "                                                                                                  \n",
            " batch_normalization_2 (BatchNo  (None, 27, 27, 32)  128         ['conv2d_3[1][0]']               \n",
            " rmalization)                                                                                     \n",
            "                                                                                                  \n",
            " conv2d_4 (Conv2D)              (None, 27, 27, 32)   2080        ['max_pooling2d[1][0]']          \n",
            "                                                                                                  \n",
            " add (Add)                      (None, 27, 27, 32)   0           ['batch_normalization_2[1][0]',  \n",
            "                                                                  'conv2d_4[1][0]']               \n",
            "                                                                                                  \n",
            " activation_2 (Activation)      (None, 27, 27, 32)   0           ['add[1][0]']                    \n",
            "                                                                                                  \n",
            " conv2d_5 (Conv2D)              (None, 27, 27, 32)   9248        ['activation_2[1][0]']           \n",
            "                                                                                                  \n",
            " batch_normalization_3 (BatchNo  (None, 27, 27, 32)  128         ['conv2d_5[1][0]']               \n",
            " rmalization)                                                                                     \n",
            "                                                                                                  \n",
            " activation_3 (Activation)      (None, 27, 27, 32)   0           ['batch_normalization_3[1][0]']  \n",
            "                                                                                                  \n",
            " conv2d_6 (Conv2D)              (None, 27, 27, 32)   9248        ['activation_3[1][0]']           \n",
            "                                                                                                  \n",
            " batch_normalization_4 (BatchNo  (None, 27, 27, 32)  128         ['conv2d_6[1][0]']               \n",
            " rmalization)                                                                                     \n",
            "                                                                                                  \n",
            " add_1 (Add)                    (None, 27, 27, 32)   0           ['batch_normalization_4[1][0]',  \n",
            "                                                                  'activation_2[1][0]']           \n",
            "                                                                                                  \n",
            " activation_4 (Activation)      (None, 27, 27, 32)   0           ['add_1[1][0]']                  \n",
            "                                                                                                  \n",
            " conv2d_7 (Conv2D)              (None, 14, 14, 128)  36992       ['activation_4[1][0]']           \n",
            "                                                                                                  \n",
            " batch_normalization_5 (BatchNo  (None, 14, 14, 128)  512        ['conv2d_7[1][0]']               \n",
            " rmalization)                                                                                     \n",
            "                                                                                                  \n",
            " activation_5 (Activation)      (None, 14, 14, 128)  0           ['batch_normalization_5[1][0]']  \n",
            "                                                                                                  \n",
            " conv2d_8 (Conv2D)              (None, 14, 14, 128)  147584      ['activation_5[1][0]']           \n",
            "                                                                                                  \n",
            " batch_normalization_6 (BatchNo  (None, 14, 14, 128)  512        ['conv2d_8[1][0]']               \n",
            " rmalization)                                                                                     \n",
            "                                                                                                  \n",
            " conv2d_9 (Conv2D)              (None, 14, 14, 128)  4224        ['activation_4[1][0]']           \n",
            "                                                                                                  \n",
            " add_2 (Add)                    (None, 14, 14, 128)  0           ['batch_normalization_6[1][0]',  \n",
            "                                                                  'conv2d_9[1][0]']               \n",
            "                                                                                                  \n",
            " activation_6 (Activation)      (None, 14, 14, 128)  0           ['add_2[1][0]']                  \n",
            "                                                                                                  \n",
            " dropout (Dropout)              (None, 14, 14, 128)  0           ['activation_6[1][0]']           \n",
            "                                                                                                  \n",
            " conv2d_10 (Conv2D)             (None, 14, 14, 128)  147584      ['dropout[1][0]']                \n",
            "                                                                                                  \n",
            " batch_normalization_7 (BatchNo  (None, 14, 14, 128)  512        ['conv2d_10[1][0]']              \n",
            " rmalization)                                                                                     \n",
            "                                                                                                  \n",
            " activation_7 (Activation)      (None, 14, 14, 128)  0           ['batch_normalization_7[1][0]']  \n",
            "                                                                                                  \n",
            " conv2d_11 (Conv2D)             (None, 14, 14, 128)  147584      ['activation_7[1][0]']           \n",
            "                                                                                                  \n",
            " batch_normalization_8 (BatchNo  (None, 14, 14, 128)  512        ['conv2d_11[1][0]']              \n",
            " rmalization)                                                                                     \n",
            "                                                                                                  \n",
            " add_3 (Add)                    (None, 14, 14, 128)  0           ['batch_normalization_8[1][0]',  \n",
            "                                                                  'dropout[1][0]']                \n",
            "                                                                                                  \n",
            " activation_8 (Activation)      (None, 14, 14, 128)  0           ['add_3[1][0]']                  \n",
            "                                                                                                  \n",
            " conv2d_12 (Conv2D)             (None, 7, 7, 256)    295168      ['activation_8[1][0]']           \n",
            "                                                                                                  \n",
            " batch_normalization_9 (BatchNo  (None, 7, 7, 256)   1024        ['conv2d_12[1][0]']              \n",
            " rmalization)                                                                                     \n",
            "                                                                                                  \n",
            " activation_9 (Activation)      (None, 7, 7, 256)    0           ['batch_normalization_9[1][0]']  \n",
            "                                                                                                  \n",
            " conv2d_13 (Conv2D)             (None, 7, 7, 256)    590080      ['activation_9[1][0]']           \n",
            "                                                                                                  \n",
            " batch_normalization_10 (BatchN  (None, 7, 7, 256)   1024        ['conv2d_13[1][0]']              \n",
            " ormalization)                                                                                    \n",
            "                                                                                                  \n",
            " conv2d_14 (Conv2D)             (None, 7, 7, 256)    33024       ['activation_8[1][0]']           \n",
            "                                                                                                  \n",
            " add_4 (Add)                    (None, 7, 7, 256)    0           ['batch_normalization_10[1][0]', \n",
            "                                                                  'conv2d_14[1][0]']              \n",
            "                                                                                                  \n",
            " activation_10 (Activation)     (None, 7, 7, 256)    0           ['add_4[1][0]']                  \n",
            "                                                                                                  \n",
            " conv2d_15 (Conv2D)             (None, 7, 7, 256)    590080      ['activation_10[1][0]']          \n",
            "                                                                                                  \n",
            " batch_normalization_11 (BatchN  (None, 7, 7, 256)   1024        ['conv2d_15[1][0]']              \n",
            " ormalization)                                                                                    \n",
            "                                                                                                  \n",
            " activation_11 (Activation)     (None, 7, 7, 256)    0           ['batch_normalization_11[1][0]'] \n",
            "                                                                                                  \n",
            " input_2 (InputLayer)           [(None, 27)]         0           []                               \n",
            "                                                                                                  \n",
            " conv2d_16 (Conv2D)             (None, 7, 7, 256)    590080      ['activation_11[1][0]']          \n",
            "                                                                                                  \n",
            " flatten_1 (Flatten)            (None, 27)           0           ['input_2[0][0]']                \n",
            "                                                                                                  \n",
            " batch_normalization_12 (BatchN  (None, 7, 7, 256)   1024        ['conv2d_16[1][0]']              \n",
            " ormalization)                                                                                    \n",
            "                                                                                                  \n",
            " dense (Dense)                  (None, 32)           896         ['flatten_1[1][0]']              \n",
            "                                                                                                  \n",
            " add_5 (Add)                    (None, 7, 7, 256)    0           ['batch_normalization_12[1][0]', \n",
            "                                                                  'activation_10[1][0]']          \n",
            "                                                                                                  \n",
            " dropout_1 (Dropout)            (None, 32)           0           ['dense[1][0]']                  \n",
            "                                                                                                  \n",
            " activation_12 (Activation)     (None, 7, 7, 256)    0           ['add_5[1][0]']                  \n",
            "                                                                                                  \n",
            " dense_1 (Dense)                (None, 128)          4224        ['dropout_1[1][0]']              \n",
            "                                                                                                  \n",
            " average_pooling2d (AveragePool  (None, 4, 4, 256)   0           ['activation_12[1][0]']          \n",
            " ing2D)                                                                                           \n",
            "                                                                                                  \n",
            " dropout_2 (Dropout)            (None, 128)          0           ['dense_1[1][0]']                \n",
            "                                                                                                  \n",
            " flatten (Flatten)              (None, 4096)         0           ['average_pooling2d[1][0]']      \n",
            "                                                                                                  \n",
            " dense_2 (Dense)                (None, 256)          33024       ['dropout_2[1][0]']              \n",
            "                                                                                                  \n",
            " concatenate (Concatenate)      (None, 4352)         0           ['flatten[1][0]',                \n",
            "                                                                  'dense_2[1][0]']                \n",
            "                                                                                                  \n",
            " dense_3 (Dense)                (None, 30)           130590      ['concatenate[1][0]']            \n",
            "                                                                                                  \n",
            "==================================================================================================\n",
            "Total params: 2,815,806\n",
            "Trainable params: 2,812,350\n",
            "Non-trainable params: 3,456\n",
            "__________________________________________________________________________________________________\n"
          ]
        }
      ]
    },
    {
      "cell_type": "markdown",
      "source": [
        "#### Pre-Trained All Images Code"
      ],
      "metadata": {
        "id": "qJc4ztWEps5x"
      }
    },
    {
      "cell_type": "markdown",
      "source": [
        "Conv2D code"
      ],
      "metadata": {
        "id": "k_ABtMpkyhcA"
      }
    },
    {
      "cell_type": "markdown",
      "source": [
        ""
      ],
      "metadata": {
        "id": "vklChMia7Hyr"
      }
    },
    {
      "cell_type": "code",
      "source": [
        "BATCHSIZE = 128\n",
        "train_generator = Patches_Generator(obs_id_train_new, y_train_normalized, BATCHSIZE)\n",
        "print(\"HERRE\")\n",
        "val_generator = Patches_Generator(obs_id_val_new, y_val_normalized, BATCHSIZE)\n",
        "\n",
        "print(y_train_normalized)\n",
        "# converting our train dataset to tf.data.Dataset\n",
        "#tf_train_dataset = tf.data.Dataset.from_generator(\n",
        "#    lambda: train_generator ,  # Our generator \n",
        "#    output_types = ({'input_1': tf.float32 , 'input_2': tf.float32}, tf.float32) , # How we're expecting our output dtype\n",
        "#    output_shapes = ({'input_1': [BATCH_SIZE, 256 , 256, 6], 'input_2': [BATCH_SIZE, 29]} , [BATCH_SIZE, ]) # How we're expecting our output shape\n",
        "#)\n",
        "\n",
        "#tf_val_dataset = tf.data.Dataset.from_generator(\n",
        "#    lambda: val_generator , \n",
        "#    output_types = ({'input_1': tf.float32 , 'input_2': tf.float32}, tf.float32),\n",
        "#    output_shapes = ({'input_1': [BATCH_SIZE, 256 , 256, 6], 'input_2': [BATCH_SIZE, 29]} , [BATCH_SIZE, ]) \n",
        "#)\n",
        "\n",
        "\n",
        "\n",
        "optimizer = tf.keras.optimizers.Adam(learning_rate=0.0001)\n",
        "#num_classes = len(set(df_obs['species_id']))\n",
        "print(len(set(df_obs['species_id'])))\n",
        "num_classes = 30\n",
        "\n",
        "input_shape1 = (256, 256, 3)\n",
        "input_shape2 = (27)\n",
        "model6 = rgb_res(input_shape1, input_shape2, num_classes)\n",
        "# Compile model\n",
        "model6.compile(optimizer=optimizer,\n",
        "              loss=tf.keras.losses.SparseCategoricalCrossentropy(from_logits=False),\n",
        "              metrics=[\n",
        "                  tf.keras.metrics.SparseCategoricalAccuracy(name=\"accuracy\"),\n",
        "                  tf.keras.metrics.SparseTopKCategoricalAccuracy(5, name=\"top-5-accuracy\")\n",
        "              ]\n",
        "              )\n",
        "model6.summary()\n"
      ],
      "metadata": {
        "colab": {
          "base_uri": "https://localhost:8080/"
        },
        "id": "-7NbkNXG7H7-",
        "outputId": "83e52613-5021-487e-db2d-6ba59b933e76"
      },
      "execution_count": 40,
      "outputs": [
        {
          "output_type": "stream",
          "name": "stdout",
          "text": [
            "HERRE\n",
            "[ 7 19  5 ...  5  8 27]\n",
            "17037\n",
            "here\n",
            "err\n",
            "here\n",
            "err\n",
            "here\n",
            "err\n",
            "Model: \"resnet_tab_plus_image_rgb\"\n",
            "__________________________________________________________________________________________________\n",
            " Layer (type)                   Output Shape         Param #     Connected to                     \n",
            "==================================================================================================\n",
            " input_6 (InputLayer)           [(None, 224, 224, 3  0           []                               \n",
            "                                )]                                                                \n",
            "                                                                                                  \n",
            " data_augmentation (Sequential)  (None, 224, 224, 3)  0          ['input_6[0][0]']                \n",
            "                                                                                                  \n",
            " conv2d_18 (Conv2D)             (None, 109, 109, 64  9472        ['data_augmentation[3][0]']      \n",
            "                                )                                                                 \n",
            "                                                                                                  \n",
            " batch_normalization_13 (BatchN  (None, 109, 109, 64  256        ['conv2d_18[1][0]']              \n",
            " ormalization)                  )                                                                 \n",
            "                                                                                                  \n",
            " activation_13 (Activation)     (None, 109, 109, 64  0           ['batch_normalization_13[1][0]'] \n",
            "                                )                                                                 \n",
            "                                                                                                  \n",
            " max_pooling2d_1 (MaxPooling2D)  (None, 54, 54, 64)  0           ['activation_13[1][0]']          \n",
            "                                                                                                  \n",
            " conv2d_19 (Conv2D)             (None, 27, 27, 32)   18464       ['max_pooling2d_1[1][0]']        \n",
            "                                                                                                  \n",
            " batch_normalization_14 (BatchN  (None, 27, 27, 32)  128         ['conv2d_19[1][0]']              \n",
            " ormalization)                                                                                    \n",
            "                                                                                                  \n",
            " activation_14 (Activation)     (None, 27, 27, 32)   0           ['batch_normalization_14[1][0]'] \n",
            "                                                                                                  \n",
            " conv2d_20 (Conv2D)             (None, 27, 27, 32)   9248        ['activation_14[1][0]']          \n",
            "                                                                                                  \n",
            " batch_normalization_15 (BatchN  (None, 27, 27, 32)  128         ['conv2d_20[1][0]']              \n",
            " ormalization)                                                                                    \n",
            "                                                                                                  \n",
            " conv2d_21 (Conv2D)             (None, 27, 27, 32)   2080        ['max_pooling2d_1[1][0]']        \n",
            "                                                                                                  \n",
            " add_6 (Add)                    (None, 27, 27, 32)   0           ['batch_normalization_15[1][0]', \n",
            "                                                                  'conv2d_21[1][0]']              \n",
            "                                                                                                  \n",
            " activation_15 (Activation)     (None, 27, 27, 32)   0           ['add_6[1][0]']                  \n",
            "                                                                                                  \n",
            " conv2d_22 (Conv2D)             (None, 27, 27, 32)   9248        ['activation_15[1][0]']          \n",
            "                                                                                                  \n",
            " batch_normalization_16 (BatchN  (None, 27, 27, 32)  128         ['conv2d_22[1][0]']              \n",
            " ormalization)                                                                                    \n",
            "                                                                                                  \n",
            " activation_16 (Activation)     (None, 27, 27, 32)   0           ['batch_normalization_16[1][0]'] \n",
            "                                                                                                  \n",
            " conv2d_23 (Conv2D)             (None, 27, 27, 32)   9248        ['activation_16[1][0]']          \n",
            "                                                                                                  \n",
            " batch_normalization_17 (BatchN  (None, 27, 27, 32)  128         ['conv2d_23[1][0]']              \n",
            " ormalization)                                                                                    \n",
            "                                                                                                  \n",
            " add_7 (Add)                    (None, 27, 27, 32)   0           ['batch_normalization_17[1][0]', \n",
            "                                                                  'activation_15[1][0]']          \n",
            "                                                                                                  \n",
            " activation_17 (Activation)     (None, 27, 27, 32)   0           ['add_7[1][0]']                  \n",
            "                                                                                                  \n",
            " conv2d_24 (Conv2D)             (None, 14, 14, 128)  36992       ['activation_17[1][0]']          \n",
            "                                                                                                  \n",
            " batch_normalization_18 (BatchN  (None, 14, 14, 128)  512        ['conv2d_24[1][0]']              \n",
            " ormalization)                                                                                    \n",
            "                                                                                                  \n",
            " activation_18 (Activation)     (None, 14, 14, 128)  0           ['batch_normalization_18[1][0]'] \n",
            "                                                                                                  \n",
            " conv2d_25 (Conv2D)             (None, 14, 14, 128)  147584      ['activation_18[1][0]']          \n",
            "                                                                                                  \n",
            " batch_normalization_19 (BatchN  (None, 14, 14, 128)  512        ['conv2d_25[1][0]']              \n",
            " ormalization)                                                                                    \n",
            "                                                                                                  \n",
            " conv2d_26 (Conv2D)             (None, 14, 14, 128)  4224        ['activation_17[1][0]']          \n",
            "                                                                                                  \n",
            " add_8 (Add)                    (None, 14, 14, 128)  0           ['batch_normalization_19[1][0]', \n",
            "                                                                  'conv2d_26[1][0]']              \n",
            "                                                                                                  \n",
            " activation_19 (Activation)     (None, 14, 14, 128)  0           ['add_8[1][0]']                  \n",
            "                                                                                                  \n",
            " dropout_3 (Dropout)            (None, 14, 14, 128)  0           ['activation_19[1][0]']          \n",
            "                                                                                                  \n",
            " conv2d_27 (Conv2D)             (None, 14, 14, 128)  147584      ['dropout_3[1][0]']              \n",
            "                                                                                                  \n",
            " batch_normalization_20 (BatchN  (None, 14, 14, 128)  512        ['conv2d_27[1][0]']              \n",
            " ormalization)                                                                                    \n",
            "                                                                                                  \n",
            " activation_20 (Activation)     (None, 14, 14, 128)  0           ['batch_normalization_20[1][0]'] \n",
            "                                                                                                  \n",
            " conv2d_28 (Conv2D)             (None, 14, 14, 128)  147584      ['activation_20[1][0]']          \n",
            "                                                                                                  \n",
            " batch_normalization_21 (BatchN  (None, 14, 14, 128)  512        ['conv2d_28[1][0]']              \n",
            " ormalization)                                                                                    \n",
            "                                                                                                  \n",
            " add_9 (Add)                    (None, 14, 14, 128)  0           ['batch_normalization_21[1][0]', \n",
            "                                                                  'dropout_3[1][0]']              \n",
            "                                                                                                  \n",
            " activation_21 (Activation)     (None, 14, 14, 128)  0           ['add_9[1][0]']                  \n",
            "                                                                                                  \n",
            " conv2d_29 (Conv2D)             (None, 7, 7, 256)    295168      ['activation_21[1][0]']          \n",
            "                                                                                                  \n",
            " batch_normalization_22 (BatchN  (None, 7, 7, 256)   1024        ['conv2d_29[1][0]']              \n",
            " ormalization)                                                                                    \n",
            "                                                                                                  \n",
            " activation_22 (Activation)     (None, 7, 7, 256)    0           ['batch_normalization_22[1][0]'] \n",
            "                                                                                                  \n",
            " conv2d_30 (Conv2D)             (None, 7, 7, 256)    590080      ['activation_22[1][0]']          \n",
            "                                                                                                  \n",
            " batch_normalization_23 (BatchN  (None, 7, 7, 256)   1024        ['conv2d_30[1][0]']              \n",
            " ormalization)                                                                                    \n",
            "                                                                                                  \n",
            " conv2d_31 (Conv2D)             (None, 7, 7, 256)    33024       ['activation_21[1][0]']          \n",
            "                                                                                                  \n",
            " add_10 (Add)                   (None, 7, 7, 256)    0           ['batch_normalization_23[1][0]', \n",
            "                                                                  'conv2d_31[1][0]']              \n",
            "                                                                                                  \n",
            " activation_23 (Activation)     (None, 7, 7, 256)    0           ['add_10[1][0]']                 \n",
            "                                                                                                  \n",
            " conv2d_32 (Conv2D)             (None, 7, 7, 256)    590080      ['activation_23[1][0]']          \n",
            "                                                                                                  \n",
            " batch_normalization_24 (BatchN  (None, 7, 7, 256)   1024        ['conv2d_32[1][0]']              \n",
            " ormalization)                                                                                    \n",
            "                                                                                                  \n",
            " activation_24 (Activation)     (None, 7, 7, 256)    0           ['batch_normalization_24[1][0]'] \n",
            "                                                                                                  \n",
            " input_5 (InputLayer)           [(None, 27)]         0           []                               \n",
            "                                                                                                  \n",
            " conv2d_33 (Conv2D)             (None, 7, 7, 256)    590080      ['activation_24[1][0]']          \n",
            "                                                                                                  \n",
            " flatten_3 (Flatten)            (None, 27)           0           ['input_5[0][0]']                \n",
            "                                                                                                  \n",
            " batch_normalization_25 (BatchN  (None, 7, 7, 256)   1024        ['conv2d_33[1][0]']              \n",
            " ormalization)                                                                                    \n",
            "                                                                                                  \n",
            " dense_4 (Dense)                (None, 32)           896         ['flatten_3[1][0]']              \n",
            "                                                                                                  \n",
            " add_11 (Add)                   (None, 7, 7, 256)    0           ['batch_normalization_25[1][0]', \n",
            "                                                                  'activation_23[1][0]']          \n",
            "                                                                                                  \n",
            " dropout_4 (Dropout)            (None, 32)           0           ['dense_4[1][0]']                \n",
            "                                                                                                  \n",
            " activation_25 (Activation)     (None, 7, 7, 256)    0           ['add_11[1][0]']                 \n",
            "                                                                                                  \n",
            " dense_5 (Dense)                (None, 128)          4224        ['dropout_4[1][0]']              \n",
            "                                                                                                  \n",
            " average_pooling2d_1 (AveragePo  (None, 4, 4, 256)   0           ['activation_25[1][0]']          \n",
            " oling2D)                                                                                         \n",
            "                                                                                                  \n",
            " dropout_5 (Dropout)            (None, 128)          0           ['dense_5[1][0]']                \n",
            "                                                                                                  \n",
            " flatten_2 (Flatten)            (None, 4096)         0           ['average_pooling2d_1[1][0]']    \n",
            "                                                                                                  \n",
            " dense_6 (Dense)                (None, 256)          33024       ['dropout_5[1][0]']              \n",
            "                                                                                                  \n",
            " concatenate_1 (Concatenate)    (None, 4352)         0           ['flatten_2[1][0]',              \n",
            "                                                                  'dense_6[1][0]']                \n",
            "                                                                                                  \n",
            " dense_7 (Dense)                (None, 30)           130590      ['concatenate_1[1][0]']          \n",
            "                                                                                                  \n",
            "==================================================================================================\n",
            "Total params: 2,815,806\n",
            "Trainable params: 2,812,350\n",
            "Non-trainable params: 3,456\n",
            "__________________________________________________________________________________________________\n"
          ]
        }
      ]
    },
    {
      "cell_type": "code",
      "source": [
        "BATCHSIZE = 128\n",
        "train_generator = Environmental_Patches_Generator(obs_id_train_new, y_train_normalized, BATCHSIZE)\n",
        "print(\"HERRE\")\n",
        "val_generator = Environmental_Patches_Generator(obs_id_val_new, y_val_normalized, BATCHSIZE)\n",
        "\n",
        "print(y_train_normalized)\n",
        "# converting our train dataset to tf.data.Dataset\n",
        "#tf_train_dataset = tf.data.Dataset.from_generator(\n",
        "#    lambda: train_generator ,  # Our generator \n",
        "#    output_types = ({'input_1': tf.float32 , 'input_2': tf.float32}, tf.float32) , # How we're expecting our output dtype\n",
        "#    output_shapes = ({'input_1': [BATCH_SIZE, 256 , 256, 6], 'input_2': [BATCH_SIZE, 29]} , [BATCH_SIZE, ]) # How we're expecting our output shape\n",
        "#)\n",
        "\n",
        "#tf_val_dataset = tf.data.Dataset.from_generator(\n",
        "#    lambda: val_generator , \n",
        "#    output_types = ({'input_1': tf.float32 , 'input_2': tf.float32}, tf.float32),\n",
        "#    output_shapes = ({'input_1': [BATCH_SIZE, 256 , 256, 6], 'input_2': [BATCH_SIZE, 29]} , [BATCH_SIZE, ]) \n",
        "#)\n",
        "\n",
        "\n",
        "\n",
        "optimizer = tf.keras.optimizers.Adam(learning_rate=0.0001)\n",
        "#num_classes = len(set(df_obs['species_id']))\n",
        "print(len(set(df_obs['species_id'])))\n",
        "num_classes = 30\n",
        "\n",
        "input_shape1 = (256, 256, 6)\n",
        "input_shape2 = (27)\n",
        "model7 = res_2(input_shape1, input_shape2, num_classes)\n",
        "# Compile model\n",
        "model7.compile(optimizer=optimizer,\n",
        "              loss=tf.keras.losses.SparseCategoricalCrossentropy(from_logits=False),\n",
        "              metrics=[\n",
        "                  tf.keras.metrics.SparseCategoricalAccuracy(name=\"accuracy\"),\n",
        "                  tf.keras.metrics.SparseTopKCategoricalAccuracy(5, name=\"top-5-accuracy\")\n",
        "              ]\n",
        "              )\n",
        "model7.summary()\n"
      ],
      "metadata": {
        "colab": {
          "base_uri": "https://localhost:8080/"
        },
        "id": "8rfxfS6MDA4H",
        "outputId": "20078377-8252-4a06-8397-c234a792e9a2"
      },
      "execution_count": 41,
      "outputs": [
        {
          "output_type": "stream",
          "name": "stdout",
          "text": [
            "HERRE\n",
            "[ 7 19  5 ...  5  8 27]\n",
            "17037\n",
            "here\n",
            "err\n",
            "here\n",
            "err\n",
            "here\n",
            "err\n",
            "Model: \"resnet2_tab_plus_image\"\n",
            "__________________________________________________________________________________________________\n",
            " Layer (type)                   Output Shape         Param #     Connected to                     \n",
            "==================================================================================================\n",
            " input_9 (InputLayer)           [(None, 256, 256, 6  0           []                               \n",
            "                                )]                                                                \n",
            "                                                                                                  \n",
            " data_augmentation (Sequential)  (None, None, None,   0          ['input_9[0][0]']                \n",
            "                                None)                                                             \n",
            "                                                                                                  \n",
            " conv2d_34 (Conv2D)             (None, 125, 125, 64  18880       ['data_augmentation[5][0]']      \n",
            "                                )                                                                 \n",
            "                                                                                                  \n",
            " batch_normalization_26 (BatchN  (None, 125, 125, 64  256        ['conv2d_34[1][0]']              \n",
            " ormalization)                  )                                                                 \n",
            "                                                                                                  \n",
            " activation_26 (Activation)     (None, 125, 125, 64  0           ['batch_normalization_26[1][0]'] \n",
            "                                )                                                                 \n",
            "                                                                                                  \n",
            " max_pooling2d_2 (MaxPooling2D)  (None, 62, 62, 64)  0           ['activation_26[1][0]']          \n",
            "                                                                                                  \n",
            " conv2d_35 (Conv2D)             (None, 31, 31, 32)   18464       ['max_pooling2d_2[1][0]']        \n",
            "                                                                                                  \n",
            " batch_normalization_27 (BatchN  (None, 31, 31, 32)  128         ['conv2d_35[1][0]']              \n",
            " ormalization)                                                                                    \n",
            "                                                                                                  \n",
            " activation_27 (Activation)     (None, 31, 31, 32)   0           ['batch_normalization_27[1][0]'] \n",
            "                                                                                                  \n",
            " conv2d_36 (Conv2D)             (None, 31, 31, 32)   9248        ['activation_27[1][0]']          \n",
            "                                                                                                  \n",
            " batch_normalization_28 (BatchN  (None, 31, 31, 32)  128         ['conv2d_36[1][0]']              \n",
            " ormalization)                                                                                    \n",
            "                                                                                                  \n",
            " conv2d_37 (Conv2D)             (None, 31, 31, 32)   2080        ['max_pooling2d_2[1][0]']        \n",
            "                                                                                                  \n",
            " add_12 (Add)                   (None, 31, 31, 32)   0           ['batch_normalization_28[1][0]', \n",
            "                                                                  'conv2d_37[1][0]']              \n",
            "                                                                                                  \n",
            " activation_28 (Activation)     (None, 31, 31, 32)   0           ['add_12[1][0]']                 \n",
            "                                                                                                  \n",
            " conv2d_38 (Conv2D)             (None, 31, 31, 32)   9248        ['activation_28[1][0]']          \n",
            "                                                                                                  \n",
            " batch_normalization_29 (BatchN  (None, 31, 31, 32)  128         ['conv2d_38[1][0]']              \n",
            " ormalization)                                                                                    \n",
            "                                                                                                  \n",
            " activation_29 (Activation)     (None, 31, 31, 32)   0           ['batch_normalization_29[1][0]'] \n",
            "                                                                                                  \n",
            " conv2d_39 (Conv2D)             (None, 31, 31, 32)   9248        ['activation_29[1][0]']          \n",
            "                                                                                                  \n",
            " batch_normalization_30 (BatchN  (None, 31, 31, 32)  128         ['conv2d_39[1][0]']              \n",
            " ormalization)                                                                                    \n",
            "                                                                                                  \n",
            " add_13 (Add)                   (None, 31, 31, 32)   0           ['batch_normalization_30[1][0]', \n",
            "                                                                  'activation_28[1][0]']          \n",
            "                                                                                                  \n",
            " activation_30 (Activation)     (None, 31, 31, 32)   0           ['add_13[1][0]']                 \n",
            "                                                                                                  \n",
            " conv2d_40 (Conv2D)             (None, 16, 16, 128)  36992       ['activation_30[1][0]']          \n",
            "                                                                                                  \n",
            " batch_normalization_31 (BatchN  (None, 16, 16, 128)  512        ['conv2d_40[1][0]']              \n",
            " ormalization)                                                                                    \n",
            "                                                                                                  \n",
            " activation_31 (Activation)     (None, 16, 16, 128)  0           ['batch_normalization_31[1][0]'] \n",
            "                                                                                                  \n",
            " conv2d_41 (Conv2D)             (None, 16, 16, 128)  147584      ['activation_31[1][0]']          \n",
            "                                                                                                  \n",
            " batch_normalization_32 (BatchN  (None, 16, 16, 128)  512        ['conv2d_41[1][0]']              \n",
            " ormalization)                                                                                    \n",
            "                                                                                                  \n",
            " conv2d_42 (Conv2D)             (None, 16, 16, 128)  4224        ['activation_30[1][0]']          \n",
            "                                                                                                  \n",
            " add_14 (Add)                   (None, 16, 16, 128)  0           ['batch_normalization_32[1][0]', \n",
            "                                                                  'conv2d_42[1][0]']              \n",
            "                                                                                                  \n",
            " activation_32 (Activation)     (None, 16, 16, 128)  0           ['add_14[1][0]']                 \n",
            "                                                                                                  \n",
            " dropout_6 (Dropout)            (None, 16, 16, 128)  0           ['activation_32[1][0]']          \n",
            "                                                                                                  \n",
            " conv2d_43 (Conv2D)             (None, 16, 16, 128)  147584      ['dropout_6[1][0]']              \n",
            "                                                                                                  \n",
            " batch_normalization_33 (BatchN  (None, 16, 16, 128)  512        ['conv2d_43[1][0]']              \n",
            " ormalization)                                                                                    \n",
            "                                                                                                  \n",
            " activation_33 (Activation)     (None, 16, 16, 128)  0           ['batch_normalization_33[1][0]'] \n",
            "                                                                                                  \n",
            " conv2d_44 (Conv2D)             (None, 16, 16, 128)  147584      ['activation_33[1][0]']          \n",
            "                                                                                                  \n",
            " batch_normalization_34 (BatchN  (None, 16, 16, 128)  512        ['conv2d_44[1][0]']              \n",
            " ormalization)                                                                                    \n",
            "                                                                                                  \n",
            " add_15 (Add)                   (None, 16, 16, 128)  0           ['batch_normalization_34[1][0]', \n",
            "                                                                  'dropout_6[1][0]']              \n",
            "                                                                                                  \n",
            " activation_34 (Activation)     (None, 16, 16, 128)  0           ['add_15[1][0]']                 \n",
            "                                                                                                  \n",
            " conv2d_45 (Conv2D)             (None, 8, 8, 256)    295168      ['activation_34[1][0]']          \n",
            "                                                                                                  \n",
            " batch_normalization_35 (BatchN  (None, 8, 8, 256)   1024        ['conv2d_45[1][0]']              \n",
            " ormalization)                                                                                    \n",
            "                                                                                                  \n",
            " activation_35 (Activation)     (None, 8, 8, 256)    0           ['batch_normalization_35[1][0]'] \n",
            "                                                                                                  \n",
            " conv2d_46 (Conv2D)             (None, 8, 8, 256)    590080      ['activation_35[1][0]']          \n",
            "                                                                                                  \n",
            " batch_normalization_36 (BatchN  (None, 8, 8, 256)   1024        ['conv2d_46[1][0]']              \n",
            " ormalization)                                                                                    \n",
            "                                                                                                  \n",
            " conv2d_47 (Conv2D)             (None, 8, 8, 256)    33024       ['activation_34[1][0]']          \n",
            "                                                                                                  \n",
            " add_16 (Add)                   (None, 8, 8, 256)    0           ['batch_normalization_36[1][0]', \n",
            "                                                                  'conv2d_47[1][0]']              \n",
            "                                                                                                  \n",
            " activation_36 (Activation)     (None, 8, 8, 256)    0           ['add_16[1][0]']                 \n",
            "                                                                                                  \n",
            " conv2d_48 (Conv2D)             (None, 8, 8, 256)    590080      ['activation_36[1][0]']          \n",
            "                                                                                                  \n",
            " batch_normalization_37 (BatchN  (None, 8, 8, 256)   1024        ['conv2d_48[1][0]']              \n",
            " ormalization)                                                                                    \n",
            "                                                                                                  \n",
            " activation_37 (Activation)     (None, 8, 8, 256)    0           ['batch_normalization_37[1][0]'] \n",
            "                                                                                                  \n",
            " input_8 (InputLayer)           [(None, 27)]         0           []                               \n",
            "                                                                                                  \n",
            " conv2d_49 (Conv2D)             (None, 8, 8, 256)    590080      ['activation_37[1][0]']          \n",
            "                                                                                                  \n",
            " flatten_5 (Flatten)            (None, 27)           0           ['input_8[0][0]']                \n",
            "                                                                                                  \n",
            " batch_normalization_38 (BatchN  (None, 8, 8, 256)   1024        ['conv2d_49[1][0]']              \n",
            " ormalization)                                                                                    \n",
            "                                                                                                  \n",
            " dense_8 (Dense)                (None, 32)           896         ['flatten_5[1][0]']              \n",
            "                                                                                                  \n",
            " add_17 (Add)                   (None, 8, 8, 256)    0           ['batch_normalization_38[1][0]', \n",
            "                                                                  'activation_36[1][0]']          \n",
            "                                                                                                  \n",
            " dropout_7 (Dropout)            (None, 32)           0           ['dense_8[1][0]']                \n",
            "                                                                                                  \n",
            " activation_38 (Activation)     (None, 8, 8, 256)    0           ['add_17[1][0]']                 \n",
            "                                                                                                  \n",
            " dense_9 (Dense)                (None, 128)          4224        ['dropout_7[1][0]']              \n",
            "                                                                                                  \n",
            " average_pooling2d_2 (AveragePo  (None, 4, 4, 256)   0           ['activation_38[1][0]']          \n",
            " oling2D)                                                                                         \n",
            "                                                                                                  \n",
            " dropout_8 (Dropout)            (None, 128)          0           ['dense_9[1][0]']                \n",
            "                                                                                                  \n",
            " flatten_4 (Flatten)            (None, 4096)         0           ['average_pooling2d_2[1][0]']    \n",
            "                                                                                                  \n",
            " dense_10 (Dense)               (None, 256)          33024       ['dropout_8[1][0]']              \n",
            "                                                                                                  \n",
            " concatenate_2 (Concatenate)    (None, 4352)         0           ['flatten_4[1][0]',              \n",
            "                                                                  'dense_10[1][0]']               \n",
            "                                                                                                  \n",
            " dense_11 (Dense)               (None, 30)           130590      ['concatenate_2[1][0]']          \n",
            "                                                                                                  \n",
            "==================================================================================================\n",
            "Total params: 2,825,214\n",
            "Trainable params: 2,821,758\n",
            "Non-trainable params: 3,456\n",
            "__________________________________________________________________________________________________\n"
          ]
        }
      ]
    },
    {
      "cell_type": "code",
      "source": [
        ""
      ],
      "metadata": {
        "id": "tvhPBVt3C8xg"
      },
      "execution_count": 41,
      "outputs": []
    },
    {
      "cell_type": "markdown",
      "source": [
        "#### For GPS"
      ],
      "metadata": {
        "id": "mcSrMF_Vo2tj"
      }
    },
    {
      "cell_type": "markdown",
      "source": [
        "#### Run Model"
      ],
      "metadata": {
        "id": "YUpKMJCQJpuR"
      }
    },
    {
      "cell_type": "code",
      "source": [
        "early_stop = tf.keras.callbacks.EarlyStopping(monitor='val_accuracy', min_delta=0.001, patience=10, \n",
        "                                            verbose=0, mode='auto', baseline=None, restore_best_weights=True)\n",
        "train_results = model5.fit(\n",
        "    #train_ds,\n",
        "    train_generator,\n",
        "    validation_data = val_generator,\n",
        "    #tf_train_dataset,\n",
        "    #validation_data= val_ds,\n",
        "    #validation_data = tf_val_dataset,\n",
        "    epochs = 50,\n",
        "    callbacks=[early_stop])\n",
        "#)\n",
        "# callbacks=[early_stop])"
      ],
      "metadata": {
        "colab": {
          "base_uri": "https://localhost:8080/"
        },
        "id": "cpfxWC7F4PQK",
        "outputId": "6d861bf0-9744-4a00-ec84-b95251b00f96"
      },
      "execution_count": 42,
      "outputs": [
        {
          "metadata": {
            "tags": null
          },
          "name": "stdout",
          "output_type": "stream",
          "text": [
            "Epoch 1/50\n",
            "495/495 [==============================] - 414s 808ms/step - loss: 18.0281 - accuracy: 0.0984 - top-5-accuracy: 0.3047 - val_loss: 6.5146 - val_accuracy: 0.1447 - val_top-5-accuracy: 0.4014\n",
            "Epoch 2/50\n",
            "495/495 [==============================] - 275s 555ms/step - loss: 7.4388 - accuracy: 0.1366 - top-5-accuracy: 0.3871 - val_loss: 5.3183 - val_accuracy: 0.1267 - val_top-5-accuracy: 0.4424\n",
            "Epoch 3/50\n",
            "495/495 [==============================] - 274s 554ms/step - loss: 5.6182 - accuracy: 0.1612 - top-5-accuracy: 0.4393 - val_loss: 4.8636 - val_accuracy: 0.1540 - val_top-5-accuracy: 0.4539\n",
            "Epoch 4/50\n",
            "495/495 [==============================] - 273s 551ms/step - loss: 4.8876 - accuracy: 0.1858 - top-5-accuracy: 0.4854 - val_loss: 4.6699 - val_accuracy: 0.1557 - val_top-5-accuracy: 0.4659\n",
            "Epoch 5/50\n",
            "495/495 [==============================] - 275s 554ms/step - loss: 4.5008 - accuracy: 0.2057 - top-5-accuracy: 0.5200 - val_loss: 4.4341 - val_accuracy: 0.1813 - val_top-5-accuracy: 0.4965\n",
            "Epoch 6/50\n",
            "495/495 [==============================] - 273s 551ms/step - loss: 4.2214 - accuracy: 0.2240 - top-5-accuracy: 0.5481 - val_loss: 4.2411 - val_accuracy: 0.1955 - val_top-5-accuracy: 0.5106\n",
            "Epoch 7/50\n",
            "495/495 [==============================] - 272s 549ms/step - loss: 4.0083 - accuracy: 0.2383 - top-5-accuracy: 0.5744 - val_loss: 4.1698 - val_accuracy: 0.1879 - val_top-5-accuracy: 0.5156\n",
            "Epoch 8/50\n",
            "495/495 [==============================] - 273s 551ms/step - loss: 3.8319 - accuracy: 0.2502 - top-5-accuracy: 0.5945 - val_loss: 4.0932 - val_accuracy: 0.1841 - val_top-5-accuracy: 0.4888\n",
            "Epoch 9/50\n",
            "495/495 [==============================] - 271s 546ms/step - loss: 3.6657 - accuracy: 0.2625 - top-5-accuracy: 0.6130 - val_loss: 3.8217 - val_accuracy: 0.1961 - val_top-5-accuracy: 0.5461\n",
            "Epoch 10/50\n",
            "495/495 [==============================] - 272s 548ms/step - loss: 3.5108 - accuracy: 0.2749 - top-5-accuracy: 0.6286 - val_loss: 3.9569 - val_accuracy: 0.1447 - val_top-5-accuracy: 0.4828\n",
            "Epoch 11/50\n",
            "495/495 [==============================] - 270s 546ms/step - loss: 3.3638 - accuracy: 0.2849 - top-5-accuracy: 0.6441 - val_loss: 3.8308 - val_accuracy: 0.1562 - val_top-5-accuracy: 0.4894\n",
            "Epoch 12/50\n",
            "495/495 [==============================] - 272s 549ms/step - loss: 3.2286 - accuracy: 0.2989 - top-5-accuracy: 0.6584 - val_loss: 3.5738 - val_accuracy: 0.1972 - val_top-5-accuracy: 0.5385\n",
            "Epoch 13/50\n",
            "495/495 [==============================] - 272s 549ms/step - loss: 3.0961 - accuracy: 0.3088 - top-5-accuracy: 0.6745 - val_loss: 3.6431 - val_accuracy: 0.1693 - val_top-5-accuracy: 0.5085\n",
            "Epoch 14/50\n",
            "495/495 [==============================] - 271s 548ms/step - loss: 2.9688 - accuracy: 0.3241 - top-5-accuracy: 0.6884 - val_loss: 3.4414 - val_accuracy: 0.2086 - val_top-5-accuracy: 0.5407\n",
            "Epoch 15/50\n",
            "495/495 [==============================] - 272s 549ms/step - loss: 2.8452 - accuracy: 0.3342 - top-5-accuracy: 0.7051 - val_loss: 3.3819 - val_accuracy: 0.2070 - val_top-5-accuracy: 0.5478\n",
            "Epoch 16/50\n",
            "495/495 [==============================] - 272s 550ms/step - loss: 2.7270 - accuracy: 0.3461 - top-5-accuracy: 0.7176 - val_loss: 3.3921 - val_accuracy: 0.1977 - val_top-5-accuracy: 0.5248\n",
            "Epoch 17/50\n",
            "495/495 [==============================] - 273s 551ms/step - loss: 2.6109 - accuracy: 0.3611 - top-5-accuracy: 0.7330 - val_loss: 3.3751 - val_accuracy: 0.1808 - val_top-5-accuracy: 0.5150\n",
            "Epoch 18/50\n",
            "495/495 [==============================] - 273s 551ms/step - loss: 2.4949 - accuracy: 0.3777 - top-5-accuracy: 0.7479 - val_loss: 3.3093 - val_accuracy: 0.1966 - val_top-5-accuracy: 0.5117\n",
            "Epoch 19/50\n",
            "495/495 [==============================] - 273s 550ms/step - loss: 2.3837 - accuracy: 0.3932 - top-5-accuracy: 0.7621 - val_loss: 3.2546 - val_accuracy: 0.1737 - val_top-5-accuracy: 0.5117\n",
            "Epoch 20/50\n",
            "495/495 [==============================] - 273s 551ms/step - loss: 2.2833 - accuracy: 0.4069 - top-5-accuracy: 0.7779 - val_loss: 3.2338 - val_accuracy: 0.1857 - val_top-5-accuracy: 0.5254\n",
            "Epoch 21/50\n",
            "495/495 [==============================] - 272s 550ms/step - loss: 2.1905 - accuracy: 0.4224 - top-5-accuracy: 0.7860 - val_loss: 3.2635 - val_accuracy: 0.1819 - val_top-5-accuracy: 0.5025\n",
            "Epoch 22/50\n",
            "495/495 [==============================] - 272s 550ms/step - loss: 2.0985 - accuracy: 0.4362 - top-5-accuracy: 0.8024 - val_loss: 3.2691 - val_accuracy: 0.1649 - val_top-5-accuracy: 0.5052\n",
            "Epoch 23/50\n",
            "495/495 [==============================] - 272s 550ms/step - loss: 2.0106 - accuracy: 0.4536 - top-5-accuracy: 0.8149 - val_loss: 3.2561 - val_accuracy: 0.1524 - val_top-5-accuracy: 0.4872\n",
            "Epoch 24/50\n",
            "495/495 [==============================] - 275s 556ms/step - loss: 1.9325 - accuracy: 0.4688 - top-5-accuracy: 0.8253 - val_loss: 3.2184 - val_accuracy: 0.1873 - val_top-5-accuracy: 0.5063\n"
          ]
        }
      ]
    },
    {
      "cell_type": "code",
      "source": [
        "map_labels = dict()\n",
        "i = 0\n",
        "for l in np.unique(y_test):\n",
        "  map_labels[l] = i\n",
        "  i += 1\n",
        "print(map_labels)\n",
        "\n",
        "y_test_normalized = np.zeros(np.shape(y_test), dtype = 'int64')\n",
        "\n",
        "for i in range(len(y_test)):\n",
        "  y_test_normalized[i] = map_labels[y_test[i]]\n",
        "\n",
        "from sklearn.utils import shuffle\n",
        "obs_id_test_new, y_test_normalized = shuffle(obs_id_test, y_test_normalized)\n",
        "print(y_test_normalized)\n",
        "test_generator = Environmental_Patches_Generator(obs_id_test_new, y_test_normalized, BATCHSIZE)\n",
        "result = model5.evaluate(test_generator)"
      ],
      "metadata": {
        "colab": {
          "base_uri": "https://localhost:8080/"
        },
        "id": "hI-nqaZaiwfx",
        "outputId": "380e364a-c939-4a4d-e906-e743fc6374d4"
      },
      "execution_count": 43,
      "outputs": [
        {
          "metadata": {
            "tags": null
          },
          "name": "stdout",
          "output_type": "stream",
          "text": [
            "{5: 0, 68: 1, 125: 2, 129: 3, 223: 4, 553: 5, 570: 6, 605: 7, 679: 8, 692: 9, 739: 10, 979: 11, 1075: 12, 1155: 13, 1916: 14, 2196: 15, 2524: 16, 2821: 17, 2950: 18, 2992: 19, 3253: 20, 4940: 21, 4991: 22, 4999: 23, 5025: 24, 5086: 25, 5168: 26, 5192: 27, 5207: 28, 5228: 29}\n",
            "[17  8 26 ... 14 18  0]\n",
            "55/55 [==============================] - 44s 811ms/step - loss: 3.1685 - accuracy: 0.2754 - top-5-accuracy: 0.6112\n"
          ]
        }
      ]
    },
    {
      "cell_type": "code",
      "source": [
        "# summarize history for accuracy\n",
        "#FROM https://machinelearningmastery.com/display-deep-learning-model-training-history-in-keras/\n",
        "plt.plot(train_results.history['accuracy'])\n",
        "plt.plot(train_results.history['val_accuracy'])\n",
        "plt.title('model accuracy')\n",
        "plt.ylabel('accuracy')\n",
        "plt.xlabel('epoch')\n",
        "plt.legend(['train', 'val'], loc='upper left')\n",
        "plt.show()"
      ],
      "metadata": {
        "colab": {
          "base_uri": "https://localhost:8080/",
          "height": 295
        },
        "id": "0EnfOQtBkIZW",
        "outputId": "093b5c7c-2b02-4180-95c5-1f709adad2ee"
      },
      "execution_count": 44,
      "outputs": [
        {
          "data": {
            "image/png": "[encoded data removed]",
            "text/plain": [
              "<Figure size 432x288 with 1 Axes>"
            ]
          },
          "metadata": {},
          "output_type": "display_data"
        }
      ]
    },
    {
      "cell_type": "code",
      "source": [
        "# summarize history for loss\n",
        "plt.plot(train_results.history['loss'])\n",
        "plt.plot(train_results.history['val_loss'])\n",
        "plt.title('model loss')\n",
        "plt.ylabel('loss')\n",
        "plt.xlabel('epoch')\n",
        "plt.legend(['train', 'val'], loc='upper left')\n",
        "plt.show()"
      ],
      "metadata": {
        "colab": {
          "base_uri": "https://localhost:8080/",
          "height": 295
        },
        "id": "qGcOu6TOkUZq",
        "outputId": "3d8c68e1-12f4-4e6a-e538-ab653c439243"
      },
      "execution_count": 45,
      "outputs": [
        {
          "data": {
            "image/png": "[encoded data removed]",
            "text/plain": [
              "<Figure size 432x288 with 1 Axes>"
            ]
          },
          "metadata": {},
          "output_type": "display_data"
        }
      ]
    },
    {
      "cell_type": "code",
      "source": [
        "# summarize history for accuracy\n",
        "#FROM https://machinelearningmastery.com/display-deep-learning-model-training-history-in-keras/\n",
        "plt.plot(train_results.history['top-5-accuracy'])\n",
        "plt.plot(train_results.history['val_top-5-accuracy'])\n",
        "plt.title('model accuracy')\n",
        "plt.ylabel('accuracy')\n",
        "plt.xlabel('epoch')\n",
        "plt.legend(['train', 'val'], loc='upper left')\n",
        "plt.show()"
      ],
      "metadata": {
        "colab": {
          "base_uri": "https://localhost:8080/",
          "height": 295
        },
        "id": "sXjCoZO2Dcnj",
        "outputId": "8e89436b-d2b0-4d83-e1e4-2f094492f91b"
      },
      "execution_count": 46,
      "outputs": [
        {
          "data": {
            "image/png": "[encoded data removed]",
            "text/plain": [
              "<Figure size 432x288 with 1 Axes>"
            ]
          },
          "metadata": {},
          "output_type": "display_data"
        }
      ]
    },
    {
      "cell_type": "code",
      "source": [
        "early_stop = tf.keras.callbacks.EarlyStopping(monitor='val_accuracy', min_delta=0.001, patience=10, \n",
        "                                            verbose=0, mode='auto', baseline=None, restore_best_weights=True)\n",
        "train_results1 = model6.fit(\n",
        "    #train_ds,\n",
        "    train_generator,\n",
        "    validation_data = val_generator,\n",
        "    #tf_train_dataset,\n",
        "    #validation_data= val_ds,\n",
        "    #validation_data = tf_val_dataset,\n",
        "    epochs = 50,\n",
        "    callbacks=[early_stop])\n",
        "#)\n",
        "# callbacks=[early_stop])"
      ],
      "metadata": {
        "colab": {
          "base_uri": "https://localhost:8080/"
        },
        "id": "YJT6bvFYDdfZ",
        "outputId": "159c742f-0bb6-4ce3-9990-6bc4a7b0b2b2"
      },
      "execution_count": 47,
      "outputs": [
        {
          "metadata": {
            "tags": null
          },
          "name": "stdout",
          "output_type": "stream",
          "text": [
            "Epoch 1/50\n",
            "495/495 [==============================] - 277s 554ms/step - loss: 15.1592 - accuracy: 0.0988 - top-5-accuracy: 0.3048 - val_loss: 6.1845 - val_accuracy: 0.1453 - val_top-5-accuracy: 0.4407\n",
            "Epoch 2/50\n",
            "495/495 [==============================] - 271s 546ms/step - loss: 6.9314 - accuracy: 0.1376 - top-5-accuracy: 0.3912 - val_loss: 5.2045 - val_accuracy: 0.1185 - val_top-5-accuracy: 0.4320\n",
            "Epoch 3/50\n",
            "495/495 [==============================] - 272s 548ms/step - loss: 5.4477 - accuracy: 0.1680 - top-5-accuracy: 0.4452 - val_loss: 4.8463 - val_accuracy: 0.1376 - val_top-5-accuracy: 0.4724\n",
            "Epoch 4/50\n",
            "495/495 [==============================] - 272s 549ms/step - loss: 4.7992 - accuracy: 0.1909 - top-5-accuracy: 0.4928 - val_loss: 4.6757 - val_accuracy: 0.1278 - val_top-5-accuracy: 0.4691\n",
            "Epoch 5/50\n",
            "495/495 [==============================] - 271s 548ms/step - loss: 4.4352 - accuracy: 0.2103 - top-5-accuracy: 0.5263 - val_loss: 4.3257 - val_accuracy: 0.1720 - val_top-5-accuracy: 0.5243\n",
            "Epoch 6/50\n",
            "495/495 [==============================] - 269s 543ms/step - loss: 4.1744 - accuracy: 0.2271 - top-5-accuracy: 0.5535 - val_loss: 4.2613 - val_accuracy: 0.1584 - val_top-5-accuracy: 0.5150\n",
            "Epoch 7/50\n",
            "495/495 [==============================] - 270s 545ms/step - loss: 3.9678 - accuracy: 0.2391 - top-5-accuracy: 0.5738 - val_loss: 4.1356 - val_accuracy: 0.1507 - val_top-5-accuracy: 0.5167\n",
            "Epoch 8/50\n",
            "495/495 [==============================] - 271s 547ms/step - loss: 3.7809 - accuracy: 0.2503 - top-5-accuracy: 0.5970 - val_loss: 4.0184 - val_accuracy: 0.1535 - val_top-5-accuracy: 0.5314\n",
            "Epoch 9/50\n",
            "495/495 [==============================] - 270s 545ms/step - loss: 3.6202 - accuracy: 0.2616 - top-5-accuracy: 0.6106 - val_loss: 3.8317 - val_accuracy: 0.1846 - val_top-5-accuracy: 0.5292\n",
            "Epoch 10/50\n",
            "495/495 [==============================] - 270s 545ms/step - loss: 3.4613 - accuracy: 0.2742 - top-5-accuracy: 0.6263 - val_loss: 3.8631 - val_accuracy: 0.1709 - val_top-5-accuracy: 0.5319\n",
            "Epoch 11/50\n",
            "495/495 [==============================] - 270s 546ms/step - loss: 3.3183 - accuracy: 0.2861 - top-5-accuracy: 0.6435 - val_loss: 3.6488 - val_accuracy: 0.1764 - val_top-5-accuracy: 0.5401\n",
            "Epoch 12/50\n",
            "495/495 [==============================] - 269s 543ms/step - loss: 3.1794 - accuracy: 0.2954 - top-5-accuracy: 0.6577 - val_loss: 3.6350 - val_accuracy: 0.1589 - val_top-5-accuracy: 0.5079\n",
            "Epoch 13/50\n",
            "495/495 [==============================] - 270s 544ms/step - loss: 3.0448 - accuracy: 0.3062 - top-5-accuracy: 0.6721 - val_loss: 3.5562 - val_accuracy: 0.1589 - val_top-5-accuracy: 0.5199\n",
            "Epoch 14/50\n",
            "495/495 [==============================] - 270s 546ms/step - loss: 2.9184 - accuracy: 0.3203 - top-5-accuracy: 0.6860 - val_loss: 3.4006 - val_accuracy: 0.1819 - val_top-5-accuracy: 0.5434\n",
            "Epoch 15/50\n",
            "495/495 [==============================] - 271s 547ms/step - loss: 2.7989 - accuracy: 0.3320 - top-5-accuracy: 0.7004 - val_loss: 3.4304 - val_accuracy: 0.1841 - val_top-5-accuracy: 0.4981\n",
            "Epoch 16/50\n",
            "495/495 [==============================] - 271s 547ms/step - loss: 2.6746 - accuracy: 0.3456 - top-5-accuracy: 0.7169 - val_loss: 3.3594 - val_accuracy: 0.1759 - val_top-5-accuracy: 0.5412\n",
            "Epoch 17/50\n",
            "495/495 [==============================] - 270s 544ms/step - loss: 2.5674 - accuracy: 0.3595 - top-5-accuracy: 0.7278 - val_loss: 3.2634 - val_accuracy: 0.1922 - val_top-5-accuracy: 0.5467\n",
            "Epoch 18/50\n",
            "495/495 [==============================] - 270s 544ms/step - loss: 2.4615 - accuracy: 0.3741 - top-5-accuracy: 0.7435 - val_loss: 3.2723 - val_accuracy: 0.1873 - val_top-5-accuracy: 0.5172\n",
            "Epoch 19/50\n",
            "495/495 [==============================] - 269s 542ms/step - loss: 2.3587 - accuracy: 0.3877 - top-5-accuracy: 0.7579 - val_loss: 3.1988 - val_accuracy: 0.1857 - val_top-5-accuracy: 0.5358\n",
            "Epoch 20/50\n",
            "495/495 [==============================] - 270s 544ms/step - loss: 2.2642 - accuracy: 0.4015 - top-5-accuracy: 0.7706 - val_loss: 3.1720 - val_accuracy: 0.1862 - val_top-5-accuracy: 0.5385\n",
            "Epoch 21/50\n",
            "495/495 [==============================] - 271s 546ms/step - loss: 2.1717 - accuracy: 0.4182 - top-5-accuracy: 0.7871 - val_loss: 3.2201 - val_accuracy: 0.1846 - val_top-5-accuracy: 0.5161\n",
            "Epoch 22/50\n",
            "495/495 [==============================] - 271s 546ms/step - loss: 2.0886 - accuracy: 0.4317 - top-5-accuracy: 0.7969 - val_loss: 3.2559 - val_accuracy: 0.1595 - val_top-5-accuracy: 0.5035\n",
            "Epoch 23/50\n",
            "495/495 [==============================] - 273s 551ms/step - loss: 2.0056 - accuracy: 0.4487 - top-5-accuracy: 0.8107 - val_loss: 3.1906 - val_accuracy: 0.1868 - val_top-5-accuracy: 0.5145\n",
            "Epoch 24/50\n",
            "495/495 [==============================] - 273s 551ms/step - loss: 1.9283 - accuracy: 0.4651 - top-5-accuracy: 0.8220 - val_loss: 3.2126 - val_accuracy: 0.1753 - val_top-5-accuracy: 0.5074\n",
            "Epoch 25/50\n",
            "495/495 [==============================] - 272s 548ms/step - loss: 1.8584 - accuracy: 0.4782 - top-5-accuracy: 0.8329 - val_loss: 3.2528 - val_accuracy: 0.1644 - val_top-5-accuracy: 0.5074\n",
            "Epoch 26/50\n",
            "495/495 [==============================] - 272s 548ms/step - loss: 1.7955 - accuracy: 0.4897 - top-5-accuracy: 0.8426 - val_loss: 3.2659 - val_accuracy: 0.1802 - val_top-5-accuracy: 0.5128\n",
            "Epoch 27/50\n",
            "495/495 [==============================] - 272s 550ms/step - loss: 1.7290 - accuracy: 0.5047 - top-5-accuracy: 0.8529 - val_loss: 3.3301 - val_accuracy: 0.1699 - val_top-5-accuracy: 0.5025\n"
          ]
        }
      ]
    },
    {
      "cell_type": "code",
      "source": [
        "test_generator = Environmental_Patches_Generator(obs_id_test_new, y_test_normalized, BATCHSIZE)\n",
        "result = model6.evaluate(test_generator)"
      ],
      "metadata": {
        "colab": {
          "base_uri": "https://localhost:8080/"
        },
        "id": "gNSaL0mS8Ulj",
        "outputId": "2fea51a4-b1c6-4751-e96b-79177b954463"
      },
      "execution_count": 48,
      "outputs": [
        {
          "metadata": {
            "tags": null
          },
          "name": "stdout",
          "output_type": "stream",
          "text": [
            "55/55 [==============================] - 30s 535ms/step - loss: 2.9710 - accuracy: 0.2620 - top-5-accuracy: 0.6028\n"
          ]
        }
      ]
    },
    {
      "cell_type": "code",
      "source": [
        "# summarize history for accuracy\n",
        "#FROM https://machinelearningmastery.com/display-deep-learning-model-training-history-in-keras/\n",
        "plt.plot(train_results1.history['accuracy'])\n",
        "plt.plot(train_results1.history['val_accuracy'])\n",
        "plt.title('model accuracy')\n",
        "plt.ylabel('accuracy')\n",
        "plt.xlabel('epoch')\n",
        "plt.legend(['train', 'test'], loc='upper left')\n",
        "plt.show()"
      ],
      "metadata": {
        "colab": {
          "base_uri": "https://localhost:8080/",
          "height": 295
        },
        "id": "aTLid0D98hbA",
        "outputId": "fe8be70e-a7cd-44d9-bd5a-5ed2d9e0d436"
      },
      "execution_count": 49,
      "outputs": [
        {
          "data": {
            "image/png": "[encoded data removed]",
            "text/plain": [
              "<Figure size 432x288 with 1 Axes>"
            ]
          },
          "metadata": {},
          "output_type": "display_data"
        }
      ]
    },
    {
      "cell_type": "code",
      "source": [
        "# summarize history for loss\n",
        "plt.plot(train_results1.history['loss'])\n",
        "plt.plot(train_results1.history['val_loss'])\n",
        "plt.title('model loss')\n",
        "plt.ylabel('loss')\n",
        "plt.xlabel('epoch')\n",
        "plt.legend(['train', 'test'], loc='upper left')\n",
        "plt.show()"
      ],
      "metadata": {
        "colab": {
          "base_uri": "https://localhost:8080/",
          "height": 295
        },
        "id": "q5HL1cSS8leE",
        "outputId": "b80c99ac-5e8d-4e60-c01f-8b3a2b2c5426"
      },
      "execution_count": 50,
      "outputs": [
        {
          "data": {
            "image/png": "[encoded data removed]",
            "text/plain": [
              "<Figure size 432x288 with 1 Axes>"
            ]
          },
          "metadata": {},
          "output_type": "display_data"
        }
      ]
    },
    {
      "cell_type": "code",
      "source": [
        "# summarize history for accuracy\n",
        "#FROM https://machinelearningmastery.com/display-deep-learning-model-training-history-in-keras/\n",
        "plt.plot(train_results1.history['top-5-accuracy'])\n",
        "plt.plot(train_results1.history['val_top-5-accuracy'])\n",
        "plt.title('model accuracy')\n",
        "plt.ylabel('accuracy')\n",
        "plt.xlabel('epoch')\n",
        "plt.legend(['train', 'val'], loc='upper left')\n",
        "plt.show()"
      ],
      "metadata": {
        "colab": {
          "base_uri": "https://localhost:8080/",
          "height": 295
        },
        "id": "PXfYITs7Dt1z",
        "outputId": "857c695d-c5e2-4c5a-85f2-fbee5620e445"
      },
      "execution_count": 51,
      "outputs": [
        {
          "data": {
            "image/png": "[encoded data removed]",
            "text/plain": [
              "<Figure size 432x288 with 1 Axes>"
            ]
          },
          "metadata": {},
          "output_type": "display_data"
        }
      ]
    },
    {
      "cell_type": "code",
      "source": [
        "early_stop = tf.keras.callbacks.EarlyStopping(monitor='val_accuracy', min_delta=0.001, patience=10, \n",
        "                                            verbose=0, mode='auto', baseline=None, restore_best_weights=True)\n",
        "train_results2 = model7.fit(\n",
        "    #train_ds,\n",
        "    train_generator,\n",
        "    validation_data = val_generator,\n",
        "    #tf_train_dataset,\n",
        "    #validation_data= val_ds,\n",
        "    #validation_data = tf_val_dataset,\n",
        "    epochs = 50,\n",
        "    callbacks=[early_stop])\n",
        "#)\n",
        "# callbacks=[early_stop])"
      ],
      "metadata": {
        "colab": {
          "base_uri": "https://localhost:8080/"
        },
        "id": "zbiP64ex9S96",
        "outputId": "06cf0bd6-b994-40c5-d5c1-95ee9b6e602f"
      },
      "execution_count": 52,
      "outputs": [
        {
          "metadata": {
            "tags": null
          },
          "name": "stdout",
          "output_type": "stream",
          "text": [
            "Epoch 1/50\n",
            "495/495 [==============================] - 276s 550ms/step - loss: 11.5090 - accuracy: 0.0981 - top-5-accuracy: 0.3047 - val_loss: 5.5292 - val_accuracy: 0.1502 - val_top-5-accuracy: 0.4402\n",
            "Epoch 2/50\n",
            "495/495 [==============================] - 270s 546ms/step - loss: 5.9488 - accuracy: 0.1403 - top-5-accuracy: 0.3998 - val_loss: 4.8167 - val_accuracy: 0.1660 - val_top-5-accuracy: 0.4560\n",
            "Epoch 3/50\n",
            "495/495 [==============================] - 271s 547ms/step - loss: 4.9441 - accuracy: 0.1725 - top-5-accuracy: 0.4616 - val_loss: 4.6962 - val_accuracy: 0.1382 - val_top-5-accuracy: 0.4566\n",
            "Epoch 4/50\n",
            "495/495 [==============================] - 270s 545ms/step - loss: 4.4856 - accuracy: 0.1961 - top-5-accuracy: 0.5027 - val_loss: 4.3396 - val_accuracy: 0.1535 - val_top-5-accuracy: 0.5019\n",
            "Epoch 5/50\n",
            "495/495 [==============================] - 271s 547ms/step - loss: 4.1832 - accuracy: 0.2142 - top-5-accuracy: 0.5303 - val_loss: 4.1980 - val_accuracy: 0.1529 - val_top-5-accuracy: 0.5128\n",
            "Epoch 6/50\n",
            "495/495 [==============================] - 271s 546ms/step - loss: 3.9526 - accuracy: 0.2274 - top-5-accuracy: 0.5553 - val_loss: 4.0485 - val_accuracy: 0.1655 - val_top-5-accuracy: 0.5085\n",
            "Epoch 7/50\n",
            "495/495 [==============================] - 271s 546ms/step - loss: 3.7620 - accuracy: 0.2407 - top-5-accuracy: 0.5760 - val_loss: 3.8669 - val_accuracy: 0.1988 - val_top-5-accuracy: 0.5270\n",
            "Epoch 8/50\n",
            "495/495 [==============================] - 271s 547ms/step - loss: 3.5939 - accuracy: 0.2523 - top-5-accuracy: 0.5923 - val_loss: 3.8568 - val_accuracy: 0.1846 - val_top-5-accuracy: 0.4904\n",
            "Epoch 9/50\n",
            "495/495 [==============================] - 272s 549ms/step - loss: 3.4413 - accuracy: 0.2629 - top-5-accuracy: 0.6116 - val_loss: 3.7000 - val_accuracy: 0.1688 - val_top-5-accuracy: 0.5188\n",
            "Epoch 10/50\n",
            "495/495 [==============================] - 270s 546ms/step - loss: 3.2966 - accuracy: 0.2713 - top-5-accuracy: 0.6273 - val_loss: 3.6040 - val_accuracy: 0.1906 - val_top-5-accuracy: 0.5287\n",
            "Epoch 11/50\n",
            "495/495 [==============================] - 271s 546ms/step - loss: 3.1643 - accuracy: 0.2851 - top-5-accuracy: 0.6435 - val_loss: 3.5184 - val_accuracy: 0.1944 - val_top-5-accuracy: 0.5265\n",
            "Epoch 12/50\n",
            "495/495 [==============================] - 271s 547ms/step - loss: 3.0383 - accuracy: 0.2970 - top-5-accuracy: 0.6553 - val_loss: 3.4774 - val_accuracy: 0.1726 - val_top-5-accuracy: 0.5183\n",
            "Epoch 13/50\n",
            "495/495 [==============================] - 271s 548ms/step - loss: 2.9171 - accuracy: 0.3082 - top-5-accuracy: 0.6735 - val_loss: 3.3520 - val_accuracy: 0.1835 - val_top-5-accuracy: 0.5440\n",
            "Epoch 14/50\n",
            "495/495 [==============================] - 270s 544ms/step - loss: 2.8059 - accuracy: 0.3191 - top-5-accuracy: 0.6870 - val_loss: 3.3120 - val_accuracy: 0.1813 - val_top-5-accuracy: 0.5309\n",
            "Epoch 15/50\n",
            "495/495 [==============================] - 270s 545ms/step - loss: 2.6948 - accuracy: 0.3308 - top-5-accuracy: 0.7001 - val_loss: 3.3065 - val_accuracy: 0.1655 - val_top-5-accuracy: 0.5172\n",
            "Epoch 16/50\n",
            "495/495 [==============================] - 270s 545ms/step - loss: 2.5920 - accuracy: 0.3453 - top-5-accuracy: 0.7114 - val_loss: 3.2689 - val_accuracy: 0.1780 - val_top-5-accuracy: 0.5287\n",
            "Epoch 17/50\n",
            "495/495 [==============================] - 272s 550ms/step - loss: 2.4923 - accuracy: 0.3561 - top-5-accuracy: 0.7306 - val_loss: 3.2264 - val_accuracy: 0.1857 - val_top-5-accuracy: 0.5407\n"
          ]
        }
      ]
    },
    {
      "cell_type": "code",
      "source": [
        "test_generator = Environmental_Patches_Generator(obs_id_test_new, y_test_normalized, BATCHSIZE)\n",
        "result = model7.evaluate(test_generator)"
      ],
      "metadata": {
        "colab": {
          "base_uri": "https://localhost:8080/"
        },
        "id": "64DOXzQcRXXg",
        "outputId": "741fd788-948f-4f21-fa11-02c16ca87037"
      },
      "execution_count": 53,
      "outputs": [
        {
          "metadata": {
            "tags": null
          },
          "name": "stdout",
          "output_type": "stream",
          "text": [
            "55/55 [==============================] - 30s 536ms/step - loss: 3.7078 - accuracy: 0.2214 - top-5-accuracy: 0.5855\n"
          ]
        }
      ]
    },
    {
      "cell_type": "code",
      "source": [
        "test_generator = Environmental_Patches_Generator(obs_id_test_new, y_test_normalized, BATCHSIZE)\n",
        "result = model7.evaluate(test_generator)"
      ],
      "metadata": {
        "colab": {
          "base_uri": "https://localhost:8080/"
        },
        "id": "x7BMzwPIBYIe",
        "outputId": "b93260ad-2a0c-4254-b62f-71823522c912"
      },
      "execution_count": 54,
      "outputs": [
        {
          "metadata": {
            "tags": null
          },
          "name": "stdout",
          "output_type": "stream",
          "text": [
            "55/55 [==============================] - 29s 529ms/step - loss: 3.7078 - accuracy: 0.2214 - top-5-accuracy: 0.5855\n"
          ]
        }
      ]
    },
    {
      "cell_type": "code",
      "source": [
        "# summarize history for accuracy\n",
        "#FROM https://machinelearningmastery.com/display-deep-learning-model-training-history-in-keras/\n",
        "plt.plot(train_results2.history['accuracy'])\n",
        "plt.plot(train_results2.history['val_accuracy'])\n",
        "plt.title('model accuracy')\n",
        "plt.ylabel('accuracy')\n",
        "plt.xlabel('epoch')\n",
        "plt.legend(['train', 'val'], loc='upper left')\n",
        "plt.show()"
      ],
      "metadata": {
        "colab": {
          "base_uri": "https://localhost:8080/",
          "height": 295
        },
        "id": "DIiFY8ksBmOO",
        "outputId": "edd3208a-d1af-43dc-8e98-2fcab346e27d"
      },
      "execution_count": 55,
      "outputs": [
        {
          "data": {
            "image/png": "[encoded data removed]",
            "text/plain": [
              "<Figure size 432x288 with 1 Axes>"
            ]
          },
          "metadata": {},
          "output_type": "display_data"
        }
      ]
    },
    {
      "cell_type": "code",
      "source": [
        "# summarize history for accuracy\n",
        "#FROM https://machinelearningmastery.com/display-deep-learning-model-training-history-in-keras/\n",
        "plt.plot(train_results2.history['top-5-accuracy'])\n",
        "plt.plot(train_results2.history['val_top-5-accuracy'])\n",
        "plt.title('model accuracy')\n",
        "plt.ylabel('accuracy')\n",
        "plt.xlabel('epoch')\n",
        "plt.legend(['train', 'val'], loc='upper left')\n",
        "plt.show()"
      ],
      "metadata": {
        "colab": {
          "base_uri": "https://localhost:8080/",
          "height": 295
        },
        "id": "e0p2r0OyD9ov",
        "outputId": "9c86818b-e31e-4c20-c13d-d5d0ab524148"
      },
      "execution_count": 56,
      "outputs": [
        {
          "data": {
            "image/png": "[encoded data removed]",
            "text/plain": [
              "<Figure size 432x288 with 1 Axes>"
            ]
          },
          "metadata": {},
          "output_type": "display_data"
        }
      ]
    },
    {
      "cell_type": "code",
      "source": [
        "# summarize history for loss\n",
        "plt.plot(train_results2.history['loss'])\n",
        "plt.plot(train_results2.history['val_loss'])\n",
        "plt.title('model loss')\n",
        "plt.ylabel('loss')\n",
        "plt.xlabel('epoch')\n",
        "plt.legend(['train', 'val'], loc='upper left')\n",
        "plt.show()"
      ],
      "metadata": {
        "colab": {
          "base_uri": "https://localhost:8080/",
          "height": 295
        },
        "id": "-NaYpOX9BvxF",
        "outputId": "a499abcc-8cf0-41f9-ae00-e55a2e82b0a8"
      },
      "execution_count": 57,
      "outputs": [
        {
          "data": {
            "image/png": "[encoded data removed]",
            "text/plain": [
              "<Figure size 432x288 with 1 Axes>"
            ]
          },
          "metadata": {},
          "output_type": "display_data"
        }
      ]
    },
    {
      "cell_type": "code",
      "source": [
        "#code to save to csv\n",
        "hist_df = pd.DataFrame(train_results1.history) \n",
        "# or save to csv: \n",
        "hist_csv_file = 'rgb.csv'\n",
        "with open(hist_csv_file, mode='w') as f:\n",
        "    hist_df.to_csv(f)"
      ],
      "metadata": {
        "id": "HCJpxCvCL4b8"
      },
      "execution_count": 61,
      "outputs": []
    },
    {
      "cell_type": "code",
      "source": [
        "import tensorflow as tf\n",
        "from sklearn.preprocessing import MinMaxScaler\n",
        "from keras.regularizers import l2\n",
        "\n",
        "def identity_block(x, filter):\n",
        "  x_skip = x\n",
        "  x = tf.keras.layers.Conv2D(filter[0], (3,3), padding = \"same\")(x)\n",
        "  x = tf.keras.layers.BatchNormalization()(x)\n",
        "  print(\"here\")\n",
        "  x = tf.keras.layers.Activation('relu')(x)\n",
        "  x = tf.keras.layers.Conv2D(filter[0], (3,3), padding = \"same\")(x)\n",
        "  x = tf.keras.layers.BatchNormalization()(x)\n",
        "  x = tf.keras.layers.Add()([x, x_skip])\n",
        "  print('err')\n",
        "  x = tf.keras.layers.Activation('relu')(x)\n",
        "\n",
        "  return x\n",
        "\n",
        "def conv_net(x, filter):\n",
        "  \n",
        "  x_skip = x\n",
        "  x = tf.keras.layers.Conv2D(filter[0], (3,3), strides = 2)(x)\n",
        "  x = tf.keras.layers.BatchNormalization()(x)\n",
        "  #x = tf.keras.layers.Activation('relu')(x)\n",
        "  #x = tf.keras.layers.Conv2D(filter[0], (3,3))(x)\n",
        "  #x = tf.keras.layers.BatchNormalization()(x)\n",
        "  x_skip = tf.keras.layers.Conv2D(filter[1], (3,3), strides = 2)(x_skip)\n",
        "  print(\"HE\")\n",
        "  print(\"A\")\n",
        "  x = tf.keras.layers.Add()([x, x_skip])\n",
        "  print(\"now error\")\n",
        "  x = tf.keras.layers.Activation('relu')(x)\n",
        "\n",
        "  return x\n",
        "\n",
        "#input 1 is for image data, input 2 is for tabular data\n",
        "def my_res(input_shape1, input_shape2, num_classes):\n",
        "  x_input = tf.keras.layers.Input(input_shape1)\n",
        "  #x_input = tf.keras.layers.Rescaling(1./255)(x_input)\n",
        "  x_input = tf.keras.layers.Conv2D(3, kernel_size=(33, 33), activation='relu')(x_input)\n",
        "  aug = data_augmentation(x_input)\n",
        "  tab_input = tf.keras.layers.Input(input_shape2)\n",
        "  \n",
        "  #x = tf.keras.layers.ZeroPadding2D(padding = (9,9))(aug)\n",
        "\n",
        "  x = tf.keras.layers.Conv2D(64, 7, strides = 2)(aug)\n",
        "  x = tf.keras.layers.BatchNormalization()(x)\n",
        "  x = tf.keras.layers.Activation('relu')(x)\n",
        "  x = tf.keras.layers.MaxPooling2D(pool_size= (3,3), strides = 2)(x)\n",
        "\n",
        "  #print(x.shape)\n",
        "  #print('b')\n",
        "  x = conv_net(x, (32, 32))\n",
        "  #print('c')\n",
        "  x = identity_block(x, (32, 32))\n",
        "\n",
        "  #print('d')\n",
        "  x = conv_net(x, (128, 128))\n",
        "  x = tf.keras.layers.Dropout(0.25)(x)\n",
        "  x = identity_block(x, (128, 128))\n",
        "  #x = identity_block(x, (128, 128))\n",
        "  #x = identity_block(x, (128, 128))\n",
        "\n",
        "  x = conv_net(x, (256, 256))\n",
        "  x = identity_block(x, (256, 256))\n",
        "  #x = identity_block(x, (256, 256))\n",
        "  #x = identity_block(x, (256, 256))\n",
        "  #x = identity_block(x, (256, 256))\n",
        "\n",
        "  x = tf.keras.layers.AveragePooling2D(padding = \"same\")(x)\n",
        "  x = tf.keras.layers.Flatten()(x)\n",
        "  \n",
        "  #x = tf.keras.layers.Dense(num_classes, activation = 'softmax')(x)\n",
        "\n",
        "\n",
        "  # Add Dense layers for Tabular data\n",
        "  #y = tf.keras.layers.Dense(512)(tab_input)\n",
        "  #y = tf.keras.layers.Dense(256)(tab_input)\n",
        "  #y = tf.keras.layers.Dense(256)(x)\n",
        "  #y = tf.keras.layers.Dense(256)(tab_input)\n",
        "  #FROM stackoverflow\n",
        "  \n",
        "  x2 = tf.keras.layers.Flatten()(tab_input)\n",
        "  x2 = tf.keras.layers.Dense(32, activation='relu')(x2)\n",
        "  x2 = tf.keras.layers.Dropout(0.25)(x2)\n",
        "  x2 = tf.keras.layers.Dense(128, activation='relu')(x2)\n",
        "  #x2 = tf.keras.layers.Dense(256, activation='relu', kernel_regularizer=l2(0.01), bias_regularizer=l2(0.01))(x2)\n",
        "\n",
        "  #FIRST RUN\n",
        "  #x2 = tf.keras.layers.Dense(32, activation='relu')(x2)\n",
        "  #x2 = tf.keras.layers.Dense(128, activation='relu')(x2)\n",
        "  #x2 = tf.keras.layers.Dense(256, activation='relu')(x2)\n",
        "  #2 = tf.keras.layers.Dense(6400, activation='relu')(x2)\n",
        "\n",
        "  #print(x[0])\n",
        "  #print(x2[0])\n",
        "  #k = input()\n",
        "  #print(x.shape)\n",
        "  #print(x2.shape)\n",
        "  \n",
        "  #k = input()\n",
        "  # Concatenate Image and tabular weights\n",
        "  z = tf.keras.layers.Concatenate(axis=1)([x, x2])\n",
        "\n",
        "  # Add Classification Head\n",
        "  #z = tf.keras.layers.Dense(128)(z)\n",
        "  classifier = tf.keras.layers.Dense(num_classes, activation='softmax')(z)\n",
        "\n",
        "  #classifier = tf.keras.layers.Dense(num_classes, name='outputs', activation='softmax')(x)\n",
        "  model = tf.keras.models.Model(inputs = [x_input, tab_input], outputs = classifier, name = \"resnet_tab_plus_image\")\n",
        "\n",
        "  return model\n",
        "\n",
        "\n",
        "\n",
        "\n"
      ],
      "metadata": {
        "id": "jysYrrv-b4yv"
      },
      "execution_count": 62,
      "outputs": []
    },
    {
      "cell_type": "code",
      "source": [
        "generate_submission_file(\"./submissions/new\", df_obs_test.index, s_pred)"
      ],
      "metadata": {
        "id": "Wa6Qr79tPC4E",
        "colab": {
          "base_uri": "https://localhost:8080/",
          "height": 164
        },
        "outputId": "224220da-fcc2-4b4d-9794-c4e77523de0d"
      },
      "execution_count": 58,
      "outputs": [
        {
          "ename": "NameError",
          "evalue": "ignored",
          "output_type": "error",
          "traceback": [
            "\u001b[0;31m---------------------------------------------------------------------------\u001b[0m",
            "\u001b[0;31mNameError\u001b[0m                                 Traceback (most recent call last)",
            "\u001b[0;32m<ipython-input-58-3b762a3c8ce5>\u001b[0m in \u001b[0;36m<module>\u001b[0;34m()\u001b[0m\n\u001b[0;32m----> 1\u001b[0;31m \u001b[0mgenerate_submission_file\u001b[0m\u001b[0;34m(\u001b[0m\u001b[0;34m\"./submissions/new\"\u001b[0m\u001b[0;34m,\u001b[0m \u001b[0mdf_obs_test\u001b[0m\u001b[0;34m.\u001b[0m\u001b[0mindex\u001b[0m\u001b[0;34m,\u001b[0m \u001b[0ms_pred\u001b[0m\u001b[0;34m)\u001b[0m\u001b[0;34m\u001b[0m\u001b[0;34m\u001b[0m\u001b[0m\n\u001b[0m",
            "\u001b[0;31mNameError\u001b[0m: name 'generate_submission_file' is not defined"
          ]
        }
      ]
    }
  ],
  "metadata": {
    "kernelspec": {
      "display_name": "Python 3",
      "language": "python",
      "name": "python3"
    },
    "language_info": {
      "codemirror_mode": {
        "name": "ipython",
        "version": 3
      },
      "file_extension": ".py",
      "mimetype": "text/x-python",
      "name": "python",
      "nbconvert_exporter": "python",
      "pygments_lexer": "ipython3",
      "version": "3.8.8"
    },
    "colab": {
      "name": "Copy of Kennedy res_cnn.ipynb",
      "provenance": [],
      "collapsed_sections": []
    }
  },
  "nbformat": 4,
  "nbformat_minor": 0
}