{
 "cells": [
  {
   "cell_type": "code",
   "execution_count": null,
   "id": "9b32bd38-ccc0-474f-b3d0-9af55d96911c",
   "metadata": {},
   "outputs": [],
   "source": [
    " !kaggle competitions download -c geolifeclef-2022-lifeclef-2022-fgvc9"
   ]
  },
  {
   "cell_type": "code",
   "execution_count": null,
   "id": "5371804d-6be6-435f-9e86-6d56f49700ae",
   "metadata": {},
   "outputs": [],
   "source": []
  }
 ],
 "metadata": {
  "kernelspec": {
   "display_name": "Anaconda (jupyter)",
   "language": "python",
   "name": "anaconda-jupyter"
  },
  "language_info": {
   "codemirror_mode": {
    "name": "ipython",
    "version": 3
   },
   "file_extension": ".py",
   "mimetype": "text/x-python",
   "name": "python",
   "nbconvert_exporter": "python",
   "pygments_lexer": "ipython3",
   "version": "3.9.7"
  }
 },
 "nbformat": 4,
 "nbformat_minor": 5
}
