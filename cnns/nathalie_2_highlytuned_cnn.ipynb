{
 "cells": [
  {
   "cell_type": "markdown",
   "metadata": {},
   "source": [
    "### Necessary Imports and Installs"
   ]
  },
  {
   "cell_type": "code",
   "execution_count": 1,
   "metadata": {},
   "outputs": [
    {
     "name": "stderr",
     "output_type": "stream",
     "text": [
      "Matplotlib created a temporary config/cache directory at /tmp/matplotlib-1ww88x2s because the default path (/.config/matplotlib) is not a writable directory; it is highly recommended to set the MPLCONFIGDIR environment variable to a writable directory, in particular to speed up the import of Matplotlib and to better support multiprocessing.\n"
     ]
    },
    {
     "name": "stdout",
     "output_type": "stream",
     "text": [
      "%pylab is deprecated, use %matplotlib inline and import the required libraries.\n",
      "Populating the interactive namespace from numpy and matplotlib\n"
     ]
    }
   ],
   "source": [
    "import tensorflow as tf\n",
    "from tensorflow.keras.layers import Add, GlobalAveragePooling2D, Conv2D, Dense, AveragePooling2D, \\\n",
    "BatchNormalization, Normalization, Dropout, Flatten, Lambda, Input, Activation, MaxPooling2D\n",
    "from tensorflow.keras import Model\n",
    "from tensorflow.keras.optimizers import schedules, SGD\n",
    "from tensorflow.keras.callbacks import Callback, LambdaCallback\n",
    "from tensorflow.keras import backend as K\n",
    "import tensorflow_addons as tfa\n",
    "#import tensorflow_datasets as tfds\n",
    "\n",
    "import numpy as np\n",
    "from collections import defaultdict\n",
    "import matplotlib.pyplot as plt\n",
    "from matplotlib import scale\n",
    "import time\n",
    "import random\n",
    "from collections import defaultdict\n",
    "import math\n",
    "import copy\n",
    "import threading\n",
    "import opendatasets as od\n",
    "import tempfile\n",
    "from sklearn.utils import shuffle\n",
    "\n",
    "%pylab inline --no-import-all\n",
    "from pathlib import Path\n",
    "import pandas as pd\n",
    "import sys\n",
    "\n",
    "from GLC.data_loading.common import load_patch"
   ]
  },
  {
   "cell_type": "markdown",
   "metadata": {},
   "source": [
    "# Dataset"
   ]
  },
  {
   "cell_type": "markdown",
   "metadata": {},
   "source": [
    "## Download Dataset"
   ]
  },
  {
   "cell_type": "code",
   "execution_count": 2,
   "metadata": {
    "scrolled": true
   },
   "outputs": [],
   "source": [
    "# only uncomment if you don't have the dataset stored on disk yet\n",
    "# -> have your kaggle user credentials ready\n",
    "#data = od.download(\"https://www.kaggle.com/competitions/geolifeclef-2022-lifeclef-2022-fgvc9\")"
   ]
  },
  {
   "cell_type": "markdown",
   "metadata": {},
   "source": [
    "## Load Dataset from file"
   ]
  },
  {
   "cell_type": "markdown",
   "metadata": {},
   "source": [
    "Set path to competition dataset here."
   ]
  },
  {
   "cell_type": "code",
   "execution_count": 3,
   "metadata": {},
   "outputs": [],
   "source": [
    "# Change this path to adapt to where you downloaded the data\n",
    "DATA_PATH = Path(\"./geolifeclef-2022-lifeclef-2022-fgvc9/\")"
   ]
  },
  {
   "cell_type": "markdown",
   "metadata": {},
   "source": [
    "Run the following two commands to verify that the data path is set correctly. They should print folder and file names."
   ]
  },
  {
   "cell_type": "code",
   "execution_count": 4,
   "metadata": {},
   "outputs": [
    {
     "name": "stdout",
     "output_type": "stream",
     "text": [
      "\u001b[0m\u001b[01;34mmetadata\u001b[0m/      \u001b[01;34mpatches-fr\u001b[0m/  \u001b[01;34mpatches_sample\u001b[0m/  \u001b[01;34mrasters\u001b[0m/\r\n",
      "\u001b[01;34mobservations\u001b[0m/  \u001b[01;34mpatches-us\u001b[0m/  \u001b[01;34mpre-extracted\u001b[0m/   sample_submission.csv\r\n"
     ]
    }
   ],
   "source": [
    "ls -L $DATA_PATH"
   ]
  },
  {
   "cell_type": "code",
   "execution_count": 5,
   "metadata": {
    "scrolled": true
   },
   "outputs": [
    {
     "name": "stdout",
     "output_type": "stream",
     "text": [
      "observations_fr_test.csv   observations_us_test.csv\r\n",
      "observations_fr_train.csv  observations_us_train.csv\r\n"
     ]
    }
   ],
   "source": [
    "ls $DATA_PATH/observations"
   ]
  },
  {
   "cell_type": "markdown",
   "metadata": {},
   "source": [
    "Load the observation ids of the training dataset."
   ]
  },
  {
   "cell_type": "code",
   "execution_count": 6,
   "metadata": {},
   "outputs": [
    {
     "name": "stdout",
     "output_type": "stream",
     "text": [
      "Number of observations for training: 1627475\n"
     ]
    },
    {
     "data": {
      "text/html": [
       "<div>\n",
       "<style scoped>\n",
       "    .dataframe tbody tr th:only-of-type {\n",
       "        vertical-align: middle;\n",
       "    }\n",
       "\n",
       "    .dataframe tbody tr th {\n",
       "        vertical-align: top;\n",
       "    }\n",
       "\n",
       "    .dataframe thead th {\n",
       "        text-align: right;\n",
       "    }\n",
       "</style>\n",
       "<table border=\"1\" class=\"dataframe\">\n",
       "  <thead>\n",
       "    <tr style=\"text-align: right;\">\n",
       "      <th></th>\n",
       "      <th>latitude</th>\n",
       "      <th>longitude</th>\n",
       "      <th>species_id</th>\n",
       "      <th>subset</th>\n",
       "    </tr>\n",
       "    <tr>\n",
       "      <th>observation_id</th>\n",
       "      <th></th>\n",
       "      <th></th>\n",
       "      <th></th>\n",
       "      <th></th>\n",
       "    </tr>\n",
       "  </thead>\n",
       "  <tbody>\n",
       "    <tr>\n",
       "      <th>10561949</th>\n",
       "      <td>45.705116</td>\n",
       "      <td>1.424622</td>\n",
       "      <td>241</td>\n",
       "      <td>train</td>\n",
       "    </tr>\n",
       "    <tr>\n",
       "      <th>10131188</th>\n",
       "      <td>45.146973</td>\n",
       "      <td>6.416794</td>\n",
       "      <td>101</td>\n",
       "      <td>train</td>\n",
       "    </tr>\n",
       "    <tr>\n",
       "      <th>10799362</th>\n",
       "      <td>46.783695</td>\n",
       "      <td>-2.072855</td>\n",
       "      <td>700</td>\n",
       "      <td>train</td>\n",
       "    </tr>\n",
       "    <tr>\n",
       "      <th>10392536</th>\n",
       "      <td>48.604866</td>\n",
       "      <td>-2.825003</td>\n",
       "      <td>1456</td>\n",
       "      <td>train</td>\n",
       "    </tr>\n",
       "    <tr>\n",
       "      <th>10335049</th>\n",
       "      <td>48.815567</td>\n",
       "      <td>-0.161431</td>\n",
       "      <td>157</td>\n",
       "      <td>train</td>\n",
       "    </tr>\n",
       "  </tbody>\n",
       "</table>\n",
       "</div>"
      ],
      "text/plain": [
       "                 latitude  longitude  species_id subset\n",
       "observation_id                                         \n",
       "10561949        45.705116   1.424622         241  train\n",
       "10131188        45.146973   6.416794         101  train\n",
       "10799362        46.783695  -2.072855         700  train\n",
       "10392536        48.604866  -2.825003        1456  train\n",
       "10335049        48.815567  -0.161431         157  train"
      ]
     },
     "execution_count": 6,
     "metadata": {},
     "output_type": "execute_result"
    }
   ],
   "source": [
    "### Training Dataset ###\n",
    "# let's load the data from file\n",
    "df_obs_fr = pd.read_csv(DATA_PATH / \"observations\" / \"observations_fr_train.csv\", sep=\";\", index_col=\"observation_id\")\n",
    "df_obs_us = pd.read_csv(DATA_PATH / \"observations\" / \"observations_us_train.csv\", sep=\";\", index_col=\"observation_id\")\n",
    "\n",
    "df_obs = pd.concat((df_obs_fr, df_obs_us))\n",
    "\n",
    "print(\"Number of observations for training: {}\".format(len(df_obs)))\n",
    "\n",
    "# let's have a look at the data\n",
    "df_obs.head()"
   ]
  },
  {
   "cell_type": "markdown",
   "metadata": {},
   "source": [
    "Load the observation ids of the test dataset."
   ]
  },
  {
   "cell_type": "code",
   "execution_count": 7,
   "metadata": {},
   "outputs": [
    {
     "name": "stdout",
     "output_type": "stream",
     "text": [
      "Number of observations for testing: 36421\n"
     ]
    },
    {
     "data": {
      "text/html": [
       "<div>\n",
       "<style scoped>\n",
       "    .dataframe tbody tr th:only-of-type {\n",
       "        vertical-align: middle;\n",
       "    }\n",
       "\n",
       "    .dataframe tbody tr th {\n",
       "        vertical-align: top;\n",
       "    }\n",
       "\n",
       "    .dataframe thead th {\n",
       "        text-align: right;\n",
       "    }\n",
       "</style>\n",
       "<table border=\"1\" class=\"dataframe\">\n",
       "  <thead>\n",
       "    <tr style=\"text-align: right;\">\n",
       "      <th></th>\n",
       "      <th>latitude</th>\n",
       "      <th>longitude</th>\n",
       "    </tr>\n",
       "    <tr>\n",
       "      <th>observation_id</th>\n",
       "      <th></th>\n",
       "      <th></th>\n",
       "    </tr>\n",
       "  </thead>\n",
       "  <tbody>\n",
       "    <tr>\n",
       "      <th>10782781</th>\n",
       "      <td>43.601788</td>\n",
       "      <td>6.940195</td>\n",
       "    </tr>\n",
       "    <tr>\n",
       "      <th>10364138</th>\n",
       "      <td>46.241711</td>\n",
       "      <td>0.683586</td>\n",
       "    </tr>\n",
       "    <tr>\n",
       "      <th>10692017</th>\n",
       "      <td>45.181095</td>\n",
       "      <td>1.533459</td>\n",
       "    </tr>\n",
       "    <tr>\n",
       "      <th>10222322</th>\n",
       "      <td>46.938450</td>\n",
       "      <td>5.298678</td>\n",
       "    </tr>\n",
       "    <tr>\n",
       "      <th>10241950</th>\n",
       "      <td>45.017433</td>\n",
       "      <td>0.960736</td>\n",
       "    </tr>\n",
       "  </tbody>\n",
       "</table>\n",
       "</div>"
      ],
      "text/plain": [
       "                 latitude  longitude\n",
       "observation_id                      \n",
       "10782781        43.601788   6.940195\n",
       "10364138        46.241711   0.683586\n",
       "10692017        45.181095   1.533459\n",
       "10222322        46.938450   5.298678\n",
       "10241950        45.017433   0.960736"
      ]
     },
     "execution_count": 7,
     "metadata": {},
     "output_type": "execute_result"
    }
   ],
   "source": [
    "### Test Dataset ###\n",
    "df_obs_fr_test = pd.read_csv(DATA_PATH / \"observations\" / \"observations_fr_test.csv\", sep=\";\", index_col=\"observation_id\")\n",
    "df_obs_us_test = pd.read_csv(DATA_PATH / \"observations\" / \"observations_us_test.csv\", sep=\";\", index_col=\"observation_id\")\n",
    "\n",
    "df_obs_test = pd.concat((df_obs_fr_test, df_obs_us_test))\n",
    "\n",
    "print(\"Number of observations for testing: {}\".format(len(df_obs_test)))\n",
    "\n",
    "df_obs_test.head()"
   ]
  },
  {
   "cell_type": "markdown",
   "metadata": {},
   "source": [
    "Load suggested landcover alignment (only relevant if you're using landcover data later)."
   ]
  },
  {
   "cell_type": "code",
   "execution_count": 8,
   "metadata": {},
   "outputs": [
    {
     "name": "stdout",
     "output_type": "stream",
     "text": [
      "   landcover_code  suggested_landcover_code suggested_landcover_label\n",
      "0               0                         0              Missing Data\n",
      "1               1                        11          Cultivated Crops\n",
      "2               2                        11          Cultivated Crops\n",
      "3               3                         6       Broad-leaved Forest\n",
      "4               4                         7         Coniferous Forest\n"
     ]
    }
   ],
   "source": [
    "df_suggested_landcover_alignment = pd.read_csv(DATA_PATH / \"metadata\" / \"landcover_suggested_alignment.csv\", sep=\";\")\n",
    "print(df_suggested_landcover_alignment.head())\n",
    "landcover_mapping = df_suggested_landcover_alignment[\"suggested_landcover_code\"].values"
   ]
  },
  {
   "cell_type": "markdown",
   "metadata": {},
   "source": [
    "### Train/Val Split Labels\n",
    "Retrieve the train/val split provided, and load the labels of the train and val set elements."
   ]
  },
  {
   "cell_type": "code",
   "execution_count": 9,
   "metadata": {},
   "outputs": [
    {
     "name": "stdout",
     "output_type": "stream",
     "text": [
      "Training set size: 1587395 (97.5% of train observations)\n",
      "Validation set size: 40080 (2.5% of train observations)\n"
     ]
    }
   ],
   "source": [
    "obs_id_train = df_obs.index[df_obs[\"subset\"] == \"train\"].values\n",
    "obs_id_val = df_obs.index[df_obs[\"subset\"] == \"val\"].values\n",
    "\n",
    "y_train = df_obs.loc[obs_id_train][\"species_id\"].values\n",
    "y_val = df_obs.loc[obs_id_val][\"species_id\"].values\n",
    "\n",
    "n_val = len(obs_id_val)\n",
    "print(\"Training set size: {} ({:.1%} of train observations)\".format(len(y_train), len(y_train) / len(df_obs)))\n",
    "print(\"Validation set size: {} ({:.1%} of train observations)\".format(n_val, n_val / len(df_obs)))"
   ]
  },
  {
   "cell_type": "markdown",
   "metadata": {},
   "source": [
    "**Let's have a look at the training dataset.**"
   ]
  },
  {
   "cell_type": "code",
   "execution_count": 10,
   "metadata": {},
   "outputs": [
    {
     "name": "stdout",
     "output_type": "stream",
     "text": [
      "=== Training Dataset ===\n",
      "There are 17031 unique labels.\n",
      "We have 93.21 observations per label on average.\n"
     ]
    }
   ],
   "source": [
    "print(\"=== Training Dataset ===\")\n",
    "print(\"There are {} unique labels.\".format(len(np.unique(y_train))))\n",
    "print(\"We have {:.2f} observations per label on average.\".format(len(obs_id_train)/len(np.unique(y_train))))"
   ]
  },
  {
   "cell_type": "code",
   "execution_count": 11,
   "metadata": {
    "scrolled": false
   },
   "outputs": [],
   "source": [
    "# label_count = defaultdict(lambda: 0)\n",
    "\n",
    "# print(\"counting observation ids per label ...\")\n",
    "# for ob in df_obs.iterrows():\n",
    "#     label_count[ob[1]['species_id']] += 1\n",
    "# print(\"done\")"
   ]
  },
  {
   "cell_type": "code",
   "execution_count": 12,
   "metadata": {},
   "outputs": [],
   "source": [
    "# buckets = [0, 10, 100, 500, 1000, 2000, 3000, 10000, 100000]\n",
    "# buckets_counts = {0: 0, 10: 0, 100: 0, 500: 0, 1000: 0, 2000: 0, 3000: 0, 10000: 0, 100000: 0}\n",
    "# buckets_labels = {0: list(), 10: list(), 100: list(), 500: list(), 1000: list(), \n",
    "#                   2000: list(), 3000: list(), 10000: list(), 100000: list()}\n",
    "\n",
    "# for label in label_count:\n",
    "#     c = label_count[label]\n",
    "    \n",
    "#     i = 0\n",
    "#     while c > buckets[i]:\n",
    "#         i += 1\n",
    "#     i -= 1\n",
    "        \n",
    "#     #print(\"c: \", c)\n",
    "#     #print(\"buckets[i]: \", buckets[i])\n",
    "    \n",
    "#     buckets_counts[buckets[i]] += 1\n",
    "#     buckets_labels[buckets[i]].append(label)\n",
    "    \n",
    "# print(\"=== Analysis of observation ids per label in training set ===\")\n",
    "# print(\"{:<15}: # of labels that have that range amount of obs ids\".format(\"# of obs ids\"))\n",
    "# print()\n",
    "# for i in range(0, len(buckets)-1):\n",
    "#     print(\"{:<15}: {amount:>4} labels\".format(\"{lower} to {upper}\".format(lower=buckets[i], upper=buckets[i+1]), \n",
    "#                                               amount=buckets_counts[buckets[i]]))\n",
    "\n",
    "# #print(buckets_contents)"
   ]
  },
  {
   "cell_type": "markdown",
   "metadata": {},
   "source": [
    "Now only retrieve the data belonging to a subset of all possible labels."
   ]
  },
  {
   "cell_type": "code",
   "execution_count": 13,
   "metadata": {
    "scrolled": true
   },
   "outputs": [],
   "source": [
    "# ### Keep only the labels with lots of observations ###\n",
    "# min_obs_count = 2000\n",
    "# max_obs_count = 3000\n",
    "\n",
    "# # obtain all relevant labels\n",
    "# y_train = list()\n",
    "# for b in buckets:\n",
    "#     if b >= min_obs_count and b <= max_obs_count:\n",
    "#         for l in buckets_labels[b]:\n",
    "#             y_train.append(l)\n",
    "# print(\"obtained all relevant labels\")\n",
    "            \n",
    "# # obtain all corresponding obs ids\n",
    "# obs_list = list()\n",
    "\n",
    "# # iterate over a subset of the labels\n",
    "# counter = 0\n",
    "# for y in y_train:\n",
    "#     # for each label, retrieve all corresponding observation ids\n",
    "#     obs = df_obs.index[(df_obs[\"subset\"] == \"train\") & (df_obs[\"species_id\"] == y)].values\n",
    "#     #print(len(obs))\n",
    "#     obs_list.append(obs)\n",
    "    \n",
    "# # we now have a numpy array of all observation ids corresponding to this subset of labels\n",
    "# obs_id_train_new = np.concatenate(obs_list)\n",
    "# print(\"obtained all observations\")\n",
    "\n",
    "# # obtain the labels in the right order \n",
    "# y_train = df_obs.loc[obs_id_train_new][\"species_id\"].values\n",
    "\n",
    "# print(len(obs_id_train_new))\n",
    "# print(len(obs_id_train))\n",
    "\n",
    "# # count how many ids exist in obs_id_train_new that don't exist in obs_id_train\n",
    "# # should be 0\n",
    "# print(\"should be 0: \", len(obs_id_train_new) - len(obs_id_train_new[np.in1d(obs_id_train_new, obs_id_train)]))\n",
    "\n",
    "# print(len(np.unique(y_train)))\n",
    "# print(np.unique(y_train))\n",
    "\n",
    "# obs_id_train = obs_id_train_new"
   ]
  },
  {
   "cell_type": "code",
   "execution_count": null,
   "metadata": {},
   "outputs": [],
   "source": [
    "### Kennedy's Train, Val and Test Split ###\n",
    "# CHOOSE SUBSET FOR 30 Labels\n",
    "label_amount = 30\n",
    "\n",
    "import random\n",
    "subset_size = 0\n",
    "obs_list = list()\n",
    "obs_test_list = list()\n",
    "import numpy as np\n",
    "# iterate over a subset of the labels\n",
    "m = 0\n",
    "for y in (np.unique(y_train)[:]):\n",
    "    #print(\"in\")\n",
    "    # for each label, retrieve all corresponding observation ids\n",
    "    obs = df_obs.index[(df_obs[\"species_id\"] == y)]\n",
    "   \n",
    "    #print(len(obs))\n",
    "    #print(counter)\n",
    "    #print(obs)\n",
    "    #print(len(obs))\n",
    "    if (len(obs) >= 2000 and len(obs) <= 3000):\n",
    "      t = set(df_obs.index[(df_obs[\"species_id\"] == y) & (df_obs[\"subset\"] == \"train\")].values)\n",
    "      m += len(t)\n",
    "      ten_perc = int(len(t)/10)\n",
    "      random.seed(3)\n",
    "      test = random.sample(t, ten_perc)\n",
    "      train = t-set(test)\n",
    "      #print(train)\n",
    "      #print(\"here\")\n",
    "      obs_test_list.append(list(test))\n",
    "      obs_list.append(list(train))\n",
    "      subset_size += 1\n",
    "    if (subset_size >= label_amount):\n",
    "      #print(\"break\")\n",
    "      break\n",
    "print(m)   \n",
    "# we now have a numpy array of all observation ids corresponding to this subset of labels\n",
    "obs_id_train = np.concatenate(obs_list)\n",
    "obs_id_test = np.concatenate(obs_test_list)\n",
    "gps_train = np.concatenate((df_obs.loc[obs_id_train][\"latitude\"].values, df_obs.loc[obs_id_train][\"longitude\"].values))\n",
    "# obtain the labels in the right order \n",
    "y_train = df_obs.loc[obs_id_train][\"species_id\"].values\n",
    "y_test = df_obs.loc[obs_id_test][\"species_id\"].values\n",
    "print(y_train.size)\n",
    "\n",
    "print()\n",
    "print(y_test.size)\n",
    "print(y_train[2])\n",
    "print()"
   ]
  },
  {
   "cell_type": "code",
   "execution_count": null,
   "metadata": {},
   "outputs": [],
   "source": [
    "#subset_size = 8\n",
    "obs_list_1 = list()\n",
    "print(y_val.size)\n",
    "\n",
    "# iterate over a subset of the labels\n",
    "counter = 0\n",
    "print(y_val[0])\n",
    "for y in (np.unique(y_val)[:]):\n",
    "    # for each label, retrieve all corresponding observation ids\n",
    "    if (y in y_train):\n",
    "      v = df_obs.index[(df_obs[\"species_id\"] == y) & (df_obs[\"subset\"] == \"val\")].values\n",
    "      obs_list_1.append(v)\n",
    "    \n",
    "# we now have a numpy array of all observation ids corresponding to this subset of labels\n",
    "obs_id_val = np.concatenate(obs_list_1)\n",
    "\n",
    "# obtain the labels in the right order \n",
    "y_val = df_obs.loc[obs_id_val][\"species_id\"].values\n",
    "gps_val = np.concatenate((df_obs.loc[obs_id_val][\"latitude\"].values, df_obs.loc[obs_id_val][\"longitude\"].values))\n",
    "\n",
    "print(y_val.size)\n",
    "print(obs_id_val == obs_id_train)"
   ]
  },
  {
   "cell_type": "code",
   "execution_count": null,
   "metadata": {},
   "outputs": [],
   "source": [
    "train_dict_count = defaultdict(lambda: 0)\n",
    "for y in y_train:\n",
    "    train_dict_count[y] += 1\n",
    "    \n",
    "print(\"training: \")\n",
    "for key, value in train_dict_count.items():\n",
    "    print(\"label {:>4}: {:.2f}%\".format(key, value/len(y_train)))\n",
    "\n",
    "print()\n",
    "\n",
    "val_dict_count = defaultdict(lambda: 0)\n",
    "for y in y_val:\n",
    "    val_dict_count[y] += 1\n",
    "    \n",
    "print(\"validation: \")\n",
    "for key, value in val_dict_count.items():\n",
    "    print(\"label {:>4}: {:.2f}%\".format(key, value/len(y_val)))"
   ]
  },
  {
   "cell_type": "markdown",
   "metadata": {},
   "source": [
    "### Remap the labels s.t. they go from 0 to n-1\n",
    "(NAN fix is here)"
   ]
  },
  {
   "cell_type": "code",
   "execution_count": null,
   "metadata": {},
   "outputs": [],
   "source": [
    "# create a map s.t. the labels will go from 0 to n-1\n",
    "map_labels = dict()\n",
    "i = 0\n",
    "for l in np.unique(y_train):\n",
    "    map_labels[l] = i\n",
    "    i+=1\n",
    "print(map_labels)"
   ]
  },
  {
   "cell_type": "code",
   "execution_count": null,
   "metadata": {},
   "outputs": [],
   "source": [
    "# apply the map to the training labels\n",
    "y_train_normalized = np.zeros(np.shape(y_train), dtype='int64')\n",
    "\n",
    "for i in range(len(y_train)):\n",
    "    y_train_normalized[i] = map_labels[y_train[i]]\n",
    "    \n",
    "# shuffle together\n",
    "obs_id_train, y_train = shuffle(obs_id_train, y_train_normalized)\n",
    "\n",
    "no_output_neurons = len(np.unique(y_train))\n",
    "print(\"# output neurons: \", no_output_neurons)"
   ]
  },
  {
   "cell_type": "code",
   "execution_count": null,
   "metadata": {},
   "outputs": [],
   "source": [
    "# apply the map to the validation labels\n",
    "y_val_normalized = np.zeros(np.shape(y_val), dtype='int64')\n",
    "\n",
    "for i in range(len(y_val)):\n",
    "    y_val_normalized[i] = map_labels[y_val[i]]\n",
    "    \n",
    "# shuffle together\n",
    "obs_id_val, y_val = shuffle(obs_id_val, y_val_normalized)"
   ]
  },
  {
   "cell_type": "code",
   "execution_count": null,
   "metadata": {},
   "outputs": [],
   "source": [
    "# apply the map to the test labels\n",
    "y_test_normalized = np.zeros(np.shape(y_test), dtype='int64')\n",
    "\n",
    "for i in range(len(y_test)):\n",
    "    y_test_normalized[i] = map_labels[y_test[i]]\n",
    "    \n",
    "# shuffle together\n",
    "obs_id_test, y_test = shuffle(obs_id_test, y_test_normalized)"
   ]
  },
  {
   "cell_type": "markdown",
   "metadata": {},
   "source": [
    "## Write input pipeline to load batches as we train."
   ]
  },
  {
   "cell_type": "markdown",
   "metadata": {},
   "source": [
    "### Custom Generator\n",
    "Since dataset is too large to load it all into memory once, we need to load it from disk in batches as we train. Such a generator can later be passed into model.fit() instead of a train and/or validation dataset."
   ]
  },
  {
   "cell_type": "code",
   "execution_count": null,
   "metadata": {},
   "outputs": [],
   "source": [
    "class Patches_Generator(tf.keras.utils.Sequence) :\n",
    "  \n",
    "    def __init__(self, obs_ids, labels, batch_size) :\n",
    "        self.obs_ids = obs_ids\n",
    "        self.labels = labels\n",
    "        self.batch_size = batch_size\n",
    "        \n",
    "        # to make the generator thread safe \n",
    "        self.lock = threading.Lock()\n",
    "\n",
    "    def __len__(self) :\n",
    "        return (np.ceil(len(self.obs_ids) / float(self.batch_size))).astype(int)\n",
    "  \n",
    "    # returns one batch\n",
    "    def __getitem__(self, idx) :\n",
    "        X_batch = list()\n",
    "        y_batch = list()\n",
    "\n",
    "        for i in range(idx * self.batch_size, (idx+1) * self.batch_size):\n",
    "            if i >= len(self.obs_ids): break\n",
    "            \n",
    "            patch = load_patch(self.obs_ids[i], DATA_PATH, data='rgb')\n",
    "            X_batch.append(patch[0])\n",
    "            y_batch.append(self.labels[i])\n",
    "\n",
    "        with self.lock:\n",
    "            return np.asarray(X_batch), np.array(y_batch)"
   ]
  },
  {
   "cell_type": "markdown",
   "metadata": {},
   "source": [
    "# First Simple Neural Network\n",
    "Let's create a first neural network as a baseline to see how it performs."
   ]
  },
  {
   "cell_type": "code",
   "execution_count": null,
   "metadata": {},
   "outputs": [],
   "source": [
    "# # for distributed training (that is, using multiple GPUs for data parallelization)\n",
    "# # https://www.tensorflow.org/guide/distributed_training#use_tfdistributestrategy_with_keras_modelfit\n",
    "# mirrored_strategy = tf.distribute.MirroredStrategy()"
   ]
  },
  {
   "cell_type": "code",
   "execution_count": null,
   "metadata": {},
   "outputs": [],
   "source": [
    "# returns a simple convolutional neural net\n",
    "def complex_model(input_shape, learning_rate=0.1, output_neurons=46):\n",
    "    \n",
    "    # for distributed training\n",
    "    #with mirrored_strategy.scope():\n",
    "    \n",
    "    model = tf.keras.models.Sequential()\n",
    "    dropout_prob = 0.1\n",
    "    \n",
    "    random.seed(42)\n",
    "\n",
    "    he = tf.keras.initializers.HeNormal(seed=42)\n",
    "    \n",
    "    # 1. Preprocessing\n",
    "    # rescale inputs to distribution with mean = 0 and variance = 1\n",
    "    #model.add(tf.keras.layers.Normalization())\n",
    "    model.add(tf.keras.layers.Rescaling(1./255))\n",
    "    #model.add(tf.keras.layers.RandomFlip(\"horizontal\"))\n",
    "    #model.add(tf.keras.layers.RandomRotation(factor=0.02))\n",
    "    model.add(tf.keras.layers.RandomContrast(factor=0.1))\n",
    "    model.add(tf.keras.layers.RandomCrop(input_shape[0], input_shape[1]))\n",
    "    #model.add(tf.keras.layers.RandomZoom(-0.1, 0.1))\n",
    "\n",
    "    # 2. Convolutional Layers\n",
    "    # 64 units\n",
    "    model.add(Conv2D(64, kernel_size=3, activation='relu', padding='valid', input_shape=input_shape,\n",
    "                     kernel_initializer=he))\n",
    "    model.add(Dropout(dropout_prob))\n",
    "\n",
    "    model.add(Conv2D(64, kernel_size=3, activation='relu', padding='valid',\n",
    "                     kernel_initializer=he))\n",
    "    model.add(MaxPooling2D())\n",
    "    model.add(Dropout(dropout_prob))\n",
    "    \n",
    "    # 128 units\n",
    "    model.add(Conv2D(128, kernel_size=3, activation='relu', padding='valid',\n",
    "                     kernel_initializer=he))\n",
    "    model.add(Dropout(dropout_prob))\n",
    "    \n",
    "    model.add(Conv2D(128, kernel_size=3, activation='relu', padding='valid',\n",
    "                     kernel_initializer=he))\n",
    "    model.add(Dropout(dropout_prob))\n",
    "    \n",
    "    model.add(Conv2D(128, kernel_size=3, activation='relu', padding='valid',\n",
    "                     kernel_initializer=he))\n",
    "    model.add(MaxPooling2D())\n",
    "    model.add(Dropout(dropout_prob))\n",
    "    \n",
    "    # 256 units\n",
    "    model.add(Conv2D(256, kernel_size=3, activation='relu', padding='valid',\n",
    "                     kernel_initializer=he))\n",
    "    model.add(MaxPooling2D())\n",
    "    model.add(Dropout(dropout_prob))\n",
    "    \n",
    "    model.add(Conv2D(256, kernel_size=3, activation='relu', padding='valid',\n",
    "                     kernel_initializer=he))\n",
    "    model.add(MaxPooling2D())\n",
    "    model.add(Dropout(dropout_prob))\n",
    "\n",
    "    model.add(Conv2D(256, kernel_size=3, activation='relu', padding='valid',\n",
    "                     kernel_initializer=he))\n",
    "    model.add(MaxPooling2D())\n",
    "    model.add(Dropout(dropout_prob))\n",
    "\n",
    "    \n",
    "    # from convolutional layers to dense layers\n",
    "    model.add(tf.keras.layers.Flatten())\n",
    "\n",
    "    \n",
    "    # 3. Dense Layers\n",
    "    model.add(Dense(64, activation='relu', kernel_initializer=he))\n",
    "    model.add(Dropout(dropout_prob))\n",
    "    \n",
    "    model.add(Dense(128, activation='relu', kernel_initializer=he))\n",
    "    model.add(Dropout(dropout_prob))\n",
    "    \n",
    "    model.add(Dense(256, activation='relu', kernel_initializer=he))\n",
    "    model.add(Dropout(dropout_prob))\n",
    "\n",
    "    # 4. Output Layer\n",
    "    model.add(Dense(output_neurons, activation='softmax'))\n",
    "    \n",
    "    # compire the model\n",
    "    model.compile(loss=tf.keras.losses.SparseCategoricalCrossentropy(from_logits=False),\n",
    "                  optimizer=tf.keras.optimizers.Adam(learning_rate=learning_rate),\n",
    "                  metrics=[tf.keras.metrics.SparseCategoricalAccuracy(name=\"accuracy\"),\n",
    "                           tf.keras.metrics.SparseTopKCategoricalAccuracy(5, name=\"top-5-accuracy\")])\n",
    "    \n",
    "    return model"
   ]
  },
  {
   "cell_type": "markdown",
   "metadata": {},
   "source": [
    "## Training Prep"
   ]
  },
  {
   "cell_type": "markdown",
   "metadata": {},
   "source": [
    "### Settings used when parallelizing the I/O Pipeline in model.fit().\n",
    "\n",
    "I used the setting values in the cell below for a high-cpu vm on GCP with the following specs:\n",
    "- machine type: n1-highcpu-96 (96 CPU cores)\n",
    "- vCPUs to core ratio: 2 vCPUs per core (making a theoretical max value for num_threads of 96 * 2 = 192)\n",
    "- 4 x NVIDIA Tesla T4 GPUs"
   ]
  },
  {
   "cell_type": "code",
   "execution_count": null,
   "metadata": {},
   "outputs": [],
   "source": [
    "# Remember to tune the learning rate accordingly.\n",
    "BATCHSIZE = 64\n",
    "\n",
    "# The maximun value for num_threads is dependent on amount of CPU cores:\n",
    "# amount of CPU cores * vCPUs to core ratio = theoretical max of NUM_THREADS\n",
    "NUM_THREADS = 11\n",
    "\n",
    "# The more batches we prefetch, the less idle the GPUs will be. \n",
    "# To check GPU usage:\n",
    "# 1. Run nvidia-smi -l 1 from the terminal to monitor the GPU usage during training. \n",
    "# 2. Try to get close to 100% for all GPUs by adjusting the value below (and the two above). Due to the overhead\n",
    "#    from tf.distribute.MirroredStrategy(), you won't be able to consistently get 100% for all GPUs. But try to \n",
    "#    get close.\n",
    "# 3. Be aware that RAM limits the amount of batches you can prefetch.\n",
    "PRE_FETCH_NUM_BATCHES = int(NUM_THREADS * 100) "
   ]
  },
  {
   "cell_type": "markdown",
   "metadata": {},
   "source": [
    "### Generators\n",
    "Create generators that will read training / validation data from disk during training."
   ]
  },
  {
   "cell_type": "code",
   "execution_count": null,
   "metadata": {},
   "outputs": [],
   "source": [
    "train_generator = Patches_Generator(obs_id_train, y_train, BATCHSIZE)\n",
    "#train_gps_generator = GPS_Generator(obs_id_train, gps_train, y_train, BATCHSIZE)"
   ]
  },
  {
   "cell_type": "code",
   "execution_count": 21,
   "metadata": {},
   "outputs": [],
   "source": [
    "val_generator = Patches_Generator(obs_id_val, y_val, BATCHSIZE)"
   ]
  },
  {
   "cell_type": "markdown",
   "metadata": {},
   "source": [
    "### Cyclic learning rate\n",
    "Tune the cyclic learning rate prior to training."
   ]
  },
  {
   "cell_type": "code",
   "execution_count": 22,
   "metadata": {},
   "outputs": [],
   "source": [
    "# code source: https://pyimagesearch.com/2019/08/05/keras-learning-rate-finder/\n",
    "\n",
    "class LearningRateFinder:\n",
    "    def __init__(self, model, stopFactor=4, beta=0.98):\n",
    "        # store the model, stop factor, and beta value (for computing\n",
    "        # a smoothed, average loss)\n",
    "        self.model = model\n",
    "        self.stopFactor = stopFactor\n",
    "        self.beta = beta\n",
    "        \n",
    "        # initialize our list of learning rates and losses,\n",
    "        # respectively\n",
    "        self.lrs = []\n",
    "        self.losses = []\n",
    "        \n",
    "        # initialize our learning rate multiplier, average loss, best\n",
    "        # loss found thus far, current batch number, and weights file\n",
    "        self.lrMult = 1\n",
    "        self.avgLoss = 0\n",
    "        self.bestLoss = 1e9\n",
    "        self.batchNum = 0\n",
    "        self.weightsFile = None\n",
    "        \n",
    "    def on_batch_end(self, batch, logs):\n",
    "        # grab the current learning rate and add log it to the list of\n",
    "        # learning rates that we've tried\n",
    "        lr = K.get_value(self.model.optimizer.lr)\n",
    "        self.lrs.append(lr)\n",
    "        \n",
    "        # grab the loss at the end of this batch, increment the total\n",
    "        # number of batches processed, compute the average average\n",
    "        # loss, smooth it, and update the losses list with the\n",
    "        # smoothed value\n",
    "        l = logs[\"loss\"]\n",
    "        self.batchNum += 1\n",
    "        self.avgLoss = (self.beta * self.avgLoss) + ((1 - self.beta) * l)\n",
    "        smooth = self.avgLoss / (1 - (self.beta ** self.batchNum))\n",
    "        self.losses.append(smooth)\n",
    "        \n",
    "        # compute the maximum loss stopping factor value\n",
    "        stopLoss = self.stopFactor * self.bestLoss\n",
    "        \n",
    "        # check to see whether the loss has grown too large\n",
    "        if self.batchNum > 1 and smooth > stopLoss:\n",
    "            # stop returning and return from the method\n",
    "            self.model.stop_training = True\n",
    "            return\n",
    "        \n",
    "        # check to see if the best loss should be updated\n",
    "        if self.batchNum == 1 or smooth < self.bestLoss:\n",
    "            self.bestLoss = smooth\n",
    "            \n",
    "        # increase the learning rate\n",
    "        lr *= self.lrMult\n",
    "        K.set_value(self.model.optimizer.lr, lr)\n",
    "        \n",
    "    def find(self, trainData, startLR, endLR, epochs=None,\n",
    "        stepsPerEpoch=None, batchSize=64, sampleSize=2048):\n",
    "            \n",
    "        # compute the total number of batch updates that will take\n",
    "        # place while we are attempting to find a good starting\n",
    "        # learning rate\n",
    "        numBatchUpdates = epochs * stepsPerEpoch\n",
    "        \n",
    "        # derive the learning rate multiplier based on the ending\n",
    "        # learning rate, starting learning rate, and total number of\n",
    "        # batch updates\n",
    "        self.lrMult = (endLR / startLR) ** (1.0 / numBatchUpdates)\n",
    "        \n",
    "        # grab the *original* learning rate (so we can reset it\n",
    "        # later), and then set the *starting* learning rate\n",
    "        origLR = K.get_value(self.model.optimizer.lr)\n",
    "        K.set_value(self.model.optimizer.lr, startLR)\n",
    "\n",
    "        # construct a callback that will be called at the end of each\n",
    "        # batch, enabling us to increase our learning rate as training\n",
    "        # progresses\n",
    "        callback = LambdaCallback(on_batch_end=lambda batch, logs:\n",
    "            self.on_batch_end(batch, logs))\n",
    "        \n",
    "        # train our model using Keras' fit method\n",
    "        \"\"\"self.model.fit(\n",
    "            trainData,\n",
    "            batch_size=batchSize,\n",
    "            epochs=epochs,\n",
    "            callbacks=[callback])\"\"\"\n",
    "        \n",
    "        history = self.model.fit(trainData, \n",
    "                            batch_size=batchSize,\n",
    "                            epochs=epochs, \n",
    "                            steps_per_epoch=stepsPerEpoch,\n",
    "                            callbacks=[callback], \n",
    "                            # for parallelization of reading from disk (I/O) pipeline\n",
    "                            max_queue_size=PRE_FETCH_NUM_BATCHES, \n",
    "                            workers=NUM_THREADS, \n",
    "                            use_multiprocessing=True)\n",
    "        \n",
    "        # create a temporary file path for the model weights and\n",
    "        # then save the weights (so we can reset the weights when we\n",
    "        # are done)\n",
    "        self.weightsFile = tempfile.mkstemp()[1]\n",
    "        self.model.save_weights(self.weightsFile)\n",
    "            \n",
    "        # restore the original model weights and learning rate\n",
    "        self.model.load_weights(self.weightsFile)\n",
    "        K.set_value(self.model.optimizer.lr, origLR)\n",
    "\n",
    "    def plot_loss(self, skipBegin=10, skipEnd=1, title=\"\", show_candidates_only=True):\n",
    "        # grab the learning rate and losses values to plot\n",
    "        lrs = self.lrs[skipBegin:-skipEnd]\n",
    "        losses = self.losses[skipBegin:-skipEnd]\n",
    "        \n",
    "        # extract the candidate losses\n",
    "        candidates = [1e-15, 1e-14, 1e-13, 1e-12, 1e-11, 1e-10, 1e-9, 1e-8, 1e-7, 1e-6, 1e-5, 1e-4, 1e-3, 1e-2, 1e-1, 1e+0, 1e+1, 1e+2]\n",
    "\n",
    "        x_vals = list()\n",
    "        y_vals = list()\n",
    "        nextCandidate = 0\n",
    "        \n",
    "        for i in range(len(lrs)):\n",
    "            if math.isclose(lrs[i], candidates[nextCandidate], rel_tol=0.09, abs_tol=0):\n",
    "                x_vals.append(candidates[nextCandidate])\n",
    "                y_vals.append(losses[i])\n",
    "                nextCandidate += 1\n",
    "            \n",
    "            if nextCandidate >= len(candidates): \n",
    "                break\n",
    "                \n",
    "        x_vals.pop()\n",
    "        y_vals.pop()\n",
    "        x_vals.append(candidates[nextCandidate-1])\n",
    "        y_vals.append(losses[-1])\n",
    "        \n",
    "        # plot the learning rate vs. loss\n",
    "        if show_candidates_only:\n",
    "            plt.title(\"10 Candidate Learning Rates\")\n",
    "            plt.plot(x_vals, y_vals)\n",
    "        else:\n",
    "            plt.title(\"All Analyzed Learning Rates\")\n",
    "            plt.plot(lrs, losses)\n",
    "        \n",
    "        plt.xscale(\"log\")\n",
    "        plt.xlabel(\"Learning Rate (Log Scale)\")\n",
    "        plt.ylabel(\"Loss\")\n",
    "        plt.grid()\n",
    "        plt.xticks(candidates)\n",
    "        \n",
    "        # if the title is not empty, add it to the plot\n",
    "        if title != \"\":\n",
    "            plt.title(title)\n",
    "            \n",
    "        plt.show()"
   ]
  },
  {
   "cell_type": "code",
   "execution_count": 158,
   "metadata": {},
   "outputs": [
    {
     "name": "stdout",
     "output_type": "stream",
     "text": [
      "[INFO] finding learning rate...\n",
      "Epoch 1/6\n",
      "989/989 [==============================] - 158s 155ms/step - loss: 6.2518 - accuracy: 0.0355\n",
      "Epoch 2/6\n",
      "989/989 [==============================] - 158s 156ms/step - loss: 6.2761 - accuracy: 0.0347\n",
      "Epoch 3/6\n",
      "989/989 [==============================] - 163s 160ms/step - loss: 6.0520 - accuracy: 0.0341\n",
      "Epoch 4/6\n",
      "989/989 [==============================] - 160s 156ms/step - loss: 3.6846 - accuracy: 0.0360\n",
      "Epoch 5/6\n",
      "989/989 [==============================] - 107s 103ms/step - loss: 18.8239 - accuracy: 0.0381\n"
     ]
    },
    {
     "name": "stderr",
     "output_type": "stream",
     "text": [
      "Process Keras_worker_ForkPoolWorker-280:\n",
      "Process Keras_worker_ForkPoolWorker-278:\n",
      "Process Keras_worker_ForkPoolWorker-287:\n",
      "Process Keras_worker_ForkPoolWorker-286:\n",
      "Process Keras_worker_ForkPoolWorker-283:\n",
      "Process Keras_worker_ForkPoolWorker-282:\n",
      "Process Keras_worker_ForkPoolWorker-284:\n",
      "Process Keras_worker_ForkPoolWorker-277:\n",
      "Process Keras_worker_ForkPoolWorker-285:\n",
      "Process Keras_worker_ForkPoolWorker-279:\n",
      "Process Keras_worker_ForkPoolWorker-281:\n",
      "Traceback (most recent call last):\n",
      "Traceback (most recent call last):\n",
      "Traceback (most recent call last):\n",
      "Traceback (most recent call last):\n",
      "Traceback (most recent call last):\n",
      "Traceback (most recent call last):\n",
      "Traceback (most recent call last):\n",
      "Traceback (most recent call last):\n",
      "Traceback (most recent call last):\n",
      "Traceback (most recent call last):\n",
      "Traceback (most recent call last):\n",
      "  File \"/usr/lib/python3.8/multiprocessing/process.py\", line 315, in _bootstrap\n",
      "    self.run()\n",
      "  File \"/usr/lib/python3.8/multiprocessing/process.py\", line 315, in _bootstrap\n",
      "    self.run()\n",
      "  File \"/usr/lib/python3.8/multiprocessing/process.py\", line 315, in _bootstrap\n",
      "    self.run()\n",
      "  File \"/usr/lib/python3.8/multiprocessing/process.py\", line 315, in _bootstrap\n",
      "    self.run()\n",
      "  File \"/usr/lib/python3.8/multiprocessing/process.py\", line 315, in _bootstrap\n",
      "    self.run()\n",
      "  File \"/usr/lib/python3.8/multiprocessing/process.py\", line 315, in _bootstrap\n",
      "    self.run()\n",
      "  File \"/usr/lib/python3.8/multiprocessing/process.py\", line 315, in _bootstrap\n",
      "    self.run()\n",
      "  File \"/usr/lib/python3.8/multiprocessing/process.py\", line 315, in _bootstrap\n",
      "    self.run()\n",
      "  File \"/usr/lib/python3.8/multiprocessing/process.py\", line 315, in _bootstrap\n",
      "    self.run()\n",
      "  File \"/usr/lib/python3.8/multiprocessing/process.py\", line 315, in _bootstrap\n",
      "    self.run()\n",
      "  File \"/usr/lib/python3.8/multiprocessing/process.py\", line 315, in _bootstrap\n",
      "    self.run()\n",
      "  File \"/usr/lib/python3.8/multiprocessing/process.py\", line 108, in run\n",
      "    self._target(*self._args, **self._kwargs)\n",
      "  File \"/usr/lib/python3.8/multiprocessing/process.py\", line 108, in run\n",
      "    self._target(*self._args, **self._kwargs)\n",
      "  File \"/usr/lib/python3.8/multiprocessing/process.py\", line 108, in run\n",
      "    self._target(*self._args, **self._kwargs)\n",
      "  File \"/usr/lib/python3.8/multiprocessing/process.py\", line 108, in run\n",
      "    self._target(*self._args, **self._kwargs)\n",
      "  File \"/usr/lib/python3.8/multiprocessing/process.py\", line 108, in run\n",
      "    self._target(*self._args, **self._kwargs)\n",
      "  File \"/usr/lib/python3.8/multiprocessing/process.py\", line 108, in run\n",
      "    self._target(*self._args, **self._kwargs)\n",
      "  File \"/usr/lib/python3.8/multiprocessing/process.py\", line 108, in run\n",
      "    self._target(*self._args, **self._kwargs)\n",
      "  File \"/usr/lib/python3.8/multiprocessing/process.py\", line 108, in run\n",
      "    self._target(*self._args, **self._kwargs)\n",
      "  File \"/usr/lib/python3.8/multiprocessing/process.py\", line 108, in run\n",
      "    self._target(*self._args, **self._kwargs)\n",
      "  File \"/usr/lib/python3.8/multiprocessing/process.py\", line 108, in run\n",
      "    self._target(*self._args, **self._kwargs)\n",
      "  File \"/usr/lib/python3.8/multiprocessing/process.py\", line 108, in run\n",
      "    self._target(*self._args, **self._kwargs)\n",
      "  File \"/usr/lib/python3.8/multiprocessing/pool.py\", line 114, in worker\n",
      "    task = get()\n",
      "  File \"/usr/lib/python3.8/multiprocessing/pool.py\", line 114, in worker\n",
      "    task = get()\n",
      "  File \"/usr/lib/python3.8/multiprocessing/pool.py\", line 114, in worker\n",
      "    task = get()\n",
      "  File \"/usr/lib/python3.8/multiprocessing/pool.py\", line 114, in worker\n",
      "    task = get()\n",
      "  File \"/usr/lib/python3.8/multiprocessing/pool.py\", line 114, in worker\n",
      "    task = get()\n",
      "  File \"/usr/lib/python3.8/multiprocessing/pool.py\", line 114, in worker\n",
      "    task = get()\n",
      "  File \"/usr/lib/python3.8/multiprocessing/pool.py\", line 114, in worker\n",
      "    task = get()\n",
      "  File \"/usr/lib/python3.8/multiprocessing/pool.py\", line 114, in worker\n",
      "    task = get()\n",
      "  File \"/usr/lib/python3.8/multiprocessing/pool.py\", line 114, in worker\n",
      "    task = get()\n",
      "  File \"/usr/lib/python3.8/multiprocessing/pool.py\", line 114, in worker\n",
      "    task = get()\n",
      "  File \"/usr/lib/python3.8/multiprocessing/pool.py\", line 114, in worker\n",
      "    task = get()\n",
      "  File \"/usr/lib/python3.8/multiprocessing/queues.py\", line 355, in get\n",
      "    with self._rlock:\n",
      "  File \"/usr/lib/python3.8/multiprocessing/queues.py\", line 355, in get\n",
      "    with self._rlock:\n",
      "  File \"/usr/lib/python3.8/multiprocessing/queues.py\", line 355, in get\n",
      "    with self._rlock:\n",
      "  File \"/usr/lib/python3.8/multiprocessing/queues.py\", line 355, in get\n",
      "    with self._rlock:\n",
      "  File \"/usr/lib/python3.8/multiprocessing/queues.py\", line 355, in get\n",
      "    with self._rlock:\n",
      "  File \"/usr/lib/python3.8/multiprocessing/queues.py\", line 355, in get\n",
      "    with self._rlock:\n",
      "  File \"/usr/lib/python3.8/multiprocessing/queues.py\", line 355, in get\n",
      "    with self._rlock:\n",
      "  File \"/usr/lib/python3.8/multiprocessing/queues.py\", line 355, in get\n",
      "    with self._rlock:\n",
      "  File \"/usr/lib/python3.8/multiprocessing/queues.py\", line 356, in get\n",
      "    res = self._reader.recv_bytes()\n",
      "  File \"/usr/lib/python3.8/multiprocessing/queues.py\", line 355, in get\n",
      "    with self._rlock:\n",
      "  File \"/usr/lib/python3.8/multiprocessing/queues.py\", line 355, in get\n",
      "    with self._rlock:\n",
      "  File \"/usr/lib/python3.8/multiprocessing/synchronize.py\", line 95, in __enter__\n",
      "    return self._semlock.__enter__()\n",
      "  File \"/usr/lib/python3.8/multiprocessing/synchronize.py\", line 95, in __enter__\n",
      "    return self._semlock.__enter__()\n",
      "  File \"/usr/lib/python3.8/multiprocessing/synchronize.py\", line 95, in __enter__\n",
      "    return self._semlock.__enter__()\n",
      "  File \"/usr/lib/python3.8/multiprocessing/synchronize.py\", line 95, in __enter__\n",
      "    return self._semlock.__enter__()\n",
      "  File \"/usr/lib/python3.8/multiprocessing/synchronize.py\", line 95, in __enter__\n",
      "    return self._semlock.__enter__()\n",
      "  File \"/usr/lib/python3.8/multiprocessing/synchronize.py\", line 95, in __enter__\n",
      "    return self._semlock.__enter__()\n",
      "  File \"/usr/lib/python3.8/multiprocessing/synchronize.py\", line 95, in __enter__\n",
      "    return self._semlock.__enter__()\n",
      "  File \"/usr/lib/python3.8/multiprocessing/synchronize.py\", line 95, in __enter__\n",
      "    return self._semlock.__enter__()\n",
      "  File \"/usr/lib/python3.8/multiprocessing/connection.py\", line 216, in recv_bytes\n",
      "    buf = self._recv_bytes(maxlength)\n",
      "  File \"/usr/lib/python3.8/multiprocessing/synchronize.py\", line 95, in __enter__\n",
      "    return self._semlock.__enter__()\n",
      "  File \"/usr/lib/python3.8/multiprocessing/synchronize.py\", line 95, in __enter__\n",
      "    return self._semlock.__enter__()\n",
      "KeyboardInterrupt\n",
      "KeyboardInterrupt\n",
      "KeyboardInterrupt\n",
      "KeyboardInterrupt\n",
      "KeyboardInterrupt\n",
      "KeyboardInterrupt\n",
      "  File \"/usr/lib/python3.8/multiprocessing/connection.py\", line 414, in _recv_bytes\n",
      "    buf = self._recv(4)\n",
      "KeyboardInterrupt\n",
      "KeyboardInterrupt\n",
      "  File \"/usr/lib/python3.8/multiprocessing/connection.py\", line 379, in _recv\n",
      "    chunk = read(handle, remaining)\n",
      "KeyboardInterrupt\n",
      "KeyboardInterrupt\n",
      "KeyboardInterrupt\n"
     ]
    }
   ],
   "source": [
    "\n",
    "# # uncomment if you want to analyze which upper and lower bound for the cyclical learning rate policy to use\n",
    "\n",
    "# ###### initialize model\n",
    "# model_lr = complex_model((256, 256, 3), learning_rate=1e-9, output_neurons=no_output_neurons)\n",
    "\n",
    "# # initialize the learning rate finder and then train with learning\n",
    "# # rates ranging from 1e-10 to 1e+1\n",
    "# print(\"[INFO] finding learning rate...\")\n",
    "# lrf = LearningRateFinder(model_lr)\n",
    "# lrf.find(train_generator,\n",
    "#          1e-15, 1e+2,\n",
    "#          stepsPerEpoch=np.ceil(len(y_train)/BATCHSIZE),\n",
    "#          epochs=6, \n",
    "#          batchSize=BATCHSIZE)\n"
   ]
  },
  {
   "cell_type": "code",
   "execution_count": 159,
   "metadata": {},
   "outputs": [
    {
     "data": {
      "image/png": "[encoded data removed]",
      "text/plain": [
       "<Figure size 432x288 with 1 Axes>"
      ]
     },
     "metadata": {
      "needs_background": "light"
     },
     "output_type": "display_data"
    }
   ],
   "source": [
    "# plot the loss for the candidate learning rates\n",
    "lrf.plot_loss()"
   ]
  },
  {
   "cell_type": "code",
   "execution_count": 160,
   "metadata": {},
   "outputs": [
    {
     "data": {
      "image/png": "[encoded data removed]",
      "text/plain": [
       "<Figure size 432x288 with 1 Axes>"
      ]
     },
     "metadata": {
      "needs_background": "light"
     },
     "output_type": "display_data"
    }
   ],
   "source": [
    "# plot the loss for the various learning rates\n",
    "lrf.plot_loss(show_candidates_only=False)"
   ]
  },
  {
   "cell_type": "markdown",
   "metadata": {},
   "source": [
    "#### From that figure identify the values of lrmin and lrmax.\n",
    "\n",
    "I have identified them as follows:\n",
    "\n",
    "    lr_min = 1e-7\n",
    "    lr_max = 1e-3"
   ]
  },
  {
   "cell_type": "markdown",
   "metadata": {},
   "source": [
    "### Training"
   ]
  },
  {
   "cell_type": "markdown",
   "metadata": {},
   "source": [
    "Use the cyclical learning rate policy (with exponential decay)."
   ]
  },
  {
   "cell_type": "code",
   "execution_count": null,
   "metadata": {},
   "outputs": [],
   "source": [
    "STEPS_PER_EPOCH = len(y_train)//BATCHSIZE"
   ]
  },
  {
   "cell_type": "code",
   "execution_count": null,
   "metadata": {},
   "outputs": [],
   "source": [
    "# define cyclical learning rate policy\n",
    "lr_min = 1e-7\n",
    "lr_max = 1e-3\n",
    "\n",
    "clr = tfa.optimizers.CyclicalLearningRate(\n",
    "        initial_learning_rate=lr_min,\n",
    "        maximal_learning_rate=lr_max,\n",
    "        scale_fn=lambda x: 1/(2.**(x-1)), # exponential decay\n",
    "        step_size=2 * STEPS_PER_EPOCH\n",
    ")"
   ]
  },
  {
   "cell_type": "markdown",
   "metadata": {},
   "source": [
    "Create the model."
   ]
  },
  {
   "cell_type": "code",
   "execution_count": null,
   "metadata": {},
   "outputs": [],
   "source": [
    "# create the network\n",
    "#model = simple_model((256, 256, 3), learning_rate=clr, output_neurons=len(np.unique(y_train)))\n",
    "#model = simple_model_with_gps([(256, 256, 3), np.shape(gps)], learning_rate=clr, output_neurons=len(np.unique(y_train)))\n",
    "\n",
    "model = complex_model((256, 256, 3), learning_rate=clr, output_neurons=no_output_neurons)\n"
   ]
  },
  {
   "cell_type": "code",
   "execution_count": 37,
   "metadata": {
    "scrolled": true
   },
   "outputs": [
    {
     "name": "stdout",
     "output_type": "stream",
     "text": [
      "Model: \"sequential_1\"\n",
      "_________________________________________________________________\n",
      " Layer (type)                Output Shape              Param #   \n",
      "=================================================================\n",
      " rescaling_1 (Rescaling)     (64, 256, 256, 3)         0         \n",
      "                                                                 \n",
      " random_contrast_1 (RandomCo  (64, 256, 256, 3)        0         \n",
      " ntrast)                                                         \n",
      "                                                                 \n",
      " random_crop_1 (RandomCrop)  (64, 256, 256, 3)         0         \n",
      "                                                                 \n",
      " conv2d_8 (Conv2D)           (64, 254, 254, 64)        1792      \n",
      "                                                                 \n",
      " dropout_11 (Dropout)        (64, 254, 254, 64)        0         \n",
      "                                                                 \n",
      " conv2d_9 (Conv2D)           (64, 252, 252, 64)        36928     \n",
      "                                                                 \n",
      " max_pooling2d_5 (MaxPooling  (64, 126, 126, 64)       0         \n",
      " 2D)                                                             \n",
      "                                                                 \n",
      " dropout_12 (Dropout)        (64, 126, 126, 64)        0         \n",
      "                                                                 \n",
      " conv2d_10 (Conv2D)          (64, 124, 124, 128)       73856     \n",
      "                                                                 \n",
      " dropout_13 (Dropout)        (64, 124, 124, 128)       0         \n",
      "                                                                 \n",
      " conv2d_11 (Conv2D)          (64, 122, 122, 128)       147584    \n",
      "                                                                 \n",
      " dropout_14 (Dropout)        (64, 122, 122, 128)       0         \n",
      "                                                                 \n",
      " conv2d_12 (Conv2D)          (64, 120, 120, 128)       147584    \n",
      "                                                                 \n",
      " max_pooling2d_6 (MaxPooling  (64, 60, 60, 128)        0         \n",
      " 2D)                                                             \n",
      "                                                                 \n",
      " dropout_15 (Dropout)        (64, 60, 60, 128)         0         \n",
      "                                                                 \n",
      " conv2d_13 (Conv2D)          (64, 58, 58, 256)         295168    \n",
      "                                                                 \n",
      " max_pooling2d_7 (MaxPooling  (64, 29, 29, 256)        0         \n",
      " 2D)                                                             \n",
      "                                                                 \n",
      " dropout_16 (Dropout)        (64, 29, 29, 256)         0         \n",
      "                                                                 \n",
      " conv2d_14 (Conv2D)          (64, 27, 27, 256)         590080    \n",
      "                                                                 \n",
      " max_pooling2d_8 (MaxPooling  (64, 13, 13, 256)        0         \n",
      " 2D)                                                             \n",
      "                                                                 \n",
      " dropout_17 (Dropout)        (64, 13, 13, 256)         0         \n",
      "                                                                 \n",
      " conv2d_15 (Conv2D)          (64, 11, 11, 256)         590080    \n",
      "                                                                 \n",
      " max_pooling2d_9 (MaxPooling  (64, 5, 5, 256)          0         \n",
      " 2D)                                                             \n",
      "                                                                 \n",
      " dropout_18 (Dropout)        (64, 5, 5, 256)           0         \n",
      "                                                                 \n",
      " flatten_1 (Flatten)         (64, 6400)                0         \n",
      "                                                                 \n",
      " dense_4 (Dense)             (64, 64)                  409664    \n",
      "                                                                 \n",
      " dropout_19 (Dropout)        (64, 64)                  0         \n",
      "                                                                 \n",
      " dense_5 (Dense)             (64, 128)                 8320      \n",
      "                                                                 \n",
      " dropout_20 (Dropout)        (64, 128)                 0         \n",
      "                                                                 \n",
      " dense_6 (Dense)             (64, 256)                 33024     \n",
      "                                                                 \n",
      " dropout_21 (Dropout)        (64, 256)                 0         \n",
      "                                                                 \n",
      " dense_7 (Dense)             (64, 30)                  7710      \n",
      "                                                                 \n",
      "=================================================================\n",
      "Total params: 2,341,790\n",
      "Trainable params: 2,341,790\n",
      "Non-trainable params: 0\n",
      "_________________________________________________________________\n"
     ]
    }
   ],
   "source": [
    "model.summary()"
   ]
  },
  {
   "cell_type": "markdown",
   "metadata": {},
   "source": [
    "Train the network."
   ]
  },
  {
   "cell_type": "code",
   "execution_count": 30,
   "metadata": {},
   "outputs": [],
   "source": [
    "tf.keras.backend.clear_session()"
   ]
  },
  {
   "cell_type": "code",
   "execution_count": 26,
   "metadata": {},
   "outputs": [],
   "source": [
    "early_stop = tf.keras.callbacks.EarlyStopping(monitor='val_loss', min_delta=0.001, patience=30, \n",
    "                                              verbose=0, mode='auto', baseline=None, restore_best_weights=True)\n"
   ]
  },
  {
   "cell_type": "code",
   "execution_count": 32,
   "metadata": {
    "scrolled": true
   },
   "outputs": [
    {
     "name": "stdout",
     "output_type": "stream",
     "text": [
      "Epoch 1/100\n",
      "989/989 [==============================] - 337s 310ms/step - loss: 3.4260 - accuracy: 0.0380 - top-5-accuracy: 0.1849 - val_loss: 3.3992 - val_accuracy: 0.0410 - val_top-5-accuracy: 0.1420\n",
      "Epoch 2/100\n",
      "989/989 [==============================] - 136s 137ms/step - loss: 3.3978 - accuracy: 0.0384 - top-5-accuracy: 0.1902 - val_loss: 3.4014 - val_accuracy: 0.0339 - val_top-5-accuracy: 0.1480\n",
      "Epoch 3/100\n",
      "989/989 [==============================] - 134s 134ms/step - loss: 3.3968 - accuracy: 0.0384 - top-5-accuracy: 0.1905 - val_loss: 3.4008 - val_accuracy: 0.0339 - val_top-5-accuracy: 0.1496\n",
      "Epoch 4/100\n",
      "989/989 [==============================] - 137s 136ms/step - loss: 3.3569 - accuracy: 0.0579 - top-5-accuracy: 0.2118 - val_loss: 3.3686 - val_accuracy: 0.0628 - val_top-5-accuracy: 0.2332\n",
      "Epoch 5/100\n",
      "989/989 [==============================] - 137s 136ms/step - loss: 3.2327 - accuracy: 0.0952 - top-5-accuracy: 0.2926 - val_loss: 3.1923 - val_accuracy: 0.0945 - val_top-5-accuracy: 0.3321\n",
      "Epoch 6/100\n",
      "989/989 [==============================] - 137s 136ms/step - loss: 3.0773 - accuracy: 0.1198 - top-5-accuracy: 0.3682 - val_loss: 3.1170 - val_accuracy: 0.0918 - val_top-5-accuracy: 0.3779\n",
      "Epoch 7/100\n",
      "989/989 [==============================] - 137s 135ms/step - loss: 2.9629 - accuracy: 0.1438 - top-5-accuracy: 0.4175 - val_loss: 2.9398 - val_accuracy: 0.1453 - val_top-5-accuracy: 0.4413\n",
      "Epoch 8/100\n",
      "989/989 [==============================] - 140s 140ms/step - loss: 2.8081 - accuracy: 0.1814 - top-5-accuracy: 0.4855 - val_loss: 2.8658 - val_accuracy: 0.1644 - val_top-5-accuracy: 0.4823\n",
      "Epoch 9/100\n",
      "989/989 [==============================] - 137s 136ms/step - loss: 2.7405 - accuracy: 0.1984 - top-5-accuracy: 0.5125 - val_loss: 2.9110 - val_accuracy: 0.1349 - val_top-5-accuracy: 0.4637\n",
      "Epoch 10/100\n",
      "989/989 [==============================] - 139s 137ms/step - loss: 2.7310 - accuracy: 0.2000 - top-5-accuracy: 0.5156 - val_loss: 2.8695 - val_accuracy: 0.1546 - val_top-5-accuracy: 0.4631\n",
      "Epoch 11/100\n",
      "989/989 [==============================] - 139s 138ms/step - loss: 2.6571 - accuracy: 0.2206 - top-5-accuracy: 0.5467 - val_loss: 2.8368 - val_accuracy: 0.1704 - val_top-5-accuracy: 0.5025\n",
      "Epoch 12/100\n",
      "989/989 [==============================] - 136s 136ms/step - loss: 2.5013 - accuracy: 0.2600 - top-5-accuracy: 0.5998 - val_loss: 2.8474 - val_accuracy: 0.1573 - val_top-5-accuracy: 0.5079\n",
      "Epoch 13/100\n",
      "989/989 [==============================] - 140s 138ms/step - loss: 2.4083 - accuracy: 0.2852 - top-5-accuracy: 0.6314 - val_loss: 2.8726 - val_accuracy: 0.1535 - val_top-5-accuracy: 0.5014\n",
      "Epoch 14/100\n",
      "989/989 [==============================] - 137s 136ms/step - loss: 2.3952 - accuracy: 0.2876 - top-5-accuracy: 0.6347 - val_loss: 2.8945 - val_accuracy: 0.1573 - val_top-5-accuracy: 0.5014\n",
      "Epoch 15/100\n",
      "989/989 [==============================] - 139s 137ms/step - loss: 2.2966 - accuracy: 0.3134 - top-5-accuracy: 0.6674 - val_loss: 3.0041 - val_accuracy: 0.1513 - val_top-5-accuracy: 0.4773\n",
      "Epoch 16/100\n",
      "989/989 [==============================] - 139s 138ms/step - loss: 2.0950 - accuracy: 0.3662 - top-5-accuracy: 0.7240 - val_loss: 3.1521 - val_accuracy: 0.1382 - val_top-5-accuracy: 0.4708\n",
      "Epoch 17/100\n",
      "989/989 [==============================] - 142s 140ms/step - loss: 2.0003 - accuracy: 0.3948 - top-5-accuracy: 0.7481 - val_loss: 3.2499 - val_accuracy: 0.1458 - val_top-5-accuracy: 0.4599\n",
      "Epoch 18/100\n",
      "989/989 [==============================] - 137s 136ms/step - loss: 1.9933 - accuracy: 0.3941 - top-5-accuracy: 0.7497 - val_loss: 3.3545 - val_accuracy: 0.1458 - val_top-5-accuracy: 0.4620\n",
      "Epoch 19/100\n",
      "989/989 [==============================] - 138s 137ms/step - loss: 1.8996 - accuracy: 0.4216 - top-5-accuracy: 0.7728 - val_loss: 3.4911 - val_accuracy: 0.1404 - val_top-5-accuracy: 0.4539\n",
      "Epoch 20/100\n",
      "989/989 [==============================] - 139s 138ms/step - loss: 1.7463 - accuracy: 0.4656 - top-5-accuracy: 0.8061 - val_loss: 3.6593 - val_accuracy: 0.1382 - val_top-5-accuracy: 0.4522\n",
      "Epoch 21/100\n",
      "989/989 [==============================] - 140s 139ms/step - loss: 1.6827 - accuracy: 0.4869 - top-5-accuracy: 0.8200 - val_loss: 3.7483 - val_accuracy: 0.1360 - val_top-5-accuracy: 0.4468\n",
      "Epoch 22/100\n",
      "989/989 [==============================] - 140s 137ms/step - loss: 1.6852 - accuracy: 0.4849 - top-5-accuracy: 0.8188 - val_loss: 3.8594 - val_accuracy: 0.1371 - val_top-5-accuracy: 0.4276\n",
      "Epoch 23/100\n",
      "989/989 [==============================] - 137s 135ms/step - loss: 1.6254 - accuracy: 0.5006 - top-5-accuracy: 0.8306 - val_loss: 3.9973 - val_accuracy: 0.1344 - val_top-5-accuracy: 0.4364\n",
      "Epoch 24/100\n",
      "989/989 [==============================] - 137s 136ms/step - loss: 1.5321 - accuracy: 0.5312 - top-5-accuracy: 0.8470 - val_loss: 4.1290 - val_accuracy: 0.1322 - val_top-5-accuracy: 0.4358\n",
      "Epoch 25/100\n",
      "989/989 [==============================] - 140s 138ms/step - loss: 1.4991 - accuracy: 0.5417 - top-5-accuracy: 0.8535 - val_loss: 4.2249 - val_accuracy: 0.1354 - val_top-5-accuracy: 0.4326\n",
      "Epoch 26/100\n",
      "989/989 [==============================] - 137s 136ms/step - loss: 1.4963 - accuracy: 0.5395 - top-5-accuracy: 0.8537 - val_loss: 4.3231 - val_accuracy: 0.1322 - val_top-5-accuracy: 0.4326\n",
      "Epoch 27/100\n",
      "989/989 [==============================] - 141s 140ms/step - loss: 1.4628 - accuracy: 0.5496 - top-5-accuracy: 0.8591 - val_loss: 4.3801 - val_accuracy: 0.1305 - val_top-5-accuracy: 0.4336\n",
      "Epoch 28/100\n",
      "989/989 [==============================] - 137s 136ms/step - loss: 1.4117 - accuracy: 0.5673 - top-5-accuracy: 0.8698 - val_loss: 4.4733 - val_accuracy: 0.1289 - val_top-5-accuracy: 0.4260\n",
      "Epoch 29/100\n",
      "989/989 [==============================] - 137s 136ms/step - loss: 1.3908 - accuracy: 0.5762 - top-5-accuracy: 0.8715 - val_loss: 4.5327 - val_accuracy: 0.1305 - val_top-5-accuracy: 0.4211\n",
      "Epoch 30/100\n",
      "989/989 [==============================] - 136s 136ms/step - loss: 1.3867 - accuracy: 0.5753 - top-5-accuracy: 0.8722 - val_loss: 4.6175 - val_accuracy: 0.1267 - val_top-5-accuracy: 0.4227\n",
      "Epoch 31/100\n",
      "989/989 [==============================] - 140s 139ms/step - loss: 1.3725 - accuracy: 0.5803 - top-5-accuracy: 0.8745 - val_loss: 4.6651 - val_accuracy: 0.1256 - val_top-5-accuracy: 0.4211\n",
      "Epoch 32/100\n",
      "989/989 [==============================] - 140s 138ms/step - loss: 1.3424 - accuracy: 0.5902 - top-5-accuracy: 0.8801 - val_loss: 4.7213 - val_accuracy: 0.1294 - val_top-5-accuracy: 0.4271\n",
      "Epoch 33/100\n",
      "989/989 [==============================] - 137s 136ms/step - loss: 1.3274 - accuracy: 0.5944 - top-5-accuracy: 0.8820 - val_loss: 4.7683 - val_accuracy: 0.1256 - val_top-5-accuracy: 0.4211\n",
      "Epoch 34/100\n",
      "989/989 [==============================] - 137s 136ms/step - loss: 1.3304 - accuracy: 0.5941 - top-5-accuracy: 0.8825 - val_loss: 4.7912 - val_accuracy: 0.1294 - val_top-5-accuracy: 0.4233\n",
      "Epoch 35/100\n",
      "989/989 [==============================] - 141s 140ms/step - loss: 1.3136 - accuracy: 0.5988 - top-5-accuracy: 0.8846 - val_loss: 4.8405 - val_accuracy: 0.1262 - val_top-5-accuracy: 0.4222\n",
      "Epoch 36/100\n",
      "989/989 [==============================] - 138s 137ms/step - loss: 1.2999 - accuracy: 0.6017 - top-5-accuracy: 0.8860 - val_loss: 4.8790 - val_accuracy: 0.1262 - val_top-5-accuracy: 0.4184\n",
      "Epoch 37/100\n",
      "989/989 [==============================] - 137s 136ms/step - loss: 1.2930 - accuracy: 0.6066 - top-5-accuracy: 0.8873 - val_loss: 4.8941 - val_accuracy: 0.1240 - val_top-5-accuracy: 0.4216\n",
      "Epoch 38/100\n",
      "989/989 [==============================] - 141s 140ms/step - loss: 1.2899 - accuracy: 0.6048 - top-5-accuracy: 0.8882 - val_loss: 4.9162 - val_accuracy: 0.1278 - val_top-5-accuracy: 0.4200\n",
      "Epoch 39/100\n",
      "989/989 [==============================] - 143s 141ms/step - loss: 1.2839 - accuracy: 0.6084 - top-5-accuracy: 0.8883 - val_loss: 4.9533 - val_accuracy: 0.1251 - val_top-5-accuracy: 0.4205\n",
      "Epoch 40/100\n",
      "989/989 [==============================] - 143s 141ms/step - loss: 1.2738 - accuracy: 0.6115 - top-5-accuracy: 0.8906 - val_loss: 4.9692 - val_accuracy: 0.1245 - val_top-5-accuracy: 0.4189\n",
      "Epoch 41/100\n",
      "989/989 [==============================] - 138s 136ms/step - loss: 1.2685 - accuracy: 0.6134 - top-5-accuracy: 0.8911 - val_loss: 4.9969 - val_accuracy: 0.1267 - val_top-5-accuracy: 0.4184\n"
     ]
    },
    {
     "name": "stderr",
     "output_type": "stream",
     "text": [
      "Process Keras_worker_ForkPoolWorker-1476:\n",
      "Process Keras_worker_ForkPoolWorker-1480:\n",
      "Process Keras_worker_ForkPoolWorker-1481:\n",
      "Process Keras_worker_ForkPoolWorker-1477:\n",
      "Process Keras_worker_ForkPoolWorker-1483:\n",
      "Process Keras_worker_ForkPoolWorker-1482:\n",
      "Process Keras_worker_ForkPoolWorker-1478:\n",
      "Process Keras_worker_ForkPoolWorker-1479:\n",
      "Process Keras_worker_ForkPoolWorker-1484:\n",
      "Process Keras_worker_ForkPoolWorker-1475:\n",
      "Process Keras_worker_ForkPoolWorker-1485:\n",
      "Traceback (most recent call last):\n",
      "Traceback (most recent call last):\n",
      "Traceback (most recent call last):\n",
      "Traceback (most recent call last):\n",
      "Traceback (most recent call last):\n",
      "Traceback (most recent call last):\n",
      "Traceback (most recent call last):\n",
      "Traceback (most recent call last):\n",
      "Traceback (most recent call last):\n",
      "Traceback (most recent call last):\n",
      "  File \"/usr/lib/python3.8/multiprocessing/process.py\", line 315, in _bootstrap\n",
      "    self.run()\n",
      "  File \"/usr/lib/python3.8/multiprocessing/process.py\", line 315, in _bootstrap\n",
      "    self.run()\n",
      "  File \"/usr/lib/python3.8/multiprocessing/process.py\", line 315, in _bootstrap\n",
      "    self.run()\n",
      "  File \"/usr/lib/python3.8/multiprocessing/process.py\", line 315, in _bootstrap\n",
      "    self.run()\n",
      "  File \"/usr/lib/python3.8/multiprocessing/process.py\", line 315, in _bootstrap\n",
      "    self.run()\n",
      "  File \"/usr/lib/python3.8/multiprocessing/process.py\", line 315, in _bootstrap\n",
      "    self.run()\n",
      "  File \"/usr/lib/python3.8/multiprocessing/process.py\", line 315, in _bootstrap\n",
      "    self.run()\n",
      "  File \"/usr/lib/python3.8/multiprocessing/process.py\", line 315, in _bootstrap\n",
      "    self.run()\n",
      "  File \"/usr/lib/python3.8/multiprocessing/process.py\", line 315, in _bootstrap\n",
      "    self.run()\n",
      "  File \"/usr/lib/python3.8/multiprocessing/process.py\", line 315, in _bootstrap\n",
      "    self.run()\n",
      "  File \"/usr/lib/python3.8/multiprocessing/process.py\", line 108, in run\n",
      "    self._target(*self._args, **self._kwargs)\n",
      "  File \"/usr/lib/python3.8/multiprocessing/process.py\", line 108, in run\n",
      "    self._target(*self._args, **self._kwargs)\n",
      "  File \"/usr/lib/python3.8/multiprocessing/process.py\", line 108, in run\n",
      "    self._target(*self._args, **self._kwargs)\n",
      "  File \"/usr/lib/python3.8/multiprocessing/process.py\", line 108, in run\n",
      "    self._target(*self._args, **self._kwargs)\n",
      "  File \"/usr/lib/python3.8/multiprocessing/process.py\", line 108, in run\n",
      "    self._target(*self._args, **self._kwargs)\n",
      "  File \"/usr/lib/python3.8/multiprocessing/process.py\", line 108, in run\n",
      "    self._target(*self._args, **self._kwargs)\n",
      "  File \"/usr/lib/python3.8/multiprocessing/process.py\", line 108, in run\n",
      "    self._target(*self._args, **self._kwargs)\n",
      "  File \"/usr/lib/python3.8/multiprocessing/process.py\", line 108, in run\n",
      "    self._target(*self._args, **self._kwargs)\n",
      "  File \"/usr/lib/python3.8/multiprocessing/process.py\", line 108, in run\n",
      "    self._target(*self._args, **self._kwargs)\n",
      "  File \"/usr/lib/python3.8/multiprocessing/pool.py\", line 114, in worker\n",
      "    task = get()\n",
      "  File \"/usr/lib/python3.8/multiprocessing/pool.py\", line 114, in worker\n",
      "    task = get()\n",
      "  File \"/usr/lib/python3.8/multiprocessing/process.py\", line 108, in run\n",
      "    self._target(*self._args, **self._kwargs)\n",
      "  File \"/usr/lib/python3.8/multiprocessing/pool.py\", line 114, in worker\n",
      "    task = get()\n",
      "  File \"/usr/lib/python3.8/multiprocessing/pool.py\", line 114, in worker\n",
      "    task = get()\n",
      "  File \"/usr/lib/python3.8/multiprocessing/pool.py\", line 114, in worker\n",
      "    task = get()\n",
      "  File \"/usr/lib/python3.8/multiprocessing/pool.py\", line 114, in worker\n",
      "    task = get()\n",
      "  File \"/usr/lib/python3.8/multiprocessing/pool.py\", line 114, in worker\n",
      "    task = get()\n",
      "  File \"/usr/lib/python3.8/multiprocessing/queues.py\", line 355, in get\n",
      "    with self._rlock:\n",
      "  File \"/usr/lib/python3.8/multiprocessing/pool.py\", line 114, in worker\n",
      "    task = get()\n",
      "  File \"/usr/lib/python3.8/multiprocessing/pool.py\", line 114, in worker\n",
      "    task = get()\n",
      "  File \"/usr/lib/python3.8/multiprocessing/queues.py\", line 355, in get\n",
      "    with self._rlock:\n",
      "  File \"/usr/lib/python3.8/multiprocessing/queues.py\", line 355, in get\n",
      "    with self._rlock:\n",
      "  File \"/usr/lib/python3.8/multiprocessing/pool.py\", line 114, in worker\n",
      "    task = get()\n",
      "  File \"/usr/lib/python3.8/multiprocessing/queues.py\", line 355, in get\n",
      "    with self._rlock:\n",
      "  File \"/usr/lib/python3.8/multiprocessing/queues.py\", line 355, in get\n",
      "    with self._rlock:\n",
      "  File \"/usr/lib/python3.8/multiprocessing/queues.py\", line 355, in get\n",
      "    with self._rlock:\n",
      "  File \"/usr/lib/python3.8/multiprocessing/queues.py\", line 355, in get\n",
      "    with self._rlock:\n",
      "  File \"/usr/lib/python3.8/multiprocessing/synchronize.py\", line 95, in __enter__\n",
      "    return self._semlock.__enter__()\n",
      "  File \"/usr/lib/python3.8/multiprocessing/queues.py\", line 355, in get\n",
      "    with self._rlock:\n",
      "  File \"/usr/lib/python3.8/multiprocessing/queues.py\", line 355, in get\n",
      "    with self._rlock:\n",
      "  File \"/usr/lib/python3.8/multiprocessing/synchronize.py\", line 95, in __enter__\n",
      "    return self._semlock.__enter__()\n",
      "  File \"/usr/lib/python3.8/multiprocessing/synchronize.py\", line 95, in __enter__\n",
      "    return self._semlock.__enter__()\n",
      "  File \"/usr/lib/python3.8/multiprocessing/synchronize.py\", line 95, in __enter__\n",
      "    return self._semlock.__enter__()\n",
      "  File \"/usr/lib/python3.8/multiprocessing/queues.py\", line 355, in get\n",
      "    with self._rlock:\n",
      "  File \"/usr/lib/python3.8/multiprocessing/synchronize.py\", line 95, in __enter__\n",
      "    return self._semlock.__enter__()\n",
      "  File \"/usr/lib/python3.8/multiprocessing/synchronize.py\", line 95, in __enter__\n",
      "    return self._semlock.__enter__()\n",
      "  File \"/usr/lib/python3.8/multiprocessing/synchronize.py\", line 95, in __enter__\n",
      "    return self._semlock.__enter__()\n",
      "KeyboardInterrupt\n",
      "  File \"/usr/lib/python3.8/multiprocessing/synchronize.py\", line 95, in __enter__\n",
      "    return self._semlock.__enter__()\n",
      "  File \"/usr/lib/python3.8/multiprocessing/synchronize.py\", line 95, in __enter__\n",
      "    return self._semlock.__enter__()\n",
      "KeyboardInterrupt\n",
      "  File \"/usr/lib/python3.8/multiprocessing/synchronize.py\", line 95, in __enter__\n",
      "    return self._semlock.__enter__()\n",
      "KeyboardInterrupt\n",
      "KeyboardInterrupt\n",
      "KeyboardInterrupt\n",
      "KeyboardInterrupt\n",
      "KeyboardInterrupt\n",
      "KeyboardInterrupt\n",
      "KeyboardInterrupt\n",
      "KeyboardInterrupt\n",
      "Traceback (most recent call last):\n",
      "  File \"/usr/lib/python3.8/multiprocessing/process.py\", line 315, in _bootstrap\n",
      "    self.run()\n",
      "  File \"/usr/lib/python3.8/multiprocessing/process.py\", line 108, in run\n",
      "    self._target(*self._args, **self._kwargs)\n",
      "  File \"/usr/lib/python3.8/multiprocessing/pool.py\", line 114, in worker\n",
      "    task = get()\n",
      "  File \"/usr/lib/python3.8/multiprocessing/queues.py\", line 356, in get\n",
      "    res = self._reader.recv_bytes()\n",
      "  File \"/usr/lib/python3.8/multiprocessing/connection.py\", line 216, in recv_bytes\n",
      "    buf = self._recv_bytes(maxlength)\n",
      "  File \"/usr/lib/python3.8/multiprocessing/connection.py\", line 414, in _recv_bytes\n",
      "    buf = self._recv(4)\n",
      "  File \"/usr/lib/python3.8/multiprocessing/connection.py\", line 379, in _recv\n",
      "    chunk = read(handle, remaining)\n",
      "KeyboardInterrupt\n"
     ]
    }
   ],
   "source": [
    "history = model.fit(train_generator, epochs=100, callbacks=[early_stop], #steps_per_epoch=STEPS_PER_EPOCH, \n",
    "                    validation_data=val_generator,\n",
    "                    # for parallelization of reading from disk (I/O) pipeline\n",
    "                    max_queue_size=PRE_FETCH_NUM_BATCHES, workers=NUM_THREADS, use_multiprocessing=True)"
   ]
  },
  {
   "cell_type": "code",
   "execution_count": 36,
   "metadata": {},
   "outputs": [
    {
     "name": "stdout",
     "output_type": "stream",
     "text": [
      "INFO:tensorflow:Assets written to: complex_cnn_trial_clr_2/assets\n"
     ]
    }
   ],
   "source": [
    "model_file_name = 'complex_cnn_trial_clr_2'\n",
    "model.save(model_file_name)"
   ]
  },
  {
   "cell_type": "code",
   "execution_count": 39,
   "metadata": {},
   "outputs": [],
   "source": [
    "import json\n",
    "# Get the dictionary containing each metric and the loss for each epoch\n",
    "history_dict = history.history\n",
    "# Save it under the form of a json file\n",
    "json.dump(history_dict, open(model_file_name + '_history', 'w'))"
   ]
  },
  {
   "cell_type": "code",
   "execution_count": 37,
   "metadata": {},
   "outputs": [],
   "source": [
    "tf.keras.backend.clear_session()"
   ]
  },
  {
   "cell_type": "code",
   "execution_count": 1,
   "metadata": {},
   "outputs": [
    {
     "name": "stdout",
     "output_type": "stream",
     "text": [
      " GLC\t\t\t\t        nathalie_2_highlytuned_cnn.ipynb\r\n",
      "'HW3 main notebook.ipynb'\t        nathalie_3_multimodal_simple.ipynb\r\n",
      " README.md\t\t\t        nathalie_4_multimodal_complex.ipynb\r\n",
      " complex_cnn_final_data\t\t        nathalie_cyclic_learning_rate.ipynb\r\n",
      " complex_cnn_final_data_history         nathalie_first_input_pipeline.ipynb\r\n",
      " download_data.py\t\t        nathalie_simple_cnn_old.ipynb\r\n",
      " first_simple_model_random_3\t        old_trials\r\n",
      " geolifeclef-2022-lifeclef-2022-fgvc9   playground.ipynb\r\n",
      " nathalie_1_simple_cnn.ipynb\r\n"
     ]
    }
   ],
   "source": [
    "!ls"
   ]
  },
  {
   "cell_type": "code",
   "execution_count": 8,
   "metadata": {},
   "outputs": [
    {
     "data": {
      "text/plain": [
       "dict_keys(['loss', 'accuracy', 'top-5-accuracy', 'val_loss', 'val_accuracy', 'val_top-5-accuracy'])"
      ]
     },
     "execution_count": 8,
     "metadata": {},
     "output_type": "execute_result"
    }
   ],
   "source": [
    "# load history\n",
    "import json\n",
    "history_dict = json.load(open('complex_cnn_final_data_history', 'r'))\n",
    "history_dict.keys()"
   ]
  },
  {
   "cell_type": "code",
   "execution_count": 7,
   "metadata": {},
   "outputs": [
    {
     "data": {
      "text/plain": [
       "[0.14199890196323395,\n",
       " 0.14800655841827393,\n",
       " 0.14964500069618225,\n",
       " 0.2332058995962143,\n",
       " 0.33205899596214294,\n",
       " 0.3779355585575104,\n",
       " 0.44128891825675964,\n",
       " 0.4822501242160797,\n",
       " 0.46368104219436646,\n",
       " 0.46313488483428955,\n",
       " 0.5024576783180237,\n",
       " 0.507919192314148,\n",
       " 0.5013653635978699,\n",
       " 0.5013653635978699,\n",
       " 0.47733479738235474,\n",
       " 0.47078099846839905,\n",
       " 0.4598580002784729,\n",
       " 0.46204259991645813,\n",
       " 0.4538503587245941,\n",
       " 0.4522119164466858,\n",
       " 0.4467504024505615,\n",
       " 0.42763516306877136,\n",
       " 0.4363735616207123,\n",
       " 0.4358274042606354,\n",
       " 0.4325505197048187,\n",
       " 0.4325505197048187,\n",
       " 0.43364280462265015,\n",
       " 0.42599672079086304,\n",
       " 0.4210813641548157,\n",
       " 0.4227198362350464,\n",
       " 0.4210813641548157,\n",
       " 0.42708903551101685,\n",
       " 0.4210813641548157,\n",
       " 0.4232659637928009,\n",
       " 0.4221736788749695,\n",
       " 0.4183506369590759,\n",
       " 0.4216275215148926,\n",
       " 0.41998907923698425,\n",
       " 0.42053523659706116,\n",
       " 0.41889676451683044,\n",
       " 0.4183506369590759]"
      ]
     },
     "execution_count": 7,
     "metadata": {},
     "output_type": "execute_result"
    }
   ],
   "source": [
    "history_dict['val_top-5-accuracy']"
   ]
  },
  {
   "cell_type": "code",
   "execution_count": null,
   "metadata": {},
   "outputs": [],
   "source": []
  },
  {
   "cell_type": "markdown",
   "metadata": {},
   "source": [
    "### Run on test dataset.\n"
   ]
  },
  {
   "cell_type": "code",
   "execution_count": null,
   "metadata": {},
   "outputs": [],
   "source": [
    "test_generator = Patches_Generator(obs_id_test, y_test, BATCHSIZE)"
   ]
  },
  {
   "cell_type": "code",
   "execution_count": null,
   "metadata": {},
   "outputs": [],
   "source": [
    "model.load_weights('complex_cnn_final_data')"
   ]
  },
  {
   "cell_type": "code",
   "execution_count": null,
   "metadata": {},
   "outputs": [],
   "source": [
    "model.evaluate(test_generator)"
   ]
  },
  {
   "cell_type": "code",
   "execution_count": null,
   "metadata": {},
   "outputs": [],
   "source": []
  }
 ],
 "metadata": {
  "kernelspec": {
   "display_name": "Python 3",
   "language": "python",
   "name": "python3"
  },
  "language_info": {
   "codemirror_mode": {
    "name": "ipython",
    "version": 3
   },
   "file_extension": ".py",
   "mimetype": "text/x-python",
   "name": "python",
   "nbconvert_exporter": "python",
   "pygments_lexer": "ipython3",
   "version": "3.8.10"
  }
 },
 "nbformat": 4,
 "nbformat_minor": 4
}
