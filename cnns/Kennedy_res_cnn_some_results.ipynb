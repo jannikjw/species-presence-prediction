{
  "cells": [
    {
      "cell_type": "markdown",
      "metadata": {
        "id": "LXQtVUBd6wBb"
      },
      "source": [
        "### Necessary Imports and Installs"
      ]
    },
    {
      "cell_type": "code",
      "execution_count": null,
      "metadata": {
        "scrolled": false,
        "colab": {
          "base_uri": "https://localhost:8080/"
        },
        "id": "IQgUSoTq6wBe",
        "outputId": "a8789c73-255f-4c6d-efbb-6d5ecc0e6fe9"
      },
      "outputs": [
        {
          "output_type": "stream",
          "name": "stdout",
          "text": [
            "Collecting opendatasets\n",
            "  Downloading opendatasets-0.1.22-py3-none-any.whl (15 kB)\n",
            "Requirement already satisfied: tqdm in /usr/local/lib/python3.7/dist-packages (from opendatasets) (4.62.3)\n",
            "Requirement already satisfied: kaggle in /usr/local/lib/python3.7/dist-packages (from opendatasets) (1.5.12)\n",
            "Requirement already satisfied: click in /usr/local/lib/python3.7/dist-packages (from opendatasets) (7.1.2)\n",
            "Requirement already satisfied: six>=1.10 in /usr/local/lib/python3.7/dist-packages (from kaggle->opendatasets) (1.15.0)\n",
            "Requirement already satisfied: python-slugify in /usr/local/lib/python3.7/dist-packages (from kaggle->opendatasets) (5.0.2)\n",
            "Requirement already satisfied: urllib3 in /usr/local/lib/python3.7/dist-packages (from kaggle->opendatasets) (1.24.3)\n",
            "Requirement already satisfied: certifi in /usr/local/lib/python3.7/dist-packages (from kaggle->opendatasets) (2021.10.8)\n",
            "Requirement already satisfied: python-dateutil in /usr/local/lib/python3.7/dist-packages (from kaggle->opendatasets) (2.8.2)\n",
            "Requirement already satisfied: requests in /usr/local/lib/python3.7/dist-packages (from kaggle->opendatasets) (2.23.0)\n",
            "Requirement already satisfied: text-unidecode>=1.3 in /usr/local/lib/python3.7/dist-packages (from python-slugify->kaggle->opendatasets) (1.3)\n",
            "Requirement already satisfied: idna<3,>=2.5 in /usr/local/lib/python3.7/dist-packages (from requests->kaggle->opendatasets) (2.10)\n",
            "Requirement already satisfied: chardet<4,>=3.0.2 in /usr/local/lib/python3.7/dist-packages (from requests->kaggle->opendatasets) (3.0.4)\n",
            "Installing collected packages: opendatasets\n",
            "Successfully installed opendatasets-0.1.22\n"
          ]
        }
      ],
      "source": [
        "!pip install opendatasets"
      ]
    },
    {
      "cell_type": "code",
      "execution_count": null,
      "metadata": {
        "colab": {
          "base_uri": "https://localhost:8080/"
        },
        "id": "SJkv9H5j6wBh",
        "outputId": "f598e157-f4d4-4b07-ec70-dc8ccbd9d9cd"
      },
      "outputs": [
        {
          "output_type": "stream",
          "name": "stdout",
          "text": [
            "Cloning into 'GLC'...\n",
            "remote: Enumerating objects: 383, done.\u001b[K\n",
            "remote: Counting objects: 100% (228/228), done.\u001b[K\n",
            "remote: Compressing objects: 100% (159/159), done.\u001b[K\n",
            "remote: Total 383 (delta 119), reused 170 (delta 63), pack-reused 155\u001b[K\n",
            "Receiving objects: 100% (383/383), 10.57 MiB | 47.05 MiB/s, done.\n",
            "Resolving deltas: 100% (205/205), done.\n"
          ]
        }
      ],
      "source": [
        "!rm -rf GLC\n",
        "!git clone https://github.com/maximiliense/GLC"
      ]
    },
    {
      "cell_type": "code",
      "execution_count": null,
      "metadata": {
        "colab": {
          "base_uri": "https://localhost:8080/"
        },
        "id": "ttVuFo5z6wBk",
        "outputId": "86ecc14a-c12c-42b4-a684-bb35ac2f1aa5"
      },
      "outputs": [
        {
          "output_type": "stream",
          "name": "stdout",
          "text": [
            "Populating the interactive namespace from numpy and matplotlib\n"
          ]
        }
      ],
      "source": [
        "import tensorflow as tf\n",
        "from tensorflow.keras.layers import Add, GlobalAveragePooling2D, Conv2D, Dense, AveragePooling2D, \\\n",
        "BatchNormalization, Normalization, Dropout, Flatten, Lambda, Input, Activation\n",
        "from tensorflow.keras import Model\n",
        "from tensorflow.keras.optimizers import schedules, SGD\n",
        "from tensorflow.keras.callbacks import Callback\n",
        "from tensorflow.keras import backend as K\n",
        "import tensorflow_datasets as tfds\n",
        "\n",
        "import numpy as np\n",
        "import matplotlib.pyplot as plt\n",
        "from matplotlib import scale\n",
        "import time\n",
        "from collections import defaultdict\n",
        "import math\n",
        "import copy\n",
        "import opendatasets as od\n",
        "\n",
        "%pylab inline --no-import-all\n",
        "from pathlib import Path\n",
        "import pandas as pd\n",
        "import sys"
      ]
    },
    {
      "cell_type": "markdown",
      "metadata": {
        "id": "zcvMxKoO6wBm"
      },
      "source": [
        "# Dataset"
      ]
    },
    {
      "cell_type": "markdown",
      "metadata": {
        "id": "gQg6_lGN6wBm"
      },
      "source": [
        "## Download Dataset"
      ]
    },
    {
      "cell_type": "markdown",
      "metadata": {
        "id": "R09SwJjr6wBn"
      },
      "source": [
        "{\"username\":\"nathaliemh\",\"key\":\"cba80d1f619e96b238e4a95aa3017836\"}"
      ]
    },
    {
      "cell_type": "code",
      "execution_count": null,
      "metadata": {
        "scrolled": true,
        "colab": {
          "base_uri": "https://localhost:8080/"
        },
        "id": "qN3ijYXC6wBn",
        "outputId": "c5b970c7-9f83-4c85-ee70-88c825b89c32"
      },
      "outputs": [
        {
          "output_type": "stream",
          "name": "stdout",
          "text": [
            "Please provide your Kaggle credentials to download this dataset. Learn more: http://bit.ly/kaggle-creds\n",
            "Your Kaggle username: kennedysalamat\n",
            "Your Kaggle Key: ··········\n",
            "Downloading geolifeclef-2022-lifeclef-2022-fgvc9.zip to ./geolifeclef-2022-lifeclef-2022-fgvc9\n"
          ]
        },
        {
          "output_type": "stream",
          "name": "stderr",
          "text": [
            "100%|██████████| 57.6G/57.6G [07:09<00:00, 144MB/s]\n"
          ]
        },
        {
          "output_type": "stream",
          "name": "stdout",
          "text": [
            "\n",
            "Extracting archive ./geolifeclef-2022-lifeclef-2022-fgvc9/geolifeclef-2022-lifeclef-2022-fgvc9.zip to ./geolifeclef-2022-lifeclef-2022-fgvc9\n"
          ]
        }
      ],
      "source": [
        "data = od.download(\"https://www.kaggle.com/competitions/geolifeclef-2022-lifeclef-2022-fgvc9\")"
      ]
    },
    {
      "cell_type": "markdown",
      "metadata": {
        "id": "VYkotg_W6wBo"
      },
      "source": [
        "## Load Dataset from file"
      ]
    },
    {
      "cell_type": "code",
      "execution_count": null,
      "metadata": {
        "id": "p0l13ymn6wBo"
      },
      "outputs": [],
      "source": [
        "# Change this path to adapt to where you downloaded the data\n",
        "DATA_PATH = \"./geolifeclef-2022-lifeclef-2022-fgvc9/\""
      ]
    },
    {
      "cell_type": "code",
      "execution_count": null,
      "metadata": {
        "id": "d92lNVZ-6wBp"
      },
      "outputs": [],
      "source": [
        "import time\n",
        "hours = 4\n",
        "#time.sleep(60*60*hours)"
      ]
    },
    {
      "cell_type": "code",
      "execution_count": null,
      "metadata": {
        "id": "ay-ptsAe6wBq",
        "colab": {
          "base_uri": "https://localhost:8080/"
        },
        "outputId": "f7d5edf4-4c45-4fc5-89b0-674ee781018b"
      },
      "outputs": [
        {
          "output_type": "stream",
          "name": "stdout",
          "text": [
            "\u001b[0m\u001b[01;34mmetadata\u001b[0m/      \u001b[01;34mpatches-fr\u001b[0m/      \u001b[01;34mpatches-us\u001b[0m/     \u001b[01;34mrasters\u001b[0m/\n",
            "\u001b[01;34mobservations\u001b[0m/  \u001b[01;34mpatches_sample\u001b[0m/  \u001b[01;34mpre-extracted\u001b[0m/  sample_submission.csv\n"
          ]
        }
      ],
      "source": [
        "ls -L $DATA_PATH"
      ]
    },
    {
      "cell_type": "code",
      "execution_count": null,
      "metadata": {
        "id": "ZMIdyChK6wBq",
        "colab": {
          "base_uri": "https://localhost:8080/"
        },
        "outputId": "d3aa39ec-32e1-4793-f304-623378b16e74"
      },
      "outputs": [
        {
          "output_type": "stream",
          "name": "stdout",
          "text": [
            "observations_fr_test.csv   observations_us_test.csv\n",
            "observations_fr_train.csv  observations_us_train.csv\n"
          ]
        }
      ],
      "source": [
        "ls $DATA_PATH/observations"
      ]
    },
    {
      "cell_type": "code",
      "execution_count": null,
      "metadata": {
        "id": "aJJTCmd-6wBt",
        "colab": {
          "base_uri": "https://localhost:8080/",
          "height": 252
        },
        "outputId": "fcb48c5e-faee-451e-d1a1-2cb16cbc2eac"
      },
      "outputs": [
        {
          "output_type": "stream",
          "name": "stdout",
          "text": [
            "Number of observations for training: 1627475\n"
          ]
        },
        {
          "output_type": "execute_result",
          "data": {
            "text/html": [
              "\n",
              "  <div id=\"df-671af940-93f0-4cc8-b2af-3d1f47b93545\">\n",
              "    <div class=\"colab-df-container\">\n",
              "      <div>\n",
              "<style scoped>\n",
              "    .dataframe tbody tr th:only-of-type {\n",
              "        vertical-align: middle;\n",
              "    }\n",
              "\n",
              "    .dataframe tbody tr th {\n",
              "        vertical-align: top;\n",
              "    }\n",
              "\n",
              "    .dataframe thead th {\n",
              "        text-align: right;\n",
              "    }\n",
              "</style>\n",
              "<table border=\"1\" class=\"dataframe\">\n",
              "  <thead>\n",
              "    <tr style=\"text-align: right;\">\n",
              "      <th></th>\n",
              "      <th>latitude</th>\n",
              "      <th>longitude</th>\n",
              "      <th>species_id</th>\n",
              "      <th>subset</th>\n",
              "    </tr>\n",
              "    <tr>\n",
              "      <th>observation_id</th>\n",
              "      <th></th>\n",
              "      <th></th>\n",
              "      <th></th>\n",
              "      <th></th>\n",
              "    </tr>\n",
              "  </thead>\n",
              "  <tbody>\n",
              "    <tr>\n",
              "      <th>10561949</th>\n",
              "      <td>45.705116</td>\n",
              "      <td>1.424622</td>\n",
              "      <td>241</td>\n",
              "      <td>train</td>\n",
              "    </tr>\n",
              "    <tr>\n",
              "      <th>10131188</th>\n",
              "      <td>45.146973</td>\n",
              "      <td>6.416794</td>\n",
              "      <td>101</td>\n",
              "      <td>train</td>\n",
              "    </tr>\n",
              "    <tr>\n",
              "      <th>10799362</th>\n",
              "      <td>46.783695</td>\n",
              "      <td>-2.072855</td>\n",
              "      <td>700</td>\n",
              "      <td>train</td>\n",
              "    </tr>\n",
              "    <tr>\n",
              "      <th>10392536</th>\n",
              "      <td>48.604866</td>\n",
              "      <td>-2.825003</td>\n",
              "      <td>1456</td>\n",
              "      <td>train</td>\n",
              "    </tr>\n",
              "    <tr>\n",
              "      <th>10335049</th>\n",
              "      <td>48.815567</td>\n",
              "      <td>-0.161431</td>\n",
              "      <td>157</td>\n",
              "      <td>train</td>\n",
              "    </tr>\n",
              "  </tbody>\n",
              "</table>\n",
              "</div>\n",
              "      <button class=\"colab-df-convert\" onclick=\"convertToInteractive('df-671af940-93f0-4cc8-b2af-3d1f47b93545')\"\n",
              "              title=\"Convert this dataframe to an interactive table.\"\n",
              "              style=\"display:none;\">\n",
              "        \n",
              "  <svg xmlns=\"http://www.w3.org/2000/svg\" height=\"24px\"viewBox=\"0 0 24 24\"\n",
              "       width=\"24px\">\n",
              "    <path d=\"M0 0h24v24H0V0z\" fill=\"none\"/>\n",
              "    <path d=\"M18.56 5.44l.94 2.06.94-2.06 2.06-.94-2.06-.94-.94-2.06-.94 2.06-2.06.94zm-11 1L8.5 8.5l.94-2.06 2.06-.94-2.06-.94L8.5 2.5l-.94 2.06-2.06.94zm10 10l.94 2.06.94-2.06 2.06-.94-2.06-.94-.94-2.06-.94 2.06-2.06.94z\"/><path d=\"M17.41 7.96l-1.37-1.37c-.4-.4-.92-.59-1.43-.59-.52 0-1.04.2-1.43.59L10.3 9.45l-7.72 7.72c-.78.78-.78 2.05 0 2.83L4 21.41c.39.39.9.59 1.41.59.51 0 1.02-.2 1.41-.59l7.78-7.78 2.81-2.81c.8-.78.8-2.07 0-2.86zM5.41 20L4 18.59l7.72-7.72 1.47 1.35L5.41 20z\"/>\n",
              "  </svg>\n",
              "      </button>\n",
              "      \n",
              "  <style>\n",
              "    .colab-df-container {\n",
              "      display:flex;\n",
              "      flex-wrap:wrap;\n",
              "      gap: 12px;\n",
              "    }\n",
              "\n",
              "    .colab-df-convert {\n",
              "      background-color: #E8F0FE;\n",
              "      border: none;\n",
              "      border-radius: 50%;\n",
              "      cursor: pointer;\n",
              "      display: none;\n",
              "      fill: #1967D2;\n",
              "      height: 32px;\n",
              "      padding: 0 0 0 0;\n",
              "      width: 32px;\n",
              "    }\n",
              "\n",
              "    .colab-df-convert:hover {\n",
              "      background-color: #E2EBFA;\n",
              "      box-shadow: 0px 1px 2px rgba(60, 64, 67, 0.3), 0px 1px 3px 1px rgba(60, 64, 67, 0.15);\n",
              "      fill: #174EA6;\n",
              "    }\n",
              "\n",
              "    [theme=dark] .colab-df-convert {\n",
              "      background-color: #3B4455;\n",
              "      fill: #D2E3FC;\n",
              "    }\n",
              "\n",
              "    [theme=dark] .colab-df-convert:hover {\n",
              "      background-color: #434B5C;\n",
              "      box-shadow: 0px 1px 3px 1px rgba(0, 0, 0, 0.15);\n",
              "      filter: drop-shadow(0px 1px 2px rgba(0, 0, 0, 0.3));\n",
              "      fill: #FFFFFF;\n",
              "    }\n",
              "  </style>\n",
              "\n",
              "      <script>\n",
              "        const buttonEl =\n",
              "          document.querySelector('#df-671af940-93f0-4cc8-b2af-3d1f47b93545 button.colab-df-convert');\n",
              "        buttonEl.style.display =\n",
              "          google.colab.kernel.accessAllowed ? 'block' : 'none';\n",
              "\n",
              "        async function convertToInteractive(key) {\n",
              "          const element = document.querySelector('#df-671af940-93f0-4cc8-b2af-3d1f47b93545');\n",
              "          const dataTable =\n",
              "            await google.colab.kernel.invokeFunction('convertToInteractive',\n",
              "                                                     [key], {});\n",
              "          if (!dataTable) return;\n",
              "\n",
              "          const docLinkHtml = 'Like what you see? Visit the ' +\n",
              "            '<a target=\"_blank\" href=https://colab.research.google.com/notebooks/data_table.ipynb>data table notebook</a>'\n",
              "            + ' to learn more about interactive tables.';\n",
              "          element.innerHTML = '';\n",
              "          dataTable['output_type'] = 'display_data';\n",
              "          await google.colab.output.renderOutput(dataTable, element);\n",
              "          const docLink = document.createElement('div');\n",
              "          docLink.innerHTML = docLinkHtml;\n",
              "          element.appendChild(docLink);\n",
              "        }\n",
              "      </script>\n",
              "    </div>\n",
              "  </div>\n",
              "  "
            ],
            "text/plain": [
              "                 latitude  longitude  species_id subset\n",
              "observation_id                                         \n",
              "10561949        45.705116   1.424622         241  train\n",
              "10131188        45.146973   6.416794         101  train\n",
              "10799362        46.783695  -2.072855         700  train\n",
              "10392536        48.604866  -2.825003        1456  train\n",
              "10335049        48.815567  -0.161431         157  train"
            ]
          },
          "metadata": {},
          "execution_count": 7
        }
      ],
      "source": [
        "### Training Dataset ###\n",
        "# let's load the data from file\n",
        "df_obs_fr = pd.read_csv(DATA_PATH + \"/observations/observations_fr_train.csv\", sep=\";\", index_col=\"observation_id\")\n",
        "df_obs_us = pd.read_csv(DATA_PATH + \"/observations/observations_us_train.csv\", sep=\";\", index_col=\"observation_id\")\n",
        "\n",
        "df_obs = pd.concat((df_obs_fr, df_obs_us))\n",
        "\n",
        "\n",
        "print(\"Number of observations for training: {}\".format(len(df_obs)))\n",
        "\n",
        "# let's have a look at the data\n",
        "df_obs.head()\n",
        "\n",
        "#print(x[0])"
      ]
    },
    {
      "cell_type": "code",
      "execution_count": null,
      "metadata": {
        "id": "Z3xCgPJi6wBu",
        "colab": {
          "base_uri": "https://localhost:8080/",
          "height": 252
        },
        "outputId": "c261abbd-cbae-4e94-bcb7-961662d0453e"
      },
      "outputs": [
        {
          "output_type": "stream",
          "name": "stdout",
          "text": [
            "Number of observations for testing: 36421\n"
          ]
        },
        {
          "output_type": "execute_result",
          "data": {
            "text/html": [
              "\n",
              "  <div id=\"df-b8068eb8-3b89-45c0-ad45-f89f8c040add\">\n",
              "    <div class=\"colab-df-container\">\n",
              "      <div>\n",
              "<style scoped>\n",
              "    .dataframe tbody tr th:only-of-type {\n",
              "        vertical-align: middle;\n",
              "    }\n",
              "\n",
              "    .dataframe tbody tr th {\n",
              "        vertical-align: top;\n",
              "    }\n",
              "\n",
              "    .dataframe thead th {\n",
              "        text-align: right;\n",
              "    }\n",
              "</style>\n",
              "<table border=\"1\" class=\"dataframe\">\n",
              "  <thead>\n",
              "    <tr style=\"text-align: right;\">\n",
              "      <th></th>\n",
              "      <th>latitude</th>\n",
              "      <th>longitude</th>\n",
              "    </tr>\n",
              "    <tr>\n",
              "      <th>observation_id</th>\n",
              "      <th></th>\n",
              "      <th></th>\n",
              "    </tr>\n",
              "  </thead>\n",
              "  <tbody>\n",
              "    <tr>\n",
              "      <th>10782781</th>\n",
              "      <td>43.601788</td>\n",
              "      <td>6.940195</td>\n",
              "    </tr>\n",
              "    <tr>\n",
              "      <th>10364138</th>\n",
              "      <td>46.241711</td>\n",
              "      <td>0.683586</td>\n",
              "    </tr>\n",
              "    <tr>\n",
              "      <th>10692017</th>\n",
              "      <td>45.181095</td>\n",
              "      <td>1.533459</td>\n",
              "    </tr>\n",
              "    <tr>\n",
              "      <th>10222322</th>\n",
              "      <td>46.938450</td>\n",
              "      <td>5.298678</td>\n",
              "    </tr>\n",
              "    <tr>\n",
              "      <th>10241950</th>\n",
              "      <td>45.017433</td>\n",
              "      <td>0.960736</td>\n",
              "    </tr>\n",
              "  </tbody>\n",
              "</table>\n",
              "</div>\n",
              "      <button class=\"colab-df-convert\" onclick=\"convertToInteractive('df-b8068eb8-3b89-45c0-ad45-f89f8c040add')\"\n",
              "              title=\"Convert this dataframe to an interactive table.\"\n",
              "              style=\"display:none;\">\n",
              "        \n",
              "  <svg xmlns=\"http://www.w3.org/2000/svg\" height=\"24px\"viewBox=\"0 0 24 24\"\n",
              "       width=\"24px\">\n",
              "    <path d=\"M0 0h24v24H0V0z\" fill=\"none\"/>\n",
              "    <path d=\"M18.56 5.44l.94 2.06.94-2.06 2.06-.94-2.06-.94-.94-2.06-.94 2.06-2.06.94zm-11 1L8.5 8.5l.94-2.06 2.06-.94-2.06-.94L8.5 2.5l-.94 2.06-2.06.94zm10 10l.94 2.06.94-2.06 2.06-.94-2.06-.94-.94-2.06-.94 2.06-2.06.94z\"/><path d=\"M17.41 7.96l-1.37-1.37c-.4-.4-.92-.59-1.43-.59-.52 0-1.04.2-1.43.59L10.3 9.45l-7.72 7.72c-.78.78-.78 2.05 0 2.83L4 21.41c.39.39.9.59 1.41.59.51 0 1.02-.2 1.41-.59l7.78-7.78 2.81-2.81c.8-.78.8-2.07 0-2.86zM5.41 20L4 18.59l7.72-7.72 1.47 1.35L5.41 20z\"/>\n",
              "  </svg>\n",
              "      </button>\n",
              "      \n",
              "  <style>\n",
              "    .colab-df-container {\n",
              "      display:flex;\n",
              "      flex-wrap:wrap;\n",
              "      gap: 12px;\n",
              "    }\n",
              "\n",
              "    .colab-df-convert {\n",
              "      background-color: #E8F0FE;\n",
              "      border: none;\n",
              "      border-radius: 50%;\n",
              "      cursor: pointer;\n",
              "      display: none;\n",
              "      fill: #1967D2;\n",
              "      height: 32px;\n",
              "      padding: 0 0 0 0;\n",
              "      width: 32px;\n",
              "    }\n",
              "\n",
              "    .colab-df-convert:hover {\n",
              "      background-color: #E2EBFA;\n",
              "      box-shadow: 0px 1px 2px rgba(60, 64, 67, 0.3), 0px 1px 3px 1px rgba(60, 64, 67, 0.15);\n",
              "      fill: #174EA6;\n",
              "    }\n",
              "\n",
              "    [theme=dark] .colab-df-convert {\n",
              "      background-color: #3B4455;\n",
              "      fill: #D2E3FC;\n",
              "    }\n",
              "\n",
              "    [theme=dark] .colab-df-convert:hover {\n",
              "      background-color: #434B5C;\n",
              "      box-shadow: 0px 1px 3px 1px rgba(0, 0, 0, 0.15);\n",
              "      filter: drop-shadow(0px 1px 2px rgba(0, 0, 0, 0.3));\n",
              "      fill: #FFFFFF;\n",
              "    }\n",
              "  </style>\n",
              "\n",
              "      <script>\n",
              "        const buttonEl =\n",
              "          document.querySelector('#df-b8068eb8-3b89-45c0-ad45-f89f8c040add button.colab-df-convert');\n",
              "        buttonEl.style.display =\n",
              "          google.colab.kernel.accessAllowed ? 'block' : 'none';\n",
              "\n",
              "        async function convertToInteractive(key) {\n",
              "          const element = document.querySelector('#df-b8068eb8-3b89-45c0-ad45-f89f8c040add');\n",
              "          const dataTable =\n",
              "            await google.colab.kernel.invokeFunction('convertToInteractive',\n",
              "                                                     [key], {});\n",
              "          if (!dataTable) return;\n",
              "\n",
              "          const docLinkHtml = 'Like what you see? Visit the ' +\n",
              "            '<a target=\"_blank\" href=https://colab.research.google.com/notebooks/data_table.ipynb>data table notebook</a>'\n",
              "            + ' to learn more about interactive tables.';\n",
              "          element.innerHTML = '';\n",
              "          dataTable['output_type'] = 'display_data';\n",
              "          await google.colab.output.renderOutput(dataTable, element);\n",
              "          const docLink = document.createElement('div');\n",
              "          docLink.innerHTML = docLinkHtml;\n",
              "          element.appendChild(docLink);\n",
              "        }\n",
              "      </script>\n",
              "    </div>\n",
              "  </div>\n",
              "  "
            ],
            "text/plain": [
              "                 latitude  longitude\n",
              "observation_id                      \n",
              "10782781        43.601788   6.940195\n",
              "10364138        46.241711   0.683586\n",
              "10692017        45.181095   1.533459\n",
              "10222322        46.938450   5.298678\n",
              "10241950        45.017433   0.960736"
            ]
          },
          "metadata": {},
          "execution_count": 8
        }
      ],
      "source": [
        "### Test Dataset ###\n",
        "df_obs_fr_test = pd.read_csv(DATA_PATH + \"/observations/observations_fr_test.csv\", sep=\";\", index_col=\"observation_id\")\n",
        "df_obs_us_test = pd.read_csv(DATA_PATH + \"/observations/observations_us_test.csv\", sep=\";\", index_col=\"observation_id\")\n",
        "\n",
        "df_obs_test = pd.concat((df_obs_fr_test, df_obs_us_test))\n",
        "\n",
        "\n",
        "print(\"Number of observations for testing: {}\".format(len(df_obs_test)))\n",
        "\n",
        "df_obs_test.head()"
      ]
    },
    {
      "cell_type": "code",
      "source": [
        ""
      ],
      "metadata": {
        "id": "BMxfMABtgja4"
      },
      "execution_count": null,
      "outputs": []
    },
    {
      "cell_type": "code",
      "execution_count": null,
      "metadata": {
        "id": "x24PvjPR6wBv",
        "colab": {
          "base_uri": "https://localhost:8080/"
        },
        "outputId": "e4bf59e0-90c6-411d-c657-2f4d96db8f0d"
      },
      "outputs": [
        {
          "output_type": "stream",
          "name": "stdout",
          "text": [
            "\u001b[0m\u001b[01;34m00\u001b[0m/  \u001b[01;34m07\u001b[0m/  \u001b[01;34m14\u001b[0m/  \u001b[01;34m21\u001b[0m/  \u001b[01;34m28\u001b[0m/  \u001b[01;34m35\u001b[0m/  \u001b[01;34m42\u001b[0m/  \u001b[01;34m49\u001b[0m/  \u001b[01;34m56\u001b[0m/  \u001b[01;34m63\u001b[0m/  \u001b[01;34m70\u001b[0m/  \u001b[01;34m77\u001b[0m/  \u001b[01;34m84\u001b[0m/  \u001b[01;34m91\u001b[0m/  \u001b[01;34m98\u001b[0m/\n",
            "\u001b[01;34m01\u001b[0m/  \u001b[01;34m08\u001b[0m/  \u001b[01;34m15\u001b[0m/  \u001b[01;34m22\u001b[0m/  \u001b[01;34m29\u001b[0m/  \u001b[01;34m36\u001b[0m/  \u001b[01;34m43\u001b[0m/  \u001b[01;34m50\u001b[0m/  \u001b[01;34m57\u001b[0m/  \u001b[01;34m64\u001b[0m/  \u001b[01;34m71\u001b[0m/  \u001b[01;34m78\u001b[0m/  \u001b[01;34m85\u001b[0m/  \u001b[01;34m92\u001b[0m/  \u001b[01;34m99\u001b[0m/\n",
            "\u001b[01;34m02\u001b[0m/  \u001b[01;34m09\u001b[0m/  \u001b[01;34m16\u001b[0m/  \u001b[01;34m23\u001b[0m/  \u001b[01;34m30\u001b[0m/  \u001b[01;34m37\u001b[0m/  \u001b[01;34m44\u001b[0m/  \u001b[01;34m51\u001b[0m/  \u001b[01;34m58\u001b[0m/  \u001b[01;34m65\u001b[0m/  \u001b[01;34m72\u001b[0m/  \u001b[01;34m79\u001b[0m/  \u001b[01;34m86\u001b[0m/  \u001b[01;34m93\u001b[0m/\n",
            "\u001b[01;34m03\u001b[0m/  \u001b[01;34m10\u001b[0m/  \u001b[01;34m17\u001b[0m/  \u001b[01;34m24\u001b[0m/  \u001b[01;34m31\u001b[0m/  \u001b[01;34m38\u001b[0m/  \u001b[01;34m45\u001b[0m/  \u001b[01;34m52\u001b[0m/  \u001b[01;34m59\u001b[0m/  \u001b[01;34m66\u001b[0m/  \u001b[01;34m73\u001b[0m/  \u001b[01;34m80\u001b[0m/  \u001b[01;34m87\u001b[0m/  \u001b[01;34m94\u001b[0m/\n",
            "\u001b[01;34m04\u001b[0m/  \u001b[01;34m11\u001b[0m/  \u001b[01;34m18\u001b[0m/  \u001b[01;34m25\u001b[0m/  \u001b[01;34m32\u001b[0m/  \u001b[01;34m39\u001b[0m/  \u001b[01;34m46\u001b[0m/  \u001b[01;34m53\u001b[0m/  \u001b[01;34m60\u001b[0m/  \u001b[01;34m67\u001b[0m/  \u001b[01;34m74\u001b[0m/  \u001b[01;34m81\u001b[0m/  \u001b[01;34m88\u001b[0m/  \u001b[01;34m95\u001b[0m/\n",
            "\u001b[01;34m05\u001b[0m/  \u001b[01;34m12\u001b[0m/  \u001b[01;34m19\u001b[0m/  \u001b[01;34m26\u001b[0m/  \u001b[01;34m33\u001b[0m/  \u001b[01;34m40\u001b[0m/  \u001b[01;34m47\u001b[0m/  \u001b[01;34m54\u001b[0m/  \u001b[01;34m61\u001b[0m/  \u001b[01;34m68\u001b[0m/  \u001b[01;34m75\u001b[0m/  \u001b[01;34m82\u001b[0m/  \u001b[01;34m89\u001b[0m/  \u001b[01;34m96\u001b[0m/\n",
            "\u001b[01;34m06\u001b[0m/  \u001b[01;34m13\u001b[0m/  \u001b[01;34m20\u001b[0m/  \u001b[01;34m27\u001b[0m/  \u001b[01;34m34\u001b[0m/  \u001b[01;34m41\u001b[0m/  \u001b[01;34m48\u001b[0m/  \u001b[01;34m55\u001b[0m/  \u001b[01;34m62\u001b[0m/  \u001b[01;34m69\u001b[0m/  \u001b[01;34m76\u001b[0m/  \u001b[01;34m83\u001b[0m/  \u001b[01;34m90\u001b[0m/  \u001b[01;34m97\u001b[0m/\n"
          ]
        }
      ],
      "source": [
        "ls $DATA_PATH/patches-fr/00"
      ]
    },
    {
      "cell_type": "code",
      "execution_count": null,
      "metadata": {
        "id": "SKduRYbU6wBw",
        "colab": {
          "base_uri": "https://localhost:8080/",
          "height": 204
        },
        "outputId": "1df81495-7c36-4486-88a2-4b25c5f6d1c4"
      },
      "outputs": [
        {
          "output_type": "execute_result",
          "data": {
            "text/html": [
              "\n",
              "  <div id=\"df-383bd3cb-8baa-403f-b904-3830ff940a18\">\n",
              "    <div class=\"colab-df-container\">\n",
              "      <div>\n",
              "<style scoped>\n",
              "    .dataframe tbody tr th:only-of-type {\n",
              "        vertical-align: middle;\n",
              "    }\n",
              "\n",
              "    .dataframe tbody tr th {\n",
              "        vertical-align: top;\n",
              "    }\n",
              "\n",
              "    .dataframe thead th {\n",
              "        text-align: right;\n",
              "    }\n",
              "</style>\n",
              "<table border=\"1\" class=\"dataframe\">\n",
              "  <thead>\n",
              "    <tr style=\"text-align: right;\">\n",
              "      <th></th>\n",
              "      <th>landcover_code</th>\n",
              "      <th>suggested_landcover_code</th>\n",
              "      <th>suggested_landcover_label</th>\n",
              "    </tr>\n",
              "  </thead>\n",
              "  <tbody>\n",
              "    <tr>\n",
              "      <th>0</th>\n",
              "      <td>0</td>\n",
              "      <td>0</td>\n",
              "      <td>Missing Data</td>\n",
              "    </tr>\n",
              "    <tr>\n",
              "      <th>1</th>\n",
              "      <td>1</td>\n",
              "      <td>11</td>\n",
              "      <td>Cultivated Crops</td>\n",
              "    </tr>\n",
              "    <tr>\n",
              "      <th>2</th>\n",
              "      <td>2</td>\n",
              "      <td>11</td>\n",
              "      <td>Cultivated Crops</td>\n",
              "    </tr>\n",
              "    <tr>\n",
              "      <th>3</th>\n",
              "      <td>3</td>\n",
              "      <td>6</td>\n",
              "      <td>Broad-leaved Forest</td>\n",
              "    </tr>\n",
              "    <tr>\n",
              "      <th>4</th>\n",
              "      <td>4</td>\n",
              "      <td>7</td>\n",
              "      <td>Coniferous Forest</td>\n",
              "    </tr>\n",
              "  </tbody>\n",
              "</table>\n",
              "</div>\n",
              "      <button class=\"colab-df-convert\" onclick=\"convertToInteractive('df-383bd3cb-8baa-403f-b904-3830ff940a18')\"\n",
              "              title=\"Convert this dataframe to an interactive table.\"\n",
              "              style=\"display:none;\">\n",
              "        \n",
              "  <svg xmlns=\"http://www.w3.org/2000/svg\" height=\"24px\"viewBox=\"0 0 24 24\"\n",
              "       width=\"24px\">\n",
              "    <path d=\"M0 0h24v24H0V0z\" fill=\"none\"/>\n",
              "    <path d=\"M18.56 5.44l.94 2.06.94-2.06 2.06-.94-2.06-.94-.94-2.06-.94 2.06-2.06.94zm-11 1L8.5 8.5l.94-2.06 2.06-.94-2.06-.94L8.5 2.5l-.94 2.06-2.06.94zm10 10l.94 2.06.94-2.06 2.06-.94-2.06-.94-.94-2.06-.94 2.06-2.06.94z\"/><path d=\"M17.41 7.96l-1.37-1.37c-.4-.4-.92-.59-1.43-.59-.52 0-1.04.2-1.43.59L10.3 9.45l-7.72 7.72c-.78.78-.78 2.05 0 2.83L4 21.41c.39.39.9.59 1.41.59.51 0 1.02-.2 1.41-.59l7.78-7.78 2.81-2.81c.8-.78.8-2.07 0-2.86zM5.41 20L4 18.59l7.72-7.72 1.47 1.35L5.41 20z\"/>\n",
              "  </svg>\n",
              "      </button>\n",
              "      \n",
              "  <style>\n",
              "    .colab-df-container {\n",
              "      display:flex;\n",
              "      flex-wrap:wrap;\n",
              "      gap: 12px;\n",
              "    }\n",
              "\n",
              "    .colab-df-convert {\n",
              "      background-color: #E8F0FE;\n",
              "      border: none;\n",
              "      border-radius: 50%;\n",
              "      cursor: pointer;\n",
              "      display: none;\n",
              "      fill: #1967D2;\n",
              "      height: 32px;\n",
              "      padding: 0 0 0 0;\n",
              "      width: 32px;\n",
              "    }\n",
              "\n",
              "    .colab-df-convert:hover {\n",
              "      background-color: #E2EBFA;\n",
              "      box-shadow: 0px 1px 2px rgba(60, 64, 67, 0.3), 0px 1px 3px 1px rgba(60, 64, 67, 0.15);\n",
              "      fill: #174EA6;\n",
              "    }\n",
              "\n",
              "    [theme=dark] .colab-df-convert {\n",
              "      background-color: #3B4455;\n",
              "      fill: #D2E3FC;\n",
              "    }\n",
              "\n",
              "    [theme=dark] .colab-df-convert:hover {\n",
              "      background-color: #434B5C;\n",
              "      box-shadow: 0px 1px 3px 1px rgba(0, 0, 0, 0.15);\n",
              "      filter: drop-shadow(0px 1px 2px rgba(0, 0, 0, 0.3));\n",
              "      fill: #FFFFFF;\n",
              "    }\n",
              "  </style>\n",
              "\n",
              "      <script>\n",
              "        const buttonEl =\n",
              "          document.querySelector('#df-383bd3cb-8baa-403f-b904-3830ff940a18 button.colab-df-convert');\n",
              "        buttonEl.style.display =\n",
              "          google.colab.kernel.accessAllowed ? 'block' : 'none';\n",
              "\n",
              "        async function convertToInteractive(key) {\n",
              "          const element = document.querySelector('#df-383bd3cb-8baa-403f-b904-3830ff940a18');\n",
              "          const dataTable =\n",
              "            await google.colab.kernel.invokeFunction('convertToInteractive',\n",
              "                                                     [key], {});\n",
              "          if (!dataTable) return;\n",
              "\n",
              "          const docLinkHtml = 'Like what you see? Visit the ' +\n",
              "            '<a target=\"_blank\" href=https://colab.research.google.com/notebooks/data_table.ipynb>data table notebook</a>'\n",
              "            + ' to learn more about interactive tables.';\n",
              "          element.innerHTML = '';\n",
              "          dataTable['output_type'] = 'display_data';\n",
              "          await google.colab.output.renderOutput(dataTable, element);\n",
              "          const docLink = document.createElement('div');\n",
              "          docLink.innerHTML = docLinkHtml;\n",
              "          element.appendChild(docLink);\n",
              "        }\n",
              "      </script>\n",
              "    </div>\n",
              "  </div>\n",
              "  "
            ],
            "text/plain": [
              "   landcover_code  suggested_landcover_code suggested_landcover_label\n",
              "0               0                         0              Missing Data\n",
              "1               1                        11          Cultivated Crops\n",
              "2               2                        11          Cultivated Crops\n",
              "3               3                         6       Broad-leaved Forest\n",
              "4               4                         7         Coniferous Forest"
            ]
          },
          "metadata": {},
          "execution_count": 9
        }
      ],
      "source": [
        "df_suggested_landcover_alignment = pd.read_csv(DATA_PATH + \"/metadata/landcover_suggested_alignment.csv\", sep=\";\")\n",
        "df_suggested_landcover_alignment.head()"
      ]
    },
    {
      "cell_type": "code",
      "execution_count": null,
      "metadata": {
        "id": "ERfilO456wBw",
        "colab": {
          "base_uri": "https://localhost:8080/"
        },
        "outputId": "b2db1f8e-6027-4dac-c2e4-9a089ea6115d"
      },
      "outputs": [
        {
          "output_type": "stream",
          "name": "stdout",
          "text": [
            "Number of data sources: 4\n",
            "Arrays shape: [(256, 256, 3), (256, 256), (256, 256), (256, 256)]\n",
            "Data types: [dtype('uint8'), dtype('uint8'), dtype('int16'), dtype('uint8')]\n"
          ]
        }
      ],
      "source": [
        "from GLC.data_loading.common import load_patch\n",
        "\n",
        "patch = load_patch(10171444, DATA_PATH)\n",
        "\n",
        "print(\"Number of data sources: {}\".format(len(patch)))\n",
        "print(\"Arrays shape: {}\".format([p.shape for p in patch]))\n",
        "print(\"Data types: {}\".format([p.dtype for p in patch]))"
      ]
    },
    {
      "cell_type": "code",
      "execution_count": null,
      "metadata": {
        "id": "Jo60DVwq6wBx"
      },
      "outputs": [],
      "source": [
        "landcover_mapping = df_suggested_landcover_alignment[\"suggested_landcover_code\"].values\n",
        "#patch = load_patch(10171444, DATA_PATH, landcover_mapping=landcover_mapping)"
      ]
    },
    {
      "cell_type": "markdown",
      "source": [
        ""
      ],
      "metadata": {
        "id": "56Q_qdBu_iO5"
      }
    },
    {
      "cell_type": "markdown",
      "metadata": {
        "id": "uFHeF5wH6wBy"
      },
      "source": [
        "### Train/Val Split Labels\n",
        "Retrieve the train/val split provided."
      ]
    },
    {
      "cell_type": "code",
      "execution_count": null,
      "metadata": {
        "id": "f5p0CE3R6wBy",
        "colab": {
          "base_uri": "https://localhost:8080/"
        },
        "outputId": "45651818-e239-43f2-e6e6-1d84496767a6"
      },
      "outputs": [
        {
          "output_type": "stream",
          "name": "stdout",
          "text": [
            "[10561949 10131188 10799362 ... 22068172 22068173 22068176]\n",
            "[10297014 10610548 10545927 ... 22068163 22068165 22068174]\n",
            "Training set size: 1587395 (97.5% of train observations)\n",
            "Validation set size: 40080 (2.5% of train observations)\n"
          ]
        }
      ],
      "source": [
        "#obs_id_train = df_obs.index[df_obs[\"subset\"] == \"train\"].values\n",
        "#obs_id_val = df_obs.index[df_obs[\"subset\"] == \"val\"].values\n",
        "\n",
        "obs_id_train = df_obs.index[df_obs[\"subset\"] == \"train\"].values\n",
        "obs_id_val = df_obs.index[df_obs[\"subset\"] == \"val\"].values\n",
        "print(obs_id_train)\n",
        "print(obs_id_val)\n",
        "y_train = df_obs.loc[obs_id_train][\"species_id\"].values\n",
        "y_val = df_obs.loc[obs_id_val][\"species_id\"].values\n",
        "\n",
        "n_val = len(obs_id_val)\n",
        "print(\"Training set size: {} ({:.1%} of train observations)\".format(len(y_train), len(y_train) / len(df_obs)))\n",
        "print(\"Validation set size: {} ({:.1%} of train observations)\".format(n_val, n_val / len(df_obs)))"
      ]
    },
    {
      "cell_type": "code",
      "source": [
        "print(obs_id_train == obs_id_val)\n",
        "print(y_train == y_val)"
      ],
      "metadata": {
        "colab": {
          "base_uri": "https://localhost:8080/"
        },
        "id": "bUQAfh5ViZNX",
        "outputId": "ec78a146-083f-4a30-967d-0845cca7068b"
      },
      "execution_count": null,
      "outputs": [
        {
          "output_type": "stream",
          "name": "stdout",
          "text": [
            "False\n",
            "False\n"
          ]
        },
        {
          "output_type": "stream",
          "name": "stderr",
          "text": [
            "/usr/local/lib/python3.7/dist-packages/ipykernel_launcher.py:1: DeprecationWarning: elementwise comparison failed; this will raise an error in the future.\n",
            "  \"\"\"Entry point for launching an IPython kernel.\n",
            "/usr/local/lib/python3.7/dist-packages/ipykernel_launcher.py:2: DeprecationWarning: elementwise comparison failed; this will raise an error in the future.\n",
            "  \n"
          ]
        }
      ]
    },
    {
      "cell_type": "code",
      "source": [
        "from sklearn.impute import SimpleImputer\n",
        "#imp = SimpleImputer(\n",
        "#    missing_values=np.nan,\n",
        "#    strategy=\"constant\",\n",
        "#    fill_value=np.finfo(np.float32).min,\n",
        "#)\n",
        "df_env = pd.read_csv(\"./geolifeclef-2022-lifeclef-2022-fgvc9/pre-extracted/environmental_vectors.csv\", sep=\";\", index_col=\"observation_id\")\n",
        "a  = df_env.loc(0)\n",
        "columnsNamesArr = df_env.columns.values\n",
        "#print(columnsNamesArr)\n",
        "rowNames = df_env.index.values\n",
        "#print(rowNames)\n",
        "my_imputer = SimpleImputer()\n",
        "#print(df_env.shape)\n",
        "#print(my_imputer.fit_transform(df_env)[0])\n",
        "\n",
        "df_env = pd.DataFrame(my_imputer.fit_transform(df_env))\n",
        "df_env.set_axis(rowNames, axis='index', inplace = True)\n",
        "df_env.set_axis(columnsNamesArr, axis='columns', inplace = True)\n",
        "#print(df_env.shape)\n",
        "\n",
        "df_env.head()\n",
        "\n"
      ],
      "metadata": {
        "colab": {
          "base_uri": "https://localhost:8080/",
          "height": 302
        },
        "id": "wXj3FBy0E97c",
        "outputId": "b3bb26ad-9610-4010-efa8-921f5f232c81"
      },
      "execution_count": null,
      "outputs": [
        {
          "output_type": "stream",
          "name": "stderr",
          "text": [
            "/usr/local/lib/python3.7/dist-packages/numpy/lib/arraysetops.py:580: FutureWarning: elementwise comparison failed; returning scalar instead, but in the future will perform elementwise comparison\n",
            "  mask |= (ar1 == a)\n"
          ]
        },
        {
          "output_type": "execute_result",
          "data": {
            "text/html": [
              "\n",
              "  <div id=\"df-6a995e86-dfc0-4a03-86b1-5ab6ec3d9aa1\">\n",
              "    <div class=\"colab-df-container\">\n",
              "      <div>\n",
              "<style scoped>\n",
              "    .dataframe tbody tr th:only-of-type {\n",
              "        vertical-align: middle;\n",
              "    }\n",
              "\n",
              "    .dataframe tbody tr th {\n",
              "        vertical-align: top;\n",
              "    }\n",
              "\n",
              "    .dataframe thead th {\n",
              "        text-align: right;\n",
              "    }\n",
              "</style>\n",
              "<table border=\"1\" class=\"dataframe\">\n",
              "  <thead>\n",
              "    <tr style=\"text-align: right;\">\n",
              "      <th></th>\n",
              "      <th>bio_1</th>\n",
              "      <th>bio_2</th>\n",
              "      <th>bio_3</th>\n",
              "      <th>bio_4</th>\n",
              "      <th>bio_5</th>\n",
              "      <th>bio_6</th>\n",
              "      <th>bio_7</th>\n",
              "      <th>bio_8</th>\n",
              "      <th>bio_9</th>\n",
              "      <th>bio_10</th>\n",
              "      <th>bio_11</th>\n",
              "      <th>bio_12</th>\n",
              "      <th>bio_13</th>\n",
              "      <th>bio_14</th>\n",
              "      <th>bio_15</th>\n",
              "      <th>bio_16</th>\n",
              "      <th>bio_17</th>\n",
              "      <th>bio_18</th>\n",
              "      <th>bio_19</th>\n",
              "      <th>bdticm</th>\n",
              "      <th>bldfie</th>\n",
              "      <th>cecsol</th>\n",
              "      <th>clyppt</th>\n",
              "      <th>orcdrc</th>\n",
              "      <th>phihox</th>\n",
              "      <th>sltppt</th>\n",
              "      <th>sndppt</th>\n",
              "    </tr>\n",
              "  </thead>\n",
              "  <tbody>\n",
              "    <tr>\n",
              "      <th>10000000</th>\n",
              "      <td>1.420833</td>\n",
              "      <td>6.908333</td>\n",
              "      <td>29.272598</td>\n",
              "      <td>614.14930</td>\n",
              "      <td>15.1</td>\n",
              "      <td>-8.5</td>\n",
              "      <td>23.600000</td>\n",
              "      <td>-1.000000</td>\n",
              "      <td>9.183333</td>\n",
              "      <td>9.466667</td>\n",
              "      <td>-5.083334</td>\n",
              "      <td>1361.0</td>\n",
              "      <td>148.0</td>\n",
              "      <td>68.0</td>\n",
              "      <td>20.667326</td>\n",
              "      <td>416.0</td>\n",
              "      <td>245.0</td>\n",
              "      <td>248.0</td>\n",
              "      <td>358.0</td>\n",
              "      <td>2082.0</td>\n",
              "      <td>988.0</td>\n",
              "      <td>29.0</td>\n",
              "      <td>13.0</td>\n",
              "      <td>63.0</td>\n",
              "      <td>62.0</td>\n",
              "      <td>34.0</td>\n",
              "      <td>53.0</td>\n",
              "    </tr>\n",
              "    <tr>\n",
              "      <th>10000001</th>\n",
              "      <td>8.837500</td>\n",
              "      <td>9.858334</td>\n",
              "      <td>37.771393</td>\n",
              "      <td>586.81390</td>\n",
              "      <td>23.8</td>\n",
              "      <td>-2.3</td>\n",
              "      <td>26.099998</td>\n",
              "      <td>6.016667</td>\n",
              "      <td>16.383333</td>\n",
              "      <td>16.383333</td>\n",
              "      <td>2.116667</td>\n",
              "      <td>1109.0</td>\n",
              "      <td>113.0</td>\n",
              "      <td>64.0</td>\n",
              "      <td>15.231100</td>\n",
              "      <td>314.0</td>\n",
              "      <td>226.0</td>\n",
              "      <td>226.0</td>\n",
              "      <td>288.0</td>\n",
              "      <td>1816.0</td>\n",
              "      <td>1142.0</td>\n",
              "      <td>20.0</td>\n",
              "      <td>22.0</td>\n",
              "      <td>39.0</td>\n",
              "      <td>58.0</td>\n",
              "      <td>41.0</td>\n",
              "      <td>36.0</td>\n",
              "    </tr>\n",
              "    <tr>\n",
              "      <th>10000002</th>\n",
              "      <td>6.241667</td>\n",
              "      <td>8.350000</td>\n",
              "      <td>32.239384</td>\n",
              "      <td>632.86090</td>\n",
              "      <td>21.0</td>\n",
              "      <td>-4.9</td>\n",
              "      <td>25.900000</td>\n",
              "      <td>3.033333</td>\n",
              "      <td>14.200000</td>\n",
              "      <td>14.200000</td>\n",
              "      <td>-1.083333</td>\n",
              "      <td>1288.0</td>\n",
              "      <td>144.0</td>\n",
              "      <td>71.0</td>\n",
              "      <td>17.713518</td>\n",
              "      <td>386.0</td>\n",
              "      <td>268.0</td>\n",
              "      <td>268.0</td>\n",
              "      <td>317.0</td>\n",
              "      <td>1346.0</td>\n",
              "      <td>1075.0</td>\n",
              "      <td>29.0</td>\n",
              "      <td>22.0</td>\n",
              "      <td>54.0</td>\n",
              "      <td>59.0</td>\n",
              "      <td>40.0</td>\n",
              "      <td>38.0</td>\n",
              "    </tr>\n",
              "    <tr>\n",
              "      <th>10000003</th>\n",
              "      <td>12.554167</td>\n",
              "      <td>9.525001</td>\n",
              "      <td>40.189877</td>\n",
              "      <td>541.80865</td>\n",
              "      <td>25.9</td>\n",
              "      <td>2.2</td>\n",
              "      <td>23.699999</td>\n",
              "      <td>6.850000</td>\n",
              "      <td>19.350000</td>\n",
              "      <td>19.350000</td>\n",
              "      <td>6.250000</td>\n",
              "      <td>877.0</td>\n",
              "      <td>97.0</td>\n",
              "      <td>48.0</td>\n",
              "      <td>21.229550</td>\n",
              "      <td>279.0</td>\n",
              "      <td>157.0</td>\n",
              "      <td>157.0</td>\n",
              "      <td>257.0</td>\n",
              "      <td>1227.0</td>\n",
              "      <td>1383.0</td>\n",
              "      <td>21.0</td>\n",
              "      <td>28.0</td>\n",
              "      <td>18.0</td>\n",
              "      <td>71.0</td>\n",
              "      <td>46.0</td>\n",
              "      <td>25.0</td>\n",
              "    </tr>\n",
              "    <tr>\n",
              "      <th>10000004</th>\n",
              "      <td>8.029167</td>\n",
              "      <td>10.075000</td>\n",
              "      <td>36.636364</td>\n",
              "      <td>633.01750</td>\n",
              "      <td>23.7</td>\n",
              "      <td>-3.8</td>\n",
              "      <td>27.500000</td>\n",
              "      <td>4.616667</td>\n",
              "      <td>16.083334</td>\n",
              "      <td>16.083334</td>\n",
              "      <td>0.766667</td>\n",
              "      <td>1102.0</td>\n",
              "      <td>128.0</td>\n",
              "      <td>52.0</td>\n",
              "      <td>21.077870</td>\n",
              "      <td>348.0</td>\n",
              "      <td>214.0</td>\n",
              "      <td>214.0</td>\n",
              "      <td>280.0</td>\n",
              "      <td>2833.0</td>\n",
              "      <td>1202.0</td>\n",
              "      <td>24.0</td>\n",
              "      <td>25.0</td>\n",
              "      <td>33.0</td>\n",
              "      <td>69.0</td>\n",
              "      <td>38.0</td>\n",
              "      <td>37.0</td>\n",
              "    </tr>\n",
              "  </tbody>\n",
              "</table>\n",
              "</div>\n",
              "      <button class=\"colab-df-convert\" onclick=\"convertToInteractive('df-6a995e86-dfc0-4a03-86b1-5ab6ec3d9aa1')\"\n",
              "              title=\"Convert this dataframe to an interactive table.\"\n",
              "              style=\"display:none;\">\n",
              "        \n",
              "  <svg xmlns=\"http://www.w3.org/2000/svg\" height=\"24px\"viewBox=\"0 0 24 24\"\n",
              "       width=\"24px\">\n",
              "    <path d=\"M0 0h24v24H0V0z\" fill=\"none\"/>\n",
              "    <path d=\"M18.56 5.44l.94 2.06.94-2.06 2.06-.94-2.06-.94-.94-2.06-.94 2.06-2.06.94zm-11 1L8.5 8.5l.94-2.06 2.06-.94-2.06-.94L8.5 2.5l-.94 2.06-2.06.94zm10 10l.94 2.06.94-2.06 2.06-.94-2.06-.94-.94-2.06-.94 2.06-2.06.94z\"/><path d=\"M17.41 7.96l-1.37-1.37c-.4-.4-.92-.59-1.43-.59-.52 0-1.04.2-1.43.59L10.3 9.45l-7.72 7.72c-.78.78-.78 2.05 0 2.83L4 21.41c.39.39.9.59 1.41.59.51 0 1.02-.2 1.41-.59l7.78-7.78 2.81-2.81c.8-.78.8-2.07 0-2.86zM5.41 20L4 18.59l7.72-7.72 1.47 1.35L5.41 20z\"/>\n",
              "  </svg>\n",
              "      </button>\n",
              "      \n",
              "  <style>\n",
              "    .colab-df-container {\n",
              "      display:flex;\n",
              "      flex-wrap:wrap;\n",
              "      gap: 12px;\n",
              "    }\n",
              "\n",
              "    .colab-df-convert {\n",
              "      background-color: #E8F0FE;\n",
              "      border: none;\n",
              "      border-radius: 50%;\n",
              "      cursor: pointer;\n",
              "      display: none;\n",
              "      fill: #1967D2;\n",
              "      height: 32px;\n",
              "      padding: 0 0 0 0;\n",
              "      width: 32px;\n",
              "    }\n",
              "\n",
              "    .colab-df-convert:hover {\n",
              "      background-color: #E2EBFA;\n",
              "      box-shadow: 0px 1px 2px rgba(60, 64, 67, 0.3), 0px 1px 3px 1px rgba(60, 64, 67, 0.15);\n",
              "      fill: #174EA6;\n",
              "    }\n",
              "\n",
              "    [theme=dark] .colab-df-convert {\n",
              "      background-color: #3B4455;\n",
              "      fill: #D2E3FC;\n",
              "    }\n",
              "\n",
              "    [theme=dark] .colab-df-convert:hover {\n",
              "      background-color: #434B5C;\n",
              "      box-shadow: 0px 1px 3px 1px rgba(0, 0, 0, 0.15);\n",
              "      filter: drop-shadow(0px 1px 2px rgba(0, 0, 0, 0.3));\n",
              "      fill: #FFFFFF;\n",
              "    }\n",
              "  </style>\n",
              "\n",
              "      <script>\n",
              "        const buttonEl =\n",
              "          document.querySelector('#df-6a995e86-dfc0-4a03-86b1-5ab6ec3d9aa1 button.colab-df-convert');\n",
              "        buttonEl.style.display =\n",
              "          google.colab.kernel.accessAllowed ? 'block' : 'none';\n",
              "\n",
              "        async function convertToInteractive(key) {\n",
              "          const element = document.querySelector('#df-6a995e86-dfc0-4a03-86b1-5ab6ec3d9aa1');\n",
              "          const dataTable =\n",
              "            await google.colab.kernel.invokeFunction('convertToInteractive',\n",
              "                                                     [key], {});\n",
              "          if (!dataTable) return;\n",
              "\n",
              "          const docLinkHtml = 'Like what you see? Visit the ' +\n",
              "            '<a target=\"_blank\" href=https://colab.research.google.com/notebooks/data_table.ipynb>data table notebook</a>'\n",
              "            + ' to learn more about interactive tables.';\n",
              "          element.innerHTML = '';\n",
              "          dataTable['output_type'] = 'display_data';\n",
              "          await google.colab.output.renderOutput(dataTable, element);\n",
              "          const docLink = document.createElement('div');\n",
              "          docLink.innerHTML = docLinkHtml;\n",
              "          element.appendChild(docLink);\n",
              "        }\n",
              "      </script>\n",
              "    </div>\n",
              "  </div>\n",
              "  "
            ],
            "text/plain": [
              "              bio_1      bio_2      bio_3  ...  phihox  sltppt  sndppt\n",
              "10000000   1.420833   6.908333  29.272598  ...    62.0    34.0    53.0\n",
              "10000001   8.837500   9.858334  37.771393  ...    58.0    41.0    36.0\n",
              "10000002   6.241667   8.350000  32.239384  ...    59.0    40.0    38.0\n",
              "10000003  12.554167   9.525001  40.189877  ...    71.0    46.0    25.0\n",
              "10000004   8.029167  10.075000  36.636364  ...    69.0    38.0    37.0\n",
              "\n",
              "[5 rows x 27 columns]"
            ]
          },
          "metadata": {},
          "execution_count": 13
        }
      ]
    },
    {
      "cell_type": "code",
      "source": [
        "obs_id_test = df_obs_test.index[:].values\n"
      ],
      "metadata": {
        "id": "aCaE_lShFPaB"
      },
      "execution_count": null,
      "outputs": []
    },
    {
      "cell_type": "markdown",
      "source": [
        "#### Get subset"
      ],
      "metadata": {
        "id": "eSLqO-sfnvtQ"
      }
    },
    {
      "cell_type": "code",
      "source": [
        "# CHOOSE SUBSET FOR 30 Labels\n",
        "import random\n",
        "subset_size = 0\n",
        "obs_list = list()\n",
        "obs_test_list = list()\n",
        "import numpy as np\n",
        "# iterate over a subset of the labels\n",
        "m = 0\n",
        "for y in (np.unique(y_train)[:]):\n",
        "    #print(\"in\")\n",
        "    # for each label, retrieve all corresponding observation ids\n",
        "    obs = df_obs.index[(df_obs[\"species_id\"] == y)]\n",
        "   \n",
        "\n",
        "\n",
        "    #print(len(obs))\n",
        "    #print(counter)\n",
        "    #print(obs)\n",
        "    #print(len(obs))\n",
        "    if (len(obs) >= 2000 and len(obs) <= 3000):\n",
        "      t = set(df_obs.index[(df_obs[\"species_id\"] == y) & (df_obs[\"subset\"] == \"train\")].values)\n",
        "      m += len(t)\n",
        "      ten_perc = int(len(t)/10)\n",
        "      random.seed(3)\n",
        "      test = random.sample(t, ten_perc)\n",
        "      train = t-set(test)\n",
        "      #print(train)\n",
        "      #print(\"here\")\n",
        "      obs_test_list.append(list(test))\n",
        "      obs_list.append(list(train))\n",
        "      subset_size += 1\n",
        "    if (subset_size >= 30):\n",
        "      #print(\"break\")\n",
        "      break\n",
        "print(m)   \n",
        "# we now have a numpy array of all observation ids corresponding to this subset of labels\n",
        "obs_id_train = np.concatenate(obs_list)\n",
        "obs_id_test = np.concatenate(obs_test_list)\n",
        "gps_train = np.concatenate((df_obs.loc[obs_id_train][\"latitude\"].values, df_obs.loc[obs_id_train][\"longitude\"].values))\n",
        "# obtain the labels in the right order \n",
        "y_train = df_obs.loc[obs_id_train][\"species_id\"].values\n",
        "y_test = df_obs.loc[obs_id_test][\"species_id\"].values\n",
        "print(y_train.size)"
      ],
      "metadata": {
        "colab": {
          "base_uri": "https://localhost:8080/"
        },
        "id": "4oRZzeUN2AID",
        "outputId": "a7d7641f-d492-4131-e263-9ed7c3fb03f4"
      },
      "execution_count": null,
      "outputs": [
        {
          "output_type": "stream",
          "name": "stdout",
          "text": [
            "70294\n",
            "63278\n"
          ]
        }
      ]
    },
    {
      "cell_type": "code",
      "source": [
        "print(y_test.size)"
      ],
      "metadata": {
        "colab": {
          "base_uri": "https://localhost:8080/"
        },
        "id": "qUmn-N0VuEkz",
        "outputId": "f2865991-cc8e-4a28-e851-87156e3e7bf6"
      },
      "execution_count": null,
      "outputs": [
        {
          "output_type": "stream",
          "name": "stdout",
          "text": [
            "7016\n"
          ]
        }
      ]
    },
    {
      "cell_type": "code",
      "source": [
        "print(y_train[2])"
      ],
      "metadata": {
        "colab": {
          "base_uri": "https://localhost:8080/"
        },
        "id": "NGtc4Q-6gWGB",
        "outputId": "fdac0691-0174-4837-c8cd-6a33f0e16747"
      },
      "execution_count": null,
      "outputs": [
        {
          "output_type": "stream",
          "name": "stdout",
          "text": [
            "5\n"
          ]
        }
      ]
    },
    {
      "cell_type": "code",
      "source": [
        "subset_size = 8\n",
        "obs_list_1 = list()\n",
        "print(y_val.size)\n",
        "\n",
        "# iterate over a subset of the labels\n",
        "counter = 0\n",
        "print(y_val[0])\n",
        "for y in (np.unique(y_val)[:]):\n",
        "    # for each label, retrieve all corresponding observation ids\n",
        "    if (y in y_train):\n",
        "      #obs = df_obs.index[df_obs[\"species_id\"] == y].values\n",
        "      v = df_obs.index[(df_obs[\"species_id\"] == y) & (df_obs[\"subset\"] == \"val\")].values\n",
        "      obs_list_1.append(v)\n",
        "# we now have a numpy array of all observation ids corresponding to this subset of labels\n",
        "obs_id_val = np.concatenate(obs_list_1)\n",
        "\n",
        "# obtain the labels in the right order \n",
        "y_val = df_obs.loc[obs_id_val][\"species_id\"].values\n",
        "gps_val = np.concatenate((df_obs.loc[obs_id_val][\"latitude\"].values, df_obs.loc[obs_id_val][\"longitude\"].values))"
      ],
      "metadata": {
        "colab": {
          "base_uri": "https://localhost:8080/"
        },
        "id": "LKt6bh2E140O",
        "outputId": "385947d6-b1c6-4e6a-8336-7d7e97ef3ab8"
      },
      "execution_count": null,
      "outputs": [
        {
          "output_type": "stream",
          "name": "stdout",
          "text": [
            "40080\n",
            "11\n"
          ]
        }
      ]
    },
    {
      "cell_type": "code",
      "source": [
        "print(y_val.size)\n",
        "print(obs_id_val == obs_id_train)"
      ],
      "metadata": {
        "colab": {
          "base_uri": "https://localhost:8080/"
        },
        "id": "nWROs9zwhGRL",
        "outputId": "28c27498-a2e0-4dfb-a97f-d82f7c1f24bd"
      },
      "execution_count": null,
      "outputs": [
        {
          "output_type": "stream",
          "name": "stdout",
          "text": [
            "1831\n",
            "False\n"
          ]
        },
        {
          "output_type": "stream",
          "name": "stderr",
          "text": [
            "/usr/local/lib/python3.7/dist-packages/ipykernel_launcher.py:2: DeprecationWarning: elementwise comparison failed; this will raise an error in the future.\n",
            "  \n"
          ]
        }
      ]
    },
    {
      "cell_type": "code",
      "source": [
        "map_labels = dict()\n",
        "i = 0\n",
        "for l in np.unique(y_train):\n",
        "  map_labels[l] = i\n",
        "  i += 1\n",
        "print(map_labels)"
      ],
      "metadata": {
        "colab": {
          "base_uri": "https://localhost:8080/"
        },
        "id": "CUskhkcBR_TG",
        "outputId": "12b0afa3-4d63-41e5-9696-328ba79d937d"
      },
      "execution_count": null,
      "outputs": [
        {
          "output_type": "stream",
          "name": "stdout",
          "text": [
            "{5: 0, 68: 1, 125: 2, 129: 3, 223: 4, 553: 5, 570: 6, 605: 7, 679: 8, 692: 9, 739: 10, 979: 11, 1075: 12, 1155: 13, 1916: 14, 2196: 15, 2524: 16, 2821: 17, 2950: 18, 2992: 19, 3253: 20, 4940: 21, 4991: 22, 4999: 23, 5025: 24, 5086: 25, 5168: 26, 5192: 27, 5207: 28, 5228: 29}\n"
          ]
        }
      ]
    },
    {
      "cell_type": "code",
      "source": [
        ""
      ],
      "metadata": {
        "id": "ReGzAlKGTFUW"
      },
      "execution_count": null,
      "outputs": []
    },
    {
      "cell_type": "code",
      "source": [
        "y_train_normalized = np.zeros(np.shape(y_train), dtype = 'int64')\n",
        "\n",
        "for i in range(len(y_train)):\n",
        "  y_train_normalized[i] = map_labels[y_train[i]]\n",
        "\n",
        "print(y_train_normalized)"
      ],
      "metadata": {
        "colab": {
          "base_uri": "https://localhost:8080/"
        },
        "id": "Mz3KntU-SZIT",
        "outputId": "9963e03c-59f5-4fa6-ed56-87eaeadf5879"
      },
      "execution_count": null,
      "outputs": [
        {
          "output_type": "stream",
          "name": "stdout",
          "text": [
            "[ 0  0  0 ... 29 29 29]\n"
          ]
        }
      ]
    },
    {
      "cell_type": "code",
      "source": [
        "from sklearn.utils import shuffle\n",
        "obs_id_train_new, y_train_normalized = shuffle(obs_id_train, y_train_normalized)\n",
        "\n",
        "print(y_train_normalized)"
      ],
      "metadata": {
        "colab": {
          "base_uri": "https://localhost:8080/"
        },
        "id": "Kd_lyIdWSwDR",
        "outputId": "250e6c1e-0ed1-4d01-d672-a955e3f96ef6"
      },
      "execution_count": null,
      "outputs": [
        {
          "output_type": "stream",
          "name": "stdout",
          "text": [
            "[17 17 29 ... 13 24 14]\n"
          ]
        }
      ]
    },
    {
      "cell_type": "code",
      "source": [
        "map_labels = dict()\n",
        "i = 0\n",
        "for l in np.unique(y_val):\n",
        "  map_labels[l] = i\n",
        "  i += 1\n",
        "print(map_labels)"
      ],
      "metadata": {
        "colab": {
          "base_uri": "https://localhost:8080/"
        },
        "id": "fSwFEsNkTIP2",
        "outputId": "e82b01b4-ec76-44c1-b60b-cfb1f6900fe3"
      },
      "execution_count": null,
      "outputs": [
        {
          "output_type": "stream",
          "name": "stdout",
          "text": [
            "{5: 0, 68: 1, 125: 2, 129: 3, 223: 4, 553: 5, 570: 6, 605: 7, 679: 8, 692: 9, 739: 10, 979: 11, 1075: 12, 1155: 13, 1916: 14, 2196: 15, 2524: 16, 2821: 17, 2950: 18, 2992: 19, 3253: 20, 4940: 21, 4991: 22, 4999: 23, 5025: 24, 5086: 25, 5168: 26, 5192: 27, 5207: 28, 5228: 29}\n"
          ]
        }
      ]
    },
    {
      "cell_type": "code",
      "source": [
        ""
      ],
      "metadata": {
        "id": "2_y8EKdhjLtp"
      },
      "execution_count": null,
      "outputs": []
    },
    {
      "cell_type": "code",
      "source": [
        "y_val_normalized = np.zeros(np.shape(y_val), dtype = 'int64')\n",
        "\n",
        "for i in range(len(y_val)):\n",
        "  y_val_normalized[i] = map_labels[y_val[i]]\n",
        "\n",
        "from sklearn.utils import shuffle\n",
        "obs_id_val_new, y_val_normalized = shuffle(obs_id_val, y_val_normalized)\n",
        "print(y_val_normalized)"
      ],
      "metadata": {
        "colab": {
          "base_uri": "https://localhost:8080/"
        },
        "id": "igtOioTMTKUN",
        "outputId": "ef6ec83c-4c25-4d81-888e-9cc254bcc61e"
      },
      "execution_count": null,
      "outputs": [
        {
          "output_type": "stream",
          "name": "stdout",
          "text": [
            "[ 4 11 23 ... 14 25  4]\n"
          ]
        }
      ]
    },
    {
      "cell_type": "code",
      "source": [
        "map_labels = dict()\n",
        "i = 0\n",
        "for l in np.unique(y_test):\n",
        "  map_labels[l] = i\n",
        "  i += 1\n",
        "print(map_labels)\n",
        "\n",
        "y_test_normalized = np.zeros(np.shape(y_test), dtype = 'int64')\n",
        "\n",
        "for i in range(len(y_test)):\n",
        "  y_test_normalized[i] = map_labels[y_test[i]]\n",
        "\n",
        "from sklearn.utils import shuffle\n",
        "obs_id_test_new, y_test_normalized = shuffle(obs_id_test, y_test_normalized)\n",
        "print(y_test_normalized)"
      ],
      "metadata": {
        "id": "LE0VAbrRjNvn"
      },
      "execution_count": null,
      "outputs": []
    },
    {
      "cell_type": "markdown",
      "source": [
        "####PATCH GENERATOR"
      ],
      "metadata": {
        "id": "TBEN485kUF7i"
      }
    },
    {
      "cell_type": "code",
      "source": [
        "import threading\n",
        "\n",
        "class Patches_Generator(tf.keras.utils.Sequence) :\n",
        "  \n",
        "    def __init__(self, obs_ids, labels, batch_size) :\n",
        "        self.obs_ids = obs_ids\n",
        "        self.labels = labels\n",
        "        self.batch_size = batch_size\n",
        "        \n",
        "        # to make the generator thread safe \n",
        "        self.lock = threading.Lock()\n",
        "\n",
        "    def __len__(self) :\n",
        "        return (np.ceil(len(self.obs_ids) / float(self.batch_size))).astype(int)\n",
        "  \n",
        "    # returns one batch\n",
        "    def __getitem__(self, idx) :\n",
        "        X_batch = list()\n",
        "        y_batch = list()\n",
        "\n",
        "        for i in range(idx * self.batch_size, (idx+1) * self.batch_size):\n",
        "            if i >= len(self.obs_ids): break\n",
        "            \n",
        "            patch = load_patch(self.obs_ids[i], DATA_PATH, data='all')\n",
        "            X_batch.append(patch[0])\n",
        "            y_batch.append(self.labels[i])\n",
        "\n",
        "        with self.lock:\n",
        "            return np.asarray(X_batch), np.array(y_batch)"
      ],
      "metadata": {
        "id": "qeVde2vWUIhw"
      },
      "execution_count": null,
      "outputs": []
    },
    {
      "cell_type": "code",
      "source": [
        "import threading\n",
        "\n",
        "class Test_Patches_Generator(tf.keras.utils.Sequence) :\n",
        "  \n",
        "    def __init__(self, obs_ids, batch_size) :\n",
        "        self.obs_ids = obs_ids\n",
        "        self.batch_size = batch_size\n",
        "        \n",
        "        # to make the generator thread safe \n",
        "        self.lock = threading.Lock()\n",
        "\n",
        "    def __len__(self) :\n",
        "        return (np.ceil(len(self.obs_ids) / float(self.batch_size))).astype(int)\n",
        "  \n",
        "    # returns one batch\n",
        "    def __getitem__(self, idx) :\n",
        "        X_batch = list()\n",
        "        y_batch = list()\n",
        "\n",
        "        for i in range(idx * self.batch_size, (idx+1) * self.batch_size):\n",
        "            if i >= len(self.obs_ids): break\n",
        "            \n",
        "            patch = load_patch(self.obs_ids[i], DATA_PATH, data='rgb')\n",
        "            X_batch.append(patch[0])\n",
        "\n",
        "        with self.lock:\n",
        "            return np.asarray(X_batch)"
      ],
      "metadata": {
        "id": "rUF4dgUSXCTA"
      },
      "execution_count": null,
      "outputs": []
    },
    {
      "cell_type": "code",
      "source": [
        "import threading\n",
        "\n",
        "class Environmental_Patches_Generator(tf.keras.utils.Sequence) :\n",
        "  \n",
        "    def __init__(self, obs_ids, labels, batch_size) :\n",
        "        self.obs_ids = obs_ids\n",
        "        self.labels = labels\n",
        "        self.batch_size = batch_size\n",
        "        #self.gps = gps\n",
        "        #self.extractor = extractor\n",
        "        #print(\"INIT\")\n",
        "        # to make the generator thread safe \n",
        "        self.lock = threading.Lock()\n",
        "\n",
        "    def __len__(self) :\n",
        "        return (np.ceil(len(self.obs_ids) / float(self.batch_size))).astype(int)\n",
        "  \n",
        "    # returns one batch\n",
        "    def __getitem__(self, idx) :\n",
        "        X_batch = list()\n",
        "        y_batch = list()\n",
        "        X_env_batch = list()\n",
        "\n",
        "        #print(\"ONE BATCH\")\n",
        "        for i in range(idx * self.batch_size, (idx+1) * self.batch_size):\n",
        "            if i >= len(self.obs_ids): break\n",
        "            \n",
        "            rgb, near_ir, landcover, altitude = load_patch(self.obs_ids[i], DATA_PATH, data='all')\n",
        "            ni = near_ir.reshape(256, 256, 1)\n",
        "            lc = landcover.reshape(256, 256, 1)\n",
        "            alt = altitude.reshape(256, 256, 1)\n",
        "\n",
        "            patch = np.concatenate((rgb, ni, lc, alt), axis=2)\n",
        "\n",
        "  \n",
        "            #cs = MinMaxScaler()\n",
        "            #print(\"PATCH GENERATOR\")\n",
        "            #print((df_env.loc[self.obs_ids[i]].values).shape)\n",
        "            #print(cs.fit_transform(df_env.loc[self.obs_ids[i]].values).shape)\n",
        "            #k = input()\n",
        "            X_env_batch.append(df_env.loc[self.obs_ids[i]].values)\n",
        "            #X_env_batch.append(df_env[self.obs_ids[i], :])\n",
        "            #X_env_batch.append(cs.fit_transform(df_env.loc[self.obs_ids[i]].values.reshape(-1,1)))\n",
        "            X_batch.append(patch)\n",
        "            y_batch.append(self.labels[i])\n",
        "\n",
        "            \n",
        "\n",
        "\n",
        "\n",
        "        with self.lock:\n",
        "        \n",
        "            \n",
        "            #return {'input_1': np.asarray(X_batch), 'input_2': np.asarray(X_env_batch)}, np.asarray(np.array(y_batch))\n",
        "            #return np.asarray(X_batch), np.array(y_batch)\n",
        "            return (np.asarray(X_batch), np.asarray(X_env_batch)), np.array(y_batch)"
      ],
      "metadata": {
        "id": "2cFjcJLQL1N5"
      },
      "execution_count": null,
      "outputs": []
    },
    {
      "cell_type": "markdown",
      "source": [
        "#### Pretrained Patches"
      ],
      "metadata": {
        "id": "ojcG8LZnrJeV"
      }
    },
    {
      "cell_type": "code",
      "source": [
        "import threading\n",
        "\n",
        "class Pretrained_Patches_Generator(tf.keras.utils.Sequence) :\n",
        "  \n",
        "    def __init__(self, obs_ids, labels, batch_size) :\n",
        "        self.obs_ids = obs_ids\n",
        "        self.labels = labels\n",
        "        self.batch_size = batch_size\n",
        "        #self.gps = gps\n",
        "        #self.extractor = extractor\n",
        "        #print(\"INIT\")\n",
        "        # to make the generator thread safe \n",
        "        self.lock = threading.Lock()\n",
        "\n",
        "    def __len__(self) :\n",
        "        return (np.ceil(len(self.obs_ids) / float(self.batch_size))).astype(int)\n",
        "  \n",
        "    # returns one batch\n",
        "    def __getitem__(self, idx) :\n",
        "        X_batch_rgb = list()\n",
        "        X_batch_images = list()\n",
        "        y_batch = list()\n",
        "        X_env_batch = list()\n",
        "\n",
        "        #print(\"ONE BATCH\")\n",
        "        for i in range(idx * self.batch_size, (idx+1) * self.batch_size):\n",
        "            if i >= len(self.obs_ids): break\n",
        "            \n",
        "            rgb, near_ir, landcover, altitude = load_patch(self.obs_ids[i], DATA_PATH, data='all')\n",
        "            ni = near_ir.reshape(256, 256, 1)\n",
        "            lc = landcover.reshape(256, 256, 1)\n",
        "            alt = altitude.reshape(256, 256, 1)\n",
        "\n",
        "            patch1 = np.concatenate((ni, lc, alt), axis=2)\n",
        "\n",
        "  \n",
        "            #cs = MinMaxScaler()\n",
        "            #print(\"PATCH GENERATOR\")\n",
        "            #print((df_env.loc[self.obs_ids[i]].values).shape)\n",
        "            #print(cs.fit_transform(df_env.loc[self.obs_ids[i]].values).shape)\n",
        "            #k = input()\n",
        "            X_env_batch.append(df_env.loc[self.obs_ids[i]].values)\n",
        "            #X_env_batch.append(df_env[self.obs_ids[i], :])\n",
        "            #X_env_batch.append(cs.fit_transform(df_env.loc[self.obs_ids[i]].values.reshape(-1,1)))\n",
        "            X_batch_rgb.append(rgb)\n",
        "            X_batch_images.append(patch1)\n",
        "            y_batch.append(self.labels[i])\n",
        "\n",
        "            \n",
        "\n",
        "\n",
        "\n",
        "        with self.lock:\n",
        "        \n",
        "            \n",
        "            #print(len(X_batch_images))\n",
        "            #print(len(X_batch_rgb))\n",
        "            #print(np.asarray(X_batch_images).shape)\n",
        "            #print(\"AH\")\n",
        "            #return {'input_1': np.asarray(X_batch), 'input_2': np.asarray(X_env_batch)}, np.asarray(np.array(y_batch))\n",
        "            #return np.asarray(X_batch), np.array(y_batch)\n",
        "            return (np.asarray(X_batch_rgb), np.asarray(X_batch_images), np.asarray(X_env_batch)), np.array(y_batch)"
      ],
      "metadata": {
        "id": "kZNU6rSErIKs"
      },
      "execution_count": null,
      "outputs": []
    },
    {
      "cell_type": "markdown",
      "metadata": {
        "id": "YOS1SPT06wBz"
      },
      "source": [
        "### Load patches"
      ]
    },
    {
      "cell_type": "code",
      "source": [
        ""
      ],
      "metadata": {
        "id": "j1LeYtLBoUDB"
      },
      "execution_count": null,
      "outputs": []
    },
    {
      "cell_type": "markdown",
      "metadata": {
        "id": "ugYEUL1D6wB4"
      },
      "source": [
        "# First Simple Neural Network\n",
        "Let's create a first neural network as a baseline to see how it performs."
      ]
    },
    {
      "cell_type": "code",
      "execution_count": null,
      "metadata": {
        "id": "gs3aLA5L6wB4"
      },
      "outputs": [],
      "source": [
        "# returns a 10 layer ReLU model of width 2\n",
        "def simple_model(input_shape):\n",
        "    model = tf.keras.models.Sequential()\n",
        "    \n",
        "    # 1. Preprocessing\n",
        "    # rescale inputs\n",
        "    model.add(tf.keras.layers.Rescaling(1./255))\n",
        "\n",
        "    # 2. Convolutional Layers\n",
        "    model.add(Conv2D(32, kernel_size=5, activation='relu', input_shape=input_shape, padding='same'))\n",
        "    #model.add(AveragePooling2D())\n",
        "\n",
        "    model.add(Conv2D(64, kernel_size=5, activation='relu', padding='same'))\n",
        "    #model.add(AveragePooling2D())\n",
        "    \n",
        "    model.add(Conv2D(128, kernel_size=5, activation='relu', padding='same'))\n",
        "    \n",
        "    # from convolutional layers to dense layers\n",
        "    model.add(tf.keras.layers.Flatten())\n",
        "    \n",
        "    # 3. Dense Layers\n",
        "    model.add(Dense(64, activation='relu'))\n",
        "    model.add(Dense(64, activation='relu'))\n",
        "    \n",
        "    # 4. Output Layer\n",
        "    model.add(Dense(4911, activation='softmax'))\n",
        "    \n",
        "    # compire the model\n",
        "    model.compile(loss=tf.keras.losses.sparse_categorical_crossentropy,\n",
        "                  optimizer=tf.keras.optimizers.Adam(learning_rate=0.0001),\n",
        "                  metrics=['accuracy'])\n",
        "    \n",
        "    return model"
      ]
    },
    {
      "cell_type": "code",
      "execution_count": null,
      "metadata": {
        "id": "GpurXLkg6wB5"
      },
      "outputs": [],
      "source": [
        "# create the network\n",
        "model = simple_model((256, 256, 3))"
      ]
    },
    {
      "cell_type": "code",
      "execution_count": null,
      "metadata": {
        "id": "Xcce0V4A6wB5"
      },
      "outputs": [],
      "source": [
        "np.max(y_train[:len(X_train)])"
      ]
    },
    {
      "cell_type": "code",
      "execution_count": null,
      "metadata": {
        "id": "q7BjcAiR6wB5"
      },
      "outputs": [],
      "source": [
        "np.min(y_train[:len(X_train)])"
      ]
    },
    {
      "cell_type": "markdown",
      "metadata": {
        "id": "BAqfXz4Y6wB6"
      },
      "source": [
        "Train the network."
      ]
    },
    {
      "cell_type": "code",
      "execution_count": null,
      "metadata": {
        "id": "VjGb-Lp96wB6"
      },
      "outputs": [],
      "source": [
        "early_stop = tf.keras.callbacks.EarlyStopping(monitor='accuracy', min_delta=0.001, patience=5, \n",
        "                                              verbose=0, mode='auto', baseline=None, restore_best_weights=True)\n"
      ]
    },
    {
      "cell_type": "code",
      "execution_count": null,
      "metadata": {
        "scrolled": true,
        "id": "gB7f0t-i6wB6"
      },
      "outputs": [],
      "source": [
        "history = model.fit(train_ds, validation_data=val_ds, #X_train, y_train[:len(X_train)], #validation_data=(X_val, y_val), \n",
        "                    epochs=100, \n",
        "                    callbacks=[early_stop])"
      ]
    },
    {
      "cell_type": "code",
      "execution_count": null,
      "metadata": {
        "id": "KoEYkjJ36wB6"
      },
      "outputs": [],
      "source": [
        "model.save('first_simple_model')"
      ]
    },
    {
      "cell_type": "markdown",
      "source": [
        "### Kennedy's ResNet From Scratch"
      ],
      "metadata": {
        "id": "4-8ZzwPeoaTU"
      }
    },
    {
      "cell_type": "code",
      "execution_count": null,
      "metadata": {
        "id": "fuNgS5Pa6wB7"
      },
      "outputs": [],
      "source": [
        "import tensorflow as tf\n",
        "def identity_block(x, filter):\n",
        "  x_skip = x\n",
        "  x = tf.keras.layers.Conv2D(filter[0], (3,3), padding = \"same\")(x)\n",
        "  x = tf.keras.layers.BatchNormalization()(x)\n",
        "  x = tf.keras.layers.Activation('relu')(x)\n",
        "\n",
        "  #print(\"A\")\n",
        "  x = tf.keras.layers.Conv2D(filter[1], (3,3), padding = \"same\")(x)\n",
        "  x = tf.keras.layers.BatchNormalization()(x)\n",
        "  x = tf.keras.layers.Add()([x, x_skip])\n",
        "\n",
        "  x = tf.keras.layers.Activation('relu')(x)\n",
        "\n",
        "  return x\n",
        "\n",
        "def conv_net(x, filter):\n",
        "  \n",
        "  x_skip = x\n",
        "  #print(\"B\")\n",
        "  x = tf.keras.layers.Conv2D(filter[0], (3,3), strides = 2, padding = \"same\")(x)\n",
        "  #print(\"C\")\n",
        "  x = tf.keras.layers.BatchNormalization()(x)\n",
        "  x = tf.keras.layers.Activation('relu')(x)\n",
        "  #print(\"D\")\n",
        "  x = tf.keras.layers.Conv2D(filter[0], (3,3), padding = \"same\")(x)\n",
        "  x = tf.keras.layers.BatchNormalization()(x)\n",
        "  #print(\"E\")\n",
        "  x_skip = tf.keras.layers.Conv2D(filter[1], (1,1), strides = 2, padding = \"same\")(x_skip)\n",
        "  x = tf.keras.layers.Add()([x, x_skip])\n",
        "  #print(\"F\")\n",
        "  x = tf.keras.layers.Activation('relu')(x)\n",
        "\n",
        "  return x\n",
        "\n",
        "#input 1 is for image data, input 2 is for tabular data\n",
        "def my_res(input_shape, num_classes):\n",
        "  x_input = tf.keras.layers.Input(input_shape)\n",
        "  x = tf.keras.layers.Rescaling(1./255)(x_input)\n",
        "  x = tf.keras.layers.ZeroPadding2D(padding = (3,3))(x)\n",
        "\n",
        "  \n",
        "  #print(\"a\")\n",
        "  x = tf.keras.layers.Conv2D(64, 7 , strides = 2, padding = \"same\")(x)\n",
        "  x = tf.keras.layers.BatchNormalization()(x)\n",
        "  x = tf.keras.layers.Activation('relu')(x)\n",
        "  x = tf.keras.layers.MaxPooling2D(pool_size=(3,3), strides = (2,2), padding = \"same\")(x)\n",
        "\n",
        "  #print(x.shape)\n",
        "  #print('b')\n",
        "  x = conv_net(x, (64, 64))\n",
        "  #print('c')\n",
        "  x = identity_block(x, (64, 64))\n",
        "\n",
        "  #print('d')\n",
        "  x = conv_net(x, (128, 128))\n",
        "  x = identity_block(x, (128, 128))\n",
        "  x = identity_block(x, (128, 128))\n",
        "  #x = identity_block(x, (128, 128))\n",
        "\n",
        "  x = conv_net(x, (256, 256))\n",
        "  x = identity_block(x, (256, 256))\n",
        "  x = identity_block(x, (256, 256))\n",
        "  x = identity_block(x, (256, 256))\n",
        "  x = identity_block(x, (256, 256))\n",
        "\n",
        "  x = tf.keras.layers.AveragePooling2D(padding = \"same\")(x)\n",
        "  x = tf.keras.layers.Flatten()(x)\n",
        "  x = tf.keras.layers.Dense(num_classes, activation = 'softmax')(x)\n",
        "\n",
        "  model = tf.keras.models.Model(inputs = x_input, outputs = x, name = \"resnet_from_scratch\")\n",
        "\n",
        "  return model\n",
        "\n",
        "\n",
        "\n",
        "\n"
      ]
    },
    {
      "cell_type": "markdown",
      "source": [
        "#### Kennedy's ResNet Modified to take in image + tabular "
      ],
      "metadata": {
        "id": "1uqttvwvTDi0"
      }
    },
    {
      "cell_type": "code",
      "source": [
        "import tensorflow as tf\n",
        "from sklearn.preprocessing import MinMaxScaler\n",
        "\n",
        "def identity_block(x, filter):\n",
        "  x_skip = x\n",
        "  x = tf.keras.layers.Conv2D(filter[0], (3,3), padding = \"same\")(x)\n",
        "  x = tf.keras.layers.BatchNormalization()(x)\n",
        "  x = tf.keras.layers.Activation('relu')(x)\n",
        "\n",
        "  #print(\"A\")\n",
        "  x = tf.keras.layers.Conv2D(filter[1], (3,3), padding = \"same\")(x)\n",
        "  x = tf.keras.layers.BatchNormalization()(x)\n",
        "  x = tf.keras.layers.Add()([x, x_skip])\n",
        "\n",
        "  x = tf.keras.layers.Activation('relu')(x)\n",
        "\n",
        "  return x\n",
        "\n",
        "def conv_net(x, filter):\n",
        "  \n",
        "  x_skip = x\n",
        "  #print(\"B\")\n",
        "  x = tf.keras.layers.Conv2D(filter[0], (3,3), strides = 2, padding = \"same\")(x)\n",
        "  #print(\"C\")\n",
        "  x = tf.keras.layers.BatchNormalization()(x)\n",
        "  x = tf.keras.layers.Activation('relu')(x)\n",
        "  #print(\"D\")\n",
        "  x = tf.keras.layers.Conv2D(filter[0], (3,3), padding = \"same\")(x)\n",
        "  x = tf.keras.layers.BatchNormalization()(x)\n",
        "  #print(\"E\")\n",
        "  x_skip = tf.keras.layers.Conv2D(filter[1], (1,1), strides = 2, padding = \"same\")(x_skip)\n",
        "  x = tf.keras.layers.Add()([x, x_skip])\n",
        "  #print(\"F\")\n",
        "  x = tf.keras.layers.Activation('relu')(x)\n",
        "\n",
        "  return x\n",
        "\n",
        "#input 1 is for image data, input 2 is for tabular data\n",
        "def my_res(input_shape1, input_shape2, num_classes):\n",
        "  x_input = tf.keras.layers.Input(input_shape1)\n",
        "  x_input = data_augmentation(x_input)\n",
        "  tab_input = tf.keras.layers.Input(input_shape2)\n",
        "  x_input = tf.keras.layers.Rescaling(1./255)(x_input)\n",
        "  x = tf.keras.layers.ZeroPadding2D(padding = (3,3))(x_input)\n",
        "\n",
        "  #print(\"a\")\n",
        "  x = tf.keras.layers.Conv2D(64, 7, strides = 2, padding = \"same\")(x)\n",
        "  x = tf.keras.layers.BatchNormalization()(x)\n",
        "  x = tf.keras.layers.Activation('relu')(x)\n",
        "  x = tf.keras.layers.MaxPooling2D(pool_size=(3,3), strides = (2,2), padding = \"same\")(x)\n",
        "\n",
        "  #print(x.shape)\n",
        "  #print('b')\n",
        "  x = conv_net(x, (64, 64))\n",
        "  #print('c')\n",
        "  x = identity_block(x, (64, 64))\n",
        "\n",
        "  #print('d')\n",
        "  x = conv_net(x, (128, 128))\n",
        "  x = identity_block(x, (128, 128))\n",
        "  x = identity_block(x, (128, 128))\n",
        "  #x = identity_block(x, (128, 128))\n",
        "\n",
        "  x = conv_net(x, (256, 256))\n",
        "  x = identity_block(x, (256, 256))\n",
        "  x = identity_block(x, (256, 256))\n",
        "  x = identity_block(x, (256, 256))\n",
        "  x = identity_block(x, (256, 256))\n",
        "\n",
        "  x = tf.keras.layers.AveragePooling2D(padding = \"same\")(x)\n",
        "  x = tf.keras.layers.Flatten()(x)\n",
        "  \n",
        "  #x = tf.keras.layers.Dense(num_classes, activation = 'softmax')(x)\n",
        "\n",
        "\n",
        "  # Add Dense layers for Tabular data\n",
        "  #y = tf.keras.layers.Dense(512)(tab_input)\n",
        "  #y = tf.keras.layers.Dense(256)(tab_input)\n",
        "  #y = tf.keras.layers.Dense(256)(x)\n",
        "  #y = tf.keras.layers.Dense(256)(tab_input)\n",
        "  #FROM stackoverflow\n",
        "  \n",
        "  x2 = tf.keras.layers.Flatten()(tab_input)\n",
        "  x2 = tf.keras.layers.Dense(32, activation='relu')(x2)\n",
        "  x2 = tf.keras.layers.Dense(128, activation='relu')(x2)\n",
        "  #x2 = tf.keras.layers.Dense(256, activation='relu')(x2)\n",
        "\n",
        "  #FIRST RUN\n",
        "  #x2 = tf.keras.layers.Dense(32, activation='relu')(x2)\n",
        "  #x2 = tf.keras.layers.Dense(128, activation='relu')(x2)\n",
        "  #x2 = tf.keras.layers.Dense(256, activation='relu')(x2)\n",
        "  #2 = tf.keras.layers.Dense(6400, activation='relu')(x2)\n",
        "\n",
        "  #print(x[0])\n",
        "  #print(x2[0])\n",
        "  #k = input()\n",
        "  #print(x.shape)\n",
        "  #print(x2.shape)\n",
        "  \n",
        "  #k = input()\n",
        "  # Concatenate Image and tabular weights\n",
        "  z = tf.keras.layers.Concatenate(axis=1)([x, x2])\n",
        "\n",
        "  # Add Classification Head\n",
        "  #z = tf.keras.layers.Dense(128)(z)\n",
        "  classifier = tf.keras.layers.Dense(num_classes, activation='softmax')(z)\n",
        "\n",
        "  #classifier = tf.keras.layers.Dense(num_classes, name='outputs', activation='softmax')(x)\n",
        "  model = tf.keras.models.Model(inputs = [x_input, tab_input], outputs = classifier, name = \"resnet_tab_plus_image\")\n",
        "\n",
        "  return model\n",
        "\n",
        "\n",
        "\n",
        "\n"
      ],
      "metadata": {
        "id": "egJKniHLTAqL"
      },
      "execution_count": null,
      "outputs": []
    },
    {
      "cell_type": "code",
      "source": [
        "import tensorflow as tf\n",
        "from sklearn.preprocessing import MinMaxScaler\n",
        "from keras.regularizers import l2\n",
        "\n",
        "def identity_block(x, filter):\n",
        "  x_skip = x\n",
        "  x = tf.keras.layers.Conv2D(filter[0], (3,3), padding = \"same\")(x)\n",
        "  x = tf.keras.layers.BatchNormalization()(x)\n",
        "  print(\"here\")\n",
        "  x = tf.keras.layers.Activation('relu')(x)\n",
        "  x = tf.keras.layers.Conv2D(filter[0], (3,3), padding = \"same\")(x)\n",
        "  x = tf.keras.layers.BatchNormalization()(x)\n",
        "  x = tf.keras.layers.Add()([x, x_skip])\n",
        "  print('err')\n",
        "  x = tf.keras.layers.Activation('relu')(x)\n",
        "\n",
        "  return x\n",
        "\n",
        "def conv_net(x, filter):\n",
        "  \n",
        "  x_skip = x\n",
        "  x = tf.keras.layers.Conv2D(filter[0], (3,3), strides = 2, kernel_regularizer=l2(0.01), bias_regularizer=l2(0.01))(x)\n",
        "  x = tf.keras.layers.BatchNormalization()(x)\n",
        "  #x = tf.keras.layers.Activation('relu')(x)\n",
        "  #x = tf.keras.layers.Conv2D(filter[0], (3,3))(x)\n",
        "  #x = tf.keras.layers.BatchNormalization()(x)\n",
        "  x_skip = tf.keras.layers.Conv2D(filter[1], (3,3), strides = 2, kernel_regularizer=l2(0.01), bias_regularizer=l2(0.01))(x_skip)\n",
        "  print(\"HE\")\n",
        "  print(\"A\")\n",
        "  x = tf.keras.layers.Add()([x, x_skip])\n",
        "  print(\"now error\")\n",
        "  x = tf.keras.layers.Activation('relu')(x)\n",
        "\n",
        "  return x\n",
        "\n",
        "#input 1 is for image data, input 2 is for tabular data\n",
        "def my_res(input_shape1, input_shape2, num_classes):\n",
        "  x_input = tf.keras.layers.Input(input_shape1)\n",
        "  #x_input = tf.keras.\n",
        "  x_input = tf.keras.layers.Rescaling(1./255)(x_input)\n",
        "  x_input = tf.keras.layers.Conv2D(3, kernel_size=(33, 33), activation='relu', kernel_regularizer=l2(0.01), bias_regularizer=l2(0.01))(x_input)\n",
        "  aug = data_augmentation(x_input)\n",
        "  tab_input = tf.keras.layers.Input(input_shape2)\n",
        "  \n",
        "  #x = tf.keras.layers.ZeroPadding2D(padding = (9,9))(aug)\n",
        "\n",
        "  x = tf.keras.layers.Conv2D(64, 7, strides = 2)(aug)\n",
        "  x = tf.keras.layers.BatchNormalization()(x)\n",
        "  x = tf.keras.layers.Activation('relu')(x)\n",
        "  x = tf.keras.layers.MaxPooling2D(pool_size= (3,3), strides = 2)(x)\n",
        "\n",
        "  #print(x.shape)\n",
        "  #print('b')\n",
        "  x = conv_net(x, (32, 32))\n",
        "  #print('c')\n",
        "  x = identity_block(x, (32, 32))\n",
        "\n",
        "  #print('d')\n",
        "  x = conv_net(x, (128, 128))\n",
        "  x = tf.keras.layers.Dropout(0.25)(x)\n",
        "  x = identity_block(x, (128, 128))\n",
        "  #x = identity_block(x, (128, 128))\n",
        "  #x = identity_block(x, (128, 128))\n",
        "\n",
        "  x = conv_net(x, (256, 256))\n",
        "  x = identity_block(x, (256, 256))\n",
        "  #x = identity_block(x, (256, 256))\n",
        "  #x = identity_block(x, (256, 256))\n",
        "  #x = identity_block(x, (256, 256))\n",
        "\n",
        "  x = tf.keras.layers.AveragePooling2D(padding = \"same\")(x)\n",
        "  x = tf.keras.layers.Flatten()(x)\n",
        "  \n",
        "  #x = tf.keras.layers.Dense(num_classes, activation = 'softmax')(x)\n",
        "\n",
        "\n",
        "  # Add Dense layers for Tabular data\n",
        "  #y = tf.keras.layers.Dense(512)(tab_input)\n",
        "  #y = tf.keras.layers.Dense(256)(tab_input)\n",
        "  #y = tf.keras.layers.Dense(256)(x)\n",
        "  #y = tf.keras.layers.Dense(256)(tab_input)\n",
        "  #FROM stackoverflow\n",
        "  \n",
        "  x2 = tf.keras.layers.Flatten()(tab_input)\n",
        "  x2 = tf.keras.layers.Dense(32, activation='relu', kernel_regularizer=l2(0.01), bias_regularizer=l2(0.01))(x2)\n",
        "  x2 = tf.keras.layers.Dropout(0.25)(x2)\n",
        "  x2 = tf.keras.layers.Dense(128, activation='relu', kernel_regularizer=l2(0.01), bias_regularizer=l2(0.01))(x2)\n",
        "  #x2 = tf.keras.layers.Dense(256, activation='relu', kernel_regularizer=l2(0.01), bias_regularizer=l2(0.01))(x2)\n",
        "\n",
        "  #FIRST RUN\n",
        "  #x2 = tf.keras.layers.Dense(32, activation='relu')(x2)\n",
        "  #x2 = tf.keras.layers.Dense(128, activation='relu')(x2)\n",
        "  #x2 = tf.keras.layers.Dense(256, activation='relu')(x2)\n",
        "  #2 = tf.keras.layers.Dense(6400, activation='relu')(x2)\n",
        "\n",
        "  #print(x[0])\n",
        "  #print(x2[0])\n",
        "  #k = input()\n",
        "  #print(x.shape)\n",
        "  #print(x2.shape)\n",
        "  \n",
        "  #k = input()\n",
        "  # Concatenate Image and tabular weights\n",
        "  z = tf.keras.layers.Concatenate(axis=1)([x, x2])\n",
        "\n",
        "  # Add Classification Head\n",
        "  #z = tf.keras.layers.Dense(128)(z)\n",
        "  classifier = tf.keras.layers.Dense(num_classes, activation='softmax')(z)\n",
        "\n",
        "  #classifier = tf.keras.layers.Dense(num_classes, name='outputs', activation='softmax')(x)\n",
        "  model = tf.keras.models.Model(inputs = [x_input, tab_input], outputs = classifier, name = \"resnet_tab_plus_image\")\n",
        "\n",
        "  return model\n",
        "\n",
        "\n",
        "\n",
        "\n"
      ],
      "metadata": {
        "id": "2GWRNMWKTr0b"
      },
      "execution_count": null,
      "outputs": []
    },
    {
      "cell_type": "markdown",
      "source": [
        "#### Pre-Trained ResNet-50"
      ],
      "metadata": {
        "id": "iEow7NARi4cx"
      }
    },
    {
      "cell_type": "markdown",
      "source": [
        ""
      ],
      "metadata": {
        "id": "oVszMXT70bd-"
      }
    },
    {
      "cell_type": "code",
      "source": [
        "from tensorflow.python.ops.image_ops_impl import rgb_to_grayscale\n",
        "#num_classes = len(set(df_obs['species_id']))\n",
        "#pre_trained_res = Sequential()\n",
        "\n",
        "\n",
        "#FROM https://chroniclesofai.com/transfer-learning-with-keras-resnet-50/\n",
        "#for layer in res_img.layers:\n",
        "#        layer.trainable=False\n",
        "\n",
        "def transfer_learning(input_shape1, input_shape2, input_shape3, num_classes):\n",
        "    #print(\"MADE IT\")\n",
        "    #image = tf.image.resize(image, (INP_SIZE[0], INP_SIZE[1]))\n",
        "\n",
        "    res_img = tf.keras.applications.resnet50.ResNet50(\n",
        "    include_top=False,\n",
        "    weights='imagenet',\n",
        "    #input_tensor=None,\n",
        "    input_shape=(224, 224, 3),\n",
        "    pooling='none',\n",
        "    classes=num_classes,\n",
        "    )\n",
        "    \n",
        "    #print(input_shape1)\n",
        "    #print(input_shape2)\n",
        "    for layer in res_img.layers:\n",
        "      layer.trainable = False\n",
        "    rgb_input = tf.keras.layers.Input(input_shape1)\n",
        "    #print(\"A\")\n",
        "    img_input = tf.keras.layers.Input(input_shape2)\n",
        "    rgb = tf.keras.layers.Conv2D(3, kernel_size=(33, 33), activation='relu')(rgb_input)\n",
        "    scale_layer = tf.keras.layers.Rescaling(scale=1 / 255, offset=-1)\n",
        "    rgb = scale_layer(rgb)  \n",
        "    #img = tf.keras.layers.Conv2D(8, kernel_size=(33, 33), activation='relu')(img_input)\n",
        "    #print(rgb)\n",
        "    tab_input = tf.keras.layers.Input(input_shape3)\n",
        "    #print(\"B\")\n",
        "    rgb = res_img(rgb, training = False)\n",
        "    #rgb = tf.keras.layers.GlobalAveragePooling2D()(rgb)\n",
        "    #rgb = tf.keras.layers.Conv2D(3, (3,3), strides = 32)(rgb)\n",
        "  #print(\"C\")\n",
        "    #rgb = tf.keras.layers.BatchNormalization()(rgb)\n",
        "    #rgb = tf.keras.layers.Activation('relu')(rgb)\n",
        "    #rgb = tf.keras.layers.Conv2D(3, (9,9), strides = 2, padding = \"same\")(rgb)\n",
        "  #print(\"C\")\n",
        "    #rgb = tf.keras.layers.BatchNormalization()(rgb)\n",
        "    #rgb = tf.keras.layers.Activation('relu')(rgb)\n",
        "    #rgb = tf.keras.layers.Conv2D(3, (9,9), strides = 2, padding = \"same\")(rgb)\n",
        "  #print(\"C\")\n",
        "    #rgb = tf.keras.layers.BatchNormalization()(rgb)\n",
        "    #rgb = tf.keras.layers.Activation('relu')(rgb)\n",
        "    #print(\"C\")\n",
        "    #rgb = tf.keras.layers.Flatten()(rgb)\n",
        "    #print(\"D\")\n",
        "    img = img_input\n",
        "    #img = res_img(img_input, training = False)\n",
        "    rgb = tf.keras.layers.Dense(32, activation = 'relu')(rgb)\n",
        "    rgb = tf.keras.layers.Flatten()(rgb)\n",
        "\n",
        "    \n",
        "    #rgb = tf.keras.layers.GlobalAveragePooling2D()(rgb)\n",
        "    #rgb = tf.keras.layers.Dropout(0.2)(rgb)  # Regularize with dropout\n",
        "    \n",
        "\n",
        "    #img = tf.keras.layers.GlobalAveragePooling2D()(img)\n",
        "    #img = tf.keras.layers.Dropout(0.2)(img)  # Regularize with dropout\n",
        "\n",
        "    #z = tf.keras.layers.Concatenate(axis=1)([rgb, img])\n",
        "\n",
        "    classifier = tf.keras.layers.Dense(num_classes, activation='softmax')(rgb)\n",
        "\n",
        "  #classifier = tf.keras.layers.Dense(num_classes, name='outputs', activation='softmax')(x)\n",
        "    model = tf.keras.models.Model(inputs = [rgb_input, img_input, tab_input], outputs = classifier, name = \"pre-t-all-imag\")\n",
        "    #for layer in res_img.layers:\n",
        "    #    layer.trainable=False\n",
        "    model.summary()\n",
        "    return model\n",
        "\n",
        "    \n",
        "\n",
        "\n"
      ],
      "metadata": {
        "id": "tJTm-MQji7EN"
      },
      "execution_count": null,
      "outputs": []
    },
    {
      "cell_type": "markdown",
      "source": [
        "CNN Multimodal"
      ],
      "metadata": {
        "id": "pnqU0MZduAAL"
      }
    },
    {
      "cell_type": "code",
      "source": [
        "def multi_modal_cnn(input_shape1, input_shape2, num_classes):\n",
        "    #with mirrored_strategy.scope():\n",
        "\n",
        "        # Inputs\n",
        "        patch_input = tf.keras.layers.Input(shape=input_shape1, dtype='float32')\n",
        "        tabular_input = tf.keras.layers.Input(shape=input_shape2, dtype='float32')  \n",
        "\n",
        "        # Augment data\n",
        "    #     augmented = data_augmentation_for_visualization(patch_input)\n",
        "\n",
        "        # From Scratch model\n",
        "        x = tf.keras.layers.Conv2D(64, (3, 3), activation='relu')(patch_input)\n",
        "        x = tf.keras.layers.MaxPooling2D((2, 2), padding='same')(x)\n",
        "        x = tf.keras.layers.Conv2D(128, (3, 3), activation='relu')(x)\n",
        "        x = tf.keras.layers.MaxPooling2D((2, 2), padding='same')(x)\n",
        "        x = tf.keras.layers.Conv2D(256, (3, 3), activation='relu')(x)\n",
        "        x = tf.keras.layers.MaxPooling2D((1, 1), padding='same')(x)\n",
        "        x = tf.keras.layers.Conv2D(64, (3, 3), activation='relu')(x)\n",
        "        x = tf.keras.layers.MaxPooling2D((2, 2), padding='same')(x)\n",
        "        x = tf.keras.layers.Conv2D(64, (3, 3), activation='relu')(x)\n",
        "        x = tf.keras.layers.MaxPooling2D((2, 2), padding='same')(x)      \n",
        "\n",
        "        # Add Dense layers for images\n",
        "        x = tf.keras.layers.Flatten()(x)\n",
        "        x = tf.keras.layers.Dense(256, activation='relu')(x)\n",
        "\n",
        "        # Add Dense layers for Tabular data\n",
        "        y = tf.keras.layers.Dense(512, activation='relu')(tabular_input)\n",
        "        y = tf.keras.layers.Dense(256, activation='relu')(y)\n",
        "\n",
        "        # Concatenate Image and tabular weights\n",
        "        z = tf.keras.layers.Concatenate(axis=1)([x, y])\n",
        "\n",
        "        # Add Classification Head\n",
        "        z = tf.keras.layers.Dense(128, activation='relu')(z)\n",
        "        classifier = tf.keras.layers.Dense(num_classes, name='outputs', activation='softmax')(z)\n",
        "\n",
        "        # Define inputs and outputs\n",
        "        model = tf.keras.Model(inputs=[patch_input, tabular_input], outputs=classifier)\n",
        "\n",
        "        return model"
      ],
      "metadata": {
        "id": "V229zpGqt_i1"
      },
      "execution_count": null,
      "outputs": []
    },
    {
      "cell_type": "code",
      "source": [
        "# Data augmentation\n",
        "data_augmentation = tf.keras.Sequential(\n",
        "    [\n",
        "        #tf.keras.layers.Rescaling(1./255),\n",
        "        #tf.keras.layers.Resizing((256,256,6)),\n",
        "        tf.keras.layers.RandomFlip(\"horizontal\"),\n",
        "        tf.keras.layers.RandomRotation(factor=0.02),\n",
        "        tf.keras.layers.RandomZoom(\n",
        "            height_factor=0.2, width_factor=0.2\n",
        "        ),\n",
        "    ],\n",
        "    name=\"data_augmentation\",\n",
        ")"
      ],
      "metadata": {
        "id": "wzFUu4iWlJH_"
      },
      "execution_count": null,
      "outputs": []
    },
    {
      "cell_type": "markdown",
      "source": [
        "#### For Images (Includes RGB, near IR, landcover, altitude) + Tabular (environmental vectors)"
      ],
      "metadata": {
        "id": "lzjAB49wo0hZ"
      }
    },
    {
      "cell_type": "code",
      "source": [
        "BATCHSIZE = 128\n",
        "train_generator = Environmental_Patches_Generator(obs_id_train_new, y_train_normalized, BATCHSIZE)\n",
        "print(\"HERRE\")\n",
        "val_generator = Environmental_Patches_Generator(obs_id_val_new, y_val_normalized, BATCHSIZE)\n",
        "\n",
        "print(y_train_normalized)\n",
        "# converting our train dataset to tf.data.Dataset\n",
        "#tf_train_dataset = tf.data.Dataset.from_generator(\n",
        "#    lambda: train_generator ,  # Our generator \n",
        "#    output_types = ({'input_1': tf.float32 , 'input_2': tf.float32}, tf.float32) , # How we're expecting our output dtype\n",
        "#    output_shapes = ({'input_1': [BATCH_SIZE, 256 , 256, 6], 'input_2': [BATCH_SIZE, 29]} , [BATCH_SIZE, ]) # How we're expecting our output shape\n",
        "#)\n",
        "\n",
        "#tf_val_dataset = tf.data.Dataset.from_generator(\n",
        "#    lambda: val_generator , \n",
        "#    output_types = ({'input_1': tf.float32 , 'input_2': tf.float32}, tf.float32),\n",
        "#    output_shapes = ({'input_1': [BATCH_SIZE, 256 , 256, 6], 'input_2': [BATCH_SIZE, 29]} , [BATCH_SIZE, ]) \n",
        "#)\n",
        "\n",
        "\n",
        "\n",
        "optimizer = tf.keras.optimizers.Adam(learning_rate=0.0001)\n",
        "#num_classes = len(set(df_obs['species_id']))\n",
        "print(len(set(df_obs['species_id'])))\n",
        "num_classes = 30\n",
        "\n",
        "input_shape1 = (256, 256, 6)\n",
        "input_shape2 = (27)\n",
        "model5 = my_res(input_shape1, input_shape2, num_classes)\n",
        "# Compile model\n",
        "model5.compile(optimizer=optimizer,\n",
        "              loss=tf.keras.losses.SparseCategoricalCrossentropy(from_logits=False),\n",
        "              metrics=[\n",
        "                  tf.keras.metrics.SparseCategoricalAccuracy(name=\"accuracy\"),\n",
        "                  tf.keras.metrics.SparseTopKCategoricalAccuracy(5, name=\"top-5-accuracy\")\n",
        "              ]\n",
        "              )\n",
        "model5.summary()\n"
      ],
      "metadata": {
        "id": "NHSmCz5DozSQ",
        "colab": {
          "base_uri": "https://localhost:8080/"
        },
        "outputId": "11b5dedf-798b-440c-be4b-9ec3fb024ca8"
      },
      "execution_count": null,
      "outputs": [
        {
          "output_type": "stream",
          "name": "stdout",
          "text": [
            "HERRE\n",
            "[17 17 29 ... 13 24 14]\n",
            "17037\n",
            "HE\n",
            "A\n",
            "now error\n",
            "here\n",
            "err\n",
            "HE\n",
            "A\n",
            "now error\n",
            "here\n",
            "err\n",
            "HE\n",
            "A\n",
            "now error\n",
            "here\n",
            "err\n",
            "Model: \"resnet_tab_plus_image\"\n",
            "__________________________________________________________________________________________________\n",
            " Layer (type)                   Output Shape         Param #     Connected to                     \n",
            "==================================================================================================\n",
            " input_112 (InputLayer)         [(None, 224, 224, 3  0           []                               \n",
            "                                )]                                                                \n",
            "                                                                                                  \n",
            " data_augmentation (Sequential)  (None, 224, 224, 3)  0          ['input_112[0][0]']              \n",
            "                                                                                                  \n",
            " conv2d_517 (Conv2D)            (None, 109, 109, 64  9472        ['data_augmentation[1][0]']      \n",
            "                                )                                                                 \n",
            "                                                                                                  \n",
            " batch_normalization_389 (Batch  (None, 109, 109, 64  256        ['conv2d_517[1][0]']             \n",
            " Normalization)                 )                                                                 \n",
            "                                                                                                  \n",
            " activation_371 (Activation)    (None, 109, 109, 64  0           ['batch_normalization_389[1][0]']\n",
            "                                )                                                                 \n",
            "                                                                                                  \n",
            " max_pooling2d_42 (MaxPooling2D  (None, 54, 54, 64)  0           ['activation_371[1][0]']         \n",
            " )                                                                                                \n",
            "                                                                                                  \n",
            " conv2d_518 (Conv2D)            (None, 26, 26, 32)   18464       ['max_pooling2d_42[1][0]']       \n",
            "                                                                                                  \n",
            " batch_normalization_390 (Batch  (None, 26, 26, 32)  128         ['conv2d_518[1][0]']             \n",
            " Normalization)                                                                                   \n",
            "                                                                                                  \n",
            " conv2d_519 (Conv2D)            (None, 26, 26, 32)   18464       ['max_pooling2d_42[1][0]']       \n",
            "                                                                                                  \n",
            " add_201 (Add)                  (None, 26, 26, 32)   0           ['batch_normalization_390[1][0]',\n",
            "                                                                  'conv2d_519[1][0]']             \n",
            "                                                                                                  \n",
            " activation_372 (Activation)    (None, 26, 26, 32)   0           ['add_201[1][0]']                \n",
            "                                                                                                  \n",
            " conv2d_520 (Conv2D)            (None, 26, 26, 32)   9248        ['activation_372[1][0]']         \n",
            "                                                                                                  \n",
            " batch_normalization_391 (Batch  (None, 26, 26, 32)  128         ['conv2d_520[1][0]']             \n",
            " Normalization)                                                                                   \n",
            "                                                                                                  \n",
            " activation_373 (Activation)    (None, 26, 26, 32)   0           ['batch_normalization_391[1][0]']\n",
            "                                                                                                  \n",
            " conv2d_521 (Conv2D)            (None, 26, 26, 32)   9248        ['activation_373[1][0]']         \n",
            "                                                                                                  \n",
            " batch_normalization_392 (Batch  (None, 26, 26, 32)  128         ['conv2d_521[1][0]']             \n",
            " Normalization)                                                                                   \n",
            "                                                                                                  \n",
            " add_202 (Add)                  (None, 26, 26, 32)   0           ['batch_normalization_392[1][0]',\n",
            "                                                                  'activation_372[1][0]']         \n",
            "                                                                                                  \n",
            " activation_374 (Activation)    (None, 26, 26, 32)   0           ['add_202[1][0]']                \n",
            "                                                                                                  \n",
            " conv2d_522 (Conv2D)            (None, 12, 12, 128)  36992       ['activation_374[1][0]']         \n",
            "                                                                                                  \n",
            " batch_normalization_393 (Batch  (None, 12, 12, 128)  512        ['conv2d_522[1][0]']             \n",
            " Normalization)                                                                                   \n",
            "                                                                                                  \n",
            " conv2d_523 (Conv2D)            (None, 12, 12, 128)  36992       ['activation_374[1][0]']         \n",
            "                                                                                                  \n",
            " add_203 (Add)                  (None, 12, 12, 128)  0           ['batch_normalization_393[1][0]',\n",
            "                                                                  'conv2d_523[1][0]']             \n",
            "                                                                                                  \n",
            " activation_375 (Activation)    (None, 12, 12, 128)  0           ['add_203[1][0]']                \n",
            "                                                                                                  \n",
            " dropout_4 (Dropout)            (None, 12, 12, 128)  0           ['activation_375[1][0]']         \n",
            "                                                                                                  \n",
            " conv2d_524 (Conv2D)            (None, 12, 12, 128)  147584      ['dropout_4[1][0]']              \n",
            "                                                                                                  \n",
            " batch_normalization_394 (Batch  (None, 12, 12, 128)  512        ['conv2d_524[1][0]']             \n",
            " Normalization)                                                                                   \n",
            "                                                                                                  \n",
            " activation_376 (Activation)    (None, 12, 12, 128)  0           ['batch_normalization_394[1][0]']\n",
            "                                                                                                  \n",
            " conv2d_525 (Conv2D)            (None, 12, 12, 128)  147584      ['activation_376[1][0]']         \n",
            "                                                                                                  \n",
            " batch_normalization_395 (Batch  (None, 12, 12, 128)  512        ['conv2d_525[1][0]']             \n",
            " Normalization)                                                                                   \n",
            "                                                                                                  \n",
            " add_204 (Add)                  (None, 12, 12, 128)  0           ['batch_normalization_395[1][0]',\n",
            "                                                                  'dropout_4[1][0]']              \n",
            "                                                                                                  \n",
            " activation_377 (Activation)    (None, 12, 12, 128)  0           ['add_204[1][0]']                \n",
            "                                                                                                  \n",
            " conv2d_526 (Conv2D)            (None, 5, 5, 256)    295168      ['activation_377[1][0]']         \n",
            "                                                                                                  \n",
            " batch_normalization_396 (Batch  (None, 5, 5, 256)   1024        ['conv2d_526[1][0]']             \n",
            " Normalization)                                                                                   \n",
            "                                                                                                  \n",
            " conv2d_527 (Conv2D)            (None, 5, 5, 256)    295168      ['activation_377[1][0]']         \n",
            "                                                                                                  \n",
            " add_205 (Add)                  (None, 5, 5, 256)    0           ['batch_normalization_396[1][0]',\n",
            "                                                                  'conv2d_527[1][0]']             \n",
            "                                                                                                  \n",
            " activation_378 (Activation)    (None, 5, 5, 256)    0           ['add_205[1][0]']                \n",
            "                                                                                                  \n",
            " conv2d_528 (Conv2D)            (None, 5, 5, 256)    590080      ['activation_378[1][0]']         \n",
            "                                                                                                  \n",
            " batch_normalization_397 (Batch  (None, 5, 5, 256)   1024        ['conv2d_528[1][0]']             \n",
            " Normalization)                                                                                   \n",
            "                                                                                                  \n",
            " activation_379 (Activation)    (None, 5, 5, 256)    0           ['batch_normalization_397[1][0]']\n",
            "                                                                                                  \n",
            " conv2d_529 (Conv2D)            (None, 5, 5, 256)    590080      ['activation_379[1][0]']         \n",
            "                                                                                                  \n",
            " batch_normalization_398 (Batch  (None, 5, 5, 256)   1024        ['conv2d_529[1][0]']             \n",
            " Normalization)                                                                                   \n",
            "                                                                                                  \n",
            " input_111 (InputLayer)         [(None, 27)]         0           []                               \n",
            "                                                                                                  \n",
            " add_206 (Add)                  (None, 5, 5, 256)    0           ['batch_normalization_398[1][0]',\n",
            "                                                                  'activation_378[1][0]']         \n",
            "                                                                                                  \n",
            " flatten_47 (Flatten)           (None, 27)           0           ['input_111[0][0]']              \n",
            "                                                                                                  \n",
            " activation_380 (Activation)    (None, 5, 5, 256)    0           ['add_206[1][0]']                \n",
            "                                                                                                  \n",
            " dense_91 (Dense)               (None, 32)           896         ['flatten_47[1][0]']             \n",
            "                                                                                                  \n",
            " average_pooling2d_23 (AverageP  (None, 3, 3, 256)   0           ['activation_380[1][0]']         \n",
            " ooling2D)                                                                                        \n",
            "                                                                                                  \n",
            " dropout_5 (Dropout)            (None, 32)           0           ['dense_91[1][0]']               \n",
            "                                                                                                  \n",
            " flatten_46 (Flatten)           (None, 2304)         0           ['average_pooling2d_23[1][0]']   \n",
            "                                                                                                  \n",
            " dense_92 (Dense)               (None, 128)          4224        ['dropout_5[1][0]']              \n",
            "                                                                                                  \n",
            " concatenate_23 (Concatenate)   (None, 2432)         0           ['flatten_46[1][0]',             \n",
            "                                                                  'dense_92[1][0]']               \n",
            "                                                                                                  \n",
            " dense_93 (Dense)               (None, 30)           72990       ['concatenate_23[1][0]']         \n",
            "                                                                                                  \n",
            "==================================================================================================\n",
            "Total params: 2,287,902\n",
            "Trainable params: 2,285,278\n",
            "Non-trainable params: 2,624\n",
            "__________________________________________________________________________________________________\n"
          ]
        }
      ]
    },
    {
      "cell_type": "markdown",
      "source": [
        "#### Pre-Trained All Images Code"
      ],
      "metadata": {
        "id": "qJc4ztWEps5x"
      }
    },
    {
      "cell_type": "code",
      "source": [
        "BATCHSIZE = 64\n",
        "train_generator = Pretrained_Patches_Generator(obs_id_train, y_train, BATCHSIZE)\n",
        "print(\"HERRE\")\n",
        "val_generator = Pretrained_Patches_Generator(obs_id_val, y_val, BATCHSIZE)\n",
        "\n",
        "# converting our train dataset to tf.data.Dataset\n",
        "#tf_train_dataset = tf.data.Dataset.from_generator(\n",
        "#    lambda: train_generator ,  # Our generator \n",
        "#    output_types = ({'input_1': tf.float32 , 'input_2': tf.float32, 'input_3': tf.float32}, tf.float32) , # How we're expecting our output dtype\n",
        "#    output_shapes = ({'input_1': [BATCH_SIZE, 256 , 256, 6], 'input_2': [BATCH_SIZE, 29]} , [BATCH_SIZE, ]) # How we're expecting our output shape\n",
        "#)\n",
        "\n",
        "#tf_val_dataset = tf.data.Dataset.from_generator(\n",
        "#    lambda: val_generator , \n",
        "#    output_types = ({'input_1': tf.float32 , 'input_2': tf.float32, 'input_3': tf.float32}, tf.float32),\n",
        "#    output_shapes = ({'input_1': [BATCH_SIZE, 256 , 256, 6], 'input_2': [BATCH_SIZE, 29]} , [BATCH_SIZE, ]) \n",
        "#)\n",
        "\n",
        "\n",
        "#PROBLEM\n",
        "optimizer = tf.keras.optimizers.Adam(learning_rate=0.001)\n",
        "#num_classes = len(set(df_obs['species_id']))\n",
        "#num_classes = 10\n",
        "num_classes = 30\n",
        "input_shape1 = (256, 256, 3)\n",
        "input_shape2 = (256, 256, 3)\n",
        "input_shape3 = (27)\n",
        "model1 = transfer_learning(input_shape1, input_shape2, input_shape3, num_classes)\n",
        "# Compile model\n",
        "model1.compile(optimizer=optimizer,\n",
        "              loss=tf.keras.losses.SparseCategoricalCrossentropy(from_logits=True),\n",
        "              metrics=[\n",
        "                  tf.keras.metrics.SparseCategoricalAccuracy(name=\"accuracy\"),\n",
        "                  tf.keras.metrics.SparseTopKCategoricalAccuracy(5, name=\"top-5-accuracy\")\n",
        "              ]\n",
        "              )\n"
      ],
      "metadata": {
        "colab": {
          "base_uri": "https://localhost:8080/",
          "height": 232
        },
        "id": "swIy3cu2prs8",
        "outputId": "7466fa3f-8013-4c90-d0a1-f27f8880dcc8"
      },
      "execution_count": null,
      "outputs": [
        {
          "output_type": "error",
          "ename": "NameError",
          "evalue": "ignored",
          "traceback": [
            "\u001b[0;31m---------------------------------------------------------------------------\u001b[0m",
            "\u001b[0;31mNameError\u001b[0m                                 Traceback (most recent call last)",
            "\u001b[0;32m<ipython-input-62-5cb06d50667a>\u001b[0m in \u001b[0;36m<module>\u001b[0;34m()\u001b[0m\n\u001b[1;32m      1\u001b[0m \u001b[0mBATCHSIZE\u001b[0m \u001b[0;34m=\u001b[0m \u001b[0;36m64\u001b[0m\u001b[0;34m\u001b[0m\u001b[0;34m\u001b[0m\u001b[0m\n\u001b[0;32m----> 2\u001b[0;31m \u001b[0mtrain_generator\u001b[0m \u001b[0;34m=\u001b[0m \u001b[0mPretrained_Patches_Generator\u001b[0m\u001b[0;34m(\u001b[0m\u001b[0mobs_id_train\u001b[0m\u001b[0;34m,\u001b[0m \u001b[0my_train\u001b[0m\u001b[0;34m,\u001b[0m \u001b[0mBATCHSIZE\u001b[0m\u001b[0;34m)\u001b[0m\u001b[0;34m\u001b[0m\u001b[0;34m\u001b[0m\u001b[0m\n\u001b[0m\u001b[1;32m      3\u001b[0m \u001b[0mprint\u001b[0m\u001b[0;34m(\u001b[0m\u001b[0;34m\"HERRE\"\u001b[0m\u001b[0;34m)\u001b[0m\u001b[0;34m\u001b[0m\u001b[0;34m\u001b[0m\u001b[0m\n\u001b[1;32m      4\u001b[0m \u001b[0mval_generator\u001b[0m \u001b[0;34m=\u001b[0m \u001b[0mPretrained_Patches_Generator\u001b[0m\u001b[0;34m(\u001b[0m\u001b[0mobs_id_val\u001b[0m\u001b[0;34m,\u001b[0m \u001b[0my_val\u001b[0m\u001b[0;34m,\u001b[0m \u001b[0mBATCHSIZE\u001b[0m\u001b[0;34m)\u001b[0m\u001b[0;34m\u001b[0m\u001b[0;34m\u001b[0m\u001b[0m\n\u001b[1;32m      5\u001b[0m \u001b[0;34m\u001b[0m\u001b[0m\n",
            "\u001b[0;31mNameError\u001b[0m: name 'Pretrained_Patches_Generator' is not defined"
          ]
        }
      ]
    },
    {
      "cell_type": "markdown",
      "source": [
        "Conv2D code"
      ],
      "metadata": {
        "id": "k_ABtMpkyhcA"
      }
    },
    {
      "cell_type": "code",
      "source": [
        "BATCHSIZE = 128\n",
        "train_generator = Environmental_Patches_Generator(obs_id_train, y_train, BATCHSIZE)\n",
        "print(\"HERRE\")\n",
        "val_generator = Environmental_Patches_Generator(obs_id_val, y_val, BATCHSIZE)\n",
        "\n",
        "\n",
        "optimizer = tf.keras.optimizers.Adam(learning_rate=0.001, clipvalue=0.5)\n",
        "#num_classes = len(set(df_obs['species_id']))\n",
        "num_classes = 30\n",
        "\n",
        "print(np.unique(y_train))\n",
        "print(np.unique(y_val))\n",
        "input_shape1 = (256, 256, 6)\n",
        "input_shape2 = (27)\n",
        "model = multi_modal_cnn(input_shape1, input_shape2, num_classes)\n",
        "\n",
        "# Compile model\n",
        "model.compile(optimizer=optimizer,\n",
        "              loss=tf.keras.losses.SparseCategoricalCrossentropy(from_logits=True),\n",
        "              metrics=[\n",
        "                  tf.keras.metrics.SparseCategoricalAccuracy(name=\"accuracy\"),\n",
        "                  tf.keras.metrics.SparseTopKCategoricalAccuracy(5, name=\"top-5-accuracy\")\n",
        "              ]\n",
        "              )\n"
      ],
      "metadata": {
        "colab": {
          "base_uri": "https://localhost:8080/",
          "height": 351
        },
        "id": "ZYy3hhS9yg10",
        "outputId": "46394cb8-ec40-4b3d-c0b0-3ba1f673ae80"
      },
      "execution_count": null,
      "outputs": [
        {
          "output_type": "stream",
          "name": "stdout",
          "text": [
            "HERRE\n",
            "[   5   68  125  129  223  553  570  605  679  692  739  979 1075 1155\n",
            " 1916 2196 2524 2821 2950 2992 3253 4940 4991 4999 5025 5086 5168 5192\n",
            " 5207 5228]\n",
            "[   5   68  125  129  223  553  570  605  679  692  739  979 1075 1155\n",
            " 1916 2196 2524 2821 2950 2992 3253 4940 4991 4999 5025 5086 5168 5192\n",
            " 5207 5228]\n"
          ]
        },
        {
          "output_type": "error",
          "ename": "NameError",
          "evalue": "ignored",
          "traceback": [
            "\u001b[0;31m---------------------------------------------------------------------------\u001b[0m",
            "\u001b[0;31mNameError\u001b[0m                                 Traceback (most recent call last)",
            "\u001b[0;32m<ipython-input-63-42fc695fa63a>\u001b[0m in \u001b[0;36m<module>\u001b[0;34m()\u001b[0m\n\u001b[1;32m     13\u001b[0m \u001b[0minput_shape1\u001b[0m \u001b[0;34m=\u001b[0m \u001b[0;34m(\u001b[0m\u001b[0;36m256\u001b[0m\u001b[0;34m,\u001b[0m \u001b[0;36m256\u001b[0m\u001b[0;34m,\u001b[0m \u001b[0;36m6\u001b[0m\u001b[0;34m)\u001b[0m\u001b[0;34m\u001b[0m\u001b[0;34m\u001b[0m\u001b[0m\n\u001b[1;32m     14\u001b[0m \u001b[0minput_shape2\u001b[0m \u001b[0;34m=\u001b[0m \u001b[0;34m(\u001b[0m\u001b[0;36m27\u001b[0m\u001b[0;34m)\u001b[0m\u001b[0;34m\u001b[0m\u001b[0;34m\u001b[0m\u001b[0m\n\u001b[0;32m---> 15\u001b[0;31m \u001b[0mmodel\u001b[0m \u001b[0;34m=\u001b[0m \u001b[0mmulti_modal_cnn\u001b[0m\u001b[0;34m(\u001b[0m\u001b[0minput_shape1\u001b[0m\u001b[0;34m,\u001b[0m \u001b[0minput_shape2\u001b[0m\u001b[0;34m,\u001b[0m \u001b[0mnum_classes\u001b[0m\u001b[0;34m)\u001b[0m\u001b[0;34m\u001b[0m\u001b[0;34m\u001b[0m\u001b[0m\n\u001b[0m\u001b[1;32m     16\u001b[0m \u001b[0;34m\u001b[0m\u001b[0m\n\u001b[1;32m     17\u001b[0m \u001b[0;31m# Compile model\u001b[0m\u001b[0;34m\u001b[0m\u001b[0;34m\u001b[0m\u001b[0;34m\u001b[0m\u001b[0m\n",
            "\u001b[0;31mNameError\u001b[0m: name 'multi_modal_cnn' is not defined"
          ]
        }
      ]
    },
    {
      "cell_type": "markdown",
      "source": [
        ""
      ],
      "metadata": {
        "id": "vklChMia7Hyr"
      }
    },
    {
      "cell_type": "code",
      "source": [
        "BATCHSIZE = 128\n",
        "print(len(obs_id_train))\n",
        "print(len(obs_id_val))\n",
        "train_generator = Patches_Generator(obs_id_train, y_train, BATCHSIZE)\n",
        "print(\"HERRE\")\n",
        "val_generator = Patches_Generator(obs_id_val, y_val, BATCHSIZE)\n",
        "\n",
        "\n",
        "optimizer = tf.keras.optimizers.Adam(learning_rate=0.001, clipvalue=0.5)\n",
        "#num_classes = len(set(df_obs['species_id']))\n",
        "num_classes = 30\n",
        "\n",
        "print(np.unique(y_train))\n",
        "print(np.unique(y_val))\n",
        "input_shape1 = (256, 256, 3)\n",
        "input_shape2 = (27)\n",
        "model = my_res(input_shape1, num_classes)\n",
        "# Compile model\n",
        "model.compile(optimizer=optimizer,\n",
        "              loss=tf.keras.losses.SparseCategoricalCrossentropy(from_logits=False),\n",
        "              metrics=[\n",
        "                  tf.keras.metrics.SparseCategoricalAccuracy(name=\"accuracy\"),\n",
        "                  tf.keras.metrics.SparseTopKCategoricalAccuracy(5, name=\"top-5-accuracy\")\n",
        "              ]\n",
        "              )\n"
      ],
      "metadata": {
        "colab": {
          "base_uri": "https://localhost:8080/"
        },
        "id": "-7NbkNXG7H7-",
        "outputId": "f64d628d-c7de-4534-aa7e-659ed41a3b5d"
      },
      "execution_count": null,
      "outputs": [
        {
          "output_type": "stream",
          "name": "stdout",
          "text": [
            "63278\n",
            "1831\n",
            "HERRE\n",
            "[   5   68  125  129  223  553  570  605  679  692  739  979 1075 1155\n",
            " 1916 2196 2524 2821 2950 2992 3253 4940 4991 4999 5025 5086 5168 5192\n",
            " 5207 5228]\n",
            "[   5   68  125  129  223  553  570  605  679  692  739  979 1075 1155\n",
            " 1916 2196 2524 2821 2950 2992 3253 4940 4991 4999 5025 5086 5168 5192\n",
            " 5207 5228]\n"
          ]
        }
      ]
    },
    {
      "cell_type": "markdown",
      "source": [
        "#### For GPS"
      ],
      "metadata": {
        "id": "mcSrMF_Vo2tj"
      }
    },
    {
      "cell_type": "code",
      "source": [
        "optimizer = tf.keras.optimizers.Adam(learning_rate=0.00001 )\n",
        "num_classes = len(set(df_obs['species_id']))\n",
        "input_shape = (2,1)\n",
        "model_1 = my_res(input_shape, num_classes)\n",
        "# Compile model\n",
        "model_1.compile(optimizer=optimizer,\n",
        "              loss=tf.keras.losses.SparseCategoricalCrossentropy(from_logits=True),\n",
        "              metrics=[\n",
        "                  tf.keras.metrics.SparseCategoricalAccuracy(name=\"accuracy\"),\n",
        "                  tf.keras.metrics.SparseTopKCategoricalAccuracy(5, name=\"top-5-accuracy\")\n",
        "              ]\n",
        "              )"
      ],
      "metadata": {
        "id": "FdljaDPSo4pk",
        "colab": {
          "base_uri": "https://localhost:8080/",
          "height": 409
        },
        "outputId": "aa802806-8cf7-4e70-f6a3-1e3a2ae3d049"
      },
      "execution_count": null,
      "outputs": [
        {
          "output_type": "error",
          "ename": "ValueError",
          "evalue": "ignored",
          "traceback": [
            "\u001b[0;31m---------------------------------------------------------------------------\u001b[0m",
            "\u001b[0;31mValueError\u001b[0m                                Traceback (most recent call last)",
            "\u001b[0;32m<ipython-input-27-a69906c61d32>\u001b[0m in \u001b[0;36m<module>\u001b[0;34m()\u001b[0m\n\u001b[1;32m      2\u001b[0m \u001b[0mnum_classes\u001b[0m \u001b[0;34m=\u001b[0m \u001b[0mlen\u001b[0m\u001b[0;34m(\u001b[0m\u001b[0mset\u001b[0m\u001b[0;34m(\u001b[0m\u001b[0mdf_obs\u001b[0m\u001b[0;34m[\u001b[0m\u001b[0;34m'species_id'\u001b[0m\u001b[0;34m]\u001b[0m\u001b[0;34m)\u001b[0m\u001b[0;34m)\u001b[0m\u001b[0;34m\u001b[0m\u001b[0;34m\u001b[0m\u001b[0m\n\u001b[1;32m      3\u001b[0m \u001b[0minput_shape\u001b[0m \u001b[0;34m=\u001b[0m \u001b[0;34m(\u001b[0m\u001b[0;36m2\u001b[0m\u001b[0;34m,\u001b[0m\u001b[0;36m1\u001b[0m\u001b[0;34m)\u001b[0m\u001b[0;34m\u001b[0m\u001b[0;34m\u001b[0m\u001b[0m\n\u001b[0;32m----> 4\u001b[0;31m \u001b[0mmodel_1\u001b[0m \u001b[0;34m=\u001b[0m \u001b[0mmy_res\u001b[0m\u001b[0;34m(\u001b[0m\u001b[0minput_shape\u001b[0m\u001b[0;34m,\u001b[0m \u001b[0mnum_classes\u001b[0m\u001b[0;34m)\u001b[0m\u001b[0;34m\u001b[0m\u001b[0;34m\u001b[0m\u001b[0m\n\u001b[0m\u001b[1;32m      5\u001b[0m \u001b[0;31m# Compile model\u001b[0m\u001b[0;34m\u001b[0m\u001b[0;34m\u001b[0m\u001b[0;34m\u001b[0m\u001b[0m\n\u001b[1;32m      6\u001b[0m model_1.compile(optimizer=optimizer,\n",
            "\u001b[0;32m<ipython-input-24-d6e2f1abba74>\u001b[0m in \u001b[0;36mmy_res\u001b[0;34m(input_shape, num_classes)\u001b[0m\n\u001b[1;32m     37\u001b[0m \u001b[0;32mdef\u001b[0m \u001b[0mmy_res\u001b[0m\u001b[0;34m(\u001b[0m\u001b[0minput_shape\u001b[0m\u001b[0;34m,\u001b[0m \u001b[0mnum_classes\u001b[0m\u001b[0;34m)\u001b[0m\u001b[0;34m:\u001b[0m\u001b[0;34m\u001b[0m\u001b[0;34m\u001b[0m\u001b[0m\n\u001b[1;32m     38\u001b[0m   \u001b[0mx_input\u001b[0m \u001b[0;34m=\u001b[0m \u001b[0mtf\u001b[0m\u001b[0;34m.\u001b[0m\u001b[0mkeras\u001b[0m\u001b[0;34m.\u001b[0m\u001b[0mlayers\u001b[0m\u001b[0;34m.\u001b[0m\u001b[0mInput\u001b[0m\u001b[0;34m(\u001b[0m\u001b[0minput_shape\u001b[0m\u001b[0;34m)\u001b[0m\u001b[0;34m\u001b[0m\u001b[0;34m\u001b[0m\u001b[0m\n\u001b[0;32m---> 39\u001b[0;31m   \u001b[0mx\u001b[0m \u001b[0;34m=\u001b[0m \u001b[0mtf\u001b[0m\u001b[0;34m.\u001b[0m\u001b[0mkeras\u001b[0m\u001b[0;34m.\u001b[0m\u001b[0mlayers\u001b[0m\u001b[0;34m.\u001b[0m\u001b[0mZeroPadding2D\u001b[0m\u001b[0;34m(\u001b[0m\u001b[0mpadding\u001b[0m \u001b[0;34m=\u001b[0m \u001b[0;34m(\u001b[0m\u001b[0;36m3\u001b[0m\u001b[0;34m,\u001b[0m\u001b[0;36m3\u001b[0m\u001b[0;34m)\u001b[0m\u001b[0;34m)\u001b[0m\u001b[0;34m(\u001b[0m\u001b[0mx_input\u001b[0m\u001b[0;34m)\u001b[0m\u001b[0;34m\u001b[0m\u001b[0;34m\u001b[0m\u001b[0m\n\u001b[0m\u001b[1;32m     40\u001b[0m \u001b[0;34m\u001b[0m\u001b[0m\n\u001b[1;32m     41\u001b[0m   \u001b[0;31m#print(\"a\")\u001b[0m\u001b[0;34m\u001b[0m\u001b[0;34m\u001b[0m\u001b[0;34m\u001b[0m\u001b[0m\n",
            "\u001b[0;32m/usr/local/lib/python3.7/dist-packages/keras/utils/traceback_utils.py\u001b[0m in \u001b[0;36merror_handler\u001b[0;34m(*args, **kwargs)\u001b[0m\n\u001b[1;32m     65\u001b[0m     \u001b[0;32mexcept\u001b[0m \u001b[0mException\u001b[0m \u001b[0;32mas\u001b[0m \u001b[0me\u001b[0m\u001b[0;34m:\u001b[0m  \u001b[0;31m# pylint: disable=broad-except\u001b[0m\u001b[0;34m\u001b[0m\u001b[0;34m\u001b[0m\u001b[0m\n\u001b[1;32m     66\u001b[0m       \u001b[0mfiltered_tb\u001b[0m \u001b[0;34m=\u001b[0m \u001b[0m_process_traceback_frames\u001b[0m\u001b[0;34m(\u001b[0m\u001b[0me\u001b[0m\u001b[0;34m.\u001b[0m\u001b[0m__traceback__\u001b[0m\u001b[0;34m)\u001b[0m\u001b[0;34m\u001b[0m\u001b[0;34m\u001b[0m\u001b[0m\n\u001b[0;32m---> 67\u001b[0;31m       \u001b[0;32mraise\u001b[0m \u001b[0me\u001b[0m\u001b[0;34m.\u001b[0m\u001b[0mwith_traceback\u001b[0m\u001b[0;34m(\u001b[0m\u001b[0mfiltered_tb\u001b[0m\u001b[0;34m)\u001b[0m \u001b[0;32mfrom\u001b[0m \u001b[0;32mNone\u001b[0m\u001b[0;34m\u001b[0m\u001b[0;34m\u001b[0m\u001b[0m\n\u001b[0m\u001b[1;32m     68\u001b[0m     \u001b[0;32mfinally\u001b[0m\u001b[0;34m:\u001b[0m\u001b[0;34m\u001b[0m\u001b[0;34m\u001b[0m\u001b[0m\n\u001b[1;32m     69\u001b[0m       \u001b[0;32mdel\u001b[0m \u001b[0mfiltered_tb\u001b[0m\u001b[0;34m\u001b[0m\u001b[0;34m\u001b[0m\u001b[0m\n",
            "\u001b[0;32m/usr/local/lib/python3.7/dist-packages/keras/engine/input_spec.py\u001b[0m in \u001b[0;36massert_input_compatibility\u001b[0;34m(input_spec, inputs, layer_name)\u001b[0m\n\u001b[1;32m    211\u001b[0m       \u001b[0mndim\u001b[0m \u001b[0;34m=\u001b[0m \u001b[0mshape\u001b[0m\u001b[0;34m.\u001b[0m\u001b[0mrank\u001b[0m\u001b[0;34m\u001b[0m\u001b[0;34m\u001b[0m\u001b[0m\n\u001b[1;32m    212\u001b[0m       \u001b[0;32mif\u001b[0m \u001b[0mndim\u001b[0m \u001b[0;34m!=\u001b[0m \u001b[0mspec\u001b[0m\u001b[0;34m.\u001b[0m\u001b[0mndim\u001b[0m\u001b[0;34m:\u001b[0m\u001b[0;34m\u001b[0m\u001b[0;34m\u001b[0m\u001b[0m\n\u001b[0;32m--> 213\u001b[0;31m         raise ValueError(f'Input {input_index} of layer \"{layer_name}\" '\n\u001b[0m\u001b[1;32m    214\u001b[0m                          \u001b[0;34m'is incompatible with the layer: '\u001b[0m\u001b[0;34m\u001b[0m\u001b[0;34m\u001b[0m\u001b[0m\n\u001b[1;32m    215\u001b[0m                          \u001b[0;34mf'expected ndim={spec.ndim}, found ndim={ndim}. '\u001b[0m\u001b[0;34m\u001b[0m\u001b[0;34m\u001b[0m\u001b[0m\n",
            "\u001b[0;31mValueError\u001b[0m: Input 0 of layer \"zero_padding2d_2\" is incompatible with the layer: expected ndim=4, found ndim=3. Full shape received: (None, 2, 1)"
          ]
        }
      ]
    },
    {
      "cell_type": "markdown",
      "source": [
        "#### For Environmental Vectors"
      ],
      "metadata": {
        "id": "bbeabZ8QHA-7"
      }
    },
    {
      "cell_type": "code",
      "source": [
        ""
      ],
      "metadata": {
        "id": "7Gilpl9OaaTa"
      },
      "execution_count": null,
      "outputs": []
    },
    {
      "cell_type": "code",
      "source": [
        "df_env = pd.read_csv(\"./geolifeclef-2022-lifeclef-2022-fgvc9/pre-extracted/environmental_vectors.csv\", sep=\";\", index_col=\"observation_id\")\n",
        "\n",
        "X_train = df_env.loc[obs_id_train].values\n",
        "X_val = df_env.loc[obs_id_val].values\n",
        "X_test = df_env.loc[obs_id_test].values"
      ],
      "metadata": {
        "colab": {
          "base_uri": "https://localhost:8080/"
        },
        "id": "pKCXEDZVHARU",
        "outputId": "49acb8f6-623a-49b5-d30b-bcdb416c65b4"
      },
      "execution_count": null,
      "outputs": [
        {
          "output_type": "stream",
          "name": "stderr",
          "text": [
            "/usr/local/lib/python3.7/dist-packages/numpy/lib/arraysetops.py:580: FutureWarning: elementwise comparison failed; returning scalar instead, but in the future will perform elementwise comparison\n",
            "  mask |= (ar1 == a)\n"
          ]
        }
      ]
    },
    {
      "cell_type": "code",
      "source": [
        "extractor = PatchExtractor(\"./geolifeclef-2022-lifeclef-2022-fgvc9/pre-extracted/rasters\", size=256)\n",
        "extractor.add_all_bioclimatic_rasters()\n"
      ],
      "metadata": {
        "id": "9wLCbjkhKQEV"
      },
      "execution_count": null,
      "outputs": []
    },
    {
      "cell_type": "code",
      "source": [
        "# learning rate finder class that we'll use below\n",
        "# code source: https://pyimagesearch.com/2019/08/05/keras-learning-rate-finder/\n",
        "from tensorflow.keras.callbacks import Callback, LambdaCallback\n",
        "import tempfile\n",
        "\n",
        "class LearningRateFinder:\n",
        "    def __init__(self, model, stopFactor=4, beta=0.98):\n",
        "        # store the model, stop factor, and beta value (for computing\n",
        "        # a smoothed, average loss)\n",
        "        self.model = model\n",
        "        self.stopFactor = stopFactor\n",
        "        self.beta = beta\n",
        "        \n",
        "        # initialize our list of learning rates and losses,\n",
        "        # respectively\n",
        "        self.lrs = []\n",
        "        self.losses = []\n",
        "        \n",
        "        # initialize our learning rate multiplier, average loss, best\n",
        "        # loss found thus far, current batch number, and weights file\n",
        "        self.lrMult = 1\n",
        "        self.avgLoss = 0\n",
        "        self.bestLoss = 1e9\n",
        "        self.batchNum = 0\n",
        "        self.weightsFile = None\n",
        "        \n",
        "    def on_batch_end(self, batch, logs):\n",
        "        # grab the current learning rate and add log it to the list of\n",
        "        # learning rates that we've tried\n",
        "        lr = K.get_value(self.model.optimizer.lr)\n",
        "        self.lrs.append(lr)\n",
        "        \n",
        "        # grab the loss at the end of this batch, increment the total\n",
        "        # number of batches processed, compute the average average\n",
        "        # loss, smooth it, and update the losses list with the\n",
        "        # smoothed value\n",
        "        l = logs[\"loss\"]\n",
        "        self.batchNum += 1\n",
        "        self.avgLoss = (self.beta * self.avgLoss) + ((1 - self.beta) * l)\n",
        "        smooth = self.avgLoss / (1 - (self.beta ** self.batchNum))\n",
        "        self.losses.append(smooth)\n",
        "        \n",
        "        # compute the maximum loss stopping factor value\n",
        "        stopLoss = self.stopFactor * self.bestLoss\n",
        "        \n",
        "        # check to see whether the loss has grown too large\n",
        "        if self.batchNum > 1 and smooth > stopLoss:\n",
        "            # stop returning and return from the method\n",
        "            self.model.stop_training = True\n",
        "            return\n",
        "        \n",
        "        # check to see if the best loss should be updated\n",
        "        if self.batchNum == 1 or smooth < self.bestLoss:\n",
        "            self.bestLoss = smooth\n",
        "            \n",
        "        # increase the learning rate\n",
        "        lr *= self.lrMult\n",
        "        K.set_value(self.model.optimizer.lr, lr)\n",
        "        \n",
        "    def find(self, trainData, startLR, endLR, epochs=None,\n",
        "        stepsPerEpoch=None, batchSize=64, sampleSize=2048):\n",
        "            \n",
        "        # compute the total number of batch updates that will take\n",
        "        # place while we are attempting to find a good starting\n",
        "        # learning rate\n",
        "        numBatchUpdates = epochs * stepsPerEpoch\n",
        "        \n",
        "        # derive the learning rate multiplier based on the ending\n",
        "        # learning rate, starting learning rate, and total number of\n",
        "        # batch updates\n",
        "        self.lrMult = (endLR / startLR) ** (1.0 / numBatchUpdates)\n",
        "        \n",
        "        # grab the *original* learning rate (so we can reset it\n",
        "        # later), and then set the *starting* learning rate\n",
        "        origLR = K.get_value(self.model.optimizer.lr)\n",
        "        K.set_value(self.model.optimizer.lr, startLR)\n",
        "\n",
        "        # construct a callback that will be called at the end of each\n",
        "        # batch, enabling us to increase our learning rate as training\n",
        "        # progresses\n",
        "        callback = LambdaCallback(on_batch_end=lambda batch, logs:\n",
        "            self.on_batch_end(batch, logs))\n",
        "        \n",
        "        # train our model using Keras' fit method\n",
        "        \"\"\"self.model.fit(\n",
        "            trainData,\n",
        "            batch_size=batchSize,\n",
        "            epochs=epochs,\n",
        "            callbacks=[callback])\"\"\"\n",
        "        \n",
        "        history = self.model.fit(trainData, \n",
        "                            batch_size=batchSize,\n",
        "                            epochs=epochs, \n",
        "                            steps_per_epoch=stepsPerEpoch,\n",
        "                            callbacks=[callback]\n",
        "        )\n",
        "                            # for parallelization of reading from disk (I/O) pipeline)\n",
        "        \n",
        "        # create a temporary file path for the model weights and\n",
        "        # then save the weights (so we can reset the weights when we\n",
        "        # are done)\n",
        "        self.weightsFile = tempfile.mkstemp()[1]\n",
        "        self.model.save_weights(self.weightsFile)\n",
        "            \n",
        "        # restore the original model weights and learning rate\n",
        "        self.model.load_weights(self.weightsFile)\n",
        "        K.set_value(self.model.optimizer.lr, origLR)\n",
        "\n",
        "    def plot_loss(self, skipBegin=10, skipEnd=1, title=\"\", show_candidates_only=True, ylimit=[0, 5]):\n",
        "        # grab the learning rate and losses values to plot\n",
        "        lrs = self.lrs[skipBegin:-skipEnd]\n",
        "        losses = self.losses[skipBegin:-skipEnd]\n",
        "        \n",
        "        # extract the candidate losses\n",
        "        candidates = [1e-9, 1e-8, 1e-7, 1e-6, 1e-5, 1e-4, 1e-3, 1e-2, 1e-1, 1e+0, 1e+1]\n",
        "\n",
        "        x_vals = list()\n",
        "        y_vals = list()\n",
        "        nextCandidate = 0\n",
        "        \n",
        "        for i in range(len(lrs)):\n",
        "            if math.isclose(lrs[i], candidates[nextCandidate], rel_tol=0.09, abs_tol=0):\n",
        "                x_vals.append(candidates[nextCandidate])\n",
        "                y_vals.append(losses[i])\n",
        "                nextCandidate += 1\n",
        "            \n",
        "            if nextCandidate >= len(candidates): \n",
        "                break\n",
        "                \n",
        "        x_vals.pop()\n",
        "        y_vals.pop()\n",
        "        x_vals.append(candidates[nextCandidate-1])\n",
        "        y_vals.append(losses[-1])\n",
        "        \n",
        "        # plot the learning rate vs. loss\n",
        "        if show_candidates_only:\n",
        "            plt.title(\"10 Candidate Learning Rates\")\n",
        "            plt.plot(x_vals, y_vals)\n",
        "        else:\n",
        "            plt.title(\"All Analyzed Learning Rates\")\n",
        "            plt.plot(lrs, losses)\n",
        "        \n",
        "        plt.xscale(\"log\")\n",
        "        plt.xlabel(\"Learning Rate (Log Scale)\")\n",
        "        plt.ylabel(\"Loss\")\n",
        "        plt.ylim(ylimit)\n",
        "        plt.grid()\n",
        "        plt.xticks(candidates)\n",
        "        \n",
        "        # if the title is not empty, add it to the plot\n",
        "        if title != \"\":\n",
        "            plt.title(title)\n",
        "            \n",
        "        plt.show()"
      ],
      "metadata": {
        "id": "Aji7ZtXLabYl"
      },
      "execution_count": null,
      "outputs": []
    },
    {
      "cell_type": "code",
      "source": [
        "model_lr = model\n",
        "\n",
        "# initialize the learning rate finder and then train with learning\n",
        "# rates ranging from 1e-10 to 1e+2\n",
        "print(\"[INFO] finding learning rate...\")\n",
        "lrf = LearningRateFinder(model_lr)\n",
        "lrf.find(train_generator,\n",
        "         1e-15, 1e+1,\n",
        "         stepsPerEpoch=np.ceil(len(y_train)/BATCHSIZE),\n",
        "         epochs=5, \n",
        "         batchSize=BATCHSIZE)"
      ],
      "metadata": {
        "colab": {
          "base_uri": "https://localhost:8080/"
        },
        "id": "sL6lqkGBa9ee",
        "outputId": "e387abfd-5d73-4ca7-9dd4-bf66510d3eeb"
      },
      "execution_count": null,
      "outputs": [
        {
          "output_type": "stream",
          "name": "stdout",
          "text": [
            "[INFO] finding learning rate...\n",
            "Epoch 1/5\n"
          ]
        },
        {
          "output_type": "stream",
          "name": "stderr",
          "text": [
            "/usr/local/lib/python3.7/dist-packages/tensorflow/python/util/dispatch.py:1096: UserWarning: \"`sparse_categorical_crossentropy` received `from_logits=True`, but the `output` argument was produced by a sigmoid or softmax activation and thus does not represent logits. Was this intended?\"\n",
            "  return dispatch_target(*args, **kwargs)\n"
          ]
        },
        {
          "output_type": "stream",
          "name": "stdout",
          "text": [
            "495/495 [==============================] - 506s 995ms/step - loss: 23.9703 - accuracy: 0.0297 - top-5-accuracy: 0.1705\n",
            "Epoch 2/5\n",
            "495/495 [==============================] - 428s 864ms/step - loss: 23.9660 - accuracy: 0.0297 - top-5-accuracy: 0.1704\n",
            "Epoch 3/5\n",
            "495/495 [==============================] - 308s 621ms/step - loss: 18.0756 - accuracy: 0.0422 - top-5-accuracy: 0.1841\n",
            "Epoch 4/5\n",
            "495/495 [==============================] - 275s 556ms/step - loss: 4.8171 - accuracy: 0.1231 - top-5-accuracy: 0.3613\n",
            "Epoch 5/5\n",
            "495/495 [==============================] - 54s 108ms/step - loss: 1641.8179 - accuracy: 0.1214 - top-5-accuracy: 0.3665\n"
          ]
        }
      ]
    },
    {
      "cell_type": "code",
      "source": [
        "# plot the loss for the candidate learning rates\n",
        "# @ylimit: parameter to set the min and max displayed on the y-axis (loss axis)\n",
        "lrf.plot_loss(ylimit=[3.2, 3.6])"
      ],
      "metadata": {
        "colab": {
          "base_uri": "https://localhost:8080/",
          "height": 299
        },
        "id": "CMoUWqqIh8rb",
        "outputId": "0c5ea6e0-17a7-4823-d332-630dfe595e80"
      },
      "execution_count": null,
      "outputs": [
        {
          "output_type": "display_data",
          "data": {
            "image/png": "[encoded data removed]",
            "text/plain": [
              "<Figure size 432x288 with 1 Axes>"
            ]
          },
          "metadata": {
            "needs_background": "light"
          }
        }
      ]
    },
    {
      "cell_type": "markdown",
      "source": [
        "#### Run Model"
      ],
      "metadata": {
        "id": "YUpKMJCQJpuR"
      }
    },
    {
      "cell_type": "code",
      "source": [
        "early_stop = tf.keras.callbacks.EarlyStopping(monitor='val_accuracy', min_delta=0.001, patience=10, \n",
        "                                            verbose=0, mode='auto', baseline=None, restore_best_weights=True)\n",
        "train_results = model.fit(\n",
        "    #train_ds,\n",
        "    train_generator,\n",
        "    validation_data = val_generator,\n",
        "    #tf_train_dataset,\n",
        "    #validation_data= val_ds,\n",
        "    #validation_data = tf_val_dataset,\n",
        "    epochs = 50,\n",
        "    callbacks=[early_stop])\n",
        "#)\n",
        "# callbacks=[early_stop])"
      ],
      "metadata": {
        "colab": {
          "base_uri": "https://localhost:8080/"
        },
        "id": "cpfxWC7F4PQK",
        "outputId": "6abb8a65-9af3-4daf-dd81-5086882a1819"
      },
      "execution_count": null,
      "outputs": [
        {
          "output_type": "stream",
          "name": "stdout",
          "text": [
            "Epoch 1/50\n",
            "495/495 [==============================] - 276s 553ms/step - loss: 6.7834 - accuracy: 0.1502 - top-5-accuracy: 0.4383 - val_loss: 2.9676 - val_accuracy: 0.1049 - val_top-5-accuracy: 0.4451\n",
            "Epoch 2/50\n",
            "495/495 [==============================] - 273s 552ms/step - loss: 2.7526 - accuracy: 0.1853 - top-5-accuracy: 0.5105 - val_loss: 2.9806 - val_accuracy: 0.1289 - val_top-5-accuracy: 0.4380\n",
            "Epoch 3/50\n",
            "495/495 [==============================] - 273s 552ms/step - loss: 2.6570 - accuracy: 0.2060 - top-5-accuracy: 0.5495 - val_loss: 2.8177 - val_accuracy: 0.1912 - val_top-5-accuracy: 0.5079\n",
            "Epoch 4/50\n",
            "495/495 [==============================] - 273s 552ms/step - loss: 2.5817 - accuracy: 0.2253 - top-5-accuracy: 0.5759 - val_loss: 2.7308 - val_accuracy: 0.1901 - val_top-5-accuracy: 0.5172\n",
            "Epoch 5/50\n",
            "495/495 [==============================] - 273s 551ms/step - loss: 2.5287 - accuracy: 0.2404 - top-5-accuracy: 0.5939 - val_loss: 2.7023 - val_accuracy: 0.1791 - val_top-5-accuracy: 0.5352\n",
            "Epoch 6/50\n",
            "495/495 [==============================] - 273s 552ms/step - loss: 2.4789 - accuracy: 0.2513 - top-5-accuracy: 0.6096 - val_loss: 2.7050 - val_accuracy: 0.1873 - val_top-5-accuracy: 0.5407\n",
            "Epoch 7/50\n",
            "495/495 [==============================] - 273s 551ms/step - loss: 2.4459 - accuracy: 0.2603 - top-5-accuracy: 0.6228 - val_loss: 2.7964 - val_accuracy: 0.1819 - val_top-5-accuracy: 0.5243\n",
            "Epoch 8/50\n",
            "495/495 [==============================] - 273s 551ms/step - loss: 2.4033 - accuracy: 0.2728 - top-5-accuracy: 0.6373 - val_loss: 2.6860 - val_accuracy: 0.2054 - val_top-5-accuracy: 0.5358\n",
            "Epoch 9/50\n",
            "495/495 [==============================] - 272s 549ms/step - loss: 2.3553 - accuracy: 0.2853 - top-5-accuracy: 0.6527 - val_loss: 2.7073 - val_accuracy: 0.1922 - val_top-5-accuracy: 0.5259\n",
            "Epoch 10/50\n",
            "495/495 [==============================] - 273s 552ms/step - loss: 2.3085 - accuracy: 0.3000 - top-5-accuracy: 0.6676 - val_loss: 2.6543 - val_accuracy: 0.2048 - val_top-5-accuracy: 0.5522\n",
            "Epoch 11/50\n",
            "495/495 [==============================] - 273s 550ms/step - loss: 2.2452 - accuracy: 0.3179 - top-5-accuracy: 0.6885 - val_loss: 2.7714 - val_accuracy: 0.1917 - val_top-5-accuracy: 0.5227\n",
            "Epoch 12/50\n",
            "495/495 [==============================] - 273s 550ms/step - loss: 2.1754 - accuracy: 0.3385 - top-5-accuracy: 0.7093 - val_loss: 2.8429 - val_accuracy: 0.1742 - val_top-5-accuracy: 0.5259\n",
            "Epoch 13/50\n",
            "495/495 [==============================] - 271s 547ms/step - loss: 2.0785 - accuracy: 0.3681 - top-5-accuracy: 0.7386 - val_loss: 2.7390 - val_accuracy: 0.2004 - val_top-5-accuracy: 0.5352\n",
            "Epoch 14/50\n",
            "495/495 [==============================] - 272s 548ms/step - loss: 1.9514 - accuracy: 0.4066 - top-5-accuracy: 0.7698 - val_loss: 2.8604 - val_accuracy: 0.1786 - val_top-5-accuracy: 0.5374\n",
            "Epoch 15/50\n",
            "495/495 [==============================] - 271s 547ms/step - loss: 1.7799 - accuracy: 0.4552 - top-5-accuracy: 0.8124 - val_loss: 3.0780 - val_accuracy: 0.1770 - val_top-5-accuracy: 0.5035\n",
            "Epoch 16/50\n",
            "495/495 [==============================] - 272s 549ms/step - loss: 1.5523 - accuracy: 0.5222 - top-5-accuracy: 0.8569 - val_loss: 3.0946 - val_accuracy: 0.1813 - val_top-5-accuracy: 0.5276\n",
            "Epoch 17/50\n",
            "495/495 [==============================] - 272s 549ms/step - loss: 1.2624 - accuracy: 0.6096 - top-5-accuracy: 0.9032 - val_loss: 3.5180 - val_accuracy: 0.1753 - val_top-5-accuracy: 0.4926\n",
            "Epoch 18/50\n",
            "495/495 [==============================] - 271s 548ms/step - loss: 0.9518 - accuracy: 0.7097 - top-5-accuracy: 0.9423 - val_loss: 3.7661 - val_accuracy: 0.1677 - val_top-5-accuracy: 0.4801\n"
          ]
        }
      ]
    },
    {
      "cell_type": "code",
      "source": [
        "map_labels = dict()\n",
        "i = 0\n",
        "for l in np.unique(y_test):\n",
        "  map_labels[l] = i\n",
        "  i += 1\n",
        "print(map_labels)\n",
        "\n",
        "y_test_normalized = np.zeros(np.shape(y_test), dtype = 'int64')\n",
        "\n",
        "for i in range(len(y_test)):\n",
        "  y_test_normalized[i] = map_labels[y_test[i]]\n",
        "\n",
        "from sklearn.utils import shuffle\n",
        "obs_id_test_new, y_test_normalized = shuffle(obs_id_test, y_test_normalized)\n",
        "print(y_test_normalized)\n",
        "test_generator = Environmental_Patches_Generator(obs_id_test_new, y_test_normalized, BATCHSIZE)\n",
        "result = model.evaluate(test_generator)"
      ],
      "metadata": {
        "colab": {
          "base_uri": "https://localhost:8080/"
        },
        "id": "hI-nqaZaiwfx",
        "outputId": "78af05f9-409a-4189-cfc8-1c2743b34eac"
      },
      "execution_count": null,
      "outputs": [
        {
          "output_type": "stream",
          "name": "stdout",
          "text": [
            "{5: 0, 68: 1, 125: 2, 129: 3, 223: 4, 553: 5, 570: 6, 605: 7, 679: 8, 692: 9, 739: 10, 979: 11, 1075: 12, 1155: 13, 1916: 14, 2196: 15, 2524: 16, 2821: 17, 2950: 18, 2992: 19, 3253: 20, 4940: 21, 4991: 22, 4999: 23, 5025: 24, 5086: 25, 5168: 26, 5192: 27, 5207: 28, 5228: 29}\n",
            "[13 15 20 ...  8  2  6]\n",
            "55/55 [==============================] - 51s 934ms/step - loss: 2.4844 - accuracy: 0.2578 - top-5-accuracy: 0.6066\n"
          ]
        }
      ]
    },
    {
      "cell_type": "code",
      "source": [
        "# summarize history for accuracy\n",
        "#FROM https://machinelearningmastery.com/display-deep-learning-model-training-history-in-keras/\n",
        "plt.plot(train_results.history['accuracy'])\n",
        "plt.plot(train_results.history['val_accuracy'])\n",
        "plt.title('model accuracy')\n",
        "plt.ylabel('accuracy')\n",
        "plt.xlabel('epoch')\n",
        "plt.legend(['train', 'test'], loc='upper left')\n",
        "plt.show()"
      ],
      "metadata": {
        "colab": {
          "base_uri": "https://localhost:8080/",
          "height": 295
        },
        "id": "0EnfOQtBkIZW",
        "outputId": "8f056949-513c-4c34-e38e-56459cc3d6ae"
      },
      "execution_count": null,
      "outputs": [
        {
          "output_type": "display_data",
          "data": {
            "image/png": "[encoded data removed]",
            "text/plain": [
              "<Figure size 432x288 with 1 Axes>"
            ]
          },
          "metadata": {
            "needs_background": "light"
          }
        }
      ]
    },
    {
      "cell_type": "code",
      "source": [
        "# summarize history for loss\n",
        "plt.plot(train_results.history['loss'])\n",
        "plt.plot(train_results.history['val_loss'])\n",
        "plt.title('model loss')\n",
        "plt.ylabel('loss')\n",
        "plt.xlabel('epoch')\n",
        "plt.legend(['train', 'test'], loc='upper left')\n",
        "plt.show()"
      ],
      "metadata": {
        "colab": {
          "base_uri": "https://localhost:8080/",
          "height": 295
        },
        "id": "qGcOu6TOkUZq",
        "outputId": "744d7141-990e-41fb-becc-183fc1f85515"
      },
      "execution_count": null,
      "outputs": [
        {
          "output_type": "display_data",
          "data": {
            "image/png": "[encoded data removed]",
            "text/plain": [
              "<Figure size 432x288 with 1 Axes>"
            ]
          },
          "metadata": {
            "needs_background": "light"
          }
        }
      ]
    },
    {
      "cell_type": "code",
      "source": [
        "early_stop = tf.keras.callbacks.EarlyStopping(monitor='val_accuracy', min_delta=0.001, patience=10, \n",
        "                                            verbose=0, mode='auto', baseline=None, restore_best_weights=True)\n",
        "train_results = model1.fit(\n",
        "    #train_ds,\n",
        "    train_generator,\n",
        "    validation_data = val_generator,\n",
        "    #tf_train_dataset,\n",
        "    #validation_data= val_ds,\n",
        "    #validation_data = tf_val_dataset,\n",
        "    epochs = 50,\n",
        "    callbacks=[early_stop])\n",
        "#)\n",
        "# callbacks=[early_stop])"
      ],
      "metadata": {
        "id": "04Xc4Ow-qmSV",
        "colab": {
          "base_uri": "https://localhost:8080/"
        },
        "outputId": "903cbdb6-32d0-4c56-bc09-2e21647b0d9c"
      },
      "execution_count": null,
      "outputs": [
        {
          "output_type": "stream",
          "name": "stdout",
          "text": [
            "Epoch 1/50\n",
            "495/495 [==============================] - 278s 555ms/step - loss: 4.5573 - accuracy: 0.1416 - top-5-accuracy: 0.4091 - val_loss: 6.0775 - val_accuracy: 0.1076 - val_top-5-accuracy: 0.3900\n",
            "Epoch 2/50\n",
            "495/495 [==============================] - 273s 550ms/step - loss: 2.8451 - accuracy: 0.1835 - top-5-accuracy: 0.4956 - val_loss: 2.8711 - val_accuracy: 0.1502 - val_top-5-accuracy: 0.4872\n",
            "Epoch 3/50\n",
            "495/495 [==============================] - 273s 550ms/step - loss: 2.6987 - accuracy: 0.2061 - top-5-accuracy: 0.5364 - val_loss: 2.8522 - val_accuracy: 0.1595 - val_top-5-accuracy: 0.4904\n",
            "Epoch 4/50\n",
            "495/495 [==============================] - 273s 550ms/step - loss: 2.5886 - accuracy: 0.2280 - top-5-accuracy: 0.5718 - val_loss: 2.9544 - val_accuracy: 0.1251 - val_top-5-accuracy: 0.4697\n",
            "Epoch 5/50\n",
            "495/495 [==============================] - 273s 552ms/step - loss: 2.5221 - accuracy: 0.2426 - top-5-accuracy: 0.5947 - val_loss: 2.6939 - val_accuracy: 0.2032 - val_top-5-accuracy: 0.5363\n",
            "Epoch 6/50\n",
            "495/495 [==============================] - 273s 551ms/step - loss: 2.4758 - accuracy: 0.2533 - top-5-accuracy: 0.6130 - val_loss: 2.7650 - val_accuracy: 0.1983 - val_top-5-accuracy: 0.5352\n",
            "Epoch 7/50\n",
            "495/495 [==============================] - 272s 548ms/step - loss: 2.4397 - accuracy: 0.2651 - top-5-accuracy: 0.6247 - val_loss: 2.7326 - val_accuracy: 0.1939 - val_top-5-accuracy: 0.5363\n",
            "Epoch 8/50\n",
            "495/495 [==============================] - 272s 549ms/step - loss: 2.4036 - accuracy: 0.2736 - top-5-accuracy: 0.6377 - val_loss: 2.7119 - val_accuracy: 0.1972 - val_top-5-accuracy: 0.5412\n",
            "Epoch 9/50\n",
            "495/495 [==============================] - 272s 549ms/step - loss: 2.3640 - accuracy: 0.2852 - top-5-accuracy: 0.6511 - val_loss: 2.7064 - val_accuracy: 0.2059 - val_top-5-accuracy: 0.5243\n",
            "Epoch 10/50\n",
            "495/495 [==============================] - 272s 548ms/step - loss: 2.3162 - accuracy: 0.2991 - top-5-accuracy: 0.6677 - val_loss: 2.7113 - val_accuracy: 0.2064 - val_top-5-accuracy: 0.5396\n",
            "Epoch 11/50\n",
            "495/495 [==============================] - 272s 549ms/step - loss: 2.2613 - accuracy: 0.3158 - top-5-accuracy: 0.6834 - val_loss: 2.7073 - val_accuracy: 0.2075 - val_top-5-accuracy: 0.5500\n",
            "Epoch 12/50\n",
            "495/495 [==============================] - 272s 549ms/step - loss: 2.1906 - accuracy: 0.3336 - top-5-accuracy: 0.7049 - val_loss: 2.8070 - val_accuracy: 0.1917 - val_top-5-accuracy: 0.5172\n",
            "Epoch 13/50\n",
            "495/495 [==============================] - 271s 547ms/step - loss: 2.1217 - accuracy: 0.3542 - top-5-accuracy: 0.7288 - val_loss: 2.7983 - val_accuracy: 0.1950 - val_top-5-accuracy: 0.5221\n",
            "Epoch 14/50\n",
            "495/495 [==============================] - 271s 546ms/step - loss: 1.9861 - accuracy: 0.3965 - top-5-accuracy: 0.7614 - val_loss: 2.9443 - val_accuracy: 0.1808 - val_top-5-accuracy: 0.5172\n",
            "Epoch 15/50\n",
            "495/495 [==============================] - 270s 545ms/step - loss: 1.8153 - accuracy: 0.4448 - top-5-accuracy: 0.8021 - val_loss: 2.9903 - val_accuracy: 0.1720 - val_top-5-accuracy: 0.5216\n",
            "Epoch 16/50\n",
            "495/495 [==============================] - 271s 546ms/step - loss: 1.5985 - accuracy: 0.5103 - top-5-accuracy: 0.8455 - val_loss: 3.1002 - val_accuracy: 0.1611 - val_top-5-accuracy: 0.5030\n",
            "Epoch 17/50\n",
            "495/495 [==============================] - 271s 547ms/step - loss: 1.3294 - accuracy: 0.5947 - top-5-accuracy: 0.8911 - val_loss: 3.4788 - val_accuracy: 0.1655 - val_top-5-accuracy: 0.4812\n",
            "Epoch 18/50\n",
            "495/495 [==============================] - 271s 546ms/step - loss: 1.0292 - accuracy: 0.6863 - top-5-accuracy: 0.9313 - val_loss: 3.8299 - val_accuracy: 0.1562 - val_top-5-accuracy: 0.4697\n",
            "Epoch 19/50\n",
            "495/495 [==============================] - 271s 547ms/step - loss: 0.7440 - accuracy: 0.7791 - top-5-accuracy: 0.9613 - val_loss: 4.2168 - val_accuracy: 0.1540 - val_top-5-accuracy: 0.4664\n",
            "Epoch 20/50\n",
            "495/495 [==============================] - 272s 550ms/step - loss: 0.5217 - accuracy: 0.8498 - top-5-accuracy: 0.9801 - val_loss: 4.6456 - val_accuracy: 0.1557 - val_top-5-accuracy: 0.4549\n",
            "Epoch 21/50\n",
            "495/495 [==============================] - 272s 550ms/step - loss: 0.3497 - accuracy: 0.9050 - top-5-accuracy: 0.9907 - val_loss: 5.0923 - val_accuracy: 0.1567 - val_top-5-accuracy: 0.4468\n"
          ]
        }
      ]
    },
    {
      "cell_type": "code",
      "source": [
        "test_generator = Environmental_Patches_Generator(obs_id_test_new, y_test_normalized, BATCHSIZE)\n",
        "result = model1.evaluate(test_generator)"
      ],
      "metadata": {
        "colab": {
          "base_uri": "https://localhost:8080/"
        },
        "id": "gNSaL0mS8Ulj",
        "outputId": "ca58b1f3-4a32-4610-8944-98db0dd9bc13"
      },
      "execution_count": null,
      "outputs": [
        {
          "output_type": "stream",
          "name": "stdout",
          "text": [
            "55/55 [==============================] - 30s 538ms/step - loss: 2.4418 - accuracy: 0.2684 - top-5-accuracy: 0.6223\n"
          ]
        }
      ]
    },
    {
      "cell_type": "code",
      "source": [
        "# summarize history for accuracy\n",
        "#FROM https://machinelearningmastery.com/display-deep-learning-model-training-history-in-keras/\n",
        "plt.plot(train_results.history['accuracy'])\n",
        "plt.plot(train_results.history['val_accuracy'])\n",
        "plt.title('model accuracy')\n",
        "plt.ylabel('accuracy')\n",
        "plt.xlabel('epoch')\n",
        "plt.legend(['train', 'test'], loc='upper left')\n",
        "plt.show()"
      ],
      "metadata": {
        "colab": {
          "base_uri": "https://localhost:8080/",
          "height": 295
        },
        "id": "aTLid0D98hbA",
        "outputId": "b312eb2a-734b-49af-f9c0-49f62a88e144"
      },
      "execution_count": null,
      "outputs": [
        {
          "output_type": "display_data",
          "data": {
            "image/png": "[encoded data removed]",
            "text/plain": [
              "<Figure size 432x288 with 1 Axes>"
            ]
          },
          "metadata": {
            "needs_background": "light"
          }
        }
      ]
    },
    {
      "cell_type": "code",
      "source": [
        "# summarize history for loss\n",
        "plt.plot(train_results.history['loss'])\n",
        "plt.plot(train_results.history['val_loss'])\n",
        "plt.title('model loss')\n",
        "plt.ylabel('loss')\n",
        "plt.xlabel('epoch')\n",
        "plt.legend(['train', 'test'], loc='upper left')\n",
        "plt.show()"
      ],
      "metadata": {
        "colab": {
          "base_uri": "https://localhost:8080/",
          "height": 295
        },
        "id": "q5HL1cSS8leE",
        "outputId": "5debf80d-d0ba-4efb-e7b5-a1be245e47c1"
      },
      "execution_count": null,
      "outputs": [
        {
          "output_type": "display_data",
          "data": {
            "image/png": "[encoded data removed]",
            "text/plain": [
              "<Figure size 432x288 with 1 Axes>"
            ]
          },
          "metadata": {
            "needs_background": "light"
          }
        }
      ]
    },
    {
      "cell_type": "code",
      "source": [
        "early_stop = tf.keras.callbacks.EarlyStopping(monitor='val_accuracy', min_delta=0.001, patience=10, \n",
        "                                            verbose=0, mode='auto', baseline=None, restore_best_weights=True)\n",
        "train_results = model2.fit(\n",
        "    #train_ds,\n",
        "    train_generator,\n",
        "    validation_data = val_generator,\n",
        "    #tf_train_dataset,\n",
        "    #validation_data= val_ds,\n",
        "    #validation_data = tf_val_dataset,\n",
        "    epochs = 50,\n",
        "    callbacks=[early_stop])\n",
        "#)\n",
        "# callbacks=[early_stop])"
      ],
      "metadata": {
        "colab": {
          "base_uri": "https://localhost:8080/"
        },
        "id": "zbiP64ex9S96",
        "outputId": "4979c68e-94c5-4a61-a8e2-62247171d3e7"
      },
      "execution_count": null,
      "outputs": [
        {
          "output_type": "stream",
          "name": "stdout",
          "text": [
            "Epoch 1/50\n",
            "495/495 [==============================] - 277s 554ms/step - loss: 4.4419 - accuracy: 0.1430 - top-5-accuracy: 0.4066 - val_loss: 50.6928 - val_accuracy: 0.1147 - val_top-5-accuracy: 0.3823\n",
            "Epoch 2/50\n",
            "495/495 [==============================] - 273s 551ms/step - loss: 2.9131 - accuracy: 0.1776 - top-5-accuracy: 0.4901 - val_loss: 2.9308 - val_accuracy: 0.1398 - val_top-5-accuracy: 0.4522\n",
            "Epoch 3/50\n",
            "495/495 [==============================] - 273s 551ms/step - loss: 2.7444 - accuracy: 0.1976 - top-5-accuracy: 0.5278 - val_loss: 2.8434 - val_accuracy: 0.1518 - val_top-5-accuracy: 0.5052\n",
            "Epoch 4/50\n",
            "495/495 [==============================] - 273s 550ms/step - loss: 2.6313 - accuracy: 0.2186 - top-5-accuracy: 0.5627 - val_loss: 2.7686 - val_accuracy: 0.1786 - val_top-5-accuracy: 0.5243\n",
            "Epoch 5/50\n",
            "495/495 [==============================] - 273s 552ms/step - loss: 2.5593 - accuracy: 0.2348 - top-5-accuracy: 0.5868 - val_loss: 2.7249 - val_accuracy: 0.1835 - val_top-5-accuracy: 0.5407\n",
            "Epoch 6/50\n",
            "495/495 [==============================] - 272s 549ms/step - loss: 2.5082 - accuracy: 0.2475 - top-5-accuracy: 0.6028 - val_loss: 2.7448 - val_accuracy: 0.1846 - val_top-5-accuracy: 0.5369\n",
            "Epoch 7/50\n",
            "495/495 [==============================] - 272s 549ms/step - loss: 2.4669 - accuracy: 0.2583 - top-5-accuracy: 0.6178 - val_loss: 2.6898 - val_accuracy: 0.1922 - val_top-5-accuracy: 0.5467\n",
            "Epoch 8/50\n",
            "495/495 [==============================] - 273s 551ms/step - loss: 2.4340 - accuracy: 0.2641 - top-5-accuracy: 0.6285 - val_loss: 2.7883 - val_accuracy: 0.1688 - val_top-5-accuracy: 0.5150\n",
            "Epoch 9/50\n",
            "495/495 [==============================] - 272s 548ms/step - loss: 2.3997 - accuracy: 0.2750 - top-5-accuracy: 0.6399 - val_loss: 2.6913 - val_accuracy: 0.2092 - val_top-5-accuracy: 0.5385\n",
            "Epoch 10/50\n",
            "495/495 [==============================] - 273s 550ms/step - loss: 2.3716 - accuracy: 0.2803 - top-5-accuracy: 0.6484 - val_loss: 2.7123 - val_accuracy: 0.1688 - val_top-5-accuracy: 0.5472\n",
            "Epoch 11/50\n",
            "495/495 [==============================] - 273s 550ms/step - loss: 2.3375 - accuracy: 0.2941 - top-5-accuracy: 0.6617 - val_loss: 2.7308 - val_accuracy: 0.1966 - val_top-5-accuracy: 0.5423\n",
            "Epoch 12/50\n",
            "495/495 [==============================] - 273s 550ms/step - loss: 2.3061 - accuracy: 0.3000 - top-5-accuracy: 0.6735 - val_loss: 3.4359 - val_accuracy: 0.1955 - val_top-5-accuracy: 0.5522\n",
            "Epoch 13/50\n",
            "495/495 [==============================] - 272s 549ms/step - loss: 2.2665 - accuracy: 0.3144 - top-5-accuracy: 0.6842 - val_loss: 2.7153 - val_accuracy: 0.2054 - val_top-5-accuracy: 0.5549\n",
            "Epoch 14/50\n",
            "495/495 [==============================] - 272s 549ms/step - loss: 2.1962 - accuracy: 0.3325 - top-5-accuracy: 0.7054 - val_loss: 2.7554 - val_accuracy: 0.1906 - val_top-5-accuracy: 0.5396\n",
            "Epoch 15/50\n",
            "495/495 [==============================] - 272s 549ms/step - loss: 2.1229 - accuracy: 0.3536 - top-5-accuracy: 0.7274 - val_loss: 2.7583 - val_accuracy: 0.1928 - val_top-5-accuracy: 0.5298\n",
            "Epoch 16/50\n",
            "495/495 [==============================] - 271s 547ms/step - loss: 2.0277 - accuracy: 0.3822 - top-5-accuracy: 0.7534 - val_loss: 2.8606 - val_accuracy: 0.1846 - val_top-5-accuracy: 0.5254\n",
            "Epoch 17/50\n",
            "495/495 [==============================] - 273s 551ms/step - loss: 1.9018 - accuracy: 0.4179 - top-5-accuracy: 0.7851 - val_loss: 2.8791 - val_accuracy: 0.1873 - val_top-5-accuracy: 0.5194\n",
            "Epoch 18/50\n",
            "495/495 [==============================] - 272s 549ms/step - loss: 1.7336 - accuracy: 0.4680 - top-5-accuracy: 0.8225 - val_loss: 3.1444 - val_accuracy: 0.1841 - val_top-5-accuracy: 0.5063\n",
            "Epoch 19/50\n",
            "495/495 [==============================] - 273s 550ms/step - loss: 1.5172 - accuracy: 0.5325 - top-5-accuracy: 0.8610 - val_loss: 3.2748 - val_accuracy: 0.1688 - val_top-5-accuracy: 0.5259\n"
          ]
        }
      ]
    },
    {
      "cell_type": "code",
      "source": [
        "test_generator = Environmental_Patches_Generator(obs_id_test_new, y_test_normalized, BATCHSIZE)\n",
        "result = model2.evaluate(test_generator)"
      ],
      "metadata": {
        "colab": {
          "base_uri": "https://localhost:8080/"
        },
        "id": "64DOXzQcRXXg",
        "outputId": "8cde29a6-dd46-4621-a0e7-91b7a3af5c6b"
      },
      "execution_count": null,
      "outputs": [
        {
          "output_type": "stream",
          "name": "stdout",
          "text": [
            "55/55 [==============================] - 30s 537ms/step - loss: 2.5010 - accuracy: 0.2429 - top-5-accuracy: 0.6028\n"
          ]
        }
      ]
    },
    {
      "cell_type": "code",
      "source": [
        "early_stop = tf.keras.callbacks.EarlyStopping(monitor='val_accuracy', min_delta=0.001, patience=10, \n",
        "                                            verbose=0, mode='auto', baseline=None, restore_best_weights=True)\n",
        "train_results = model3.fit(\n",
        "    #train_ds,\n",
        "    train_generator,\n",
        "    validation_data = val_generator,\n",
        "    #tf_train_dataset,\n",
        "    #validation_data= val_ds,\n",
        "    #validation_data = tf_val_dataset,\n",
        "    epochs = 50,\n",
        "    callbacks=[early_stop])\n",
        "#)\n",
        "# callbacks=[early_stop])"
      ],
      "metadata": {
        "colab": {
          "base_uri": "https://localhost:8080/"
        },
        "id": "1Q3c-GxIdX_l",
        "outputId": "dfd7df42-448c-4ca7-d260-97a2e8f4d1c1"
      },
      "execution_count": null,
      "outputs": [
        {
          "output_type": "stream",
          "name": "stdout",
          "text": [
            "Epoch 1/50\n",
            "495/495 [==============================] - 279s 555ms/step - loss: 4.4459 - accuracy: 0.1355 - top-5-accuracy: 0.3920 - val_loss: 3.2563 - val_accuracy: 0.1109 - val_top-5-accuracy: 0.3938\n",
            "Epoch 2/50\n",
            "495/495 [==============================] - 272s 549ms/step - loss: 2.8521 - accuracy: 0.1867 - top-5-accuracy: 0.5028 - val_loss: 2.9606 - val_accuracy: 0.1333 - val_top-5-accuracy: 0.4681\n",
            "Epoch 3/50\n",
            "495/495 [==============================] - 270s 546ms/step - loss: 2.6835 - accuracy: 0.2116 - top-5-accuracy: 0.5498 - val_loss: 2.7956 - val_accuracy: 0.1770 - val_top-5-accuracy: 0.5238\n",
            "Epoch 4/50\n",
            "495/495 [==============================] - 270s 545ms/step - loss: 2.6294 - accuracy: 0.2253 - top-5-accuracy: 0.5682 - val_loss: 2.9319 - val_accuracy: 0.1273 - val_top-5-accuracy: 0.4577\n",
            "Epoch 5/50\n",
            "495/495 [==============================] - 269s 543ms/step - loss: 2.5598 - accuracy: 0.2365 - top-5-accuracy: 0.5908 - val_loss: 2.7066 - val_accuracy: 0.1906 - val_top-5-accuracy: 0.5407\n",
            "Epoch 6/50\n",
            "495/495 [==============================] - 269s 543ms/step - loss: 2.5339 - accuracy: 0.2470 - top-5-accuracy: 0.5994 - val_loss: 2.7255 - val_accuracy: 0.1780 - val_top-5-accuracy: 0.5385\n",
            "Epoch 7/50\n",
            "495/495 [==============================] - 268s 541ms/step - loss: 2.4901 - accuracy: 0.2546 - top-5-accuracy: 0.6114 - val_loss: 2.7060 - val_accuracy: 0.1704 - val_top-5-accuracy: 0.5407\n",
            "Epoch 8/50\n",
            "495/495 [==============================] - 269s 542ms/step - loss: 2.4650 - accuracy: 0.2568 - top-5-accuracy: 0.6171 - val_loss: 2.6489 - val_accuracy: 0.2021 - val_top-5-accuracy: 0.5614\n",
            "Epoch 9/50\n",
            "495/495 [==============================] - 268s 541ms/step - loss: 2.4441 - accuracy: 0.2629 - top-5-accuracy: 0.6246 - val_loss: 2.6392 - val_accuracy: 0.1961 - val_top-5-accuracy: 0.5653\n",
            "Epoch 10/50\n",
            "495/495 [==============================] - 269s 542ms/step - loss: 2.4237 - accuracy: 0.2682 - top-5-accuracy: 0.6308 - val_loss: 2.6435 - val_accuracy: 0.2092 - val_top-5-accuracy: 0.5625\n",
            "Epoch 11/50\n",
            "495/495 [==============================] - 268s 541ms/step - loss: 2.4045 - accuracy: 0.2685 - top-5-accuracy: 0.6377 - val_loss: 2.7054 - val_accuracy: 0.1999 - val_top-5-accuracy: 0.5456\n",
            "Epoch 12/50\n",
            "495/495 [==============================] - 268s 540ms/step - loss: 2.3893 - accuracy: 0.2762 - top-5-accuracy: 0.6417 - val_loss: 2.6647 - val_accuracy: 0.2081 - val_top-5-accuracy: 0.5423\n",
            "Epoch 13/50\n",
            "495/495 [==============================] - 268s 540ms/step - loss: 2.3738 - accuracy: 0.2792 - top-5-accuracy: 0.6459 - val_loss: 2.7596 - val_accuracy: 0.1628 - val_top-5-accuracy: 0.5358\n",
            "Epoch 14/50\n",
            "495/495 [==============================] - 269s 542ms/step - loss: 2.3577 - accuracy: 0.2848 - top-5-accuracy: 0.6539 - val_loss: 2.6441 - val_accuracy: 0.2114 - val_top-5-accuracy: 0.5664\n",
            "Epoch 15/50\n",
            "495/495 [==============================] - 269s 542ms/step - loss: 2.3388 - accuracy: 0.2877 - top-5-accuracy: 0.6584 - val_loss: 2.6380 - val_accuracy: 0.2092 - val_top-5-accuracy: 0.5593\n",
            "Epoch 16/50\n",
            "495/495 [==============================] - 268s 542ms/step - loss: 2.3223 - accuracy: 0.2916 - top-5-accuracy: 0.6657 - val_loss: 2.7003 - val_accuracy: 0.1950 - val_top-5-accuracy: 0.5489\n",
            "Epoch 17/50\n",
            "495/495 [==============================] - 268s 541ms/step - loss: 2.3084 - accuracy: 0.2975 - top-5-accuracy: 0.6680 - val_loss: 2.6484 - val_accuracy: 0.2026 - val_top-5-accuracy: 0.5532\n",
            "Epoch 18/50\n",
            "495/495 [==============================] - 268s 542ms/step - loss: 2.2886 - accuracy: 0.3011 - top-5-accuracy: 0.6751 - val_loss: 2.7076 - val_accuracy: 0.2059 - val_top-5-accuracy: 0.5412\n",
            "Epoch 19/50\n",
            "495/495 [==============================] - 270s 546ms/step - loss: 2.2675 - accuracy: 0.3062 - top-5-accuracy: 0.6815 - val_loss: 2.6765 - val_accuracy: 0.1993 - val_top-5-accuracy: 0.5467\n",
            "Epoch 20/50\n",
            "495/495 [==============================] - 269s 544ms/step - loss: 2.2522 - accuracy: 0.3123 - top-5-accuracy: 0.6859 - val_loss: 2.7075 - val_accuracy: 0.1955 - val_top-5-accuracy: 0.5511\n",
            "Epoch 21/50\n",
            "495/495 [==============================] - 270s 544ms/step - loss: 2.2309 - accuracy: 0.3189 - top-5-accuracy: 0.6949 - val_loss: 2.6530 - val_accuracy: 0.2054 - val_top-5-accuracy: 0.5767\n",
            "Epoch 22/50\n",
            "495/495 [==============================] - 269s 543ms/step - loss: 2.2096 - accuracy: 0.3234 - top-5-accuracy: 0.6981 - val_loss: 2.7129 - val_accuracy: 0.1950 - val_top-5-accuracy: 0.5658\n",
            "Epoch 23/50\n",
            "495/495 [==============================] - 269s 543ms/step - loss: 2.1850 - accuracy: 0.3317 - top-5-accuracy: 0.7066 - val_loss: 2.6592 - val_accuracy: 0.2032 - val_top-5-accuracy: 0.5718\n",
            "Epoch 24/50\n",
            "495/495 [==============================] - 269s 542ms/step - loss: 2.1606 - accuracy: 0.3386 - top-5-accuracy: 0.7118 - val_loss: 2.7275 - val_accuracy: 0.2130 - val_top-5-accuracy: 0.5505\n",
            "Epoch 25/50\n",
            "495/495 [==============================] - 269s 542ms/step - loss: 2.1353 - accuracy: 0.3467 - top-5-accuracy: 0.7227 - val_loss: 2.7214 - val_accuracy: 0.2223 - val_top-5-accuracy: 0.5598\n",
            "Epoch 26/50\n",
            "495/495 [==============================] - 269s 542ms/step - loss: 2.1097 - accuracy: 0.3546 - top-5-accuracy: 0.7291 - val_loss: 2.7563 - val_accuracy: 0.1950 - val_top-5-accuracy: 0.5467\n",
            "Epoch 27/50\n",
            "495/495 [==============================] - 269s 542ms/step - loss: 2.0816 - accuracy: 0.3622 - top-5-accuracy: 0.7352 - val_loss: 2.7487 - val_accuracy: 0.2168 - val_top-5-accuracy: 0.5593\n",
            "Epoch 28/50\n",
            "495/495 [==============================] - 269s 542ms/step - loss: 2.0552 - accuracy: 0.3667 - top-5-accuracy: 0.7440 - val_loss: 2.8500 - val_accuracy: 0.1551 - val_top-5-accuracy: 0.5303\n",
            "Epoch 29/50\n",
            "495/495 [==============================] - 269s 543ms/step - loss: 2.0203 - accuracy: 0.3787 - top-5-accuracy: 0.7524 - val_loss: 2.8163 - val_accuracy: 0.1966 - val_top-5-accuracy: 0.5549\n",
            "Epoch 30/50\n",
            "495/495 [==============================] - 269s 542ms/step - loss: 1.9896 - accuracy: 0.3867 - top-5-accuracy: 0.7608 - val_loss: 2.8494 - val_accuracy: 0.1939 - val_top-5-accuracy: 0.5298\n",
            "Epoch 31/50\n",
            "495/495 [==============================] - 269s 542ms/step - loss: 1.9610 - accuracy: 0.3975 - top-5-accuracy: 0.7669 - val_loss: 2.8030 - val_accuracy: 0.2103 - val_top-5-accuracy: 0.5461\n",
            "Epoch 32/50\n",
            "495/495 [==============================] - 268s 541ms/step - loss: 1.9289 - accuracy: 0.4057 - top-5-accuracy: 0.7749 - val_loss: 2.9618 - val_accuracy: 0.1611 - val_top-5-accuracy: 0.5156\n",
            "Epoch 33/50\n",
            "495/495 [==============================] - 269s 543ms/step - loss: 1.8976 - accuracy: 0.4150 - top-5-accuracy: 0.7829 - val_loss: 2.9241 - val_accuracy: 0.1939 - val_top-5-accuracy: 0.5418\n",
            "Epoch 34/50\n",
            "495/495 [==============================] - 269s 542ms/step - loss: 1.8631 - accuracy: 0.4256 - top-5-accuracy: 0.7916 - val_loss: 2.9050 - val_accuracy: 0.2059 - val_top-5-accuracy: 0.5576\n",
            "Epoch 35/50\n",
            "495/495 [==============================] - 268s 541ms/step - loss: 1.8265 - accuracy: 0.4348 - top-5-accuracy: 0.7992 - val_loss: 3.0176 - val_accuracy: 0.1999 - val_top-5-accuracy: 0.5167\n"
          ]
        }
      ]
    },
    {
      "cell_type": "code",
      "source": [
        "test_generator = Environmental_Patches_Generator(obs_id_test_new, y_test_normalized, BATCHSIZE)\n",
        "result = model3.evaluate(test_generator)"
      ],
      "metadata": {
        "colab": {
          "base_uri": "https://localhost:8080/"
        },
        "id": "x7BMzwPIBYIe",
        "outputId": "fda18eac-cc6d-4b76-a3f1-5e5d4c98e7cb"
      },
      "execution_count": null,
      "outputs": [
        {
          "output_type": "stream",
          "name": "stdout",
          "text": [
            "55/55 [==============================] - 30s 547ms/step - loss: 2.4220 - accuracy: 0.2814 - top-5-accuracy: 0.6298\n"
          ]
        }
      ]
    },
    {
      "cell_type": "code",
      "source": [
        "# summarize history for accuracy\n",
        "#FROM https://machinelearningmastery.com/display-deep-learning-model-training-history-in-keras/\n",
        "plt.plot(train_results.history['accuracy'])\n",
        "plt.plot(train_results.history['val_accuracy'])\n",
        "plt.title('model accuracy')\n",
        "plt.ylabel('accuracy')\n",
        "plt.xlabel('epoch')\n",
        "plt.legend(['train', 'val'], loc='upper left')\n",
        "plt.show()"
      ],
      "metadata": {
        "colab": {
          "base_uri": "https://localhost:8080/",
          "height": 295
        },
        "id": "DIiFY8ksBmOO",
        "outputId": "e1745658-f79d-42e5-ca57-da3a65e7669b"
      },
      "execution_count": null,
      "outputs": [
        {
          "output_type": "display_data",
          "data": {
            "image/png": "[encoded data removed]",
            "text/plain": [
              "<Figure size 432x288 with 1 Axes>"
            ]
          },
          "metadata": {
            "needs_background": "light"
          }
        }
      ]
    },
    {
      "cell_type": "code",
      "source": [
        "# summarize history for loss\n",
        "plt.plot(train_results.history['loss'])\n",
        "plt.plot(train_results.history['val_loss'])\n",
        "plt.title('model loss')\n",
        "plt.ylabel('loss')\n",
        "plt.xlabel('epoch')\n",
        "plt.legend(['train', 'val'], loc='upper left')\n",
        "plt.show()"
      ],
      "metadata": {
        "colab": {
          "base_uri": "https://localhost:8080/",
          "height": 295
        },
        "id": "-NaYpOX9BvxF",
        "outputId": "2a6ae215-325b-4f52-8d58-9c7c3fa0cbc8"
      },
      "execution_count": null,
      "outputs": [
        {
          "output_type": "display_data",
          "data": {
            "image/png": "[encoded data removed]",
            "text/plain": [
              "<Figure size 432x288 with 1 Axes>"
            ]
          },
          "metadata": {
            "needs_background": "light"
          }
        }
      ]
    },
    {
      "cell_type": "code",
      "source": [
        "#w/ the last dense layer and 255 rescaling\n",
        "#before dropout\n",
        "#with weight decay\n",
        "\n",
        "early_stop = tf.keras.callbacks.EarlyStopping(monitor='val_accuracy', min_delta=0.001, patience=10, \n",
        "                                            verbose=0, mode='auto', baseline=None, restore_best_weights=True)\n",
        "train_results = model4.fit(\n",
        "    #train_ds,\n",
        "    train_generator,\n",
        "    validation_data = val_generator,\n",
        "    #tf_train_dataset,\n",
        "    #validation_data= val_ds,\n",
        "    #validation_data = tf_val_dataset,\n",
        "    epochs = 50,\n",
        "    callbacks=[early_stop])\n",
        "#)\n",
        "# callbacks=[early_stop])"
      ],
      "metadata": {
        "colab": {
          "base_uri": "https://localhost:8080/"
        },
        "id": "kL1EJmmdEF1g",
        "outputId": "63fee206-3969-40fa-b3a1-ff6c38e8e961"
      },
      "execution_count": null,
      "outputs": [
        {
          "metadata": {
            "tags": null
          },
          "name": "stdout",
          "output_type": "stream",
          "text": [
            "Epoch 1/50\n",
            "495/495 [==============================] - 278s 558ms/step - loss: 12.2649 - accuracy: 0.1409 - top-5-accuracy: 0.4054 - val_loss: 8.8770 - val_accuracy: 0.1212 - val_top-5-accuracy: 0.3943\n",
            "Epoch 2/50\n",
            "495/495 [==============================] - 274s 552ms/step - loss: 7.4826 - accuracy: 0.1902 - top-5-accuracy: 0.5040 - val_loss: 7.1017 - val_accuracy: 0.1387 - val_top-5-accuracy: 0.4418\n",
            "Epoch 3/50\n",
            "495/495 [==============================] - 273s 550ms/step - loss: 6.0728 - accuracy: 0.2078 - top-5-accuracy: 0.5320 - val_loss: 5.8259 - val_accuracy: 0.1611 - val_top-5-accuracy: 0.5057\n",
            "Epoch 4/50\n",
            "495/495 [==============================] - 273s 551ms/step - loss: 5.2415 - accuracy: 0.2203 - top-5-accuracy: 0.5517 - val_loss: 5.1665 - val_accuracy: 0.1709 - val_top-5-accuracy: 0.4970\n",
            "Epoch 5/50\n",
            "495/495 [==============================] - 273s 550ms/step - loss: 4.7125 - accuracy: 0.2295 - top-5-accuracy: 0.5644 - val_loss: 4.7452 - val_accuracy: 0.1780 - val_top-5-accuracy: 0.5030\n",
            "Epoch 6/50\n",
            "495/495 [==============================] - 272s 548ms/step - loss: 4.3655 - accuracy: 0.2386 - top-5-accuracy: 0.5753 - val_loss: 4.5594 - val_accuracy: 0.1950 - val_top-5-accuracy: 0.5309\n",
            "Epoch 7/50\n",
            "495/495 [==============================] - 272s 549ms/step - loss: 4.1195 - accuracy: 0.2446 - top-5-accuracy: 0.5892 - val_loss: 4.3983 - val_accuracy: 0.1720 - val_top-5-accuracy: 0.5259\n",
            "Epoch 8/50\n",
            "495/495 [==============================] - 272s 549ms/step - loss: 3.9435 - accuracy: 0.2528 - top-5-accuracy: 0.5987 - val_loss: 4.2731 - val_accuracy: 0.1851 - val_top-5-accuracy: 0.4975\n",
            "Epoch 9/50\n",
            "495/495 [==============================] - 271s 548ms/step - loss: 3.7985 - accuracy: 0.2602 - top-5-accuracy: 0.6111 - val_loss: 4.1639 - val_accuracy: 0.1819 - val_top-5-accuracy: 0.4948\n",
            "Epoch 10/50\n",
            "495/495 [==============================] - 272s 549ms/step - loss: 3.6838 - accuracy: 0.2667 - top-5-accuracy: 0.6202 - val_loss: 3.9749 - val_accuracy: 0.2081 - val_top-5-accuracy: 0.5451\n",
            "Epoch 11/50\n",
            "495/495 [==============================] - 270s 546ms/step - loss: 3.5933 - accuracy: 0.2732 - top-5-accuracy: 0.6276 - val_loss: 4.1068 - val_accuracy: 0.1333 - val_top-5-accuracy: 0.5025\n",
            "Epoch 12/50\n",
            "495/495 [==============================] - 271s 547ms/step - loss: 3.5052 - accuracy: 0.2828 - top-5-accuracy: 0.6400 - val_loss: 4.0126 - val_accuracy: 0.1693 - val_top-5-accuracy: 0.5057\n",
            "Epoch 13/50\n",
            "495/495 [==============================] - 271s 547ms/step - loss: 3.4426 - accuracy: 0.2892 - top-5-accuracy: 0.6464 - val_loss: 3.8361 - val_accuracy: 0.2032 - val_top-5-accuracy: 0.5407\n",
            "Epoch 14/50\n",
            "495/495 [==============================] - 271s 547ms/step - loss: 3.3612 - accuracy: 0.2975 - top-5-accuracy: 0.6591 - val_loss: 3.8440 - val_accuracy: 0.2004 - val_top-5-accuracy: 0.5303\n",
            "Epoch 15/50\n",
            "495/495 [==============================] - 271s 547ms/step - loss: 3.2961 - accuracy: 0.3045 - top-5-accuracy: 0.6697 - val_loss: 3.7731 - val_accuracy: 0.2103 - val_top-5-accuracy: 0.5369\n",
            "Epoch 16/50\n",
            "495/495 [==============================] - 271s 547ms/step - loss: 3.2468 - accuracy: 0.3118 - top-5-accuracy: 0.6747 - val_loss: 3.7221 - val_accuracy: 0.2119 - val_top-5-accuracy: 0.5401\n",
            "Epoch 17/50\n",
            "495/495 [==============================] - 271s 546ms/step - loss: 3.1769 - accuracy: 0.3256 - top-5-accuracy: 0.6895 - val_loss: 3.7409 - val_accuracy: 0.2059 - val_top-5-accuracy: 0.5445\n",
            "Epoch 18/50\n",
            "495/495 [==============================] - 272s 549ms/step - loss: 3.1271 - accuracy: 0.3300 - top-5-accuracy: 0.6984 - val_loss: 3.8065 - val_accuracy: 0.1939 - val_top-5-accuracy: 0.5440\n",
            "Epoch 19/50\n",
            "495/495 [==============================] - 273s 551ms/step - loss: 3.0761 - accuracy: 0.3378 - top-5-accuracy: 0.7065 - val_loss: 3.7529 - val_accuracy: 0.1955 - val_top-5-accuracy: 0.5352\n",
            "Epoch 20/50\n",
            "495/495 [==============================] - 272s 549ms/step - loss: 3.0214 - accuracy: 0.3462 - top-5-accuracy: 0.7158 - val_loss: 3.6839 - val_accuracy: 0.2015 - val_top-5-accuracy: 0.5287\n",
            "Epoch 21/50\n",
            "495/495 [==============================] - 270s 546ms/step - loss: 2.9710 - accuracy: 0.3554 - top-5-accuracy: 0.7267 - val_loss: 3.7232 - val_accuracy: 0.1912 - val_top-5-accuracy: 0.5314\n",
            "Epoch 22/50\n",
            "495/495 [==============================] - 271s 547ms/step - loss: 2.9161 - accuracy: 0.3635 - top-5-accuracy: 0.7376 - val_loss: 3.7158 - val_accuracy: 0.1972 - val_top-5-accuracy: 0.5505\n",
            "Epoch 23/50\n",
            "495/495 [==============================] - 271s 547ms/step - loss: 2.8669 - accuracy: 0.3742 - top-5-accuracy: 0.7446 - val_loss: 3.7897 - val_accuracy: 0.1770 - val_top-5-accuracy: 0.5336\n",
            "Epoch 24/50\n",
            "495/495 [==============================] - 269s 543ms/step - loss: 2.8223 - accuracy: 0.3837 - top-5-accuracy: 0.7530 - val_loss: 3.7282 - val_accuracy: 0.2103 - val_top-5-accuracy: 0.5216\n",
            "Epoch 25/50\n",
            "495/495 [==============================] - 270s 545ms/step - loss: 2.7712 - accuracy: 0.3918 - top-5-accuracy: 0.7641 - val_loss: 3.7220 - val_accuracy: 0.1791 - val_top-5-accuracy: 0.5145\n",
            "Epoch 26/50\n",
            "495/495 [==============================] - 271s 547ms/step - loss: 2.7227 - accuracy: 0.4019 - top-5-accuracy: 0.7712 - val_loss: 3.6479 - val_accuracy: 0.2021 - val_top-5-accuracy: 0.5500\n"
          ]
        }
      ]
    },
    {
      "cell_type": "code",
      "source": [
        "test_generator = Environmental_Patches_Generator(obs_id_test_new, y_test_normalized, BATCHSIZE)\n",
        "result = model4.evaluate(test_generator)"
      ],
      "metadata": {
        "colab": {
          "base_uri": "https://localhost:8080/"
        },
        "id": "nBP1V8upgUKe",
        "outputId": "09b2e5df-981a-465e-ecfb-741a53d0e5a4"
      },
      "execution_count": null,
      "outputs": [
        {
          "output_type": "stream",
          "name": "stdout",
          "text": [
            "55/55 [==============================] - 29s 528ms/step - loss: 3.5205 - accuracy: 0.2553 - top-5-accuracy: 0.5929\n"
          ]
        }
      ]
    },
    {
      "cell_type": "code",
      "source": [
        "# summarize history for accuracy\n",
        "#FROM https://machinelearningmastery.com/display-deep-learning-model-training-history-in-keras/\n",
        "plt.plot(train_results.history['accuracy'])\n",
        "plt.plot(train_results.history['val_accuracy'])\n",
        "plt.title('model accuracy')\n",
        "plt.ylabel('accuracy')\n",
        "plt.xlabel('epoch')\n",
        "plt.legend(['train', 'val'], loc='upper left')\n",
        "plt.show()"
      ],
      "metadata": {
        "colab": {
          "base_uri": "https://localhost:8080/",
          "height": 295
        },
        "id": "-BXnkMQWlNUe",
        "outputId": "98339dd1-2700-486f-aba1-66a1ee0334c3"
      },
      "execution_count": null,
      "outputs": [
        {
          "output_type": "display_data",
          "data": {
            "image/png": "[encoded data removed]",
            "text/plain": [
              "<Figure size 432x288 with 1 Axes>"
            ]
          },
          "metadata": {
            "needs_background": "light"
          }
        }
      ]
    },
    {
      "cell_type": "code",
      "source": [
        "# summarize history for loss\n",
        "plt.plot(train_results.history['loss'])\n",
        "plt.plot(train_results.history['val_loss'])\n",
        "plt.title('model loss')\n",
        "plt.ylabel('loss')\n",
        "plt.xlabel('epoch')\n",
        "plt.legend(['train', 'val'], loc='upper left')\n",
        "plt.show()"
      ],
      "metadata": {
        "colab": {
          "base_uri": "https://localhost:8080/",
          "height": 295
        },
        "id": "9guQfxzxlSC6",
        "outputId": "0cb17496-51da-424c-d011-95077e45954a"
      },
      "execution_count": null,
      "outputs": [
        {
          "output_type": "display_data",
          "data": {
            "image/png": "[encoded data removed]",
            "text/plain": [
              "<Figure size 432x288 with 1 Axes>"
            ]
          },
          "metadata": {
            "needs_background": "light"
          }
        }
      ]
    },
    {
      "cell_type": "code",
      "source": [
        "#removed a dense layer and added some dropout\n",
        "early_stop = tf.keras.callbacks.EarlyStopping(monitor='val_accuracy', min_delta=0.001, patience=10, \n",
        "                                            verbose=0, mode='auto', baseline=None, restore_best_weights=True)\n",
        "train_results = model5.fit(\n",
        "    #train_ds,\n",
        "    train_generator,\n",
        "    validation_data = val_generator,\n",
        "    #tf_train_dataset,\n",
        "    #validation_data= val_ds,\n",
        "    #validation_data = tf_val_dataset,\n",
        "    epochs = 50,\n",
        "    callbacks=[early_stop])\n",
        "#)\n",
        "# callbacks=[early_stop])"
      ],
      "metadata": {
        "colab": {
          "base_uri": "https://localhost:8080/"
        },
        "id": "hHxRoqGulZ1f",
        "outputId": "7f5f25cb-7b03-4998-b5be-c79cff969027"
      },
      "execution_count": null,
      "outputs": [
        {
          "output_type": "stream",
          "name": "stdout",
          "text": [
            "Epoch 1/50\n",
            "495/495 [==============================] - 278s 556ms/step - loss: 21.2605 - accuracy: 0.0983 - top-5-accuracy: 0.3032 - val_loss: 9.6690 - val_accuracy: 0.1486 - val_top-5-accuracy: 0.3796\n",
            "Epoch 2/50\n",
            "495/495 [==============================] - 273s 550ms/step - loss: 9.0076 - accuracy: 0.1415 - top-5-accuracy: 0.3925 - val_loss: 7.0572 - val_accuracy: 0.1442 - val_top-5-accuracy: 0.4353\n",
            "Epoch 3/50\n",
            "495/495 [==============================] - 274s 553ms/step - loss: 6.6518 - accuracy: 0.1668 - top-5-accuracy: 0.4441 - val_loss: 5.7848 - val_accuracy: 0.1354 - val_top-5-accuracy: 0.4713\n",
            "Epoch 4/50\n",
            "495/495 [==============================] - 273s 551ms/step - loss: 5.4600 - accuracy: 0.1860 - top-5-accuracy: 0.4836 - val_loss: 5.1358 - val_accuracy: 0.1589 - val_top-5-accuracy: 0.4642\n",
            "Epoch 5/50\n",
            "495/495 [==============================] - 272s 550ms/step - loss: 4.7128 - accuracy: 0.2063 - top-5-accuracy: 0.5164 - val_loss: 4.5209 - val_accuracy: 0.1709 - val_top-5-accuracy: 0.4828\n",
            "Epoch 6/50\n",
            "495/495 [==============================] - 272s 549ms/step - loss: 4.2227 - accuracy: 0.2172 - top-5-accuracy: 0.5343 - val_loss: 4.1297 - val_accuracy: 0.1753 - val_top-5-accuracy: 0.5068\n",
            "Epoch 7/50\n",
            "495/495 [==============================] - 273s 550ms/step - loss: 3.8572 - accuracy: 0.2305 - top-5-accuracy: 0.5621 - val_loss: 4.1598 - val_accuracy: 0.1365 - val_top-5-accuracy: 0.4517\n",
            "Epoch 8/50\n",
            "495/495 [==============================] - 272s 550ms/step - loss: 3.5965 - accuracy: 0.2409 - top-5-accuracy: 0.5810 - val_loss: 3.8035 - val_accuracy: 0.1704 - val_top-5-accuracy: 0.4806\n",
            "Epoch 9/50\n",
            "495/495 [==============================] - 271s 548ms/step - loss: 3.4027 - accuracy: 0.2520 - top-5-accuracy: 0.5976 - val_loss: 3.5910 - val_accuracy: 0.1857 - val_top-5-accuracy: 0.5270\n",
            "Epoch 10/50\n",
            "495/495 [==============================] - 272s 549ms/step - loss: 3.2435 - accuracy: 0.2634 - top-5-accuracy: 0.6125 - val_loss: 3.6856 - val_accuracy: 0.1595 - val_top-5-accuracy: 0.4659\n",
            "Epoch 11/50\n",
            "495/495 [==============================] - 272s 549ms/step - loss: 3.1162 - accuracy: 0.2721 - top-5-accuracy: 0.6281 - val_loss: 3.4521 - val_accuracy: 0.1884 - val_top-5-accuracy: 0.5150\n",
            "Epoch 12/50\n",
            "495/495 [==============================] - 272s 548ms/step - loss: 3.0103 - accuracy: 0.2808 - top-5-accuracy: 0.6375 - val_loss: 3.3721 - val_accuracy: 0.1901 - val_top-5-accuracy: 0.5287\n",
            "Epoch 13/50\n",
            "495/495 [==============================] - 272s 550ms/step - loss: 2.9202 - accuracy: 0.2907 - top-5-accuracy: 0.6511 - val_loss: 3.6643 - val_accuracy: 0.1349 - val_top-5-accuracy: 0.4309\n",
            "Epoch 14/50\n",
            "495/495 [==============================] - 271s 548ms/step - loss: 2.8396 - accuracy: 0.2970 - top-5-accuracy: 0.6616 - val_loss: 3.2915 - val_accuracy: 0.1742 - val_top-5-accuracy: 0.5161\n",
            "Epoch 15/50\n",
            "495/495 [==============================] - 271s 547ms/step - loss: 2.7673 - accuracy: 0.3080 - top-5-accuracy: 0.6724 - val_loss: 3.2422 - val_accuracy: 0.1819 - val_top-5-accuracy: 0.5281\n",
            "Epoch 16/50\n",
            "495/495 [==============================] - 272s 549ms/step - loss: 2.7044 - accuracy: 0.3178 - top-5-accuracy: 0.6830 - val_loss: 3.2195 - val_accuracy: 0.1835 - val_top-5-accuracy: 0.5128\n",
            "Epoch 17/50\n",
            "495/495 [==============================] - 271s 547ms/step - loss: 2.6418 - accuracy: 0.3268 - top-5-accuracy: 0.6919 - val_loss: 3.3083 - val_accuracy: 0.1808 - val_top-5-accuracy: 0.5145\n",
            "Epoch 18/50\n",
            "495/495 [==============================] - 271s 547ms/step - loss: 2.5949 - accuracy: 0.3322 - top-5-accuracy: 0.7010 - val_loss: 3.1823 - val_accuracy: 0.1895 - val_top-5-accuracy: 0.5276\n",
            "Epoch 19/50\n",
            "495/495 [==============================] - 271s 548ms/step - loss: 2.5407 - accuracy: 0.3409 - top-5-accuracy: 0.7103 - val_loss: 3.1942 - val_accuracy: 0.1808 - val_top-5-accuracy: 0.5188\n",
            "Epoch 20/50\n",
            "495/495 [==============================] - 271s 547ms/step - loss: 2.4894 - accuracy: 0.3509 - top-5-accuracy: 0.7215 - val_loss: 3.2941 - val_accuracy: 0.1841 - val_top-5-accuracy: 0.4986\n",
            "Epoch 21/50\n",
            "495/495 [==============================] - 271s 547ms/step - loss: 2.4448 - accuracy: 0.3606 - top-5-accuracy: 0.7295 - val_loss: 3.2183 - val_accuracy: 0.1841 - val_top-5-accuracy: 0.5161\n",
            "Epoch 22/50\n",
            "495/495 [==============================] - 271s 548ms/step - loss: 2.4026 - accuracy: 0.3678 - top-5-accuracy: 0.7377 - val_loss: 3.2111 - val_accuracy: 0.1824 - val_top-5-accuracy: 0.4959\n"
          ]
        }
      ]
    },
    {
      "cell_type": "code",
      "source": [
        "# summarize history for accuracy\n",
        "#FROM https://machinelearningmastery.com/display-deep-learning-model-training-history-in-keras/\n",
        "plt.plot(train_results.history['accuracy'])\n",
        "plt.plot(train_results.history['val_accuracy'])\n",
        "plt.title('model accuracy')\n",
        "plt.ylabel('accuracy')\n",
        "plt.xlabel('epoch')\n",
        "plt.legend(['train', 'val'], loc='upper left')\n",
        "plt.show()"
      ],
      "metadata": {
        "colab": {
          "base_uri": "https://localhost:8080/",
          "height": 295
        },
        "id": "aHevA5i3GeLK",
        "outputId": "ffa8ebbc-835a-40f6-c584-3be50b0933c5"
      },
      "execution_count": null,
      "outputs": [
        {
          "output_type": "display_data",
          "data": {
            "image/png": "[encoded data removed]",
            "text/plain": [
              "<Figure size 432x288 with 1 Axes>"
            ]
          },
          "metadata": {
            "needs_background": "light"
          }
        }
      ]
    },
    {
      "cell_type": "code",
      "source": [
        "# summarize history for loss\n",
        "plt.plot(train_results.history['loss'])\n",
        "plt.plot(train_results.history['val_loss'])\n",
        "plt.title('model loss')\n",
        "plt.ylabel('loss')\n",
        "plt.xlabel('epoch')\n",
        "plt.legend(['train', 'val'], loc='upper left')\n",
        "plt.show()"
      ],
      "metadata": {
        "colab": {
          "base_uri": "https://localhost:8080/",
          "height": 295
        },
        "id": "6510Pfr7GhcD",
        "outputId": "49d6aa5d-9adc-4470-c59c-cce2a70bb9da"
      },
      "execution_count": null,
      "outputs": [
        {
          "output_type": "display_data",
          "data": {
            "image/png": "[encoded data removed]",
            "text/plain": [
              "<Figure size 432x288 with 1 Axes>"
            ]
          },
          "metadata": {
            "needs_background": "light"
          }
        }
      ]
    },
    {
      "cell_type": "code",
      "source": [
        "# summarize history for accuracy\n",
        "#FROM https://machinelearningmastery.com/display-deep-learning-model-training-history-in-keras/\n",
        "plt.plot(train_results.history['top-5-accuracy'])\n",
        "plt.plot(train_results.history['val_top-5-accuracy'])\n",
        "plt.title('model accuracy')\n",
        "plt.ylabel('accuracy')\n",
        "plt.xlabel('epoch')\n",
        "plt.legend(['train', 'val'], loc='upper left')\n",
        "plt.show()"
      ],
      "metadata": {
        "colab": {
          "base_uri": "https://localhost:8080/",
          "height": 295
        },
        "id": "BQUABbO1Gmie",
        "outputId": "8473f367-2f04-4f09-f09f-daceda7a0396"
      },
      "execution_count": null,
      "outputs": [
        {
          "output_type": "display_data",
          "data": {
            "image/png": "[encoded data removed]",
            "text/plain": [
              "<Figure size 432x288 with 1 Axes>"
            ]
          },
          "metadata": {
            "needs_background": "light"
          }
        }
      ]
    },
    {
      "cell_type": "markdown",
      "source": [
        "### Run Model Pretrained"
      ],
      "metadata": {
        "id": "zgsusc2oqpEr"
      }
    },
    {
      "cell_type": "code",
      "source": [
        "early_stop = tf.keras.callbacks.EarlyStopping(monitor='accuracy', min_delta=0.001, patience=10, \n",
        "                                            verbose=0, mode='auto', baseline=None, restore_best_weights=True)\n",
        "train_results = model1.fit(\n",
        "    #train_ds,\n",
        "    train_generator,\n",
        "    validation_data = val_generator,\n",
        "    #tf_train_dataset,\n",
        "    #validation_data= val_ds,\n",
        "    #validation_data = tf_val_dataset,\n",
        "    epochs = 100,\n",
        "    callbacks=[early_stop])\n",
        "#)\n",
        "# callbacks=[early_stop])"
      ],
      "metadata": {
        "colab": {
          "base_uri": "https://localhost:8080/",
          "height": 463
        },
        "id": "EjAk6p47qrNf",
        "outputId": "d65a793e-cb7e-4a1f-b852-83330f7c839c"
      },
      "execution_count": null,
      "outputs": [
        {
          "output_type": "stream",
          "name": "stdout",
          "text": [
            "Epoch 1/100\n"
          ]
        },
        {
          "output_type": "stream",
          "name": "stderr",
          "text": [
            "/usr/local/lib/python3.7/dist-packages/tensorflow/python/util/dispatch.py:1096: UserWarning: \"`sparse_categorical_crossentropy` received `from_logits=True`, but the `output` argument was produced by a sigmoid or softmax activation and thus does not represent logits. Was this intended?\"\n",
            "  return dispatch_target(*args, **kwargs)\n"
          ]
        },
        {
          "output_type": "stream",
          "name": "stdout",
          "text": [
            "  266/24804 [..............................] - ETA: 3:38:42 - loss: 8.7786 - accuracy: 0.0031 - top-5-accuracy: 0.0150"
          ]
        },
        {
          "output_type": "error",
          "ename": "KeyboardInterrupt",
          "evalue": "ignored",
          "traceback": [
            "\u001b[0;31m---------------------------------------------------------------------------\u001b[0m",
            "\u001b[0;31mKeyboardInterrupt\u001b[0m                         Traceback (most recent call last)",
            "\u001b[0;32m<ipython-input-168-cbd1991fbe8e>\u001b[0m in \u001b[0;36m<module>\u001b[0;34m()\u001b[0m\n\u001b[1;32m      9\u001b[0m     \u001b[0;31m#validation_data = tf_val_dataset,\u001b[0m\u001b[0;34m\u001b[0m\u001b[0;34m\u001b[0m\u001b[0;34m\u001b[0m\u001b[0m\n\u001b[1;32m     10\u001b[0m     \u001b[0mepochs\u001b[0m \u001b[0;34m=\u001b[0m \u001b[0;36m100\u001b[0m\u001b[0;34m,\u001b[0m\u001b[0;34m\u001b[0m\u001b[0;34m\u001b[0m\u001b[0m\n\u001b[0;32m---> 11\u001b[0;31m     callbacks=[early_stop])\n\u001b[0m\u001b[1;32m     12\u001b[0m \u001b[0;31m#)\u001b[0m\u001b[0;34m\u001b[0m\u001b[0;34m\u001b[0m\u001b[0;34m\u001b[0m\u001b[0m\n\u001b[1;32m     13\u001b[0m \u001b[0;31m# callbacks=[early_stop])\u001b[0m\u001b[0;34m\u001b[0m\u001b[0;34m\u001b[0m\u001b[0;34m\u001b[0m\u001b[0m\n",
            "\u001b[0;32m/usr/local/lib/python3.7/dist-packages/keras/utils/traceback_utils.py\u001b[0m in \u001b[0;36merror_handler\u001b[0;34m(*args, **kwargs)\u001b[0m\n\u001b[1;32m     62\u001b[0m     \u001b[0mfiltered_tb\u001b[0m \u001b[0;34m=\u001b[0m \u001b[0;32mNone\u001b[0m\u001b[0;34m\u001b[0m\u001b[0;34m\u001b[0m\u001b[0m\n\u001b[1;32m     63\u001b[0m     \u001b[0;32mtry\u001b[0m\u001b[0;34m:\u001b[0m\u001b[0;34m\u001b[0m\u001b[0;34m\u001b[0m\u001b[0m\n\u001b[0;32m---> 64\u001b[0;31m       \u001b[0;32mreturn\u001b[0m \u001b[0mfn\u001b[0m\u001b[0;34m(\u001b[0m\u001b[0;34m*\u001b[0m\u001b[0margs\u001b[0m\u001b[0;34m,\u001b[0m \u001b[0;34m**\u001b[0m\u001b[0mkwargs\u001b[0m\u001b[0;34m)\u001b[0m\u001b[0;34m\u001b[0m\u001b[0;34m\u001b[0m\u001b[0m\n\u001b[0m\u001b[1;32m     65\u001b[0m     \u001b[0;32mexcept\u001b[0m \u001b[0mException\u001b[0m \u001b[0;32mas\u001b[0m \u001b[0me\u001b[0m\u001b[0;34m:\u001b[0m  \u001b[0;31m# pylint: disable=broad-except\u001b[0m\u001b[0;34m\u001b[0m\u001b[0;34m\u001b[0m\u001b[0m\n\u001b[1;32m     66\u001b[0m       \u001b[0mfiltered_tb\u001b[0m \u001b[0;34m=\u001b[0m \u001b[0m_process_traceback_frames\u001b[0m\u001b[0;34m(\u001b[0m\u001b[0me\u001b[0m\u001b[0;34m.\u001b[0m\u001b[0m__traceback__\u001b[0m\u001b[0;34m)\u001b[0m\u001b[0;34m\u001b[0m\u001b[0;34m\u001b[0m\u001b[0m\n",
            "\u001b[0;32m/usr/local/lib/python3.7/dist-packages/keras/engine/training.py\u001b[0m in \u001b[0;36mfit\u001b[0;34m(self, x, y, batch_size, epochs, verbose, callbacks, validation_split, validation_data, shuffle, class_weight, sample_weight, initial_epoch, steps_per_epoch, validation_steps, validation_batch_size, validation_freq, max_queue_size, workers, use_multiprocessing)\u001b[0m\n\u001b[1;32m   1219\u001b[0m               \u001b[0mlogs\u001b[0m \u001b[0;34m=\u001b[0m \u001b[0mtmp_logs\u001b[0m  \u001b[0;31m# No error, now safe to assign to logs.\u001b[0m\u001b[0;34m\u001b[0m\u001b[0;34m\u001b[0m\u001b[0m\n\u001b[1;32m   1220\u001b[0m               \u001b[0mend_step\u001b[0m \u001b[0;34m=\u001b[0m \u001b[0mstep\u001b[0m \u001b[0;34m+\u001b[0m \u001b[0mdata_handler\u001b[0m\u001b[0;34m.\u001b[0m\u001b[0mstep_increment\u001b[0m\u001b[0;34m\u001b[0m\u001b[0;34m\u001b[0m\u001b[0m\n\u001b[0;32m-> 1221\u001b[0;31m               \u001b[0mcallbacks\u001b[0m\u001b[0;34m.\u001b[0m\u001b[0mon_train_batch_end\u001b[0m\u001b[0;34m(\u001b[0m\u001b[0mend_step\u001b[0m\u001b[0;34m,\u001b[0m \u001b[0mlogs\u001b[0m\u001b[0;34m)\u001b[0m\u001b[0;34m\u001b[0m\u001b[0;34m\u001b[0m\u001b[0m\n\u001b[0m\u001b[1;32m   1222\u001b[0m               \u001b[0;32mif\u001b[0m \u001b[0mself\u001b[0m\u001b[0;34m.\u001b[0m\u001b[0mstop_training\u001b[0m\u001b[0;34m:\u001b[0m\u001b[0;34m\u001b[0m\u001b[0;34m\u001b[0m\u001b[0m\n\u001b[1;32m   1223\u001b[0m                 \u001b[0;32mbreak\u001b[0m\u001b[0;34m\u001b[0m\u001b[0;34m\u001b[0m\u001b[0m\n",
            "\u001b[0;32m/usr/local/lib/python3.7/dist-packages/keras/callbacks.py\u001b[0m in \u001b[0;36mon_train_batch_end\u001b[0;34m(self, batch, logs)\u001b[0m\n\u001b[1;32m    434\u001b[0m     \"\"\"\n\u001b[1;32m    435\u001b[0m     \u001b[0;32mif\u001b[0m \u001b[0mself\u001b[0m\u001b[0;34m.\u001b[0m\u001b[0m_should_call_train_batch_hooks\u001b[0m\u001b[0;34m:\u001b[0m\u001b[0;34m\u001b[0m\u001b[0;34m\u001b[0m\u001b[0m\n\u001b[0;32m--> 436\u001b[0;31m       \u001b[0mself\u001b[0m\u001b[0;34m.\u001b[0m\u001b[0m_call_batch_hook\u001b[0m\u001b[0;34m(\u001b[0m\u001b[0mModeKeys\u001b[0m\u001b[0;34m.\u001b[0m\u001b[0mTRAIN\u001b[0m\u001b[0;34m,\u001b[0m \u001b[0;34m'end'\u001b[0m\u001b[0;34m,\u001b[0m \u001b[0mbatch\u001b[0m\u001b[0;34m,\u001b[0m \u001b[0mlogs\u001b[0m\u001b[0;34m=\u001b[0m\u001b[0mlogs\u001b[0m\u001b[0;34m)\u001b[0m\u001b[0;34m\u001b[0m\u001b[0;34m\u001b[0m\u001b[0m\n\u001b[0m\u001b[1;32m    437\u001b[0m \u001b[0;34m\u001b[0m\u001b[0m\n\u001b[1;32m    438\u001b[0m   \u001b[0;32mdef\u001b[0m \u001b[0mon_test_batch_begin\u001b[0m\u001b[0;34m(\u001b[0m\u001b[0mself\u001b[0m\u001b[0;34m,\u001b[0m \u001b[0mbatch\u001b[0m\u001b[0;34m,\u001b[0m \u001b[0mlogs\u001b[0m\u001b[0;34m=\u001b[0m\u001b[0;32mNone\u001b[0m\u001b[0;34m)\u001b[0m\u001b[0;34m:\u001b[0m\u001b[0;34m\u001b[0m\u001b[0;34m\u001b[0m\u001b[0m\n",
            "\u001b[0;32m/usr/local/lib/python3.7/dist-packages/keras/callbacks.py\u001b[0m in \u001b[0;36m_call_batch_hook\u001b[0;34m(self, mode, hook, batch, logs)\u001b[0m\n\u001b[1;32m    293\u001b[0m       \u001b[0mself\u001b[0m\u001b[0;34m.\u001b[0m\u001b[0m_call_batch_begin_hook\u001b[0m\u001b[0;34m(\u001b[0m\u001b[0mmode\u001b[0m\u001b[0;34m,\u001b[0m \u001b[0mbatch\u001b[0m\u001b[0;34m,\u001b[0m \u001b[0mlogs\u001b[0m\u001b[0;34m)\u001b[0m\u001b[0;34m\u001b[0m\u001b[0;34m\u001b[0m\u001b[0m\n\u001b[1;32m    294\u001b[0m     \u001b[0;32melif\u001b[0m \u001b[0mhook\u001b[0m \u001b[0;34m==\u001b[0m \u001b[0;34m'end'\u001b[0m\u001b[0;34m:\u001b[0m\u001b[0;34m\u001b[0m\u001b[0;34m\u001b[0m\u001b[0m\n\u001b[0;32m--> 295\u001b[0;31m       \u001b[0mself\u001b[0m\u001b[0;34m.\u001b[0m\u001b[0m_call_batch_end_hook\u001b[0m\u001b[0;34m(\u001b[0m\u001b[0mmode\u001b[0m\u001b[0;34m,\u001b[0m \u001b[0mbatch\u001b[0m\u001b[0;34m,\u001b[0m \u001b[0mlogs\u001b[0m\u001b[0;34m)\u001b[0m\u001b[0;34m\u001b[0m\u001b[0;34m\u001b[0m\u001b[0m\n\u001b[0m\u001b[1;32m    296\u001b[0m     \u001b[0;32melse\u001b[0m\u001b[0;34m:\u001b[0m\u001b[0;34m\u001b[0m\u001b[0;34m\u001b[0m\u001b[0m\n\u001b[1;32m    297\u001b[0m       raise ValueError(\n",
            "\u001b[0;32m/usr/local/lib/python3.7/dist-packages/keras/callbacks.py\u001b[0m in \u001b[0;36m_call_batch_end_hook\u001b[0;34m(self, mode, batch, logs)\u001b[0m\n\u001b[1;32m    314\u001b[0m       \u001b[0mself\u001b[0m\u001b[0;34m.\u001b[0m\u001b[0m_batch_times\u001b[0m\u001b[0;34m.\u001b[0m\u001b[0mappend\u001b[0m\u001b[0;34m(\u001b[0m\u001b[0mbatch_time\u001b[0m\u001b[0;34m)\u001b[0m\u001b[0;34m\u001b[0m\u001b[0;34m\u001b[0m\u001b[0m\n\u001b[1;32m    315\u001b[0m \u001b[0;34m\u001b[0m\u001b[0m\n\u001b[0;32m--> 316\u001b[0;31m     \u001b[0mself\u001b[0m\u001b[0;34m.\u001b[0m\u001b[0m_call_batch_hook_helper\u001b[0m\u001b[0;34m(\u001b[0m\u001b[0mhook_name\u001b[0m\u001b[0;34m,\u001b[0m \u001b[0mbatch\u001b[0m\u001b[0;34m,\u001b[0m \u001b[0mlogs\u001b[0m\u001b[0;34m)\u001b[0m\u001b[0;34m\u001b[0m\u001b[0;34m\u001b[0m\u001b[0m\n\u001b[0m\u001b[1;32m    317\u001b[0m \u001b[0;34m\u001b[0m\u001b[0m\n\u001b[1;32m    318\u001b[0m     \u001b[0;32mif\u001b[0m \u001b[0mlen\u001b[0m\u001b[0;34m(\u001b[0m\u001b[0mself\u001b[0m\u001b[0;34m.\u001b[0m\u001b[0m_batch_times\u001b[0m\u001b[0;34m)\u001b[0m \u001b[0;34m>=\u001b[0m \u001b[0mself\u001b[0m\u001b[0;34m.\u001b[0m\u001b[0m_num_batches_for_timing_check\u001b[0m\u001b[0;34m:\u001b[0m\u001b[0;34m\u001b[0m\u001b[0;34m\u001b[0m\u001b[0m\n",
            "\u001b[0;32m/usr/local/lib/python3.7/dist-packages/keras/callbacks.py\u001b[0m in \u001b[0;36m_call_batch_hook_helper\u001b[0;34m(self, hook_name, batch, logs)\u001b[0m\n\u001b[1;32m    352\u001b[0m     \u001b[0;32mfor\u001b[0m \u001b[0mcallback\u001b[0m \u001b[0;32min\u001b[0m \u001b[0mself\u001b[0m\u001b[0;34m.\u001b[0m\u001b[0mcallbacks\u001b[0m\u001b[0;34m:\u001b[0m\u001b[0;34m\u001b[0m\u001b[0;34m\u001b[0m\u001b[0m\n\u001b[1;32m    353\u001b[0m       \u001b[0mhook\u001b[0m \u001b[0;34m=\u001b[0m \u001b[0mgetattr\u001b[0m\u001b[0;34m(\u001b[0m\u001b[0mcallback\u001b[0m\u001b[0;34m,\u001b[0m \u001b[0mhook_name\u001b[0m\u001b[0;34m)\u001b[0m\u001b[0;34m\u001b[0m\u001b[0;34m\u001b[0m\u001b[0m\n\u001b[0;32m--> 354\u001b[0;31m       \u001b[0mhook\u001b[0m\u001b[0;34m(\u001b[0m\u001b[0mbatch\u001b[0m\u001b[0;34m,\u001b[0m \u001b[0mlogs\u001b[0m\u001b[0;34m)\u001b[0m\u001b[0;34m\u001b[0m\u001b[0;34m\u001b[0m\u001b[0m\n\u001b[0m\u001b[1;32m    355\u001b[0m \u001b[0;34m\u001b[0m\u001b[0m\n\u001b[1;32m    356\u001b[0m     \u001b[0;32mif\u001b[0m \u001b[0mself\u001b[0m\u001b[0;34m.\u001b[0m\u001b[0m_check_timing\u001b[0m\u001b[0;34m:\u001b[0m\u001b[0;34m\u001b[0m\u001b[0;34m\u001b[0m\u001b[0m\n",
            "\u001b[0;32m/usr/local/lib/python3.7/dist-packages/keras/callbacks.py\u001b[0m in \u001b[0;36mon_train_batch_end\u001b[0;34m(self, batch, logs)\u001b[0m\n\u001b[1;32m   1030\u001b[0m \u001b[0;34m\u001b[0m\u001b[0m\n\u001b[1;32m   1031\u001b[0m   \u001b[0;32mdef\u001b[0m \u001b[0mon_train_batch_end\u001b[0m\u001b[0;34m(\u001b[0m\u001b[0mself\u001b[0m\u001b[0;34m,\u001b[0m \u001b[0mbatch\u001b[0m\u001b[0;34m,\u001b[0m \u001b[0mlogs\u001b[0m\u001b[0;34m=\u001b[0m\u001b[0;32mNone\u001b[0m\u001b[0;34m)\u001b[0m\u001b[0;34m:\u001b[0m\u001b[0;34m\u001b[0m\u001b[0;34m\u001b[0m\u001b[0m\n\u001b[0;32m-> 1032\u001b[0;31m     \u001b[0mself\u001b[0m\u001b[0;34m.\u001b[0m\u001b[0m_batch_update_progbar\u001b[0m\u001b[0;34m(\u001b[0m\u001b[0mbatch\u001b[0m\u001b[0;34m,\u001b[0m \u001b[0mlogs\u001b[0m\u001b[0;34m)\u001b[0m\u001b[0;34m\u001b[0m\u001b[0;34m\u001b[0m\u001b[0m\n\u001b[0m\u001b[1;32m   1033\u001b[0m \u001b[0;34m\u001b[0m\u001b[0m\n\u001b[1;32m   1034\u001b[0m   \u001b[0;32mdef\u001b[0m \u001b[0mon_test_batch_end\u001b[0m\u001b[0;34m(\u001b[0m\u001b[0mself\u001b[0m\u001b[0;34m,\u001b[0m \u001b[0mbatch\u001b[0m\u001b[0;34m,\u001b[0m \u001b[0mlogs\u001b[0m\u001b[0;34m=\u001b[0m\u001b[0;32mNone\u001b[0m\u001b[0;34m)\u001b[0m\u001b[0;34m:\u001b[0m\u001b[0;34m\u001b[0m\u001b[0;34m\u001b[0m\u001b[0m\n",
            "\u001b[0;32m/usr/local/lib/python3.7/dist-packages/keras/callbacks.py\u001b[0m in \u001b[0;36m_batch_update_progbar\u001b[0;34m(self, batch, logs)\u001b[0m\n\u001b[1;32m   1102\u001b[0m     \u001b[0;32mif\u001b[0m \u001b[0mself\u001b[0m\u001b[0;34m.\u001b[0m\u001b[0mverbose\u001b[0m \u001b[0;34m==\u001b[0m \u001b[0;36m1\u001b[0m\u001b[0;34m:\u001b[0m\u001b[0;34m\u001b[0m\u001b[0;34m\u001b[0m\u001b[0m\n\u001b[1;32m   1103\u001b[0m       \u001b[0;31m# Only block async when verbose = 1.\u001b[0m\u001b[0;34m\u001b[0m\u001b[0;34m\u001b[0m\u001b[0;34m\u001b[0m\u001b[0m\n\u001b[0;32m-> 1104\u001b[0;31m       \u001b[0mlogs\u001b[0m \u001b[0;34m=\u001b[0m \u001b[0mtf_utils\u001b[0m\u001b[0;34m.\u001b[0m\u001b[0msync_to_numpy_or_python_type\u001b[0m\u001b[0;34m(\u001b[0m\u001b[0mlogs\u001b[0m\u001b[0;34m)\u001b[0m\u001b[0;34m\u001b[0m\u001b[0;34m\u001b[0m\u001b[0m\n\u001b[0m\u001b[1;32m   1105\u001b[0m       \u001b[0mself\u001b[0m\u001b[0;34m.\u001b[0m\u001b[0mprogbar\u001b[0m\u001b[0;34m.\u001b[0m\u001b[0mupdate\u001b[0m\u001b[0;34m(\u001b[0m\u001b[0mself\u001b[0m\u001b[0;34m.\u001b[0m\u001b[0mseen\u001b[0m\u001b[0;34m,\u001b[0m \u001b[0mlist\u001b[0m\u001b[0;34m(\u001b[0m\u001b[0mlogs\u001b[0m\u001b[0;34m.\u001b[0m\u001b[0mitems\u001b[0m\u001b[0;34m(\u001b[0m\u001b[0;34m)\u001b[0m\u001b[0;34m)\u001b[0m\u001b[0;34m,\u001b[0m \u001b[0mfinalize\u001b[0m\u001b[0;34m=\u001b[0m\u001b[0;32mFalse\u001b[0m\u001b[0;34m)\u001b[0m\u001b[0;34m\u001b[0m\u001b[0;34m\u001b[0m\u001b[0m\n\u001b[1;32m   1106\u001b[0m \u001b[0;34m\u001b[0m\u001b[0m\n",
            "\u001b[0;32m/usr/local/lib/python3.7/dist-packages/keras/utils/tf_utils.py\u001b[0m in \u001b[0;36msync_to_numpy_or_python_type\u001b[0;34m(tensors)\u001b[0m\n\u001b[1;32m    552\u001b[0m     \u001b[0;32mreturn\u001b[0m \u001b[0mt\u001b[0m  \u001b[0;31m# Don't turn ragged or sparse tensors to NumPy.\u001b[0m\u001b[0;34m\u001b[0m\u001b[0;34m\u001b[0m\u001b[0m\n\u001b[1;32m    553\u001b[0m \u001b[0;34m\u001b[0m\u001b[0m\n\u001b[0;32m--> 554\u001b[0;31m   \u001b[0;32mreturn\u001b[0m \u001b[0mtf\u001b[0m\u001b[0;34m.\u001b[0m\u001b[0mnest\u001b[0m\u001b[0;34m.\u001b[0m\u001b[0mmap_structure\u001b[0m\u001b[0;34m(\u001b[0m\u001b[0m_to_single_numpy_or_python_type\u001b[0m\u001b[0;34m,\u001b[0m \u001b[0mtensors\u001b[0m\u001b[0;34m)\u001b[0m\u001b[0;34m\u001b[0m\u001b[0;34m\u001b[0m\u001b[0m\n\u001b[0m\u001b[1;32m    555\u001b[0m \u001b[0;34m\u001b[0m\u001b[0m\n\u001b[1;32m    556\u001b[0m \u001b[0;34m\u001b[0m\u001b[0m\n",
            "\u001b[0;32m/usr/local/lib/python3.7/dist-packages/tensorflow/python/util/nest.py\u001b[0m in \u001b[0;36mmap_structure\u001b[0;34m(func, *structure, **kwargs)\u001b[0m\n\u001b[1;32m    867\u001b[0m \u001b[0;34m\u001b[0m\u001b[0m\n\u001b[1;32m    868\u001b[0m   return pack_sequence_as(\n\u001b[0;32m--> 869\u001b[0;31m       \u001b[0mstructure\u001b[0m\u001b[0;34m[\u001b[0m\u001b[0;36m0\u001b[0m\u001b[0;34m]\u001b[0m\u001b[0;34m,\u001b[0m \u001b[0;34m[\u001b[0m\u001b[0mfunc\u001b[0m\u001b[0;34m(\u001b[0m\u001b[0;34m*\u001b[0m\u001b[0mx\u001b[0m\u001b[0;34m)\u001b[0m \u001b[0;32mfor\u001b[0m \u001b[0mx\u001b[0m \u001b[0;32min\u001b[0m \u001b[0mentries\u001b[0m\u001b[0;34m]\u001b[0m\u001b[0;34m,\u001b[0m\u001b[0;34m\u001b[0m\u001b[0;34m\u001b[0m\u001b[0m\n\u001b[0m\u001b[1;32m    870\u001b[0m       expand_composites=expand_composites)\n\u001b[1;32m    871\u001b[0m \u001b[0;34m\u001b[0m\u001b[0m\n",
            "\u001b[0;32m/usr/local/lib/python3.7/dist-packages/tensorflow/python/util/nest.py\u001b[0m in \u001b[0;36m<listcomp>\u001b[0;34m(.0)\u001b[0m\n\u001b[1;32m    867\u001b[0m \u001b[0;34m\u001b[0m\u001b[0m\n\u001b[1;32m    868\u001b[0m   return pack_sequence_as(\n\u001b[0;32m--> 869\u001b[0;31m       \u001b[0mstructure\u001b[0m\u001b[0;34m[\u001b[0m\u001b[0;36m0\u001b[0m\u001b[0;34m]\u001b[0m\u001b[0;34m,\u001b[0m \u001b[0;34m[\u001b[0m\u001b[0mfunc\u001b[0m\u001b[0;34m(\u001b[0m\u001b[0;34m*\u001b[0m\u001b[0mx\u001b[0m\u001b[0;34m)\u001b[0m \u001b[0;32mfor\u001b[0m \u001b[0mx\u001b[0m \u001b[0;32min\u001b[0m \u001b[0mentries\u001b[0m\u001b[0;34m]\u001b[0m\u001b[0;34m,\u001b[0m\u001b[0;34m\u001b[0m\u001b[0;34m\u001b[0m\u001b[0m\n\u001b[0m\u001b[1;32m    870\u001b[0m       expand_composites=expand_composites)\n\u001b[1;32m    871\u001b[0m \u001b[0;34m\u001b[0m\u001b[0m\n",
            "\u001b[0;32m/usr/local/lib/python3.7/dist-packages/keras/utils/tf_utils.py\u001b[0m in \u001b[0;36m_to_single_numpy_or_python_type\u001b[0;34m(t)\u001b[0m\n\u001b[1;32m    548\u001b[0m   \u001b[0;32mdef\u001b[0m \u001b[0m_to_single_numpy_or_python_type\u001b[0m\u001b[0;34m(\u001b[0m\u001b[0mt\u001b[0m\u001b[0;34m)\u001b[0m\u001b[0;34m:\u001b[0m\u001b[0;34m\u001b[0m\u001b[0;34m\u001b[0m\u001b[0m\n\u001b[1;32m    549\u001b[0m     \u001b[0;32mif\u001b[0m \u001b[0misinstance\u001b[0m\u001b[0;34m(\u001b[0m\u001b[0mt\u001b[0m\u001b[0;34m,\u001b[0m \u001b[0mtf\u001b[0m\u001b[0;34m.\u001b[0m\u001b[0mTensor\u001b[0m\u001b[0;34m)\u001b[0m\u001b[0;34m:\u001b[0m\u001b[0;34m\u001b[0m\u001b[0;34m\u001b[0m\u001b[0m\n\u001b[0;32m--> 550\u001b[0;31m       \u001b[0mx\u001b[0m \u001b[0;34m=\u001b[0m \u001b[0mt\u001b[0m\u001b[0;34m.\u001b[0m\u001b[0mnumpy\u001b[0m\u001b[0;34m(\u001b[0m\u001b[0;34m)\u001b[0m\u001b[0;34m\u001b[0m\u001b[0;34m\u001b[0m\u001b[0m\n\u001b[0m\u001b[1;32m    551\u001b[0m       \u001b[0;32mreturn\u001b[0m \u001b[0mx\u001b[0m\u001b[0;34m.\u001b[0m\u001b[0mitem\u001b[0m\u001b[0;34m(\u001b[0m\u001b[0;34m)\u001b[0m \u001b[0;32mif\u001b[0m \u001b[0mnp\u001b[0m\u001b[0;34m.\u001b[0m\u001b[0mndim\u001b[0m\u001b[0;34m(\u001b[0m\u001b[0mx\u001b[0m\u001b[0;34m)\u001b[0m \u001b[0;34m==\u001b[0m \u001b[0;36m0\u001b[0m \u001b[0;32melse\u001b[0m \u001b[0mx\u001b[0m\u001b[0;34m\u001b[0m\u001b[0;34m\u001b[0m\u001b[0m\n\u001b[1;32m    552\u001b[0m     \u001b[0;32mreturn\u001b[0m \u001b[0mt\u001b[0m  \u001b[0;31m# Don't turn ragged or sparse tensors to NumPy.\u001b[0m\u001b[0;34m\u001b[0m\u001b[0;34m\u001b[0m\u001b[0m\n",
            "\u001b[0;32m/usr/local/lib/python3.7/dist-packages/tensorflow/python/framework/ops.py\u001b[0m in \u001b[0;36mnumpy\u001b[0;34m(self)\u001b[0m\n\u001b[1;32m   1147\u001b[0m     \"\"\"\n\u001b[1;32m   1148\u001b[0m     \u001b[0;31m# TODO(slebedev): Consider avoiding a copy for non-CPU or remote tensors.\u001b[0m\u001b[0;34m\u001b[0m\u001b[0;34m\u001b[0m\u001b[0;34m\u001b[0m\u001b[0m\n\u001b[0;32m-> 1149\u001b[0;31m     \u001b[0mmaybe_arr\u001b[0m \u001b[0;34m=\u001b[0m \u001b[0mself\u001b[0m\u001b[0;34m.\u001b[0m\u001b[0m_numpy\u001b[0m\u001b[0;34m(\u001b[0m\u001b[0;34m)\u001b[0m  \u001b[0;31m# pylint: disable=protected-access\u001b[0m\u001b[0;34m\u001b[0m\u001b[0;34m\u001b[0m\u001b[0m\n\u001b[0m\u001b[1;32m   1150\u001b[0m     \u001b[0;32mreturn\u001b[0m \u001b[0mmaybe_arr\u001b[0m\u001b[0;34m.\u001b[0m\u001b[0mcopy\u001b[0m\u001b[0;34m(\u001b[0m\u001b[0;34m)\u001b[0m \u001b[0;32mif\u001b[0m \u001b[0misinstance\u001b[0m\u001b[0;34m(\u001b[0m\u001b[0mmaybe_arr\u001b[0m\u001b[0;34m,\u001b[0m \u001b[0mnp\u001b[0m\u001b[0;34m.\u001b[0m\u001b[0mndarray\u001b[0m\u001b[0;34m)\u001b[0m \u001b[0;32melse\u001b[0m \u001b[0mmaybe_arr\u001b[0m\u001b[0;34m\u001b[0m\u001b[0;34m\u001b[0m\u001b[0m\n\u001b[1;32m   1151\u001b[0m \u001b[0;34m\u001b[0m\u001b[0m\n",
            "\u001b[0;32m/usr/local/lib/python3.7/dist-packages/tensorflow/python/framework/ops.py\u001b[0m in \u001b[0;36m_numpy\u001b[0;34m(self)\u001b[0m\n\u001b[1;32m   1113\u001b[0m   \u001b[0;32mdef\u001b[0m \u001b[0m_numpy\u001b[0m\u001b[0;34m(\u001b[0m\u001b[0mself\u001b[0m\u001b[0;34m)\u001b[0m\u001b[0;34m:\u001b[0m\u001b[0;34m\u001b[0m\u001b[0;34m\u001b[0m\u001b[0m\n\u001b[1;32m   1114\u001b[0m     \u001b[0;32mtry\u001b[0m\u001b[0;34m:\u001b[0m\u001b[0;34m\u001b[0m\u001b[0;34m\u001b[0m\u001b[0m\n\u001b[0;32m-> 1115\u001b[0;31m       \u001b[0;32mreturn\u001b[0m \u001b[0mself\u001b[0m\u001b[0;34m.\u001b[0m\u001b[0m_numpy_internal\u001b[0m\u001b[0;34m(\u001b[0m\u001b[0;34m)\u001b[0m\u001b[0;34m\u001b[0m\u001b[0;34m\u001b[0m\u001b[0m\n\u001b[0m\u001b[1;32m   1116\u001b[0m     \u001b[0;32mexcept\u001b[0m \u001b[0mcore\u001b[0m\u001b[0;34m.\u001b[0m\u001b[0m_NotOkStatusException\u001b[0m \u001b[0;32mas\u001b[0m \u001b[0me\u001b[0m\u001b[0;34m:\u001b[0m  \u001b[0;31m# pylint: disable=protected-access\u001b[0m\u001b[0;34m\u001b[0m\u001b[0;34m\u001b[0m\u001b[0m\n\u001b[1;32m   1117\u001b[0m       \u001b[0;32mraise\u001b[0m \u001b[0mcore\u001b[0m\u001b[0;34m.\u001b[0m\u001b[0m_status_to_exception\u001b[0m\u001b[0;34m(\u001b[0m\u001b[0me\u001b[0m\u001b[0;34m)\u001b[0m \u001b[0;32mfrom\u001b[0m \u001b[0;32mNone\u001b[0m  \u001b[0;31m# pylint: disable=protected-access\u001b[0m\u001b[0;34m\u001b[0m\u001b[0;34m\u001b[0m\u001b[0m\n",
            "\u001b[0;31mKeyboardInterrupt\u001b[0m: "
          ]
        }
      ]
    },
    {
      "cell_type": "markdown",
      "source": [
        "### Test Submission"
      ],
      "metadata": {
        "id": "Ks-Hm0K6N1rC"
      }
    },
    {
      "cell_type": "code",
      "source": [
        "test_generator = Test_Patches_Generator(obs_id_test, BATCHSIZE)\n",
        "\n",
        "tf_test_dataset = tf.data.Dataset.from_generator(\n",
        "    lambda: test_generator,  # Our generator \n",
        "    output_types = (tf.float32 , tf.float32), # How we're expecting our output dtype\n",
        "    #output_shapes = ([BATCHSIZE, 256 , 256, 3] , [BATCHSIZE, ]) # How we're expecting our output shape\n",
        "    #output_shapes = (tf.TensorShape(features_shape), [BATCHSIZE, ]),\n",
        ")"
      ],
      "metadata": {
        "id": "Nj_vHzB9TQCE"
      },
      "execution_count": null,
      "outputs": []
    },
    {
      "cell_type": "code",
      "source": [
        "import os\n",
        "SUBMISSION_PATH = Path(\"submissions\")\n",
        "os.makedirs(SUBMISSION_PATH, exist_ok=True)\n"
      ],
      "metadata": {
        "id": "fqbiABH4_i6W"
      },
      "execution_count": null,
      "outputs": []
    },
    {
      "cell_type": "code",
      "source": [
        "from GLC.submission import generate_submission_file\n",
        "\n",
        "\n",
        "n_test = len(df_obs_test)\n",
        "s_pred = model.predict_generator(test_generator)\n",
        "\n",
        "# Generate the submission file\n"
      ],
      "metadata": {
        "colab": {
          "base_uri": "https://localhost:8080/",
          "height": 269
        },
        "id": "0Kc4vUAlAZoC",
        "outputId": "a9ba16ce-2f0d-407f-af9b-649b52cd6e0a"
      },
      "execution_count": null,
      "outputs": [
        {
          "output_type": "stream",
          "name": "stderr",
          "text": [
            "/usr/local/lib/python3.7/dist-packages/ipykernel_launcher.py:5: UserWarning: `Model.predict_generator` is deprecated and will be removed in a future version. Please use `Model.predict`, which supports generators.\n",
            "  \"\"\"\n"
          ]
        },
        {
          "output_type": "error",
          "ename": "NameError",
          "evalue": "ignored",
          "traceback": [
            "\u001b[0;31m---------------------------------------------------------------------------\u001b[0m",
            "\u001b[0;31mNameError\u001b[0m                                 Traceback (most recent call last)",
            "\u001b[0;32m<ipython-input-37-4320672829e0>\u001b[0m in \u001b[0;36m<module>\u001b[0;34m()\u001b[0m\n\u001b[1;32m      6\u001b[0m \u001b[0;34m\u001b[0m\u001b[0m\n\u001b[1;32m      7\u001b[0m \u001b[0;31m# Generate the submission file\u001b[0m\u001b[0;34m\u001b[0m\u001b[0;34m\u001b[0m\u001b[0;34m\u001b[0m\u001b[0m\n\u001b[0;32m----> 8\u001b[0;31m \u001b[0mgenerate_submission_file\u001b[0m\u001b[0;34m(\u001b[0m\u001b[0mSUBMISSION_PATH\u001b[0m \u001b[0;34m/\u001b[0m \u001b[0;34m\"constant_top_30_most_present_species_baseline.csv\"\u001b[0m\u001b[0;34m,\u001b[0m \u001b[0mdf_obs_test\u001b[0m\u001b[0;34m.\u001b[0m\u001b[0mindex\u001b[0m\u001b[0;34m,\u001b[0m \u001b[0ms_pred\u001b[0m\u001b[0;34m)\u001b[0m\u001b[0;34m\u001b[0m\u001b[0;34m\u001b[0m\u001b[0m\n\u001b[0m",
            "\u001b[0;31mNameError\u001b[0m: name 'SUBMISSION_PATH' is not defined"
          ]
        }
      ]
    },
    {
      "cell_type": "code",
      "source": [
        "print(s_pred[11])"
      ],
      "metadata": {
        "colab": {
          "base_uri": "https://localhost:8080/",
          "height": 164
        },
        "id": "rIJpYev9P9U8",
        "outputId": "b274faee-1a1c-4530-8ebd-84be45916cb9"
      },
      "execution_count": null,
      "outputs": [
        {
          "output_type": "error",
          "ename": "NameError",
          "evalue": "ignored",
          "traceback": [
            "\u001b[0;31m---------------------------------------------------------------------------\u001b[0m",
            "\u001b[0;31mNameError\u001b[0m                                 Traceback (most recent call last)",
            "\u001b[0;32m<ipython-input-1-b4c2f3e027fc>\u001b[0m in \u001b[0;36m<module>\u001b[0;34m()\u001b[0m\n\u001b[0;32m----> 1\u001b[0;31m \u001b[0mprint\u001b[0m\u001b[0;34m(\u001b[0m\u001b[0ms_pred\u001b[0m\u001b[0;34m[\u001b[0m\u001b[0;36m11\u001b[0m\u001b[0;34m]\u001b[0m\u001b[0;34m)\u001b[0m\u001b[0;34m\u001b[0m\u001b[0;34m\u001b[0m\u001b[0m\n\u001b[0m",
            "\u001b[0;31mNameError\u001b[0m: name 's_pred' is not defined"
          ]
        }
      ]
    },
    {
      "cell_type": "code",
      "source": [
        "generate_submission_file(\"./submissions/new\", df_obs_test.index, s_pred)"
      ],
      "metadata": {
        "id": "Wa6Qr79tPC4E"
      },
      "execution_count": null,
      "outputs": []
    }
  ],
  "metadata": {
    "kernelspec": {
      "display_name": "Python 3",
      "language": "python",
      "name": "python3"
    },
    "language_info": {
      "codemirror_mode": {
        "name": "ipython",
        "version": 3
      },
      "file_extension": ".py",
      "mimetype": "text/x-python",
      "name": "python",
      "nbconvert_exporter": "python",
      "pygments_lexer": "ipython3",
      "version": "3.8.8"
    },
    "colab": {
      "name": "Kennedy res_cnn_some_results.ipynb",
      "provenance": [],
      "collapsed_sections": []
    }
  },
  "nbformat": 4,
  "nbformat_minor": 0
}